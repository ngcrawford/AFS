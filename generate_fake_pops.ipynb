{
 "metadata": {
  "name": "generate_fake_pops"
 }, 
 "nbformat": 2, 
 "worksheets": [
  {
   "cells": [
    {
     "cell_type": "code", 
     "collapsed": false, 
     "input": [
      "num_haplo = 20", 
      "pct_var = 5", 
      "target_cov = 8", 
      "outdir = os.path.expanduser('~/code/AFS/sim-%shaplos_exp-dist_theta%0.2f_%sxCov/' % (num_haplo,pct_var/100.0,target_cov))", 
      "print outdir"
     ], 
     "language": "python", 
     "outputs": [
      {
       "output_type": "stream", 
       "stream": "stdout", 
       "text": [
        "/Users/brant/code/AFS/sim-20haplos_exp-dist_theta0.05_8xCov/"
       ]
      }
     ], 
     "prompt_number": 241
    }, 
    {
     "cell_type": "code", 
     "collapsed": true, 
     "input": [
      "import re,os", 
      "from glob import glob"
     ], 
     "language": "python", 
     "outputs": [], 
     "prompt_number": 242
    }, 
    {
     "cell_type": "code", 
     "collapsed": false, 
     "input": [
      "f = 'agouti-mc1r.fa'", 
      "seqd = dict([(seqid,sequence.replace('\\n','').upper()) for seqid,sequence in re.findall('>(.+?)\\n([\\w\\n]+)',open(f).read())])"
     ], 
     "language": "python", 
     "outputs": [], 
     "prompt_number": 243
    }, 
    {
     "cell_type": "code", 
     "collapsed": false, 
     "input": [
      "[(k,len(v)) for k,v in seqd.items()]"
     ], 
     "language": "python", 
     "outputs": [
      {
       "output_type": "pyout", 
       "prompt_number": 244, 
       "text": [
        "[('agouti_bac', 186368), ('mc1r_bac', 159283)]"
       ]
      }
     ], 
     "prompt_number": 244
    }, 
    {
     "cell_type": "code", 
     "collapsed": false, 
     "input": [
      "e_dist = numpy.random.exponential(scale=num_haplo/20,size=100*num_haplo)", 
      "h,b,p = hist(e_dist,bins=range(num_haplo))"
     ], 
     "language": "python", 
     "outputs": [
      {
       "output_type": "display_data", 
       "png": "[encoded data removed]"
      }
     ], 
     "prompt_number": 245
    }, 
    {
     "cell_type": "code", 
     "collapsed": false, 
     "input": [
      "pad_h = h+20", 
      "invar = (100.0-pct_var)/pct_var", 
      "sfs = [sum(pad_h)*invar] + list(pad_h)", 
      "sfs = array(sfs)/sum(sfs)", 
      "csfs = cumsum(sfs)", 
      "print sum(sfs[1:])/float(sfs[0]), len(sfs)", 
      "plot(sfs)", 
      "ax = figure(1).axes[0]", 
      "ax.set_yscale('log')", 
      "#print sfs"
     ], 
     "language": "python", 
     "outputs": [
      {
       "output_type": "stream", 
       "stream": "stdout", 
       "text": [
        "0.0526315789474 20"
       ]
      }, 
      {
       "output_type": "display_data", 
       "png": "[encoded data removed]"
      }
     ], 
     "prompt_number": 246
    }, 
    {
     "cell_type": "code", 
     "collapsed": false, 
     "input": [
      "simseq = {}", 
      "for i in range(len(csfs)):", 
      "    simseq[i] = {}", 
      "for sn,ss in seqd.items():", 
      "    for i in range(len(csfs)):", 
      "        simseq[i][sn] = []", 
      "    for c,nvar in zip(ss,[[i for i in range(len(csfs)) if n<csfs[i]][0] for n in numpy.random.random_sample(size=len(ss))]):", 
      "        if nvar == 0:", 
      "            for i in range(len(csfs)):", 
      "                simseq[i][sn].append(c)", 
      "        else:", 
      "            alt = numpy.random.permutation(list(set('ACGT')-set(c)))[0]", 
      "            this_ord = numpy.random.permutation(len(csfs))", 
      "            for i in this_ord[:nvar]:", 
      "                simseq[i][sn].append(alt)", 
      "            for i in this_ord[nvar:]:", 
      "                simseq[i][sn].append(c)", 
      "", 
      "for i in range(len(csfs)):", 
      "    for sn in simseq[i].keys():", 
      "        simseq[i][sn] = ''.join(simseq[i][sn])"
     ], 
     "language": "python", 
     "outputs": [], 
     "prompt_number": 247
    }, 
    {
     "cell_type": "code", 
     "collapsed": false, 
     "input": [
      "try:", 
      "    os.makedirs(outdir)", 
      "except:", 
      "    pass", 
      "for ind,simseqd in simseq.items():", 
      "    outf = open(outdir+'hap%s_agouti-mc1r.fa' % ind,'w')", 
      "    for sn,ss in simseqd.items():", 
      "        outf.write('>%s\\n%s\\n' % (sn,ss))", 
      "    outf.close()"
     ], 
     "language": "python", 
     "outputs": [], 
     "prompt_number": 248
    }, 
    {
     "cell_type": "code", 
     "collapsed": false, 
     "input": [
      "num_ind = num_haplo/2", 
      "tot_seq = sum(map(len,seqd.values()))", 
      "# number of bases generated per haplo / bp per read-pair", 
      "nreads = int((tot_seq*target_cov/2.0) / 200)", 
      "print 'target coverage %s; reads per haplotype %s' % (target_cov,nreads)", 
      "try:", 
      "    os.makedirs(outdir+'sim-reads/')", 
      "except:", 
      "    pass", 
      "ind_haplos = reduce(lambda x,y:x+y, [[outdir+'sim-reads/sim%sa' % i,outdir+'sim-reads/sim%sb'% i] for i in range(1,num_ind+1)])", 
      "cmds = []", 
      "map_reference = os.path.expanduser('~/code/AFS/agouti-mc1r.masked.fasta')", 
      "for read_prefix, source_reference in zip(ind_haplos,numpy.random.permutation(glob(outdir+'hap*_agouti-mc1r.fa'))):", 
      "    cmds.append('simulate_and_map.py %s %s %s %s %s %s.vcf' % (read_prefix,os.path.basename(read_prefix)[:-1],source_reference,map_reference,nreads,read_prefix))", 
      "len(cmds)"
     ], 
     "language": "python", 
     "outputs": [
      {
       "output_type": "stream", 
       "stream": "stdout", 
       "text": [
        "target coverage 8; reads per haplotype 6913"
       ]
      }, 
      {
       "output_type": "pyout", 
       "prompt_number": 249, 
       "text": [
        "20"
       ]
      }
     ], 
     "prompt_number": 249
    }, 
    {
     "cell_type": "code", 
     "collapsed": true, 
     "input": [
      "for cmd in cmds:", 
      "    !$cmd"
     ], 
     "language": "python", 
     "outputs": [
      {
       "output_type": "stream", 
       "stream": "stdout", 
       "text": [
        "[Tue Jul 24 04:12:18 EDT 2012] net.sf.picard.sam.CreateSequenceDictionary REFERENCE=/Users/brant/code/AFS/sim-20haplos_exp-dist_theta0.05_8xCov/hap4_agouti-mc1r.fa OUTPUT=/Users/brant/code/AFS/sim-20haplos_exp-dist_theta0.05_8xCov/hap4_agouti-mc1r.dict    TRUNCATE_NAMES_AT_WHITESPACE=true NUM_SEQUENCES=2147483647 VERBOSITY=INFO QUIET=false VALIDATION_STRINGENCY=STRICT COMPRESSION_LEVEL=5 MAX_RECORDS_IN_RAM=500000 CREATE_INDEX=false CREATE_MD5_FILE=false", 
        "[Tue Jul 24 04:12:18 EDT 2012] Executing as brant@gottuminum.local on Mac OS X 10.7.4 x86_64; Java HotSpot(TM) 64-Bit Server VM 1.6.0_33-b03-424-11M3720; Picard version: 1.73(1234)"
       ]
      }, 
      {
       "output_type": "stream", 
       "stream": "stdout", 
       "text": [
        "[Tue Jul 24 04:12:18 EDT 2012] net.sf.picard.sam.CreateSequenceDictionary done. Elapsed time: 0.00 minutes.", 
        "Runtime.totalMemory()=85000192", 
        "[samopen] SAM header is present: 2 sequences."
       ]
      }, 
      {
       "output_type": "stream", 
       "stream": "stdout", 
       "text": [
        "[Tue Jul 24 04:12:19 EDT 2012] net.sf.picard.sam.SamToFastq INPUT=/Users/brant/code/AFS/sim-20haplos_exp-dist_theta0.05_8xCov/sim-reads/sim1a-simreads.sorted.bam FASTQ=/Users/brant/code/AFS/sim-20haplos_exp-dist_theta0.05_8xCov/sim-reads/sim1a_s_1_1_sequence.txt SECOND_END_FASTQ=/Users/brant/code/AFS/sim-20haplos_exp-dist_theta0.05_8xCov/sim-reads/sim1a_s_1_2_sequence.txt INCLUDE_NON_PF_READS=true VALIDATION_STRINGENCY=SILENT    OUTPUT_PER_RG=false RE_REVERSE=true READ1_TRIM=0 READ2_TRIM=0 INCLUDE_NON_PRIMARY_ALIGNMENTS=false VERBOSITY=INFO QUIET=false COMPRESSION_LEVEL=5 MAX_RECORDS_IN_RAM=500000 CREATE_INDEX=false CREATE_MD5_FILE=false", 
        "[Tue Jul 24 04:12:19 EDT 2012] Executing as brant@gottuminum.local on Mac OS X 10.7.4 x86_64; Java HotSpot(TM) 64-Bit Server VM 1.6.0_33-b03-424-11M3720; Picard version: 1.73(1234)"
       ]
      }, 
      {
       "output_type": "stream", 
       "stream": "stdout", 
       "text": [
        "[Tue Jul 24 04:12:21 EDT 2012] net.sf.picard.sam.SamToFastq done. Elapsed time: 0.03 minutes.", 
        "Runtime.totalMemory()=85000192", 
        "", 
        "/Users/brant/code/AFS/sim-20haplos_exp-dist_theta0.05_8xCov/sim-reads/sim1a_s_1_1_sequence.txt /Users/brant/code/AFS/sim-20haplos_exp-dist_theta0.05_8xCov/sim-reads/sim1a_s_1_2_sequence.txt created", 
        "[bwa_index] Pack FASTA... "
       ]
      }, 
      {
       "output_type": "stream", 
       "stream": "stdout", 
       "text": [
        "0.01 sec", 
        "[bwa_index] Construct BWT for the packed sequence..."
       ]
      }, 
      {
       "output_type": "stream", 
       "stream": "stdout", 
       "text": [
        "[bwa_index] 0.11 seconds elapse.", 
        "[bwa_index] Update BWT... 0.00 sec", 
        "[bwa_index] Pack forward-only FASTA... 0.01 sec", 
        "[bwa_index] Construct SA from BWT and Occ... "
       ]
      }, 
      {
       "output_type": "stream", 
       "stream": "stdout", 
       "text": [
        "0.04 sec", 
        "[main] Version: 0.6.2-r126", 
        "[main] CMD: bwa index /Users/brant/code/AFS/agouti-mc1r.masked.fasta", 
        "[main] Real time: 0.204 sec; CPU: 0.168 sec", 
        "[bwa_aln] 17bp reads: max_diff = 2", 
        "[bwa_aln] 38bp reads: max_diff = 3", 
        "[bwa_aln] 64bp reads: max_diff = 4", 
        "[bwa_aln] 93bp reads: max_diff = 5", 
        "[bwa_aln] 124bp reads: max_diff = 6", 
        "[bwa_aln] 157bp reads: max_diff = 7", 
        "[bwa_aln] 190bp reads: max_diff = 8", 
        "[bwa_aln] 225bp reads: max_diff = 9"
       ]
      }, 
      {
       "output_type": "stream", 
       "stream": "stdout", 
       "text": [
        "[bwa_aln_core] calculate SA coordinate... "
       ]
      }, 
      {
       "output_type": "stream", 
       "stream": "stdout", 
       "text": [
        "0.29 sec", 
        "[bwa_aln_core] write to the disk... 0.00 sec", 
        "[bwa_aln_core] 6913 sequences have been processed."
       ]
      }, 
      {
       "output_type": "stream", 
       "stream": "stdout", 
       "text": [
        "[main] Version: 0.6.2-r126", 
        "[main] CMD: bwa aln /Users/brant/code/AFS/agouti-mc1r.masked.fasta /Users/brant/code/AFS/sim-20haplos_exp-dist_theta0.05_8xCov/sim-reads/sim1a_s_1_1_sequence.txt", 
        "[main] Real time: 0.437 sec; CPU: 0.378 sec", 
        "[bwa_aln] 17bp reads: max_diff = 2", 
        "[bwa_aln] 38bp reads: max_diff = 3", 
        "[bwa_aln] 64bp reads: max_diff = 4", 
        "[bwa_aln] 93bp reads: max_diff = 5", 
        "[bwa_aln] 124bp reads: max_diff = 6", 
        "[bwa_aln] 157bp reads: max_diff = 7", 
        "[bwa_aln] 190bp reads: max_diff = 8", 
        "[bwa_aln] 225bp reads: max_diff = 9"
       ]
      }, 
      {
       "output_type": "stream", 
       "stream": "stdout", 
       "text": [
        "[bwa_aln_core] calculate SA coordinate... "
       ]
      }, 
      {
       "output_type": "stream", 
       "stream": "stdout", 
       "text": [
        "0.31 sec", 
        "[bwa_aln_core] write to the disk... 0.00 sec", 
        "[bwa_aln_core] 6913 sequences have been processed."
       ]
      }, 
      {
       "output_type": "stream", 
       "stream": "stdout", 
       "text": [
        "[main] Version: 0.6.2-r126", 
        "[main] CMD: bwa aln /Users/brant/code/AFS/agouti-mc1r.masked.fasta /Users/brant/code/AFS/sim-20haplos_exp-dist_theta0.05_8xCov/sim-reads/sim1a_s_1_2_sequence.txt", 
        "[main] Real time: 0.407 sec; CPU: 0.397 sec"
       ]
      }, 
      {
       "output_type": "stream", 
       "stream": "stdout", 
       "text": [
        "[bwa_sai2sam_pe_core] convert to sequence coordinate... "
       ]
      }, 
      {
       "output_type": "stream", 
       "stream": "stdout", 
       "text": [
        "[infer_isize] (25, 50, 75) percentile: (188, 200, 213)", 
        "[infer_isize] low and high boundaries: 138 and 263 for estimating avg and std", 
        "[infer_isize] inferred external isize from 2526 pairs: 199.932 +/- 19.326", 
        "[infer_isize] skewness: -0.037; kurtosis: -0.006; ap_prior: 1.98e-05", 
        "[infer_isize] inferred maximum insert size: 309 (5.64 sigma)", 
        "[bwa_sai2sam_pe_core] time elapses: 0.03 sec", 
        "[bwa_sai2sam_pe_core] changing coordinates of 26 alignments.", 
        "[bwa_sai2sam_pe_core] align unmapped mate..."
       ]
      }, 
      {
       "output_type": "stream", 
       "stream": "stdout", 
       "text": [
        "[bwa_paired_sw] 919 out of 1294 Q17 singletons are mated.", 
        "[bwa_paired_sw] 3 out of 4 Q17 discordant pairs are fixed.", 
        "[bwa_sai2sam_pe_core] time elapses: 0.30 sec", 
        "[bwa_sai2sam_pe_core] refine gapped alignments... 0.01 sec", 
        "[bwa_sai2sam_pe_core] print alignments... [samopen] SAM header is present: 2 sequences."
       ]
      }, 
      {
       "output_type": "stream", 
       "stream": "stdout", 
       "text": [
        "0.04 sec", 
        "[bwa_sai2sam_pe_core] 6913 sequences have been processed."
       ]
      }, 
      {
       "output_type": "stream", 
       "stream": "stdout", 
       "text": [
        "[main] Version: 0.6.2-r126", 
        "[main] CMD: bwa sampe /Users/brant/code/AFS/agouti-mc1r.masked.fasta /Users/brant/code/AFS/sim-20haplos_exp-dist_theta0.05_8xCov/sim-reads/sim1a_s_1_1_sequence.txt.sai /Users/brant/code/AFS/sim-20haplos_exp-dist_theta0.05_8xCov/sim-reads/sim1a_s_1_2_sequence.txt.sai /Users/brant/code/AFS/sim-20haplos_exp-dist_theta0.05_8xCov/sim-reads/sim1a_s_1_1_sequence.txt /Users/brant/code/AFS/sim-20haplos_exp-dist_theta0.05_8xCov/sim-reads/sim1a_s_1_2_sequence.txt", 
        "[main] Real time: 0.813 sec; CPU: 0.507 sec"
       ]
      }, 
      {
       "output_type": "stream", 
       "stream": "stdout", 
       "text": [
        "[Tue Jul 24 04:12:24 EDT 2012] net.sf.picard.sam.AddOrReplaceReadGroups INPUT=/Users/brant/code/AFS/sim-20haplos_exp-dist_theta0.05_8xCov/sim-reads/sim1a-aln.sorted.bam OUTPUT=/Users/brant/code/AFS/sim-20haplos_exp-dist_theta0.05_8xCov/sim-reads/sim1a-aln.sorted.rg.bam RGID=/Users/brant/code/AFS/sim-20haplos_exp-dist_theta0.05_8xCov/sim-reads/sim1a RGLB=lane1_/Users/brant/code/AFS/sim-20haplos_exp-dist_theta0.05_8xCov/sim-reads/sim1a RGPL=illumina RGPU=lane1 RGSM=sim1    VERBOSITY=INFO QUIET=false VALIDATION_STRINGENCY=STRICT COMPRESSION_LEVEL=5 MAX_RECORDS_IN_RAM=500000 CREATE_INDEX=false CREATE_MD5_FILE=false", 
        "[Tue Jul 24 04:12:24 EDT 2012] Executing as brant@gottuminum.local on Mac OS X 10.7.4 x86_64; Java HotSpot(TM) 64-Bit Server VM 1.6.0_33-b03-424-11M3720; Picard version: 1.73(1234)"
       ]
      }, 
      {
       "output_type": "stream", 
       "stream": "stdout", 
       "text": [
        "INFO\t2012-07-24 04:12:24\tAddOrReplaceReadGroups\tCreated read group ID=/Users/brant/code/AFS/sim-20haplos_exp-dist_theta0.05_8xCov/sim-reads/sim1a PL=illumina LB=lane1_/Users/brant/code/AFS/sim-20haplos_exp-dist_theta0.05_8xCov/sim-reads/sim1a SM=sim1", 
        ""
       ]
      }, 
      {
       "output_type": "stream", 
       "stream": "stdout", 
       "text": [
        "[Tue Jul 24 04:12:26 EDT 2012] net.sf.picard.sam.AddOrReplaceReadGroups done. Elapsed time: 0.04 minutes.", 
        "Runtime.totalMemory()=85000192"
       ]
      }, 
      {
       "output_type": "stream", 
       "stream": "stdout", 
       "text": [
        "[Tue Jul 24 04:12:29 EDT 2012] net.sf.picard.sam.CreateSequenceDictionary REFERENCE=/Users/brant/code/AFS/sim-20haplos_exp-dist_theta0.05_8xCov/hap3_agouti-mc1r.fa OUTPUT=/Users/brant/code/AFS/sim-20haplos_exp-dist_theta0.05_8xCov/hap3_agouti-mc1r.dict    TRUNCATE_NAMES_AT_WHITESPACE=true NUM_SEQUENCES=2147483647 VERBOSITY=INFO QUIET=false VALIDATION_STRINGENCY=STRICT COMPRESSION_LEVEL=5 MAX_RECORDS_IN_RAM=500000 CREATE_INDEX=false CREATE_MD5_FILE=false", 
        "[Tue Jul 24 04:12:29 EDT 2012] Executing as brant@gottuminum.local on Mac OS X 10.7.4 x86_64; Java HotSpot(TM) 64-Bit Server VM 1.6.0_33-b03-424-11M3720; Picard version: 1.73(1234)"
       ]
      }, 
      {
       "output_type": "stream", 
       "stream": "stdout", 
       "text": [
        "[Tue Jul 24 04:12:30 EDT 2012] net.sf.picard.sam.CreateSequenceDictionary done. Elapsed time: 0.00 minutes.", 
        "Runtime.totalMemory()=85000192", 
        "[samopen] SAM header is present: 2 sequences."
       ]
      }, 
      {
       "output_type": "stream", 
       "stream": "stdout", 
       "text": [
        "[Tue Jul 24 04:12:31 EDT 2012] net.sf.picard.sam.SamToFastq INPUT=/Users/brant/code/AFS/sim-20haplos_exp-dist_theta0.05_8xCov/sim-reads/sim1b-simreads.sorted.bam FASTQ=/Users/brant/code/AFS/sim-20haplos_exp-dist_theta0.05_8xCov/sim-reads/sim1b_s_1_1_sequence.txt SECOND_END_FASTQ=/Users/brant/code/AFS/sim-20haplos_exp-dist_theta0.05_8xCov/sim-reads/sim1b_s_1_2_sequence.txt INCLUDE_NON_PF_READS=true VALIDATION_STRINGENCY=SILENT    OUTPUT_PER_RG=false RE_REVERSE=true READ1_TRIM=0 READ2_TRIM=0 INCLUDE_NON_PRIMARY_ALIGNMENTS=false VERBOSITY=INFO QUIET=false COMPRESSION_LEVEL=5 MAX_RECORDS_IN_RAM=500000 CREATE_INDEX=false CREATE_MD5_FILE=false"
       ]
      }, 
      {
       "output_type": "stream", 
       "stream": "stdout", 
       "text": [
        "[Tue Jul 24 04:12:31 EDT 2012] Executing as brant@gottuminum.local on Mac OS X 10.7.4 x86_64; Java HotSpot(TM) 64-Bit Server VM 1.6.0_33-b03-424-11M3720; Picard version: 1.73(1234)"
       ]
      }, 
      {
       "output_type": "stream", 
       "stream": "stdout", 
       "text": [
        "[Tue Jul 24 04:12:33 EDT 2012] net.sf.picard.sam.SamToFastq done. Elapsed time: 0.03 minutes.", 
        "Runtime.totalMemory()=85000192", 
        "", 
        "/Users/brant/code/AFS/sim-20haplos_exp-dist_theta0.05_8xCov/sim-reads/sim1b_s_1_1_sequence.txt /Users/brant/code/AFS/sim-20haplos_exp-dist_theta0.05_8xCov/sim-reads/sim1b_s_1_2_sequence.txt created"
       ]
      }, 
      {
       "output_type": "stream", 
       "stream": "stdout", 
       "text": [
        "[bwa_index] Pack FASTA... 0.01 sec", 
        "[bwa_index] Construct BWT for the packed sequence..."
       ]
      }, 
      {
       "output_type": "stream", 
       "stream": "stdout", 
       "text": [
        "[bwa_index] 0.11 seconds elapse.", 
        "[bwa_index] Update BWT... 0.00 sec", 
        "[bwa_index] Pack forward-only FASTA... 0.01 sec", 
        "[bwa_index] Construct SA from BWT and Occ... "
       ]
      }, 
      {
       "output_type": "stream", 
       "stream": "stdout", 
       "text": [
        "0.04 sec", 
        "[main] Version: 0.6.2-r126", 
        "[main] CMD: bwa index /Users/brant/code/AFS/agouti-mc1r.masked.fasta", 
        "[main] Real time: 0.182 sec; CPU: 0.169 sec", 
        "[bwa_aln] 17bp reads: max_diff = 2", 
        "[bwa_aln] 38bp reads: max_diff = 3", 
        "[bwa_aln] 64bp reads: max_diff = 4", 
        "[bwa_aln] 93bp reads: max_diff = 5", 
        "[bwa_aln] 124bp reads: max_diff = 6", 
        "[bwa_aln] 157bp reads: max_diff = 7", 
        "[bwa_aln] 190bp reads: max_diff = 8", 
        "[bwa_aln] 225bp reads: max_diff = 9"
       ]
      }, 
      {
       "output_type": "stream", 
       "stream": "stdout", 
       "text": [
        "[bwa_aln_core] calculate SA coordinate... "
       ]
      }, 
      {
       "output_type": "stream", 
       "stream": "stdout", 
       "text": [
        "0.29 sec", 
        "[bwa_aln_core] write to the disk... 0.00 sec", 
        "[bwa_aln_core] 6913 sequences have been processed."
       ]
      }, 
      {
       "output_type": "stream", 
       "stream": "stdout", 
       "text": [
        "[main] Version: 0.6.2-r126", 
        "[main] CMD: bwa aln /Users/brant/code/AFS/agouti-mc1r.masked.fasta /Users/brant/code/AFS/sim-20haplos_exp-dist_theta0.05_8xCov/sim-reads/sim1b_s_1_1_sequence.txt", 
        "[main] Real time: 0.397 sec; CPU: 0.388 sec", 
        "[bwa_aln] 17bp reads: max_diff = 2", 
        "[bwa_aln] 38bp reads: max_diff = 3", 
        "[bwa_aln] 64bp reads: max_diff = 4", 
        "[bwa_aln] 93bp reads: max_diff = 5", 
        "[bwa_aln] 124bp reads: max_diff = 6", 
        "[bwa_aln] 157bp reads: max_diff = 7", 
        "[bwa_aln] 190bp reads: max_diff = 8", 
        "[bwa_aln] 225bp reads: max_diff = 9"
       ]
      }, 
      {
       "output_type": "stream", 
       "stream": "stdout", 
       "text": [
        "[bwa_aln_core] calculate SA coordinate... "
       ]
      }, 
      {
       "output_type": "stream", 
       "stream": "stdout", 
       "text": [
        "0.31 sec", 
        "[bwa_aln_core] write to the disk... 0.00 sec", 
        "[bwa_aln_core] 6913 sequences have been processed."
       ]
      }, 
      {
       "output_type": "stream", 
       "stream": "stdout", 
       "text": [
        "[main] Version: 0.6.2-r126", 
        "[main] CMD: bwa aln /Users/brant/code/AFS/agouti-mc1r.masked.fasta /Users/brant/code/AFS/sim-20haplos_exp-dist_theta0.05_8xCov/sim-reads/sim1b_s_1_2_sequence.txt", 
        "[main] Real time: 0.463 sec; CPU: 0.406 sec"
       ]
      }, 
      {
       "output_type": "stream", 
       "stream": "stdout", 
       "text": [
        "[bwa_sai2sam_pe_core] convert to sequence coordinate... "
       ]
      }, 
      {
       "output_type": "stream", 
       "stream": "stdout", 
       "text": [
        "[infer_isize] (25, 50, 75) percentile: (186, 200, 212)", 
        "[infer_isize] low and high boundaries: 134 and 264 for estimating avg and std", 
        "[infer_isize] inferred external isize from 2581 pairs: 199.114 +/- 19.399", 
        "[infer_isize] skewness: -0.020; kurtosis: 0.046; ap_prior: 1.00e-05", 
        "[infer_isize] inferred maximum insert size: 309 (5.64 sigma)", 
        "[bwa_sai2sam_pe_core] time elapses: 0.04 sec", 
        "[bwa_sai2sam_pe_core] changing coordinates of 32 alignments.", 
        "[bwa_sai2sam_pe_core] align unmapped mate..."
       ]
      }, 
      {
       "output_type": "stream", 
       "stream": "stdout", 
       "text": [
        "[bwa_paired_sw] 846 out of 1245 Q17 singletons are mated.", 
        "[bwa_paired_sw] 1 out of 1 Q17 discordant pairs are fixed.", 
        "[bwa_sai2sam_pe_core] time elapses: 0.29 sec", 
        "[bwa_sai2sam_pe_core] refine gapped alignments... 0.01 sec", 
        "[bwa_sai2sam_pe_core] print alignments... [samopen] SAM header is present: 2 sequences."
       ]
      }, 
      {
       "output_type": "stream", 
       "stream": "stdout", 
       "text": [
        "0.05 sec", 
        "[bwa_sai2sam_pe_core] 6913 sequences have been processed."
       ]
      }, 
      {
       "output_type": "stream", 
       "stream": "stdout", 
       "text": [
        "[main] Version: 0.6.2-r126", 
        "[main] CMD: bwa"
       ]
      }, 
      {
       "output_type": "stream", 
       "stream": "stdout", 
       "text": [
        " sampe /Users/brant/code/AFS/agouti-mc1r.masked.fasta /Users/brant/code/AFS/sim-20haplos_exp-dist_theta0.05_8xCov/sim-reads/sim1b_s_1_1_sequence.txt.sai /Users/brant/code/AFS/sim-20haplos_exp-dist_theta0.05_8xCov/sim-reads/sim1b_s_1_2_sequence.txt.sai /Users/brant/code/AFS/sim-20haplos_exp-dist_theta0.05_8xCov/sim-reads/sim1b_s_1_1_sequence.txt /Users/brant/code/AFS/sim-20haplos_exp-dist_theta0.05_8xCov/sim-reads/sim1b_s_1_2_sequence.txt", 
        "[main] Real time: 0.919 sec; CPU: 0.501 sec"
       ]
      }, 
      {
       "output_type": "stream", 
       "stream": "stdout", 
       "text": [
        "[Tue Jul 24 04:12:36 EDT 2012] net.sf.picard.sam.AddOrReplaceReadGroups INPUT=/Users/brant/code/AFS/sim-20haplos_exp-dist_theta0.05_8xCov/sim-reads/sim1b-aln.sorted.bam OUTPUT=/Users/brant/code/AFS/sim-20haplos_exp-dist_theta0.05_8xCov/sim-reads/sim1b-aln.sorted.rg.bam RGID=/Users/brant/code/AFS/sim-20haplos_exp-dist_theta0.05_8xCov/sim-reads/sim1b RGLB=lane1_/Users/brant/code/AFS/sim-20haplos_exp-dist_theta0.05_8xCov/sim-reads/sim1b RGPL=illumina RGPU=lane1 RGSM=sim1    VERBOSITY=INFO QUIET=false VALIDATION_STRINGENCY=STRICT COMPRESSION_LEVEL=5 MAX_RECORDS_IN_RAM=500000 CREATE_INDEX=false CREATE_MD5_FILE=false", 
        "[Tue Jul 24 04:12:36 EDT 2012] Executing as brant@gottuminum.local on Mac OS X 10.7.4 x86_64; Java HotSpot(TM) 64-Bit Server VM 1.6.0_33-b03-424-11M3720; Picard version: 1.73(1234)", 
        "INFO\t"
       ]
      }, 
      {
       "output_type": "stream", 
       "stream": "stdout", 
       "text": [
        "2012-07-24 04:12:36\tAddOrReplaceReadGroups\tCreated read group ID=/Users/brant/code/AFS/sim-20haplos_exp-dist_theta0.05_8xCov/sim-reads/sim1b PL=illumina LB=lane1_/Users/brant/code/AFS/sim-20haplos_exp-dist_theta0.05_8xCov/sim-reads/sim1b SM=sim1", 
        ""
       ]
      }, 
      {
       "output_type": "stream", 
       "stream": "stdout", 
       "text": [
        "[Tue Jul 24 04:12:37 EDT 2012] net.sf.picard.sam.AddOrReplaceReadGroups done. Elapsed time: 0.03 minutes.", 
        "Runtime.totalMemory()=85000192"
       ]
      }, 
      {
       "output_type": "stream", 
       "stream": "stdout", 
       "text": [
        "[Tue Jul 24 04:12:40 EDT 2012] net.sf.picard.sam.CreateSequenceDictionary REFERENCE=/Users/brant/code/AFS/sim-20haplos_exp-dist_theta0.05_8xCov/hap2_agouti-mc1r.fa OUTPUT=/Users/brant/code/AFS/sim-20haplos_exp-dist_theta0.05_8xCov/hap2_agouti-mc1r.dict    TRUNCATE_NAMES_AT_WHITESPACE=true NUM_SEQUENCES=2147483647 VERBOSITY=INFO QUIET=false VALIDATION_STRINGENCY=STRICT COMPRESSION_LEVEL=5 MAX_RECORDS_IN_RAM=500000 CREATE_INDEX=false CREATE_MD5_FILE=false", 
        "[Tue Jul 24 04:12:40 EDT 2012] Executing as brant@gottuminum.local on Mac OS X 10.7.4 x86_64; Java HotSpot(TM) 64-Bit Server VM 1.6.0_33-b03-424-11M3720; Picard version: 1.73(1234)"
       ]
      }, 
      {
       "output_type": "stream", 
       "stream": "stdout", 
       "text": [
        "[Tue Jul 24 04:12:40 EDT 2012] net.sf.picard.sam.CreateSequenceDictionary done. Elapsed time: 0.00 minutes.", 
        "Runtime.totalMemory()=85000192"
       ]
      }, 
      {
       "output_type": "stream", 
       "stream": "stdout", 
       "text": [
        "[samopen] SAM header is present: 2 sequences."
       ]
      }, 
      {
       "output_type": "stream", 
       "stream": "stdout", 
       "text": [
        "[Tue Jul 24 04:12:42 EDT 2012] net.sf.picard.sam.SamToFastq INPUT=/Users/brant/code/AFS/sim-20haplos_exp-dist_theta0.05_8xCov/sim-reads/sim2a-simreads.sorted.bam FASTQ=/Users/brant/code/AFS/sim-20haplos_exp-dist_theta0.05_8xCov/sim-reads/sim2a_s_1_1_sequence.txt SECOND_END_FASTQ=/Users/brant/code/AFS/sim-20haplos_exp-dist_theta0.05_8xCov/sim-reads/sim2a_s_1_2_sequence.txt INCLUDE_NON_PF_READS=true VALIDATION_STRINGENCY=SILENT    OUTPUT_PER_RG=false RE_REVERSE=true READ1_TRIM=0 READ2_TRIM=0 INCLUDE_NON_PRIMARY_ALIGNMENTS=false VERBOSITY=INFO QUIET=false COMPRESSION_LEVEL=5 MAX_RECORDS_IN_RAM=500000 CREATE_INDEX=false CREATE_MD5_FILE=false", 
        "[Tue Jul 24 04:12:42 EDT 2012] Executing as brant@gottuminum.local on Mac OS X 10.7.4 x86_64; Java HotSpot(TM) 64-Bit Server VM 1.6.0_33-b03-424-11M3720; Picard version: 1.73(1234)"
       ]
      }, 
      {
       "output_type": "stream", 
       "stream": "stdout", 
       "text": [
        "[Tue Jul 24 04:12:43 EDT 2012] net.sf.picard.sam.SamToFastq done. Elapsed time: 0.03 minutes.", 
        "Runtime.totalMemory()=85000192", 
        "", 
        "/Users/brant/code/AFS/sim-20haplos_exp-dist_theta0.05_8xCov/sim-reads/sim2a_s_1_1_sequence.txt /Users/brant/code/AFS/sim-20haplos_exp-dist_theta0.05_8xCov/sim-reads/sim2a_s_1_2_sequence.txt created", 
        "[bwa_index] Pack FASTA... 0.01 sec", 
        "[bwa_index] Construct BWT for the packed sequence..."
       ]
      }, 
      {
       "output_type": "stream", 
       "stream": "stdout", 
       "text": [
        "[bwa_index] 0.10 seconds elapse.", 
        "[bwa_index] Update BWT... 0.00 sec", 
        "[bwa_index] Pack forward-only FASTA... "
       ]
      }, 
      {
       "output_type": "stream", 
       "stream": "stdout", 
       "text": [
        "0.01 sec", 
        "[bwa_index] Construct SA from BWT and Occ... 0.04 sec", 
        "[main] Version: 0.6.2-r126", 
        "[main] CMD: bwa index /Users/brant/code/AFS/agouti-mc1r.masked.fasta", 
        "[main] Real time: 0.160 sec; CPU: 0.157 sec", 
        "[bwa_aln] 17bp reads: max_diff = 2", 
        "[bwa_aln] 38bp reads: max_diff = 3", 
        "[bwa_aln] 64bp reads: max_diff = 4", 
        "[bwa_aln] 93bp reads: max_diff = 5", 
        "[bwa_aln] 124bp reads: max_diff = 6", 
        "[bwa_aln] 157bp reads: max_diff = 7", 
        "[bwa_aln] 190bp reads: max_diff = 8", 
        "[bwa_aln] 225bp reads: max_diff = 9"
       ]
      }, 
      {
       "output_type": "stream", 
       "stream": "stdout", 
       "text": [
        "[bwa_aln_core] calculate SA coordinate... "
       ]
      }, 
      {
       "output_type": "stream", 
       "stream": "stdout", 
       "text": [
        "0.29 sec", 
        "[bwa_aln_core] write to the disk... 0.00 sec", 
        "[bwa_aln_core] 6913 sequences have been processed."
       ]
      }, 
      {
       "output_type": "stream", 
       "stream": "stdout", 
       "text": [
        "[main] Version: 0.6.2-r126", 
        "[main] CMD: bwa aln /Users/brant/code/AFS/agouti-mc1r.masked.fasta /Users/brant/code/AFS/sim-20haplos_exp-dist_theta0.05_8xCov/sim-reads/sim2a_s_1_1_sequence.txt", 
        "[main] Real time: 0.402 sec; CPU: 0.394 sec"
       ]
      }, 
      {
       "output_type": "stream", 
       "stream": "stdout", 
       "text": [
        "[bwa_aln] 17bp reads: max_diff = 2", 
        "[bwa_aln] 38bp reads: max_diff = 3", 
        "[bwa_aln] 64bp reads: max_diff = 4", 
        "[bwa_aln] 93bp reads: max_diff = 5", 
        "[bwa_aln] 124bp reads: max_diff = 6", 
        "[bwa_aln] 157bp reads: max_diff = 7", 
        "[bwa_aln] 190bp reads: max_diff = 8", 
        "[bwa_aln] 225bp reads: max_diff = 9", 
        "[bwa_aln_core] calculate SA coordinate... "
       ]
      }, 
      {
       "output_type": "stream", 
       "stream": "stdout", 
       "text": [
        "0.31 sec", 
        "[bwa_aln_core] write to the disk... 0.00 sec"
       ]
      }, 
      {
       "output_type": "stream", 
       "stream": "stdout", 
       "text": [
        "[bwa_aln_core] 6913 sequences have been processed."
       ]
      }, 
      {
       "output_type": "stream", 
       "stream": "stdout", 
       "text": [
        "[main] Version: 0.6.2-r126", 
        "[main] CMD: bwa aln /Users/brant/code/AFS/agouti-mc1r.masked.fasta /Users/brant/code/AFS/sim-20haplos_exp-dist_theta0.05_8xCov/sim-reads/sim2a_s_1_2_sequence.txt", 
        "[main] Real time: 0.477 sec; CPU: 0.419 sec"
       ]
      }, 
      {
       "output_type": "stream", 
       "stream": "stdout", 
       "text": [
        "[bwa_sai2sam_pe_core] convert to sequence coordinate... ", 
        "[infer_isize] (25, 50, 75) percentile: (186, 200, 212)", 
        "[infer_isize] low and high boundaries: 134 and 264 for estimating avg and std", 
        "[infer_isize] inferred external isize from 2686 pairs: 199.341 +/- 19.434", 
        "[infer_isize] skewness: 0.017; kurtosis: 0.085; ap_prior: 1.12e-05", 
        "[infer_isize] inferred maximum insert size: 309 (5.64 sigma)", 
        "[bwa_sai2sam_pe_core] time elapses: 0.04 sec", 
        "[bwa_sai2sam_pe_core] changing coordinates of 37 alignments.", 
        "[bwa_sai2sam_pe_core] align unmapped mate..."
       ]
      }, 
      {
       "output_type": "stream", 
       "stream": "stdout", 
       "text": [
        "[bwa_paired_sw] 852 out of 1269 Q17 singletons are mated.", 
        "[bwa_paired_sw] 1 out of 2 Q17 discordant pairs are fixed.", 
        "[bwa_sai2sam_pe_core] time elapses: 0.30 sec", 
        "[bwa_sai2sam_pe_core] refine gapped alignments... "
       ]
      }, 
      {
       "output_type": "stream", 
       "stream": "stdout", 
       "text": [
        "0.01 sec", 
        "[bwa_sai2sam_pe_core] print alignments... [samopen] SAM header is present: 2 sequences."
       ]
      }, 
      {
       "output_type": "stream", 
       "stream": "stdout", 
       "text": [
        "0.05 sec"
       ]
      }, 
      {
       "output_type": "stream", 
       "stream": "stdout", 
       "text": [
        "[bwa_sai2sam_pe_core] 6913 sequences have been processed."
       ]
      }, 
      {
       "output_type": "stream", 
       "stream": "stdout", 
       "text": [
        "[main] Version: 0.6.2-r126", 
        "[main] CMD: bwa sampe /Users/brant/code/AFS/agouti-mc1r.masked.fasta /Users/brant/code/AFS/sim-20haplos_exp-dist_theta0.05_8xCov/sim-reads/sim2a_s_1_1_sequence.txt.sai /Users/brant/code/AFS/sim-20haplos_exp-dist_theta0.05_8xCov/sim-reads/sim2a_s_1_2_sequence.txt.sai /Users/brant/code/AFS/sim-20haplos_exp-dist_theta0.05_8xCov/sim-reads/sim2a_s_1_1_sequence.txt /Users/brant/code/AFS/sim-20haplos_exp-dist_theta0.05_8xCov/sim-reads/sim2a_s_1_2_sequence.txt", 
        "[main] Real time: 0.814 sec; CPU: 0.509 sec"
       ]
      }, 
      {
       "output_type": "stream", 
       "stream": "stdout", 
       "text": [
        "[Tue Jul 24 04:12:46 EDT 2012] net.sf.picard.sam.AddOrReplaceReadGroups INPUT=/Users/brant/code/AFS/sim-20haplos_exp-dist_theta0.05_8xCov/sim-reads/sim2a-aln.sorted.bam OUTPUT=/Users/brant/code/AFS/sim-20haplos_exp-dist_theta0.05_8xCov/sim-reads/sim2a-aln.sorted.rg.bam RGID=/Users/brant/code/AFS/sim-20haplos_exp-dist_theta0.05_8xCov/sim-reads/sim2a RGLB=lane1_/Users/brant/code/AFS/sim-20haplos_exp-dist_theta0.05_8xCov/sim-reads/sim2a RGPL=illumina RGPU=lane1 RGSM=sim2    VERBOSITY=INFO QUIET=false VALIDATION_STRINGENCY=STRICT COMPRESSION_LEVEL=5 MAX_RECORDS_IN_RAM=500000 CREATE_INDEX=false CREATE_MD5_FILE=false", 
        "[Tue Jul 24 04:12:46 EDT 2012] Executing as brant@gottuminum.local on Mac OS X 10.7.4 x86_64; Java HotSpot(TM) 64-Bit Server VM 1.6.0_33-b03-424-11M3720; Picard version: 1.73(1234)"
       ]
      }, 
      {
       "output_type": "stream", 
       "stream": "stdout", 
       "text": [
        "INFO\t2012-07-24 04:12:46\tAddOrReplaceReadGroups\tCreated read group ID=/Users/brant/code/AFS/sim-20haplos_exp-dist_theta0.05_8xCov/sim-reads/sim2a PL=illumina LB=lane1_/Users/brant/code/AFS/sim-20haplos_exp-dist_theta0.05_8xCov/sim-reads/sim2a SM=sim2", 
        ""
       ]
      }, 
      {
       "output_type": "stream", 
       "stream": "stdout", 
       "text": [
        "[Tue Jul 24 04:12:47 EDT 2012] net.sf.picard.sam.AddOrReplaceReadGroups done. Elapsed time: 0.02 minutes.", 
        "Runtime.totalMemory()=85000192"
       ]
      }, 
      {
       "output_type": "stream", 
       "stream": "stdout", 
       "text": [
        "[Tue Jul 24 04:12:50 EDT 2012] net.sf.picard.sam.CreateSequenceDictionary REFERENCE=/Users/brant/code/AFS/sim-20haplos_exp-dist_theta0.05_8xCov/hap19_agouti-mc1r.fa OUTPUT=/Users/brant/code/AFS/sim-20haplos_exp-dist_theta0.05_8xCov/hap19_agouti-mc1r.dict    TRUNCATE_NAMES_AT_WHITESPACE=true NUM_SEQUENCES=2147483647 VERBOSITY=INFO QUIET=false VALIDATION_STRINGENCY=STRICT COMPRESSION_LEVEL=5 MAX_RECORDS_IN_RAM=500000 CREATE_INDEX=false CREATE_MD5_FILE=false", 
        "[Tue Jul 24 04:12:50 EDT 2012] Executing as brant@gottuminum.local on Mac OS X 10.7.4 x86_64; Java HotSpot(TM) 64-Bit Server VM 1.6.0_33-b03-424-11M3720; Picard version: 1.73(1234)"
       ]
      }, 
      {
       "output_type": "stream", 
       "stream": "stdout", 
       "text": [
        "[Tue Jul 24 04:12:50 EDT 2012] net.sf.picard.sam.CreateSequenceDictionary done. Elapsed time: 0.00 minutes.", 
        "Runtime.totalMemory()=85000192"
       ]
      }, 
      {
       "output_type": "stream", 
       "stream": "stdout", 
       "text": [
        "[samopen] SAM header is present: 2 sequences."
       ]
      }, 
      {
       "output_type": "stream", 
       "stream": "stdout", 
       "text": [
        "[Tue Jul 24 04:12:52 EDT 2012] net.sf.picard.sam.SamToFastq INPUT=/Users/brant/code/AFS/sim-20haplos_exp-dist_theta0.05_8xCov/sim-reads/sim2b-simreads.sorted.bam FASTQ=/Users/brant/code/AFS/sim-20haplos_exp-dist_theta0.05_8xCov/sim-reads/sim2b_s_1_1_sequence.txt SECOND_END_FASTQ=/Users/brant/code/AFS/sim-20haplos_exp-dist_theta0.05_8xCov/sim-reads/sim2b_s_1_2_sequence.txt INCLUDE_NON_PF_READS=true VALIDATION_STRINGENCY=SILENT    OUTPUT_PER_RG=false RE_REVERSE=true READ1_TRIM=0 READ2_TRIM=0 INCLUDE_NON_PRIMARY_ALIGNMENTS=false VERBOSITY=INFO QUIET=false COMPRESSION_LEVEL=5 MAX_RECORDS_IN_RAM=500000 CREATE_INDEX=false CREATE_MD5_FILE=false"
       ]
      }, 
      {
       "output_type": "stream", 
       "stream": "stdout", 
       "text": [
        "[Tue Jul 24 04:12:52 EDT 2012] Executing as brant@gottuminum.local on Mac OS X 10.7.4 x86_64; Java HotSpot(TM) 64-Bit Server VM 1.6.0_33-b03-424-11M3720; Picard version: 1.73(1234)"
       ]
      }, 
      {
       "output_type": "stream", 
       "stream": "stdout", 
       "text": [
        "[Tue Jul 24 04:12:53 EDT 2012] net.sf.picard.sam.SamToFastq done. Elapsed time: 0.03 minutes.", 
        "Runtime.totalMemory()=85000192", 
        "", 
        "/Users/brant/code/AFS/sim-20haplos_exp-dist_theta0.05_8xCov/sim-reads/sim2b_s_1_1_sequence.txt /Users/brant/code/AFS/sim-20haplos_exp-dist_theta0.05_8xCov/sim-reads/sim2b_s_1_2_sequence.txt created", 
        "[bwa_index] Pack FASTA... 0.01 sec", 
        "[bwa_index] Construct BWT for the packed sequence..."
       ]
      }, 
      {
       "output_type": "stream", 
       "stream": "stdout", 
       "text": [
        "[bwa_index] 0.10 seconds elapse.", 
        "[bwa_index] Update BWT... 0.00 sec", 
        "[bwa_index] Pack forward-only FASTA... 0.01 sec", 
        "[bwa_index] Construct SA from BWT and Occ... "
       ]
      }, 
      {
       "output_type": "stream", 
       "stream": "stdout", 
       "text": [
        "0.04 sec", 
        "[main] Version: 0.6.2-r126", 
        "[main] CMD: bwa index /Users/brant/code/AFS/agouti-mc1r.masked.fasta", 
        "[main] Real time: 0.169 sec; CPU: 0.160 sec", 
        "[bwa_aln] 17bp reads: max_diff = 2", 
        "[bwa_aln] 38bp reads: max_diff = 3", 
        "[bwa_aln] 64bp reads: max_diff = 4", 
        "[bwa_aln] 93bp reads: max_diff = 5", 
        "[bwa_aln] 124bp reads: max_diff = 6", 
        "[bwa_aln] 157bp reads: max_diff = 7", 
        "[bwa_aln] 190bp reads: max_diff = 8", 
        "[bwa_aln] 225bp reads: max_diff = 9", 
        "[bwa_aln_core] calculate SA coordinate... "
       ]
      }, 
      {
       "output_type": "stream", 
       "stream": "stdout", 
       "text": [
        "0.29 sec", 
        "[bwa_aln_core] write to the disk... 0.00 sec", 
        "[bwa_aln_core] 6913 sequences have been processed."
       ]
      }, 
      {
       "output_type": "stream", 
       "stream": "stdout", 
       "text": [
        "[main] Version: 0.6.2-r126", 
        "[main] CMD: bwa aln /Users/brant/code/AFS/agouti-mc1r.masked.fasta /Users/brant/code/AFS/sim-20haplos_exp-dist_theta0.05_8xCov/sim-reads/sim2b_s_1_1_sequence.txt", 
        "[main] Real time: 0.389 sec; CPU: 0.380 sec"
       ]
      }, 
      {
       "output_type": "stream", 
       "stream": "stdout", 
       "text": [
        "[bwa_aln] 17bp reads: max_diff = 2", 
        "[bwa_aln] 38bp reads: max_diff = 3", 
        "[bwa_aln] 64bp reads: max_diff = 4", 
        "[bwa_aln] 93bp reads: max_diff = 5", 
        "[bwa_aln] 124bp reads: max_diff = 6", 
        "[bwa_aln] 157bp reads: max_diff = 7", 
        "[bwa_aln] 190bp reads: max_diff = 8", 
        "[bwa_aln] 225bp reads: max_diff = 9", 
        "[bwa_aln_core] calculate SA coordinate... "
       ]
      }, 
      {
       "output_type": "stream", 
       "stream": "stdout", 
       "text": [
        "0.30 sec", 
        "[bwa_aln_core] write to the disk... 0.00 sec", 
        "[bwa_aln_core] 6913 sequences have been processed."
       ]
      }, 
      {
       "output_type": "stream", 
       "stream": "stdout", 
       "text": [
        "[main] Version: 0.6.2-r126"
       ]
      }, 
      {
       "output_type": "stream", 
       "stream": "stdout", 
       "text": [
        "[main] CMD: bwa aln /Users/brant/code/AFS/agouti-mc1r.masked.fasta /Users/brant/code/AFS/sim-20haplos_exp-dist_theta0.05_8xCov/sim-reads/sim2b_s_1_2_sequence.txt", 
        "[main] Real time: 0.448 sec; CPU: 0.415 sec", 
        "[bwa_sai2sam_pe_core] convert to sequence coordinate... "
       ]
      }, 
      {
       "output_type": "stream", 
       "stream": "stdout", 
       "text": [
        "[infer_isize] (25, 50, 75) percentile: (187, 200, 212)", 
        "[infer_isize] low and high boundaries: 137 and 262 for estimating avg and std", 
        "[infer_isize] inferred external isize from 2554 pairs: 198.878 +/- 19.193", 
        "[infer_isize] skewness: -0.067; kurtosis: 0.151; ap_prior: 1.57e-05", 
        "[infer_isize] inferred maximum insert size: 307 (5.64 sigma)", 
        "[bwa_sai2sam_pe_core] time elapses: 0.04 sec", 
        "[bwa_sai2sam_pe_core] changing coordinates of 31 alignments.", 
        "[bwa_sai2sam_pe_core] align unmapped mate..."
       ]
      }, 
      {
       "output_type": "stream", 
       "stream": "stdout", 
       "text": [
        "[bwa_paired_sw] 882 out of 1275 Q17 singletons are mated.", 
        "[bwa_paired_sw] 2 out of 4 Q17 discordant pairs are fixed.", 
        "[bwa_sai2sam_pe_core] time elapses: 0.30 sec", 
        "[bwa_sai2sam_pe_core] refine gapped alignments... 0.01 sec", 
        "[bwa_sai2sam_pe_core] print alignments... [samopen] SAM header is present: 2 sequences."
       ]
      }, 
      {
       "output_type": "stream", 
       "stream": "stdout", 
       "text": [
        "0.05 sec", 
        "[bwa_sai2sam_pe_core] 6913 sequences have been processed."
       ]
      }, 
      {
       "output_type": "stream", 
       "stream": "stdout", 
       "text": [
        "[main] Version: 0.6.2-r126", 
        "[main] CMD: bwa sampe /Users/brant/code/AFS/agouti-mc1r.masked.fasta /Users/brant/code/AFS/sim-20haplos_exp-dist_theta0.05_8xCov/sim-reads/sim2b_s_1_1_sequence.txt.sai /Users/brant/code/AFS/sim-20haplos_exp-dist_theta0.05_8xCov/sim-reads/sim2b_s_1_2_sequence.txt.sai /Users/brant/code/AFS/sim-20haplos_exp-dist_theta0.05_8xCov/sim-reads/sim2b_s_1_1_sequence.txt /Users/brant/code/AFS/sim-20haplos_exp-dist_theta0.05_8xCov/sim-reads/sim2b_s_1_2_sequence.txt", 
        "[main] Real time: 0.850 sec; CPU: 0.524 sec"
       ]
      }, 
      {
       "output_type": "stream", 
       "stream": "stdout", 
       "text": [
        "[Tue Jul 24 04:12:56 EDT 2012] net.sf.picard.sam.AddOrReplaceReadGroups INPUT=/Users/brant/code/AFS/sim-20haplos_exp-dist_theta0.05_8xCov/sim-reads/sim2b-aln.sorted.bam OUTPUT=/Users/brant/code/AFS/sim-20haplos_exp-dist_theta0.05_8xCov/sim-reads/sim2b-aln.sorted.rg.bam RGID=/Users/brant/code/AFS/sim-20haplos_exp-dist_theta0.05_8xCov/sim-reads/sim2b RGLB=lane1_/Users/brant/code/AFS/sim-20haplos_exp-dist_theta0.05_8xCov/sim-reads/sim2b RGPL=illumina RGPU=lane1 RGSM=sim2    VERBOSITY=INFO QUIET=false VALIDATION_STRINGENCY=STRICT COMPRESSION_LEVEL=5 MAX_RECORDS_IN_RAM=500000 CREATE_INDEX=false CREATE_MD5_FILE=false", 
        "[Tue Jul 24 04:12:56 EDT 2012] Executing as brant@gottuminum.local on Mac OS X 10.7.4 x86_64; Java HotSpot(TM) 64-Bit Server VM 1.6.0_33-b03-424-11M3720; Picard version: 1.73(1234)"
       ]
      }, 
      {
       "output_type": "stream", 
       "stream": "stdout", 
       "text": [
        "INFO\t2012-07-24 04:12:56\tAddOrReplaceReadGroups\tCreated read group ID=/Users/brant/code/AFS/sim-20haplos_exp-dist_theta0.05_8xCov/sim-reads/sim2b PL=illumina LB=lane1_/Users/brant/code/AFS/sim-20haplos_exp-dist_theta0.05_8xCov/sim-reads/sim2b SM=sim2", 
        ""
       ]
      }, 
      {
       "output_type": "stream", 
       "stream": "stdout", 
       "text": [
        "[Tue Jul 24 04:12:58 EDT 2012] net.sf.picard.sam.AddOrReplaceReadGroups done. Elapsed time: 0.03 minutes.", 
        "Runtime.totalMemory()=85000192"
       ]
      }, 
      {
       "output_type": "stream", 
       "stream": "stdout", 
       "text": [
        "[Tue Jul 24 04:13:01 EDT 2012] net.sf.picard.sam.CreateSequenceDictionary REFERENCE=/Users/brant/code/AFS/sim-20haplos_exp-dist_theta0.05_8xCov/hap17_agouti-mc1r.fa OUTPUT=/Users/brant/code/AFS/sim-20haplos_exp-dist_theta0.05_8xCov/hap17_agouti-mc1r.dict    TRUNCATE_NAMES_AT_WHITESPACE=true NUM_SEQUENCES=2147483647 VERBOSITY=INFO QUIET=false VALIDATION_STRINGENCY=STRICT COMPRESSION_LEVEL=5 MAX_RECORDS_IN_RAM=500000 CREATE_INDEX=false CREATE_MD5_FILE=false", 
        "[Tue Jul 24 04:13:01 EDT 2012] Executing as brant@gottuminum.local on Mac OS X 10.7.4 x86_64; Java HotSpot(TM) 64-Bit Server VM 1.6.0_33-b03-424-11M3720; Picard version: 1.73(1234)"
       ]
      }, 
      {
       "output_type": "stream", 
       "stream": "stdout", 
       "text": [
        "[Tue Jul 24 04:13:01 EDT 2012] net.sf.picard.sam.CreateSequenceDictionary done. Elapsed time: 0.00 minutes.", 
        "Runtime.totalMemory()=85000192", 
        "[samopen] SAM header is present: 2 sequences."
       ]
      }, 
      {
       "output_type": "stream", 
       "stream": "stdout", 
       "text": [
        "[Tue Jul 24 04:13:02 EDT 2012] net.sf.picard.sam.SamToFastq INPUT=/Users/brant/code/AFS/sim-20haplos_exp-dist_theta0.05_8xCov/sim-reads/sim3a-simreads.sorted.bam FASTQ=/Users/brant/code/AFS/sim-20haplos_exp-dist_theta0.05_8xCov/sim-reads/sim3a_s_1_1_sequence.txt SECOND_END_FASTQ=/Users/brant/code/AFS/sim-20haplos_exp-dist_theta0.05_8xCov/sim-reads/sim3a_s_1_2_sequence.txt INCLUDE_NON_PF_READS=true VALIDATION_STRINGENCY=SILENT    OUTPUT_PER_RG=false RE_REVERSE=true READ1_TRIM=0 READ2_TRIM=0 INCLUDE_NON_PRIMARY_ALIGNMENTS=false VERBOSITY=INFO QUIET=false COMPRESSION_LEVEL=5 MAX_RECORDS_IN_RAM=500000 CREATE_INDEX=false CREATE_MD5_FILE=false", 
        "[Tue Jul 24 04:13:02 EDT 2012] Executing as brant@gottuminum.local on Mac OS X 10.7.4 x86_64; Java HotSpot(TM) 64-Bit Server VM 1.6.0_33-b03-424-11M3720; Picard version: 1.73(1234)"
       ]
      }, 
      {
       "output_type": "stream", 
       "stream": "stdout", 
       "text": [
        "[Tue Jul 24 04:13:04 EDT 2012] net.sf.picard.sam.SamToFastq done. Elapsed time: 0.03 minutes.", 
        "Runtime.totalMemory()=85000192", 
        "", 
        "/Users/brant/code/AFS/sim-20haplos_exp-dist_theta0.05_8xCov/sim-reads/sim3a_s_1_1_sequence.txt /Users/brant/code/AFS/sim-20haplos_exp-dist_theta0.05_8xCov/sim-reads/sim3a_s_1_2_sequence.txt created", 
        "[bwa_index] Pack FASTA... 0.01 sec", 
        "[bwa_index] Construct BWT for the packed sequence..."
       ]
      }, 
      {
       "output_type": "stream", 
       "stream": "stdout", 
       "text": [
        "[bwa_index] 0.09 seconds elapse.", 
        "[bwa_index] Update BWT... 0.00 sec", 
        "[bwa_index] Pack forward-only FASTA... "
       ]
      }, 
      {
       "output_type": "stream", 
       "stream": "stdout", 
       "text": [
        "0.01 sec", 
        "[bwa_index] Construct SA from BWT and Occ... 0.04 sec", 
        "[main] Version: 0.6.2-r126", 
        "[main] CMD: bwa index /Users/brant/code/AFS/agouti-mc1r.masked.fasta", 
        "[main] Real time: 0.159 sec; CPU: 0.156 sec", 
        "[bwa_aln] 17bp reads: max_diff = 2", 
        "[bwa_aln] 38bp reads: max_diff = 3", 
        "[bwa_aln] 64bp reads: max_diff = 4", 
        "[bwa_aln] 93bp reads: max_diff = 5", 
        "[bwa_aln] 124bp reads: max_diff = 6", 
        "[bwa_aln] 157bp reads: max_diff = 7", 
        "[bwa_aln] 190bp reads: max_diff = 8", 
        "[bwa_aln] 225bp reads: max_diff = 9"
       ]
      }, 
      {
       "output_type": "stream", 
       "stream": "stdout", 
       "text": [
        "[bwa_aln_core] calculate SA coordinate... "
       ]
      }, 
      {
       "output_type": "stream", 
       "stream": "stdout", 
       "text": [
        "0.29 sec", 
        "[bwa_aln_core] write to the disk... 0.00 sec", 
        "[bwa_aln_core] 6913 sequences have been processed."
       ]
      }, 
      {
       "output_type": "stream", 
       "stream": "stdout", 
       "text": [
        "[main] Version: 0.6.2-r126", 
        "[main] CMD: bwa aln /Users/brant/code/AFS/agouti-mc1r.masked.fasta /Users/brant/code/AFS/sim-20haplos_exp-dist_theta0.05_8xCov/sim-reads/sim3a_s_1_1_sequence.txt", 
        "[main] Real time: 0.401 sec; CPU: 0.385 sec", 
        "[bwa_aln] 17bp reads: max_diff = 2", 
        "[bwa_aln] 38bp reads: max_diff = 3", 
        "[bwa_aln] 64bp reads: max_diff = 4", 
        "[bwa_aln] 93bp reads: max_diff = 5", 
        "[bwa_aln] 124bp reads: max_diff = 6", 
        "[bwa_aln] 157bp reads: max_diff = 7", 
        "[bwa_aln] 190bp reads: max_diff = 8", 
        "[bwa_aln] 225bp reads: max_diff = 9"
       ]
      }, 
      {
       "output_type": "stream", 
       "stream": "stdout", 
       "text": [
        "[bwa_aln_core] calculate SA coordinate... "
       ]
      }, 
      {
       "output_type": "stream", 
       "stream": "stdout", 
       "text": [
        "0.31 sec", 
        "[bwa_aln_core] write to the disk... 0.00 sec"
       ]
      }, 
      {
       "output_type": "stream", 
       "stream": "stdout", 
       "text": [
        "[bwa_aln_core] 6913 sequences have been processed."
       ]
      }, 
      {
       "output_type": "stream", 
       "stream": "stdout", 
       "text": [
        "[main] Version: 0.6.2-r126", 
        "[main] CMD: bwa aln /Users/brant/code/AFS/agouti-mc1r.masked.fasta /Users/brant/code/AFS/sim-20haplos_exp-dist_theta0.05_8xCov/sim-reads/sim3a_s_1_2_sequence.txt", 
        "[main] Real time: 0.450 sec; CPU: 0.401 sec"
       ]
      }, 
      {
       "output_type": "stream", 
       "stream": "stdout", 
       "text": [
        "[bwa_sai2sam_pe_core] convert to sequence coordinate... ", 
        "[infer_isize] (25, 50, 75) percentile: (187, 200, 214)", 
        "[infer_isize] low and high boundaries: 133 and 268 for estimating avg and std", 
        "[infer_isize] inferred external isize from 2614 pairs: 199.821 +/- 20.074", 
        "[infer_isize] skewness: -0.004; kurtosis: -0.049; ap_prior: 1.00e-05", 
        "[infer_isize] inferred maximum insert size: 313 (5.63 sigma)"
       ]
      }, 
      {
       "output_type": "stream", 
       "stream": "stdout", 
       "text": [
        "[bwa_sai2sam_pe_core] time elapses: 0.04 sec", 
        "[bwa_sai2sam_pe_core] changing coordinates of 34 alignments.", 
        "[bwa_sai2sam_pe_core] align unmapped mate..."
       ]
      }, 
      {
       "output_type": "stream", 
       "stream": "stdout", 
       "text": [
        "[bwa_paired_sw] 896 out of 1325 Q17 singletons are mated.", 
        "[bwa_paired_sw] 0 out of 1 Q17 discordant pairs are fixed.", 
        "[bwa_sai2sam_pe_core] time elapses: 0.31 sec", 
        "[bwa_sai2sam_pe_core] refine gapped alignments... 0.01 sec", 
        "[bwa_sai2sam_pe_core] print alignments... [samopen] SAM header is present: 2 sequences."
       ]
      }, 
      {
       "output_type": "stream", 
       "stream": "stdout", 
       "text": [
        "0.05 sec", 
        "[bwa_sai2sam_pe_core] 6913 sequences have been processed."
       ]
      }, 
      {
       "output_type": "stream", 
       "stream": "stdout", 
       "text": [
        "[main] Version: 0.6.2-r126", 
        "[main] CMD: bwa sampe /Users/brant/code/AFS/agouti-mc1r.masked.fasta /Users/brant/code/AFS/sim-20haplos_exp-dist_theta0.05_8xCov/sim-reads/sim3a_s_1_1_sequence.txt.sai /Users/brant/code/AFS/sim-20haplos_exp-dist_theta0.05_8xCov/sim-reads/sim3a_s_1_2_sequence.txt.sai /Users/brant/code/AFS/sim-20haplos_exp-dist_theta0.05_8xCov/sim-reads/sim3a_s_1_1_sequence.txt /Users/brant/code/AFS/sim-20haplos_exp-dist_theta0.05_8xCov/sim-reads/sim3a_s_1_2_sequence.txt", 
        "[main] Real time: 0.840 sec; CPU: 0.518 sec"
       ]
      }, 
      {
       "output_type": "stream", 
       "stream": "stdout", 
       "text": [
        "[Tue Jul 24 04:13:06 EDT 2012] net.sf.picard.sam.AddOrReplaceReadGroups INPUT=/Users/brant/code/AFS/sim-20haplos_exp-dist_theta0.05_8xCov/sim-reads/sim3a-aln.sorted.bam OUTPUT=/Users/brant/code/AFS/sim-20haplos_exp-dist_theta0.05_8xCov/sim-reads/sim3a-aln.sorted.rg.bam RGID=/Users/brant/code/AFS/sim-20haplos_exp-dist_theta0.05_8xCov/sim-reads/sim3a RGLB=lane1_/Users/brant/code/AFS/sim-20haplos_exp-dist_theta0.05_8xCov/sim-reads/sim3a RGPL=illumina RGPU=lane1 RGSM=sim3    VERBOSITY=INFO QUIET=false VALIDATION_STRINGENCY=STRICT COMPRESSION_LEVEL=5 MAX_RECORDS_IN_RAM=500000 CREATE_INDEX=false CREATE_MD5_FILE=false", 
        "[Tue Jul 24 04:13:06 EDT 2012] Executing as brant@gottuminum.local on Mac OS X 10.7.4 x86_64; Java HotSpot(TM) 64-Bit Server VM 1.6.0_33-b03-424-11M3720; Picard version: 1.73(1234)", 
        "INFO\t"
       ]
      }, 
      {
       "output_type": "stream", 
       "stream": "stdout", 
       "text": [
        "2012-07-24 04:13:06\tAddOrReplaceReadGroups\tCreated read group ID=/Users/brant/code/AFS/sim-20haplos_exp-dist_theta0.05_8xCov/sim-reads/sim3a PL=illumina LB=lane1_/Users/brant/code/AFS/sim-20haplos_exp-dist_theta0.05_8xCov/sim-reads/sim3a SM=sim3", 
        ""
       ]
      }, 
      {
       "output_type": "stream", 
       "stream": "stdout", 
       "text": [
        "[Tue Jul 24 04:13:08 EDT 2012] net.sf.picard.sam.AddOrReplaceReadGroups done. Elapsed time: 0.02 minutes.", 
        "Runtime.totalMemory()=85000192"
       ]
      }, 
      {
       "output_type": "stream", 
       "stream": "stdout", 
       "text": [
        "[Tue Jul 24 04:13:10 EDT 2012] net.sf.picard.sam.CreateSequenceDictionary REFERENCE=/Users/brant/code/AFS/sim-20haplos_exp-dist_theta0.05_8xCov/hap7_agouti-mc1r.fa OUTPUT=/Users/brant/code/AFS/sim-20haplos_exp-dist_theta0.05_8xCov/hap7_agouti-mc1r.dict    TRUNCATE_NAMES_AT_WHITESPACE=true NUM_SEQUENCES=2147483647 VERBOSITY=INFO QUIET=false VALIDATION_STRINGENCY=STRICT COMPRESSION_LEVEL=5 MAX_RECORDS_IN_RAM=500000 CREATE_INDEX=false CREATE_MD5_FILE=false", 
        "[Tue Jul 24 04:13:10 EDT 2012] Executing as brant@gottuminum.local on Mac OS X 10.7.4 x86_64; Java HotSpot(TM) 64-Bit Server VM 1.6.0_33-b03-424-11M3720; Picard version: 1.73(1234)"
       ]
      }, 
      {
       "output_type": "stream", 
       "stream": "stdout", 
       "text": [
        "[Tue Jul 24 04:13:10 EDT 2012] net.sf.picard.sam.CreateSequenceDictionary done. Elapsed time: 0.00 minutes.", 
        "Runtime.totalMemory()=85000192"
       ]
      }, 
      {
       "output_type": "stream", 
       "stream": "stdout", 
       "text": [
        "[samopen] SAM header is present: 2 sequences."
       ]
      }, 
      {
       "output_type": "stream", 
       "stream": "stdout", 
       "text": [
        "[Tue Jul 24 04:13:12 EDT 2012] net.sf.picard.sam.SamToFastq INPUT=/Users/brant/code/AFS/sim-20haplos_exp-dist_theta0.05_8xCov/sim-reads/sim3b-simreads.sorted.bam FASTQ=/Users/brant/code/AFS/sim-20haplos_exp-dist_theta0.05_8xCov/sim-reads/sim3b_s_1_1_sequence.txt SECOND_END_FASTQ=/Users/brant/code/AFS/sim-20haplos_exp-dist_theta0.05_8xCov/sim-reads/sim3b_s_1_2_sequence.txt INCLUDE_NON_PF_READS=true VALIDATION_STRINGENCY=SILENT    OUTPUT_PER_RG=false RE_REVERSE=true READ1_TRIM=0 READ2_TRIM=0 INCLUDE_NON_PRIMARY_ALIGNMENTS=false VERBOSITY=INFO QUIET=false COMPRESSION_LEVEL=5 MAX_RECORDS_IN_RAM=500000 CREATE_INDEX=false CREATE_MD5_FILE=false", 
        "[Tue Jul 24 04:13:12 EDT 2012] Executing as brant@gottuminum.local on Mac OS X 10.7.4 x86_64; Java HotSpot(TM) 64-Bit Server VM 1.6.0_33-b03-424-11M3720; Picard version: 1.73(1234)"
       ]
      }, 
      {
       "output_type": "stream", 
       "stream": "stdout", 
       "text": [
        "[Tue Jul 24 04:13:14 EDT 2012] net.sf.picard.sam.SamToFastq done. Elapsed time: 0.03 minutes.", 
        "Runtime.totalMemory()=85000192"
       ]
      }, 
      {
       "output_type": "stream", 
       "stream": "stdout", 
       "text": [
        "", 
        "/Users/brant/code/AFS/sim-20haplos_exp-dist_theta0.05_8xCov/sim-reads/sim3b_s_1_1_sequence.txt /Users/brant/code/AFS/sim-20haplos_exp-dist_theta0.05_8xCov/sim-reads/sim3b_s_1_2_sequence.txt created", 
        "[bwa_index] Pack FASTA... 0.01 sec", 
        "[bwa_index] Construct BWT for the packed sequence..."
       ]
      }, 
      {
       "output_type": "stream", 
       "stream": "stdout", 
       "text": [
        "[bwa_index] 0.10 seconds elapse.", 
        "[bwa_index] Update BWT... 0.00 sec", 
        "[bwa_index] Pack forward-only FASTA... 0.01 sec", 
        "[bwa_index] Construct SA from BWT and Occ... "
       ]
      }, 
      {
       "output_type": "stream", 
       "stream": "stdout", 
       "text": [
        "0.04 sec", 
        "[main] Version: 0.6.2-r126", 
        "[main] CMD: bwa index /Users/brant/code/AFS/agouti-mc1r.masked.fasta", 
        "[main] Real time: 0.165 sec; CPU: 0.160 sec", 
        "[bwa_aln] 17bp reads: max_diff = 2", 
        "[bwa_aln] 38bp reads: max_diff = 3", 
        "[bwa_aln] 64bp reads: max_diff = 4", 
        "[bwa_aln] 93bp reads: max_diff = 5", 
        "[bwa_aln] 124bp reads: max_diff = 6", 
        "[bwa_aln] 157bp reads: max_diff = 7", 
        "[bwa_aln] 190bp reads: max_diff = 8", 
        "[bwa_aln] 225bp reads: max_diff = 9", 
        "[bwa_aln_core] calculate SA coordinate... "
       ]
      }, 
      {
       "output_type": "stream", 
       "stream": "stdout", 
       "text": [
        "0.30 sec", 
        "[bwa_aln_core] write to the disk... 0.00 sec", 
        "[bwa_aln_core] 6913 sequences have been processed."
       ]
      }, 
      {
       "output_type": "stream", 
       "stream": "stdout", 
       "text": [
        "[main] Version: 0.6.2-r126", 
        "[main] CMD: bwa aln /Users/brant/code/AFS/agouti-mc1r.masked.fasta /Users/brant/code/AFS/sim-20haplos_exp-dist_theta0.05_8xCov/sim-reads/sim3b_s_1_1_sequence.txt", 
        "[main] Real time: 0.397 sec; CPU: 0.392 sec", 
        "[bwa_aln] 17bp reads: max_diff = 2", 
        "[bwa_aln] 38bp reads: max_diff = 3", 
        "[bwa_aln] 64bp reads: max_diff = 4", 
        "[bwa_aln] 93bp reads: max_diff = 5", 
        "[bwa_aln] 124bp reads: max_diff = 6", 
        "[bwa_aln] 157bp reads: max_diff = 7", 
        "[bwa_aln] 190bp reads: max_diff = 8", 
        "[bwa_aln] 225bp reads: max_diff = 9", 
        "[bwa_aln_core] calculate SA coordinate... "
       ]
      }, 
      {
       "output_type": "stream", 
       "stream": "stdout", 
       "text": [
        "0.30 sec", 
        "[bwa_aln_core] write to the disk... "
       ]
      }, 
      {
       "output_type": "stream", 
       "stream": "stdout", 
       "text": [
        "0.00 sec", 
        "[bwa_aln_core] 6913 sequences have been processed."
       ]
      }, 
      {
       "output_type": "stream", 
       "stream": "stdout", 
       "text": [
        "[main] Version: 0.6.2-r126", 
        "[main] CMD: bwa aln /Users/brant/code/AFS/agouti-mc1r.masked.fasta /Users/brant/code/AFS/sim-20haplos_exp-dist_theta0.05_8xCov/sim-reads/sim3b_s_1_2_sequence.txt", 
        "[main] Real time: 0.418 sec; CPU: 0.396 sec"
       ]
      }, 
      {
       "output_type": "stream", 
       "stream": "stdout", 
       "text": [
        "[bwa_sai2sam_pe_core] convert to sequence coordinate... ", 
        "[infer_isize] (25, 50, 75) percentile: (186, 200, 212)", 
        "[infer_isize] low and high boundaries: 134 and 264 for estimating avg and std", 
        "[infer_isize] inferred external isize from 2578 pairs: 199.278 +/- 19.291", 
        "[infer_isize] skewness: 0.012; kurtosis: -0.107; ap_prior: 1.00e-05", 
        "[infer_isize] inferred maximum insert size: 308 (5.64 sigma)"
       ]
      }, 
      {
       "output_type": "stream", 
       "stream": "stdout", 
       "text": [
        "[bwa_sai2sam_pe_core] time elapses: 0.04 sec", 
        "[bwa_sai2sam_pe_core] changing coordinates of 21 alignments.", 
        "[bwa_sai2sam_pe_core] align unmapped mate..."
       ]
      }, 
      {
       "output_type": "stream", 
       "stream": "stdout", 
       "text": [
        "[bwa_paired_sw] 887 out of 1294 Q17 singletons are mated.", 
        "[bwa_paired_sw] 1 out of 1 Q17 discordant pairs are fixed.", 
        "[bwa_sai2sam_pe_core] time elapses: 0.30 sec", 
        "[bwa_sai2sam_pe_core] refine gapped alignments... "
       ]
      }, 
      {
       "output_type": "stream", 
       "stream": "stdout", 
       "text": [
        "0.01 sec", 
        "[bwa_sai2sam_pe_core] print alignments... [samopen] SAM header is present: 2 sequences."
       ]
      }, 
      {
       "output_type": "stream", 
       "stream": "stdout", 
       "text": [
        "0.05 sec", 
        "[bwa_sai2sam_pe_core] 6913 sequences have been processed."
       ]
      }, 
      {
       "output_type": "stream", 
       "stream": "stdout", 
       "text": [
        "[main] Version: 0.6.2-r126", 
        "[main] CMD: bwa sampe /Users/brant/code/AFS/agouti-mc1r.masked.fasta /Users/brant/code/AFS/sim-20haplos_exp-dist_theta0.05_8xCov/sim-reads/sim3b_s_1_1_sequence.txt.sai /Users/brant/code/AFS/sim-20haplos_exp-dist_theta0.05_8xCov/sim-reads/sim3b_s_1_2_sequence.txt.sai /Users/brant/code/AFS/sim-20haplos_exp-dist_theta0.05_8xCov/sim-reads/sim3b_s_1_1_sequence.txt /Users/brant/code/AFS/sim-20haplos_exp-dist_theta0.05_8xCov/sim-reads/sim3b_s_1_2_sequence.txt", 
        "[main] Real time: 0.828 sec; CPU: 0.514 sec"
       ]
      }, 
      {
       "output_type": "stream", 
       "stream": "stdout", 
       "text": [
        "[Tue Jul 24 04:13:16 EDT 2012] net.sf.picard.sam.AddOrReplaceReadGroups INPUT=/Users/brant/code/AFS/sim-20haplos_exp-dist_theta0.05_8xCov/sim-reads/sim3b-aln.sorted.bam OUTPUT=/Users/brant/code/AFS/sim-20haplos_exp-dist_theta0.05_8xCov/sim-reads/sim3b-aln.sorted.rg.bam RGID=/Users/brant/code/AFS/sim-20haplos_exp-dist_theta0.05_8xCov/sim-reads/sim3b RGLB=lane1_/Users/brant/code/AFS/sim-20haplos_exp-dist_theta0.05_8xCov/sim-reads/sim3b RGPL=illumina RGPU=lane1 RGSM=sim3    VERBOSITY=INFO QUIET=false VALIDATION_STRINGENCY=STRICT COMPRESSION_LEVEL=5 MAX_RECORDS_IN_RAM=500000 CREATE_INDEX=false CREATE_MD5_FILE=false", 
        "[Tue Jul 24 04:13:16 EDT 2012] Executing as brant@gottuminum.local on Mac OS X 10.7.4 x86_64; Java HotSpot(TM) 64-Bit Server VM 1.6.0_33-b03-424-11M3720; Picard version: 1.73(1234)"
       ]
      }, 
      {
       "output_type": "stream", 
       "stream": "stdout", 
       "text": [
        "INFO\t2012-07-24 04:13:17\tAddOrReplaceReadGroups\tCreated read group ID=/Users/brant/code/AFS/sim-20haplos_exp-dist_theta0.05_8xCov/sim-reads/sim3b PL=illumina LB=lane1_/Users/brant/code/AFS/sim-20haplos_exp-dist_theta0.05_8xCov/sim-reads/sim3b SM=sim3", 
        ""
       ]
      }, 
      {
       "output_type": "stream", 
       "stream": "stdout", 
       "text": [
        "[Tue Jul 24 04:13:18 EDT 2012] net.sf.picard.sam.AddOrReplaceReadGroups done. Elapsed time: 0.03 minutes.", 
        "Runtime.totalMemory()=85000192"
       ]
      }, 
      {
       "output_type": "stream", 
       "stream": "stdout", 
       "text": [
        "[Tue Jul 24 04:13:21 EDT 2012] net.sf.picard.sam.CreateSequenceDictionary REFERENCE=/Users/brant/code/AFS/sim-20haplos_exp-dist_theta0.05_8xCov/hap16_agouti-mc1r.fa OUTPUT=/Users/brant/code/AFS/sim-20haplos_exp-dist_theta0.05_8xCov/hap16_agouti-mc1r.dict    TRUNCATE_NAMES_AT_WHITESPACE=true NUM_SEQUENCES=2147483647 VERBOSITY=INFO QUIET=false VALIDATION_STRINGENCY=STRICT COMPRESSION_LEVEL=5 MAX_RECORDS_IN_RAM=500000 CREATE_INDEX=false CREATE_MD5_FILE=false", 
        "[Tue Jul 24 04:13:21 EDT 2012] Executing as brant@gottuminum.local on Mac OS X 10.7.4 x86_64; Java HotSpot(TM) 64-Bit Server VM 1.6.0_33-b03-424-11M3720; Picard version: 1.73(1234)"
       ]
      }, 
      {
       "output_type": "stream", 
       "stream": "stdout", 
       "text": [
        "[Tue Jul 24 04:13:21 EDT 2012] net.sf.picard.sam.CreateSequenceDictionary done. Elapsed time: 0.00 minutes.", 
        "Runtime.totalMemory()=85000192"
       ]
      }, 
      {
       "output_type": "stream", 
       "stream": "stdout", 
       "text": [
        "[samopen] SAM header is present: 2 sequences."
       ]
      }, 
      {
       "output_type": "stream", 
       "stream": "stdout", 
       "text": [
        "[Tue Jul 24 04:13:22 EDT 2012] net.sf.picard.sam.SamToFastq INPUT=/Users/brant/code/AFS/sim-20haplos_exp-dist_theta0.05_8xCov/sim-reads/sim4a-simreads.sorted.bam FASTQ=/Users/brant/code/AFS/sim-20haplos_exp-dist_theta0.05_8xCov/sim-reads/sim4a_s_1_1_sequence.txt SECOND_END_FASTQ=/Users/brant/code/AFS/sim-20haplos_exp-dist_theta0.05_8xCov/sim-reads/sim4a_s_1_2_sequence.txt INCLUDE_NON_PF_READS=true VALIDATION_STRINGENCY=SILENT    OUTPUT_PER_RG=false RE_REVERSE=true READ1_TRIM=0 READ2_TRIM=0 INCLUDE_NON_PRIMARY_ALIGNMENTS=false VERBOSITY=INFO QUIET=false COMPRESSION_LEVEL=5 MAX_RECORDS_IN_RAM=500000 CREATE_INDEX=false CREATE_MD5_FILE=false"
       ]
      }, 
      {
       "output_type": "stream", 
       "stream": "stdout", 
       "text": [
        "[Tue Jul 24 04:13:22 EDT 2012] Executing as brant@gottuminum.local on Mac OS X 10.7.4 x86_64; Java HotSpot(TM) 64-Bit Server VM 1.6.0_33-b03-424-11M3720; Picard version: 1.73(1234)"
       ]
      }, 
      {
       "output_type": "stream", 
       "stream": "stdout", 
       "text": [
        "[Tue Jul 24 04:13:24 EDT 2012] net.sf.picard.sam.SamToFastq done. Elapsed time: 0.03 minutes.", 
        "Runtime.totalMemory()=85000192", 
        "", 
        "/Users/brant/code/AFS/sim-20haplos_exp-dist_theta0.05_8xCov/sim-reads/sim4a_s_1_1_sequence.txt /Users/brant/code/AFS/sim-20haplos_exp-dist_theta0.05_8xCov/sim-reads/sim4a_s_1_2_sequence.txt created", 
        "[bwa_index] Pack FASTA... 0.01 sec", 
        "[bwa_index] Construct BWT for the packed sequence..."
       ]
      }, 
      {
       "output_type": "stream", 
       "stream": "stdout", 
       "text": [
        "[bwa_index] 0.10 seconds elapse.", 
        "[bwa_index] Update BWT... "
       ]
      }, 
      {
       "output_type": "stream", 
       "stream": "stdout", 
       "text": [
        "0.00 sec", 
        "[bwa_index] Pack forward-only FASTA... 0.01 sec", 
        "[bwa_index] Construct SA from BWT and Occ... "
       ]
      }, 
      {
       "output_type": "stream", 
       "stream": "stdout", 
       "text": [
        "0.04 sec", 
        "[main] Version: 0.6.2-r126", 
        "[main] CMD: bwa index /Users/brant/code/AFS/agouti-mc1r.masked.fasta", 
        "[main] Real time: 0.179 sec; CPU: 0.162 sec", 
        "[bwa_aln] 17bp reads: max_diff = 2", 
        "[bwa_aln] 38bp reads: max_diff = 3", 
        "[bwa_aln] 64bp reads: max_diff = 4", 
        "[bwa_aln] 93bp reads: max_diff = 5", 
        "[bwa_aln] 124bp reads: max_diff = 6", 
        "[bwa_aln] 157bp reads: max_diff = 7", 
        "[bwa_aln] 190bp reads: max_diff = 8", 
        "[bwa_aln] 225bp reads: max_diff = 9", 
        "[bwa_aln_core] calculate SA coordinate... "
       ]
      }, 
      {
       "output_type": "stream", 
       "stream": "stdout", 
       "text": [
        "0.29 sec", 
        "[bwa_aln_core] write to the disk... 0.00 sec", 
        "[bwa_aln_core] 6913 sequences have been processed."
       ]
      }, 
      {
       "output_type": "stream", 
       "stream": "stdout", 
       "text": [
        "[main] Version: 0.6.2-r126", 
        "[main] CMD: bwa aln /Users/brant/code/AFS/agouti-mc1r.masked.fasta /Users/brant/code/AFS/sim-20haplos_exp-dist_theta0.05_8xCov/sim-reads/sim4a_s_1_1_sequence.txt", 
        "[main] Real time: 0.407 sec; CPU: 0.383 sec", 
        "[bwa_aln] 17bp reads: max_diff = 2", 
        "[bwa_aln] 38bp reads: max_diff = 3", 
        "[bwa_aln] 64bp reads: max_diff = 4", 
        "[bwa_aln] 93bp reads: max_diff = 5", 
        "[bwa_aln] 124bp reads: max_diff = 6", 
        "[bwa_aln] 157bp reads: max_diff = 7", 
        "[bwa_aln] 190bp reads: max_diff = 8", 
        "[bwa_aln] 225bp reads: max_diff = 9", 
        "[bwa_aln_core] calculate SA coordinate... "
       ]
      }, 
      {
       "output_type": "stream", 
       "stream": "stdout", 
       "text": [
        "0.30 sec", 
        "[bwa_aln_core] write to the disk... 0.00 sec", 
        "[bwa_aln_core] 6913 sequences have been processed."
       ]
      }, 
      {
       "output_type": "stream", 
       "stream": "stdout", 
       "text": [
        "[main] Version: 0.6.2-r126", 
        "[main] CMD: bwa aln /Users/brant/code/AFS/agouti-mc1r.masked.fasta /Users/brant/code/AFS/sim-20haplos_exp-dist_theta0.05_8xCov/sim-reads/sim4a_s_1_2_sequence.txt", 
        "[main] Real time: 0.430 sec; CPU: 0.406 sec"
       ]
      }, 
      {
       "output_type": "stream", 
       "stream": "stdout", 
       "text": [
        "[bwa_sai2sam_pe_core] convert to sequence coordinate... "
       ]
      }, 
      {
       "output_type": "stream", 
       "stream": "stdout", 
       "text": [
        "[infer_isize] (25, 50, 75) percentile: (186, 199, 211)", 
        "[infer_isize] low and high boundaries: 136 and 261 for estimating avg and std", 
        "[infer_isize] inferred external isize from 2586 pairs: 198.655 +/- 19.453", 
        "[infer_isize] skewness: 0.068; kurtosis: -0.056; ap_prior: 1.00e-05", 
        "[infer_isize] inferred maximum insert size: 308 (5.64 sigma)", 
        "[bwa_sai2sam_pe_core] time elapses: 0.04 sec", 
        "[bwa_sai2sam_pe_core] changing coordinates of 26 alignments.", 
        "[bwa_sai2sam_pe_core] align unmapped mate..."
       ]
      }, 
      {
       "output_type": "stream", 
       "stream": "stdout", 
       "text": [
        "[bwa_paired_sw] 813 out of 1255 Q17 singletons are mated.", 
        "[bwa_paired_sw] 0 out of 0 Q17 discordant pairs are fixed.", 
        "[bwa_sai2sam_pe_core] time elapses: 0.29 sec", 
        "[bwa_sai2sam_pe_core] refine gapped alignments... 0.01 sec", 
        "[bwa_sai2sam_pe_core] print alignments... [samopen] SAM header is present: 2 sequences."
       ]
      }, 
      {
       "output_type": "stream", 
       "stream": "stdout", 
       "text": [
        "0.05 sec", 
        "[bwa_sai2sam_pe_core] 6913 sequences have been processed."
       ]
      }, 
      {
       "output_type": "stream", 
       "stream": "stdout", 
       "text": [
        "[main] Version: 0.6.2-r126", 
        "[main] CMD: bwa sampe /Users/brant/code/AFS/agouti-mc1r.masked.fasta /Users/brant/code/AFS/sim-20haplos_exp-dist_theta0.05_8xCov/sim-reads/sim4a_s_1_1_sequence.txt.sai /Users/brant/code/AFS/sim-20haplos_exp-dist_theta0.05_8xCov/sim-reads/sim4a_s_1_2_sequence.txt.sai /Users/brant/code/AFS/sim-20haplos_exp-dist_theta0.05_8xCov/sim-reads/sim4a_s_1_1_sequence.txt /Users/brant/code/AFS/sim-20haplos_exp-dist_theta0.05_8xCov/sim-reads/sim4a_s_1_2_sequence.txt", 
        "[main] Real time: 0.884 sec; CPU: 0.507 sec"
       ]
      }, 
      {
       "output_type": "stream", 
       "stream": "stdout", 
       "text": [
        "[Tue Jul 24 04:13:27 EDT 2012] net.sf.picard.sam.AddOrReplaceReadGroups INPUT=/Users/brant/code/AFS/sim-20haplos_exp-dist_theta0.05_8xCov/sim-reads/sim4a-aln.sorted.bam OUTPUT=/Users/brant/code/AFS/sim-20haplos_exp-dist_theta0.05_8xCov/sim-reads/sim4a-aln.sorted.rg.bam RGID=/Users/brant/code/AFS/sim-20haplos_exp-dist_theta0.05_8xCov/sim-reads/sim4a RGLB=lane1_/Users/brant/code/AFS/sim-20haplos_exp-dist_theta0.05_8xCov/sim-reads/sim4a RGPL=illumina RGPU=lane1 RGSM=sim4    VERBOSITY=INFO QUIET=false VALIDATION_STRINGENCY=STRICT COMPRESSION_LEVEL=5 MAX_RECORDS_IN_RAM=500000 CREATE_INDEX=false CREATE_MD5_FILE=false", 
        "[Tue Jul 24 04:13:27 EDT 2012] Executing as brant@gottuminum.local on Mac OS X 10.7.4 x86_64; Java HotSpot(TM) 64-Bit Server VM 1.6.0_33-b03-424-11M3720; Picard version: 1.73(1234)"
       ]
      }, 
      {
       "output_type": "stream", 
       "stream": "stdout", 
       "text": [
        "INFO\t2012-07-24 04:13:27\tAddOrReplaceReadGroups\tCreated read group ID=/Users/brant/code/AFS/sim-20haplos_exp-dist_theta0.05_8xCov/sim-reads/sim4a PL=illumina LB=lane1_/Users/brant/code/AFS/sim-20haplos_exp-dist_theta0.05_8xCov/sim-reads/sim4a SM=sim4", 
        ""
       ]
      }, 
      {
       "output_type": "stream", 
       "stream": "stdout", 
       "text": [
        "[Tue Jul 24 04:13:28 EDT 2012] net.sf.picard.sam.AddOrReplaceReadGroups done. Elapsed time: 0.02 minutes.", 
        "Runtime.totalMemory()=85000192"
       ]
      }, 
      {
       "output_type": "stream", 
       "stream": "stdout", 
       "text": [
        "[Tue Jul 24 04:13:31 EDT 2012] net.sf.picard.sam.CreateSequenceDictionary REFERENCE=/Users/brant/code/AFS/sim-20haplos_exp-dist_theta0.05_8xCov/hap0_agouti-mc1r.fa OUTPUT=/Users/brant/code/AFS/sim-20haplos_exp-dist_theta0.05_8xCov/hap0_agouti-mc1r.dict    TRUNCATE_NAMES_AT_WHITESPACE=true NUM_SEQUENCES=2147483647 VERBOSITY=INFO QUIET=false VALIDATION_STRINGENCY=STRICT COMPRESSION_LEVEL=5 MAX_RECORDS_IN_RAM=500000 CREATE_INDEX=false CREATE_MD5_FILE=false"
       ]
      }, 
      {
       "output_type": "stream", 
       "stream": "stdout", 
       "text": [
        "[Tue Jul 24 04:13:31 EDT 2012] Executing as brant@gottuminum.local on Mac OS X 10.7.4 x86_64; Java HotSpot(TM) 64-Bit Server VM 1.6.0_33-b03-424-11M3720; Picard version: 1.73(1234)"
       ]
      }, 
      {
       "output_type": "stream", 
       "stream": "stdout", 
       "text": [
        "[Tue Jul 24 04:13:31 EDT 2012] net.sf.picard.sam.CreateSequenceDictionary done. Elapsed time: 0.00 minutes.", 
        "Runtime.totalMemory()=85000192"
       ]
      }, 
      {
       "output_type": "stream", 
       "stream": "stdout", 
       "text": [
        "[samopen] SAM header is present: 2 sequences."
       ]
      }, 
      {
       "output_type": "stream", 
       "stream": "stdout", 
       "text": [
        "[Tue Jul 24 04:13:32 EDT 2012] net.sf.picard.sam.SamToFastq INPUT=/Users/brant/code/AFS/sim-20haplos_exp-dist_theta0.05_8xCov/sim-reads/sim4b-simreads.sorted.bam FASTQ=/Users/brant/code/AFS/sim-20haplos_exp-dist_theta0.05_8xCov/sim-reads/sim4b_s_1_1_sequence.txt SECOND_END_FASTQ=/Users/brant/code/AFS/sim-20haplos_exp-dist_theta0.05_8xCov/sim-reads/sim4b_s_1_2_sequence.txt INCLUDE_NON_PF_READS=true VALIDATION_STRINGENCY=SILENT    OUTPUT_PER_RG=false RE_REVERSE=true READ1_TRIM=0 READ2_TRIM=0 INCLUDE_NON_PRIMARY_ALIGNMENTS=false VERBOSITY=INFO QUIET=false COMPRESSION_LEVEL=5 MAX_RECORDS_IN_RAM=500000 CREATE_INDEX=false CREATE_MD5_FILE=false"
       ]
      }, 
      {
       "output_type": "stream", 
       "stream": "stdout", 
       "text": [
        "[Tue Jul 24 04:13:32 EDT 2012] Executing as brant@gottuminum.local on Mac OS X 10.7.4 x86_64; Java HotSpot(TM) 64-Bit Server VM 1.6.0_33-b03-424-11M3720; Picard version: 1.73(1234)"
       ]
      }, 
      {
       "output_type": "stream", 
       "stream": "stdout", 
       "text": [
        "[Tue Jul 24 04:13:34 EDT 2012] net.sf.picard.sam.SamToFastq done. Elapsed time: 0.03 minutes.", 
        "Runtime.totalMemory()=85000192"
       ]
      }, 
      {
       "output_type": "stream", 
       "stream": "stdout", 
       "text": [
        "", 
        "/Users/brant/code/AFS/sim-20haplos_exp-dist_theta0.05_8xCov/sim-reads/sim4b_s_1_1_sequence.txt /Users/brant/code/AFS/sim-20haplos_exp-dist_theta0.05_8xCov/sim-reads/sim4b_s_1_2_sequence.txt created", 
        "[bwa_index] Pack FASTA... 0.01 sec", 
        "[bwa_index] Construct BWT for the packed sequence..."
       ]
      }, 
      {
       "output_type": "stream", 
       "stream": "stdout", 
       "text": [
        "[bwa_index] 0.10 seconds elapse.", 
        "[bwa_index] Update BWT... 0.00 sec", 
        "[bwa_index] Pack forward-only FASTA... 0.01 sec", 
        "[bwa_index] Construct SA from BWT and Occ... "
       ]
      }, 
      {
       "output_type": "stream", 
       "stream": "stdout", 
       "text": [
        "0.04 sec", 
        "[main] Version: 0.6.2-r126", 
        "[main] CMD: bwa index /Users/brant/code/AFS/agouti-mc1r.masked.fasta", 
        "[main] Real time: 0.159 sec; CPU: 0.157 sec", 
        "[bwa_aln] 17bp reads: max_diff = 2", 
        "[bwa_aln] 38bp reads: max_diff = 3", 
        "[bwa_aln] 64bp reads: max_diff = 4", 
        "[bwa_aln] 93bp reads: max_diff = 5", 
        "[bwa_aln] 124bp reads: max_diff = 6", 
        "[bwa_aln] 157bp reads: max_diff = 7", 
        "[bwa_aln] 190bp reads: max_diff = 8", 
        "[bwa_aln] 225bp reads: max_diff = 9", 
        "[bwa_aln_core] calculate SA coordinate... "
       ]
      }, 
      {
       "output_type": "stream", 
       "stream": "stdout", 
       "text": [
        "0.30 sec", 
        "[bwa_aln_core] write to the disk... 0.00 sec", 
        "[bwa_aln_core] 6913 sequences have been processed."
       ]
      }, 
      {
       "output_type": "stream", 
       "stream": "stdout", 
       "text": [
        "[main] Version: 0.6.2-r126", 
        "[main] CMD: bwa aln /Users/brant/code/AFS/agouti-mc1r.masked.fasta /Users/brant/code/AFS/sim-20haplos_exp-dist_theta0.05_8xCov/sim-reads/sim4b_s_1_1_sequence.txt", 
        "[main] Real time: 0.394 sec; CPU: 0.388 sec"
       ]
      }, 
      {
       "output_type": "stream", 
       "stream": "stdout", 
       "text": [
        "[bwa_aln] 17bp reads: max_diff = 2", 
        "[bwa_aln] 38bp reads: max_diff = 3", 
        "[bwa_aln] 64bp reads: max_diff = 4", 
        "[bwa_aln] 93bp reads: max_diff = 5", 
        "[bwa_aln] 124bp reads: max_diff = 6", 
        "[bwa_aln] 157bp reads: max_diff = 7", 
        "[bwa_aln] 190bp reads: max_diff = 8", 
        "[bwa_aln] 225bp reads: max_diff = 9", 
        "[bwa_aln_core] calculate SA coordinate... "
       ]
      }, 
      {
       "output_type": "stream", 
       "stream": "stdout", 
       "text": [
        "0.31 sec", 
        "[bwa_aln_core] write to the disk... 0.00 sec"
       ]
      }, 
      {
       "output_type": "stream", 
       "stream": "stdout", 
       "text": [
        "[bwa_aln_core] 6913 sequences have been processed."
       ]
      }, 
      {
       "output_type": "stream", 
       "stream": "stdout", 
       "text": [
        "[main] Version: 0.6.2-r126"
       ]
      }, 
      {
       "output_type": "stream", 
       "stream": "stdout", 
       "text": [
        "[main] CMD: bwa aln /Users/brant/code/AFS/agouti-mc1r.masked.fasta /Users/brant/code/AFS/sim-20haplos_exp-dist_theta0.05_8xCov/sim-reads/sim4b_s_1_2_sequence.txt", 
        "[main] Real time: 0.444 sec; CPU: 0.407 sec", 
        "[bwa_sai2sam_pe_core] convert to sequence coordinate... "
       ]
      }, 
      {
       "output_type": "stream", 
       "stream": "stdout", 
       "text": [
        "[infer_isize] (25, 50, 75) percentile: (186, 200, 212)", 
        "[infer_isize] low and high boundaries: 134 and 264 for estimating avg and std", 
        "[infer_isize] inferred external isize from 2521 pairs: 199.230 +/- 19.280", 
        "[infer_isize] skewness: -0.007; kurtosis: 0.041; ap_prior: 1.19e-05", 
        "[infer_isize] inferred maximum insert size: 308 (5.64 sigma)", 
        "[bwa_sai2sam_pe_core] time elapses: 0.04 sec", 
        "[bwa_sai2sam_pe_core] changing coordinates of 30 alignments.", 
        "[bwa_sai2sam_pe_core] align unmapped mate..."
       ]
      }, 
      {
       "output_type": "stream", 
       "stream": "stdout", 
       "text": [
        "[bwa_paired_sw] 878 out of 1284 Q17 singletons are mated.", 
        "[bwa_paired_sw] 1 out of 3 Q17 discordant pairs are fixed.", 
        "[bwa_sai2sam_pe_core] time elapses: 0.30 sec", 
        "[bwa_sai2sam_pe_core] refine gapped alignments... 0.01 sec", 
        "[bwa_sai2sam_pe_core] print alignments... [samopen] SAM header is present: 2 sequences."
       ]
      }, 
      {
       "output_type": "stream", 
       "stream": "stdout", 
       "text": [
        "0.04 sec", 
        "[bwa_sai2sam_pe_core] 6913 sequences have been processed."
       ]
      }, 
      {
       "output_type": "stream", 
       "stream": "stdout", 
       "text": [
        "[main] Version: 0.6.2-r126", 
        "[main] CMD: bwa sampe /Users/brant/code/AFS/agouti-mc1r.masked.fasta /Users/brant/code/AFS/sim-20haplos_exp-dist_theta0.05_8xCov/sim-reads/sim4b_s_1_1_sequence.txt.sai /Users/brant/code/AFS/sim-20haplos_exp-dist_theta0.05_8xCov/sim-reads/sim4b_s_1_2_sequence.txt.sai /Users/brant/code/AFS/sim-20haplos_exp-dist_theta0.05_8xCov/sim-reads/sim4b_s_1_1_sequence.txt /Users/brant/code/AFS/sim-20haplos_exp-dist_theta0.05_8xCov/sim-reads/sim4b_s_1_2_sequence.txt", 
        "[main] Real time: 0.800 sec; CPU: 0.509 sec"
       ]
      }, 
      {
       "output_type": "stream", 
       "stream": "stdout", 
       "text": [
        "[Tue Jul 24 04:13:37 EDT 2012] net.sf.picard.sam.AddOrReplaceReadGroups INPUT=/Users/brant/code/AFS/sim-20haplos_exp-dist_theta0.05_8xCov/sim-reads/sim4b-aln.sorted.bam OUTPUT=/Users/brant/code/AFS/sim-20haplos_exp-dist_theta0.05_8xCov/sim-reads/sim4b-aln.sorted.rg.bam RGID=/Users/brant/code/AFS/sim-20haplos_exp-dist_theta0.05_8xCov/sim-reads/sim4b RGLB=lane1_/Users/brant/code/AFS/sim-20haplos_exp-dist_theta0.05_8xCov/sim-reads/sim4b RGPL=illumina RGPU=lane1 RGSM=sim4    VERBOSITY=INFO QUIET=false VALIDATION_STRINGENCY=STRICT COMPRESSION_LEVEL=5 MAX_RECORDS_IN_RAM=500000 CREATE_INDEX=false CREATE_MD5_FILE=false"
       ]
      }, 
      {
       "output_type": "stream", 
       "stream": "stdout", 
       "text": [
        "[Tue Jul 24 04:13:37 EDT 2012] Executing as brant@gottuminum.local on Mac OS X 10.7.4 x86_64; Java HotSpot(TM) 64-Bit Server VM 1.6.0_33-b03-424-11M3720; Picard version: 1.73(1234)", 
        "INFO\t2012-07-24 04:13:37\tAddOrReplaceReadGroups\tCreated read group ID=/Users/brant/code/AFS/sim-20haplos_exp-dist_theta0.05_8xCov/sim-reads/sim4b PL=illumina LB=lane1_/Users/brant/code/AFS/sim-20haplos_exp-dist_theta0.05_8xCov/sim-reads/sim4b SM=sim4", 
        ""
       ]
      }, 
      {
       "output_type": "stream", 
       "stream": "stdout", 
       "text": [
        "[Tue Jul 24 04:13:38 EDT 2012] net.sf.picard.sam.AddOrReplaceReadGroups done. Elapsed time: 0.02 minutes.", 
        "Runtime.totalMemory()=85000192"
       ]
      }, 
      {
       "output_type": "stream", 
       "stream": "stdout", 
       "text": [
        "[Tue Jul 24 04:13:41 EDT 2012] net.sf.picard.sam.CreateSequenceDictionary REFERENCE=/Users/brant/code/AFS/sim-20haplos_exp-dist_theta0.05_8xCov/hap10_agouti-mc1r.fa OUTPUT=/Users/brant/code/AFS/sim-20haplos_exp-dist_theta0.05_8xCov/hap10_agouti-mc1r.dict    TRUNCATE_NAMES_AT_WHITESPACE=true NUM_SEQUENCES=2147483647 VERBOSITY=INFO QUIET=false VALIDATION_STRINGENCY=STRICT COMPRESSION_LEVEL=5 MAX_RECORDS_IN_RAM=500000 CREATE_INDEX=false CREATE_MD5_FILE=false", 
        "[Tue Jul 24 04:13:41 EDT 2012] Executing as brant@gottuminum.local on Mac OS X 10.7.4 x86_64; Java HotSpot(TM) 64-Bit Server VM 1.6.0_33-b03-424-11M3720; Picard version: 1.73(1234)"
       ]
      }, 
      {
       "output_type": "stream", 
       "stream": "stdout", 
       "text": [
        "[Tue Jul 24 04:13:41 EDT 2012] net.sf.picard.sam.CreateSequenceDictionary done. Elapsed time: 0.00 minutes.", 
        "Runtime.totalMemory()=85000192"
       ]
      }, 
      {
       "output_type": "stream", 
       "stream": "stdout", 
       "text": [
        "[samopen] SAM header is present: 2 sequences."
       ]
      }, 
      {
       "output_type": "stream", 
       "stream": "stdout", 
       "text": [
        "[Tue Jul 24 04:13:42 EDT 2012] net.sf.picard.sam.SamToFastq INPUT=/Users/brant/code/AFS/sim-20haplos_exp-dist_theta0.05_8xCov/sim-reads/sim5a-simreads.sorted.bam FASTQ=/Users/brant/code/AFS/sim-20haplos_exp-dist_theta0.05_8xCov/sim-reads/sim5a_s_1_1_sequence.txt SECOND_END_FASTQ=/Users/brant/code/AFS/sim-20haplos_exp-dist_theta0.05_8xCov/sim-reads/sim5a_s_1_2_sequence.txt INCLUDE_NON_PF_READS=true VALIDATION_STRINGENCY=SILENT    OUTPUT_PER_RG=false RE_REVERSE=true READ1_TRIM=0 READ2_TRIM=0 INCLUDE_NON_PRIMARY_ALIGNMENTS=false VERBOSITY=INFO QUIET=false COMPRESSION_LEVEL=5 MAX_RECORDS_IN_RAM=500000 CREATE_INDEX=false CREATE_MD5_FILE=false"
       ]
      }, 
      {
       "output_type": "stream", 
       "stream": "stdout", 
       "text": [
        "[Tue Jul 24 04:13:42 EDT 2012] Executing as brant@gottuminum.local on Mac OS X 10.7.4 x86_64; Java HotSpot(TM) 64-Bit Server VM 1.6.0_33-b03-424-11M3720; Picard version: 1.73(1234)"
       ]
      }, 
      {
       "output_type": "stream", 
       "stream": "stdout", 
       "text": [
        "[Tue Jul 24 04:13:44 EDT 2012] net.sf.picard.sam.SamToFastq done. Elapsed time: 0.03 minutes.", 
        "Runtime.totalMemory()=85000192", 
        "", 
        "/Users/brant/code/AFS/sim-20haplos_exp-dist_theta0.05_8xCov/sim-reads/sim5a_s_1_1_sequence.txt /Users/brant/code/AFS/sim-20haplos_exp-dist_theta0.05_8xCov/sim-reads/sim5a_s_1_2_sequence.txt created", 
        "[bwa_index] Pack FASTA... 0.01 sec", 
        "[bwa_index] Construct BWT for the packed sequence..."
       ]
      }, 
      {
       "output_type": "stream", 
       "stream": "stdout", 
       "text": [
        "[bwa_index] 0.11 seconds elapse.", 
        "[bwa_index] Update BWT... 0.00 sec", 
        "[bwa_index] Pack forward-only FASTA... 0.01 sec", 
        "[bwa_index] Construct SA from BWT and Occ... "
       ]
      }, 
      {
       "output_type": "stream", 
       "stream": "stdout", 
       "text": [
        "0.04 sec", 
        "[main] Version: 0.6.2-r126", 
        "[main] CMD: bwa index /Users/brant/code/AFS/agouti-mc1r.masked.fasta", 
        "[main] Real time: 0.185 sec; CPU: 0.173 sec", 
        "[bwa_aln] 17bp reads: max_diff = 2", 
        "[bwa_aln] 38bp reads: max_diff = 3", 
        "[bwa_aln] 64bp reads: max_diff = 4", 
        "[bwa_aln] 93bp reads: max_diff = 5", 
        "[bwa_aln] 124bp reads: max_diff = 6", 
        "[bwa_aln] 157bp reads: max_diff = 7", 
        "[bwa_aln] 190bp reads: max_diff = 8", 
        "[bwa_aln] 225bp reads: max_diff = 9", 
        "[bwa_aln_core] calculate SA coordinate... "
       ]
      }, 
      {
       "output_type": "stream", 
       "stream": "stdout", 
       "text": [
        "0.30 sec", 
        "[bwa_aln_core] write to the disk... 0.00 sec", 
        "[bwa_aln_core] 6913 sequences have been processed."
       ]
      }, 
      {
       "output_type": "stream", 
       "stream": "stdout", 
       "text": [
        "[main] Version: 0.6.2-r126", 
        "[main] CMD: bwa aln /Users/brant/code/AFS/agouti-mc1r.masked.fasta /Users/brant/code/AFS/sim-20haplos_exp-dist_theta0.05_8xCov/sim-reads/sim5a_s_1_1_sequence.txt", 
        "[main] Real time: 0.433 sec; CPU: 0.400 sec"
       ]
      }, 
      {
       "output_type": "stream", 
       "stream": "stdout", 
       "text": [
        "[bwa_aln] 17bp reads: max_diff = 2", 
        "[bwa_aln] 38bp reads: max_diff = 3", 
        "[bwa_aln] 64bp reads: max_diff = 4", 
        "[bwa_aln] 93bp reads: max_diff = 5", 
        "[bwa_aln] 124bp reads: max_diff = 6", 
        "[bwa_aln] 157bp reads: max_diff = 7", 
        "[bwa_aln] 190bp reads: max_diff = 8", 
        "[bwa_aln] 225bp reads: max_diff = 9"
       ]
      }, 
      {
       "output_type": "stream", 
       "stream": "stdout", 
       "text": [
        "[bwa_aln_core] calculate SA coordinate... "
       ]
      }, 
      {
       "output_type": "stream", 
       "stream": "stdout", 
       "text": [
        "0.30 sec", 
        "[bwa_aln_core] write to the disk... 0.00 sec", 
        "[bwa_aln_core] 6913 sequences have been processed."
       ]
      }, 
      {
       "output_type": "stream", 
       "stream": "stdout", 
       "text": [
        "[main] Version: 0.6.2-r126", 
        "[main] CMD: bwa aln /Users/brant/code/AFS/agouti-mc1r.masked.fasta /Users/brant/code/AFS/sim-20haplos_exp-dist_theta0.05_8xCov/sim-reads/sim5a_s_1_2_sequence.txt", 
        "[main] Real time: 0.447 sec; CPU: 0.398 sec"
       ]
      }, 
      {
       "output_type": "stream", 
       "stream": "stdout", 
       "text": [
        "[bwa_sai2sam_pe_core] convert to sequence coordinate... ", 
        "[infer_isize] (25, 50, 75) percentile: (186, 200, 212)", 
        "[infer_isize] low and high boundaries: 134 and 264 for estimating avg and std", 
        "[infer_isize] inferred external isize from 2566 pairs: 198.973 +/- 19.349", 
        "[infer_isize] skewness: 0.012; kurtosis: 0.052; ap_prior: 1.95e-05", 
        "[infer_isize] inferred maximum insert size: 308 (5.64 sigma)", 
        "[bwa_sai2sam_pe_core] time elapses: 0.04 sec", 
        "[bwa_sai2sam_pe_core] changing coordinates of 27 alignments.", 
        "[bwa_sai2sam_pe_core] align unmapped mate..."
       ]
      }, 
      {
       "output_type": "stream", 
       "stream": "stdout", 
       "text": [
        "[bwa_paired_sw] 839 out of 1242 Q17 singletons are mated.", 
        "[bwa_paired_sw] 2 out of 5 Q17 discordant pairs are fixed.", 
        "[bwa_sai2sam_pe_core] time elapses: 0.29 sec", 
        "[bwa_sai2sam_pe_core] refine gapped alignments... "
       ]
      }, 
      {
       "output_type": "stream", 
       "stream": "stdout", 
       "text": [
        "0.01 sec", 
        "[bwa_sai2sam_pe_core] print alignments... [samopen] SAM header is present: 2 sequences."
       ]
      }, 
      {
       "output_type": "stream", 
       "stream": "stdout", 
       "text": [
        "0.04 sec", 
        "[bwa_sai2sam_pe_core] 6913 sequences have been processed."
       ]
      }, 
      {
       "output_type": "stream", 
       "stream": "stdout", 
       "text": [
        "[main] Version: 0.6.2-r126", 
        "[main] CMD: bwa sampe /Users/brant/code/AFS/agouti-mc1r.masked.fasta /Users/brant/code/AFS/sim-20haplos_exp-dist_theta0.05_8xCov/sim-reads/sim5a_s_1_1_sequence.txt.sai /Users/brant/code/AFS/sim-20haplos_exp-dist_theta0.05_8xCov/sim-reads/sim5a_s_1_2_sequence.txt.sai /Users/brant/code/AFS/sim-20haplos_exp-dist_theta0.05_8xCov/sim-reads/sim5a_s_1_1_sequence.txt /Users/brant/code/AFS/sim-20haplos_exp-dist_theta0.05_8xCov/sim-reads/sim5a_s_1_2_sequence.txt", 
        "[main] Real time: 0.801 sec; CPU: 0.511 sec"
       ]
      }, 
      {
       "output_type": "stream", 
       "stream": "stdout", 
       "text": [
        "[Tue Jul 24 04:13:47 EDT 2012] net.sf.picard.sam.AddOrReplaceReadGroups INPUT=/Users/brant/code/AFS/sim-20haplos_exp-dist_theta0.05_8xCov/sim-reads/sim5a-aln.sorted.bam OUTPUT=/Users/brant/code/AFS/sim-20haplos_exp-dist_theta0.05_8xCov/sim-reads/sim5a-aln.sorted.rg.bam RGID=/Users/brant/code/AFS/sim-20haplos_exp-dist_theta0.05_8xCov/sim-reads/sim5a RGLB=lane1_/Users/brant/code/AFS/sim-20haplos_exp-dist_theta0.05_8xCov/sim-reads/sim5a RGPL=illumina RGPU=lane1 RGSM=sim5    VERBOSITY=INFO QUIET=false VALIDATION_STRINGENCY=STRICT COMPRESSION_LEVEL=5 MAX_RECORDS_IN_RAM=500000 CREATE_INDEX=false CREATE_MD5_FILE=false", 
        "[Tue Jul 24 04:13:47 EDT 2012] Executing as brant@gottuminum.local on Mac OS X 10.7.4 x86_64; Java HotSpot(TM) 64-Bit Server VM 1.6.0_33-b03-424-11M3720; Picard version: 1.73(1234)"
       ]
      }, 
      {
       "output_type": "stream", 
       "stream": "stdout", 
       "text": [
        "INFO\t2012-07-24 04:13:47\tAddOrReplaceReadGroups\tCreated read group ID=/Users/brant/code/AFS/sim-20haplos_exp-dist_theta0.05_8xCov/sim-reads/sim5a PL=illumina LB=lane1_/Users/brant/code/AFS/sim-20haplos_exp-dist_theta0.05_8xCov/sim-reads/sim5a SM=sim5", 
        ""
       ]
      }, 
      {
       "output_type": "stream", 
       "stream": "stdout", 
       "text": [
        "[Tue Jul 24 04:13:48 EDT 2012] net.sf.picard.sam.AddOrReplaceReadGroups done. Elapsed time: 0.02 minutes.", 
        "Runtime.totalMemory()=85000192"
       ]
      }, 
      {
       "output_type": "stream", 
       "stream": "stdout", 
       "text": [
        "[Tue Jul 24 04:13:51 EDT 2012] net.sf.picard.sam.CreateSequenceDictionary REFERENCE=/Users/brant/code/AFS/sim-20haplos_exp-dist_theta0.05_8xCov/hap14_agouti-mc1r.fa OUTPUT=/Users/brant/code/AFS/sim-20haplos_exp-dist_theta0.05_8xCov/hap14_agouti-mc1r.dict    TRUNCATE_NAMES_AT_WHITESPACE=true NUM_SEQUENCES=2147483647 VERBOSITY=INFO QUIET=false VALIDATION_STRINGENCY=STRICT COMPRESSION_LEVEL=5 MAX_RECORDS_IN_RAM=500000 CREATE_INDEX=false CREATE_MD5_FILE=false", 
        "[Tue Jul 24 04:13:51 EDT 2012] Executing as brant@gottuminum.local on Mac OS X 10.7.4 x86_64; Java HotSpot(TM) 64-Bit Server VM 1.6.0_33-b03-424-11M3720; Picard version: 1.73(1234)"
       ]
      }, 
      {
       "output_type": "stream", 
       "stream": "stdout", 
       "text": [
        "[Tue Jul 24 04:13:51 EDT 2012] net.sf.picard.sam.CreateSequenceDictionary done. Elapsed time: 0.00 minutes.", 
        "Runtime.totalMemory()=85000192"
       ]
      }, 
      {
       "output_type": "stream", 
       "stream": "stdout", 
       "text": [
        "[samopen] SAM header is present: 2 sequences."
       ]
      }, 
      {
       "output_type": "stream", 
       "stream": "stdout", 
       "text": [
        "[Tue Jul 24 04:13:53 EDT 2012] net.sf.picard.sam.SamToFastq INPUT=/Users/brant/code/AFS/sim-20haplos_exp-dist_theta0.05_8xCov/sim-reads/sim5b-simreads.sorted.bam FASTQ=/Users/brant/code/AFS/sim-20haplos_exp-dist_theta0.05_8xCov/sim-reads/sim5b_s_1_1_sequence.txt SECOND_END_FASTQ=/Users/brant/code/AFS/sim-20haplos_exp-dist_theta0.05_8xCov/sim-reads/sim5b_s_1_2_sequence.txt INCLUDE_NON_PF_READS=true VALIDATION_STRINGENCY=SILENT    OUTPUT_PER_RG=false RE_REVERSE=true READ1_TRIM=0 READ2_TRIM=0 INCLUDE_NON_PRIMARY_ALIGNMENTS=false VERBOSITY=INFO QUIET=false COMPRESSION_LEVEL=5 MAX_RECORDS_IN_RAM=500000 CREATE_INDEX=false CREATE_MD5_FILE=false", 
        "[Tue Jul 24 04:13:53 EDT 2012] Executing as brant@gottuminum.local on Mac OS X 10.7.4 x86_64; Java HotSpot(TM) 64-Bit Server VM 1.6.0_33-b03-424-11M3720; Picard version: 1.73(1234)"
       ]
      }, 
      {
       "output_type": "stream", 
       "stream": "stdout", 
       "text": [
        "[Tue Jul 24 04:13:55 EDT 2012] net.sf.picard.sam.SamToFastq done. Elapsed time: 0.03 minutes.", 
        "Runtime.totalMemory()=85000192"
       ]
      }, 
      {
       "output_type": "stream", 
       "stream": "stdout", 
       "text": [
        "", 
        "/Users/brant/code/AFS/sim-20haplos_exp-dist_theta0.05_8xCov/sim-reads/sim5b_s_1_1_sequence.txt /Users/brant/code/AFS/sim-20haplos_exp-dist_theta0.05_8xCov/sim-reads/sim5b_s_1_2_sequence.txt created", 
        "[bwa_index] Pack FASTA... 0.01 sec", 
        "[bwa_index] Construct BWT for the packed sequence..."
       ]
      }, 
      {
       "output_type": "stream", 
       "stream": "stdout", 
       "text": [
        "[bwa_index] 0.11 seconds elapse.", 
        "[bwa_index] Update BWT... 0.00 sec", 
        "[bwa_index] Pack forward-only FASTA... 0.01 sec", 
        "[bwa_index] Construct SA from BWT and Occ... "
       ]
      }, 
      {
       "output_type": "stream", 
       "stream": "stdout", 
       "text": [
        "0.04 sec", 
        "[main] Version: 0.6.2-r126", 
        "[main] CMD: bwa index /Users/brant/code/AFS/agouti-mc1r.masked.fasta", 
        "[main] Real time: 0.181 sec; CPU: 0.171 sec", 
        "[bwa_aln] 17bp reads: max_diff = 2", 
        "[bwa_aln] 38bp reads: max_diff = 3", 
        "[bwa_aln] 64bp reads: max_diff = 4", 
        "[bwa_aln] 93bp reads: max_diff = 5", 
        "[bwa_aln] 124bp reads: max_diff = 6", 
        "[bwa_aln] 157bp reads: max_diff = 7", 
        "[bwa_aln] 190bp reads: max_diff = 8", 
        "[bwa_aln] 225bp reads: max_diff = 9"
       ]
      }, 
      {
       "output_type": "stream", 
       "stream": "stdout", 
       "text": [
        "[bwa_aln_core] calculate SA coordinate... "
       ]
      }, 
      {
       "output_type": "stream", 
       "stream": "stdout", 
       "text": [
        "0.30 sec", 
        "[bwa_aln_core] write to the disk... 0.00 sec", 
        "[bwa_aln_core] 6913 sequences have been processed."
       ]
      }, 
      {
       "output_type": "stream", 
       "stream": "stdout", 
       "text": [
        "[main] Version: 0.6.2-r126", 
        "[main] CMD: bwa aln /Users/brant/code/AFS/agouti-mc1r.masked.fasta /Users/brant/code/AFS/sim-20haplos_exp-dist_theta0.05_8xCov/sim-reads/sim5b_s_1_1_sequence.txt", 
        "[main] Real time: 0.416 sec; CPU: 0.395 sec", 
        "[bwa_aln] 17bp reads: max_diff = 2", 
        "[bwa_aln] 38bp reads: max_diff = 3", 
        "[bwa_aln] 64bp reads: max_diff = 4", 
        "[bwa_aln] 93bp reads: max_diff = 5", 
        "[bwa_aln] 124bp reads: max_diff = 6", 
        "[bwa_aln] 157bp reads: max_diff = 7", 
        "[bwa_aln] 190bp reads: max_diff = 8", 
        "[bwa_aln] 225bp reads: max_diff = 9", 
        "[bwa_aln_core] calculate SA coordinate... "
       ]
      }, 
      {
       "output_type": "stream", 
       "stream": "stdout", 
       "text": [
        "0.31 sec", 
        "[bwa_aln_core] write to the disk... 0.00 sec", 
        "[bwa_aln_core] 6913 sequences have been processed."
       ]
      }, 
      {
       "output_type": "stream", 
       "stream": "stdout", 
       "text": [
        "[main] Version: 0.6.2-r126", 
        "[main] CMD: bwa aln /Users/brant/code/AFS/agouti-mc1r.masked.fasta /Users/brant/code/AFS/sim-20haplos_exp-dist_theta0.05_8xCov/sim-reads/sim5b_s_1_2_sequence.txt", 
        "[main] Real time: 0.423 sec; CPU: 0.406 sec"
       ]
      }, 
      {
       "output_type": "stream", 
       "stream": "stdout", 
       "text": [
        "[bwa_sai2sam_pe_core] convert to sequence coordinate... ", 
        "[infer_isize] (25, 50, 75) percentile: (187, 200, 212)", 
        "[infer_isize] low and high boundaries: 137 and 262 for estimating avg and std", 
        "[infer_isize] inferred external isize from 2568 pairs: 199.336 +/- 19.262", 
        "[infer_isize] skewness: 0.017; kurtosis: 0.034; ap_prior: 1.00e-05", 
        "[infer_isize] inferred maximum insert size: 308 (5.64 sigma)"
       ]
      }, 
      {
       "output_type": "stream", 
       "stream": "stdout", 
       "text": [
        "[bwa_sai2sam_pe_core] time elapses: 0.03 sec", 
        "[bwa_sai2sam_pe_core] changing coordinates of 36 alignments.", 
        "[bwa_sai2sam_pe_core] align unmapped mate..."
       ]
      }, 
      {
       "output_type": "stream", 
       "stream": "stdout", 
       "text": [
        "[bwa_paired_sw] 868 out of 1277 Q17 singletons are mated.", 
        "[bwa_paired_sw] 1 out of 2 Q17 discordant pairs are fixed.", 
        "[bwa_sai2sam_pe_core] time elapses: 0.30 sec", 
        "[bwa_sai2sam_pe_core] refine gapped alignments... 0.01 sec", 
        "[bwa_sai2sam_pe_core] print alignments... [samopen] SAM header is present: 2 sequences."
       ]
      }, 
      {
       "output_type": "stream", 
       "stream": "stdout", 
       "text": [
        "0.05 sec", 
        "[bwa_sai2sam_pe_core] 6913 sequences have been processed."
       ]
      }, 
      {
       "output_type": "stream", 
       "stream": "stdout", 
       "text": [
        "[main] Version: 0.6.2-r126", 
        "[main] CMD: bwa sampe /Users/brant/code/AFS/agouti-mc1r.masked.fasta /Users/brant/code/AFS/sim-20haplos_exp-dist_theta0.05_8xCov/sim-reads/sim5b_s_1_1_sequence.txt.sai /Users/brant/code/AFS/sim-20haplos_exp-dist_theta0.05_8xCov/sim-reads/sim5b_s_1_2_sequence.txt.sai /Users/brant/code/AFS/sim-20haplos_exp-dist_theta0.05_8xCov/sim-reads/sim5b_s_1_1_sequence.txt /Users/brant/code/AFS/sim-20haplos_exp-dist_theta0.05_8xCov/sim-reads/sim5b_s_1_2_sequence.txt", 
        "[main] Real time: 0.828 sec; CPU: 0.502 sec"
       ]
      }, 
      {
       "output_type": "stream", 
       "stream": "stdout", 
       "text": [
        "[Tue Jul 24 04:13:57 EDT 2012] net.sf.picard.sam.AddOrReplaceReadGroups INPUT=/Users/brant/code/AFS/sim-20haplos_exp-dist_theta0.05_8xCov/sim-reads/sim5b-aln.sorted.bam OUTPUT=/Users/brant/code/AFS/sim-20haplos_exp-dist_theta0.05_8xCov/sim-reads/sim5b-aln.sorted.rg.bam RGID=/Users/brant/code/AFS/sim-20haplos_exp-dist_theta0.05_8xCov/sim-reads/sim5b RGLB=lane1_/Users/brant/code/AFS/sim-20haplos_exp-dist_theta0.05_8xCov/sim-reads/sim5b RGPL=illumina RGPU=lane1 RGSM=sim5    VERBOSITY=INFO QUIET=false VALIDATION_STRINGENCY=STRICT COMPRESSION_LEVEL=5 MAX_RECORDS_IN_RAM=500000 CREATE_INDEX=false CREATE_MD5_FILE=false", 
        "[Tue Jul 24 04:13:57 EDT 2012] Executing as brant@gottuminum.local on Mac OS X 10.7.4 x86_64; Java HotSpot(TM) 64-Bit Server VM 1.6.0_33-b03-424-11M3720; Picard version: 1.73(1234)"
       ]
      }, 
      {
       "output_type": "stream", 
       "stream": "stdout", 
       "text": [
        "INFO\t2012-07-24 04:13:58\tAddOrReplaceReadGroups\tCreated read group ID=/Users/brant/code/AFS/sim-20haplos_exp-dist_theta0.05_8xCov/sim-reads/sim5b PL=illumina LB=lane1_/Users/brant/code/AFS/sim-20haplos_exp-dist_theta0.05_8xCov/sim-reads/sim5b SM=sim5", 
        ""
       ]
      }, 
      {
       "output_type": "stream", 
       "stream": "stdout", 
       "text": [
        "[Tue Jul 24 04:13:59 EDT 2012] net.sf.picard.sam.AddOrReplaceReadGroups done. Elapsed time: 0.02 minutes.", 
        "Runtime.totalMemory()=85000192"
       ]
      }, 
      {
       "output_type": "stream", 
       "stream": "stdout", 
       "text": [
        "[Tue Jul 24 04:14:01 EDT 2012] net.sf.picard.sam.CreateSequenceDictionary REFERENCE=/Users/brant/code/AFS/sim-20haplos_exp-dist_theta0.05_8xCov/hap6_agouti-mc1r.fa OUTPUT=/Users/brant/code/AFS/sim-20haplos_exp-dist_theta0.05_8xCov/hap6_agouti-mc1r.dict    TRUNCATE_NAMES_AT_WHITESPACE=true NUM_SEQUENCES=2147483647 VERBOSITY=INFO QUIET=false VALIDATION_STRINGENCY=STRICT COMPRESSION_LEVEL=5 MAX_RECORDS_IN_RAM=500000 CREATE_INDEX=false CREATE_MD5_FILE=false", 
        "[Tue Jul 24 04:14:01 EDT 2012] Executing as brant@gottuminum.local on Mac OS X 10.7.4 x86_64; Java HotSpot(TM) 64-Bit Server VM 1.6.0_33-b03-424-11M3720; Picard version: 1.73(1234)"
       ]
      }, 
      {
       "output_type": "stream", 
       "stream": "stdout", 
       "text": [
        "[Tue Jul 24 04:14:01 EDT 2012] net.sf.picard.sam.CreateSequenceDictionary done. Elapsed time: 0.00 minutes.", 
        "Runtime.totalMemory()=85000192"
       ]
      }, 
      {
       "output_type": "stream", 
       "stream": "stdout", 
       "text": [
        "[samopen] SAM header is present: 2 sequences."
       ]
      }, 
      {
       "output_type": "stream", 
       "stream": "stdout", 
       "text": [
        "[Tue Jul 24 04:14:03 EDT 2012] net.sf.picard.sam.SamToFastq INPUT=/Users/brant/code/AFS/sim-20haplos_exp-dist_theta0.05_8xCov/sim-reads/sim6a-simreads.sorted.bam FASTQ=/Users/brant/code/AFS/sim-20haplos_exp-dist_theta0.05_8xCov/sim-reads/sim6a_s_1_1_sequence.txt SECOND_END_FASTQ=/Users/brant/code/AFS/sim-20haplos_exp-dist_theta0.05_8xCov/sim-reads/sim6a_s_1_2_sequence.txt INCLUDE_NON_PF_READS=true VALIDATION_STRINGENCY=SILENT    OUTPUT_PER_RG=false RE_REVERSE=true READ1_TRIM=0 READ2_TRIM=0 INCLUDE_NON_PRIMARY_ALIGNMENTS=false VERBOSITY=INFO QUIET=false COMPRESSION_LEVEL=5 MAX_RECORDS_IN_RAM=500000 CREATE_INDEX=false CREATE_MD5_FILE=false", 
        "[Tue Jul 24 04:14:03 EDT 2012] Executing as brant@gottuminum.local on Mac OS X 10.7.4 x86_64; Java HotSpot(TM) 64-Bit Server VM 1.6.0_33-b03-424-11M3720; Picard version: 1.73(1234)"
       ]
      }, 
      {
       "output_type": "stream", 
       "stream": "stdout", 
       "text": [
        ""
       ]
      }, 
      {
       "output_type": "stream", 
       "stream": "stdout", 
       "text": [
        "[Tue Jul 24 04:14:05 EDT 2012] net.sf.picard.sam.SamToFastq done. Elapsed time: 0.03 minutes.", 
        "Runtime.totalMemory()=85000192", 
        "", 
        "/Users/brant/code/AFS/sim-20haplos_exp-dist_theta0.05_8xCov/sim-reads/sim6a_s_1_1_sequence.txt /Users/brant/code/AFS/sim-20haplos_exp-dist_theta0.05_8xCov/sim-reads/sim6a_s_1_2_sequence.txt created"
       ]
      }, 
      {
       "output_type": "stream", 
       "stream": "stdout", 
       "text": [
        "[bwa_index] Pack FASTA... 0.01 sec", 
        "[bwa_index] Construct BWT for the packed sequence..."
       ]
      }, 
      {
       "output_type": "stream", 
       "stream": "stdout", 
       "text": [
        "[bwa_index] 0.10 seconds elapse.", 
        "[bwa_index] Update BWT... 0.00 sec", 
        "[bwa_index] Pack forward-only FASTA... 0.01 sec", 
        "[bwa_index] Construct SA from BWT and Occ... "
       ]
      }, 
      {
       "output_type": "stream", 
       "stream": "stdout", 
       "text": [
        "0.04 sec", 
        "[main] Version: 0.6.2-r126", 
        "[main] CMD: bwa index /Users/brant/code/AFS/agouti-mc1r.masked.fasta", 
        "[main] Real time: 0.167 sec; CPU: 0.162 sec", 
        "[bwa_aln] 17bp reads: max_diff = 2", 
        "[bwa_aln] 38bp reads: max_diff = 3", 
        "[bwa_aln] 64bp reads: max_diff = 4", 
        "[bwa_aln] 93bp reads: max_diff = 5", 
        "[bwa_aln] 124bp reads: max_diff = 6", 
        "[bwa_aln] 157bp reads: max_diff = 7", 
        "[bwa_aln] 190bp reads: max_diff = 8", 
        "[bwa_aln] 225bp reads: max_diff = 9", 
        "[bwa_aln_core] calculate SA coordinate... "
       ]
      }, 
      {
       "output_type": "stream", 
       "stream": "stdout", 
       "text": [
        "0.29 sec", 
        "[bwa_aln_core] write to the disk... 0.00 sec", 
        "[bwa_aln_core] 6913 sequences have been processed."
       ]
      }, 
      {
       "output_type": "stream", 
       "stream": "stdout", 
       "text": [
        "[main] Version: 0.6.2-r126", 
        "[main] CMD: bwa aln /Users/brant/code/AFS/agouti-mc1r.masked.fasta /Users/brant/code/AFS/sim-20haplos_exp-dist_theta0.05_8xCov/sim-reads/sim6a_s_1_1_sequence.txt", 
        "[main] Real time: 0.407 sec; CPU: 0.391 sec"
       ]
      }, 
      {
       "output_type": "stream", 
       "stream": "stdout", 
       "text": [
        "[bwa_aln] 17bp reads: max_diff = 2", 
        "[bwa_aln] 38bp reads: max_diff = 3", 
        "[bwa_aln] 64bp reads: max_diff = 4", 
        "[bwa_aln] 93bp reads: max_diff = 5", 
        "[bwa_aln] 124bp reads: max_diff = 6", 
        "[bwa_aln] 157bp reads: max_diff = 7", 
        "[bwa_aln] 190bp reads: max_diff = 8", 
        "[bwa_aln] 225bp reads: max_diff = 9", 
        "[bwa_aln_core] calculate SA coordinate... "
       ]
      }, 
      {
       "output_type": "stream", 
       "stream": "stdout", 
       "text": [
        "0.31 sec", 
        "[bwa_aln_core] write to the disk... 0.00 sec", 
        "[bwa_aln_core] 6913 sequences have been processed."
       ]
      }, 
      {
       "output_type": "stream", 
       "stream": "stdout", 
       "text": [
        "[main] Version: 0.6.2-r126", 
        "[main] CMD: bwa aln /Users/brant/code/AFS/agouti-mc1r.masked.fasta /Users/brant/code/AFS/sim-20haplos_exp-dist_theta0.05_8xCov/sim-reads/sim6a_s_1_2_sequence.txt", 
        "[main] Real time: 0.427 sec; CPU: 0.399 sec"
       ]
      }, 
      {
       "output_type": "stream", 
       "stream": "stdout", 
       "text": [
        "[bwa_sai2sam_pe_core] convert to sequence coordinate... ", 
        "[infer_isize] (25, 50, 75) percentile: (186, 199, 211)", 
        "[infer_isize] low and high boundaries: 136 and 261 for estimating avg and std", 
        "[infer_isize] inferred external isize from 2583 pairs: 198.663 +/- 19.373", 
        "[infer_isize] skewness: -0.021; kurtosis: -0.086; ap_prior: 1.00e-05", 
        "[infer_isize] inferred maximum insert size: 308 (5.64 sigma)"
       ]
      }, 
      {
       "output_type": "stream", 
       "stream": "stdout", 
       "text": [
        "[bwa_sai2sam_pe_core] time elapses: 0.04 sec", 
        "[bwa_sai2sam_pe_core] changing coordinates of 23 alignments.", 
        "[bwa_sai2sam_pe_core] align unmapped mate..."
       ]
      }, 
      {
       "output_type": "stream", 
       "stream": "stdout", 
       "text": [
        "[bwa_paired_sw] 898 out of 1321 Q17 singletons are mated.", 
        "[bwa_paired_sw] 1 out of 2 Q17 discordant pairs are fixed.", 
        "[bwa_sai2sam_pe_core] time elapses: 0.31 sec", 
        "[bwa_sai2sam_pe_core] refine gapped alignments... 0.01 sec", 
        "[bwa_sai2sam_pe_core] print alignments... [samopen] SAM header is present: 2 sequences."
       ]
      }, 
      {
       "output_type": "stream", 
       "stream": "stdout", 
       "text": [
        "0.04 sec", 
        "[bwa_sai2sam_pe_core] 6913 sequences have been processed."
       ]
      }, 
      {
       "output_type": "stream", 
       "stream": "stdout", 
       "text": [
        "[main] Version: 0.6.2-r126", 
        "[main] CMD: bwa sampe /Users/brant/code/AFS/agouti-mc1r.masked.fasta /Users/brant/code/AFS/sim-20haplos_exp-dist_theta0.05_8xCov/sim-reads/sim6a_s_1_1_sequence.txt.sai /Users/brant/code/AFS/sim-20haplos_exp-dist_theta0.05_8xCov/sim-reads/sim6a_s_1_2_sequence.txt.sai /Users/brant/code/AFS/sim-20haplos_exp-dist_theta0.05_8xCov/sim-reads/sim6a_s_1_1_sequence.txt /Users/brant/code/AFS/sim-20haplos_exp-dist_theta0.05_8xCov/sim-reads/sim6a_s_1_2_sequence.txt", 
        "[main] Real time: 0.800 sec; CPU: 0.514 sec"
       ]
      }, 
      {
       "output_type": "stream", 
       "stream": "stdout", 
       "text": [
        "[Tue Jul 24 04:14:07 EDT 2012] net.sf.picard.sam.AddOrReplaceReadGroups INPUT=/Users/brant/code/AFS/sim-20haplos_exp-dist_theta0.05_8xCov/sim-reads/sim6a-aln.sorted.bam OUTPUT=/Users/brant/code/AFS/sim-20haplos_exp-dist_theta0.05_8xCov/sim-reads/sim6a-aln.sorted.rg.bam RGID=/Users/brant/code/AFS/sim-20haplos_exp-dist_theta0.05_8xCov/sim-reads/sim6a RGLB=lane1_/Users/brant/code/AFS/sim-20haplos_exp-dist_theta0.05_8xCov/sim-reads/sim6a RGPL=illumina RGPU=lane1 RGSM=sim6    VERBOSITY=INFO QUIET=false VALIDATION_STRINGENCY=STRICT COMPRESSION_LEVEL=5 MAX_RECORDS_IN_RAM=500000 CREATE_INDEX=false CREATE_MD5_FILE=false", 
        "[Tue Jul 24 04:14:07 EDT 2012] Executing as brant@gottuminum.local on Mac OS X 10.7.4 x86_64; Java HotSpot(TM) 64-Bit Server VM 1.6.0_33-b03-424-11M3720; Picard version: 1.73(1234)"
       ]
      }, 
      {
       "output_type": "stream", 
       "stream": "stdout", 
       "text": [
        "INFO\t2012-07-24 04:14:07\tAddOrReplaceReadGroups\tCreated read group ID=/Users/brant/code/AFS/sim-20haplos_exp-dist_theta0.05_8xCov/sim-reads/sim6a PL=illumina LB=lane1_/Users/brant/code/AFS/sim-20haplos_exp-dist_theta0.05_8xCov/sim-reads/sim6a SM=sim6", 
        ""
       ]
      }, 
      {
       "output_type": "stream", 
       "stream": "stdout", 
       "text": [
        "[Tue Jul 24 04:14:09 EDT 2012] net.sf.picard.sam.AddOrReplaceReadGroups done. Elapsed time: 0.02 minutes.", 
        "Runtime.totalMemory()=85000192"
       ]
      }, 
      {
       "output_type": "stream", 
       "stream": "stdout", 
       "text": [
        "[Tue Jul 24 04:14:11 EDT 2012] net.sf.picard.sam.CreateSequenceDictionary REFERENCE=/Users/brant/code/AFS/sim-20haplos_exp-dist_theta0.05_8xCov/hap11_agouti-mc1r.fa OUTPUT=/Users/brant/code/AFS/sim-20haplos_exp-dist_theta0.05_8xCov/hap11_agouti-mc1r.dict    TRUNCATE_NAMES_AT_WHITESPACE=true NUM_SEQUENCES=2147483647 VERBOSITY=INFO QUIET=false VALIDATION_STRINGENCY=STRICT COMPRESSION_LEVEL=5 MAX_RECORDS_IN_RAM=500000 CREATE_INDEX=false CREATE_MD5_FILE=false", 
        "[Tue Jul 24 04:14:11 EDT 2012] Executing as brant@gottuminum.local on Mac OS X 10.7.4 x86_64; Java HotSpot(TM) 64-Bit Server VM 1.6.0_33-b03-424-11M3720; Picard version: 1.73(1234)"
       ]
      }, 
      {
       "output_type": "stream", 
       "stream": "stdout", 
       "text": [
        "[Tue Jul 24 04:14:11 EDT 2012] net.sf.picard.sam.CreateSequenceDictionary done. Elapsed time: 0.00 minutes.", 
        "Runtime.totalMemory()=85000192"
       ]
      }, 
      {
       "output_type": "stream", 
       "stream": "stdout", 
       "text": [
        "[samopen] SAM header is present: 2 sequences."
       ]
      }, 
      {
       "output_type": "stream", 
       "stream": "stdout", 
       "text": [
        "[Tue Jul 24 04:14:13 EDT 2012] net.sf.picard.sam.SamToFastq INPUT=/Users/brant/code/AFS/sim-20haplos_exp-dist_theta0.05_8xCov/sim-reads/sim6b-simreads.sorted.bam FASTQ=/Users/brant/code/AFS/sim-20haplos_exp-dist_theta0.05_8xCov/sim-reads/sim6b_s_1_1_sequence.txt SECOND_END_FASTQ=/Users/brant/code/AFS/sim-20haplos_exp-dist_theta0.05_8xCov/sim-reads/sim6b_s_1_2_sequence.txt INCLUDE_NON_PF_READS=true VALIDATION_STRINGENCY=SILENT    OUTPUT_PER_RG=false RE_REVERSE=true READ1_TRIM=0 READ2_TRIM=0 INCLUDE_NON_PRIMARY_ALIGNMENTS=false VERBOSITY=INFO QUIET=false COMPRESSION_LEVEL=5 MAX_RECORDS_IN_RAM=500000 CREATE_INDEX=false CREATE_MD5_FILE=false", 
        "[Tue Jul 24 04:14:13 EDT 2012] Executing as brant@gottuminum.local on Mac OS X 10.7.4 x86_64; Java HotSpot(TM) 64-Bit Server VM 1.6.0_33-b03-424-11M3720; Picard version: 1.73(1234)"
       ]
      }, 
      {
       "output_type": "stream", 
       "stream": "stdout", 
       "text": [
        ""
       ]
      }, 
      {
       "output_type": "stream", 
       "stream": "stdout", 
       "text": [
        "[Tue Jul 24 04:14:14 EDT 2012] net.sf.picard.sam.SamToFastq done. Elapsed time: 0.03 minutes.", 
        "Runtime.totalMemory()=85000192"
       ]
      }, 
      {
       "output_type": "stream", 
       "stream": "stdout", 
       "text": [
        "", 
        "/Users/brant/code/AFS/sim-20haplos_exp-dist_theta0.05_8xCov/sim-reads/sim6b_s_1_1_sequence.txt /Users/brant/code/AFS/sim-20haplos_exp-dist_theta0.05_8xCov/sim-reads/sim6b_s_1_2_sequence.txt created", 
        "[bwa_index] Pack FASTA... 0.01 sec", 
        "[bwa_index] Construct BWT for the packed sequence..."
       ]
      }, 
      {
       "output_type": "stream", 
       "stream": "stdout", 
       "text": [
        "[bwa_index] 0.10 seconds elapse.", 
        "[bwa_index] Update BWT... 0.00 sec", 
        "[bwa_index] Pack forward-only FASTA... 0.01 sec", 
        "[bwa_index] Construct SA from BWT and Occ... "
       ]
      }, 
      {
       "output_type": "stream", 
       "stream": "stdout", 
       "text": [
        "0.04 sec", 
        "[main] Version: 0.6.2-r126", 
        "[main] CMD: bwa index /Users/brant/code/AFS/agouti-mc1r.masked.fasta", 
        "[main] Real time: 0.171 sec; CPU: 0.162 sec", 
        "[bwa_aln] 17bp reads: max_diff = 2", 
        "[bwa_aln] 38bp reads: max_diff = 3", 
        "[bwa_aln] 64bp reads: max_diff = 4", 
        "[bwa_aln] 93bp reads: max_diff = 5", 
        "[bwa_aln] 124bp reads: max_diff = 6", 
        "[bwa_aln] 157bp reads: max_diff = 7", 
        "[bwa_aln] 190bp reads: max_diff = 8", 
        "[bwa_aln] 225bp reads: max_diff = 9", 
        "[bwa_aln_core] calculate SA coordinate... "
       ]
      }, 
      {
       "output_type": "stream", 
       "stream": "stdout", 
       "text": [
        "0.29 sec", 
        "[bwa_aln_core] write to the disk... 0.00 sec", 
        "[bwa_aln_core] 6913 sequences have been processed."
       ]
      }, 
      {
       "output_type": "stream", 
       "stream": "stdout", 
       "text": [
        "[main] Version: 0.6.2-r126", 
        "[main] CMD: bwa aln /Users/brant/code/AFS/agouti-mc1r.masked.fasta /Users/brant/code/AFS/sim-20haplos_exp-dist_theta0.05_8xCov/sim-reads/sim6b_s_1_1_sequence.txt", 
        "[main] Real time: 0.388 sec; CPU: 0.384 sec"
       ]
      }, 
      {
       "output_type": "stream", 
       "stream": "stdout", 
       "text": [
        "[bwa_aln] 17bp reads: max_diff = 2", 
        "[bwa_aln] 38bp reads: max_diff = 3", 
        "[bwa_aln] 64bp reads: max_diff = 4", 
        "[bwa_aln] 93bp reads: max_diff = 5", 
        "[bwa_aln] 124bp reads: max_diff = 6", 
        "[bwa_aln] 157bp reads: max_diff = 7", 
        "[bwa_aln] 190bp reads: max_diff = 8", 
        "[bwa_aln] 225bp reads: max_diff = 9", 
        "[bwa_aln_core] calculate SA coordinate... "
       ]
      }, 
      {
       "output_type": "stream", 
       "stream": "stdout", 
       "text": [
        "0.31 sec", 
        "[bwa_aln_core] write to the disk... 0.00 sec", 
        "[bwa_aln_core] 6913 sequences have been processed."
       ]
      }, 
      {
       "output_type": "stream", 
       "stream": "stdout", 
       "text": [
        "[main] Version: 0.6.2-r126", 
        "[main] CMD: bwa aln /Users/brant/code/AFS/agouti-mc1r.masked.fasta /Users/brant/code/AFS/sim-20haplos_exp-dist_theta0.05_8xCov/sim-reads/sim6b_s_1_2_sequence.txt", 
        "[main] Real time: 0.429 sec; CPU: 0.401 sec"
       ]
      }, 
      {
       "output_type": "stream", 
       "stream": "stdout", 
       "text": [
        "[bwa_sai2sam_pe_core] convert to sequence coordinate... ", 
        "[infer_isize] (25, 50, 75) percentile: (186, 200, 212)", 
        "[infer_isize] low and high boundaries: 134 and 264 for estimating avg and std", 
        "[infer_isize] inferred external isize from 2540 pairs: 199.299 +/- 19.629", 
        "[infer_isize] skewness: 0.075; kurtosis: -0.008; ap_prior: 1.00e-05", 
        "[infer_isize] inferred maximum insert size: 310 (5.64 sigma)"
       ]
      }, 
      {
       "output_type": "stream", 
       "stream": "stdout", 
       "text": [
        "[bwa_sai2sam_pe_core] time elapses: 0.04 sec", 
        "[bwa_sai2sam_pe_core] changing coordinates of 38 alignments.", 
        "[bwa_sai2sam_pe_core] align unmapped mate..."
       ]
      }, 
      {
       "output_type": "stream", 
       "stream": "stdout", 
       "text": [
        "[bwa_paired_sw] 857 out of 1279 Q17 singletons are mated.", 
        "[bwa_paired_sw] 1 out of 1 Q17 discordant pairs are fixed.", 
        "[bwa_sai2sam_pe_core] time elapses: 0.30 sec", 
        "[bwa_sai2sam_pe_core] refine gapped alignments... 0.01 sec", 
        "[bwa_sai2sam_pe_core] print alignments... [samopen] SAM header is present: 2 sequences."
       ]
      }, 
      {
       "output_type": "stream", 
       "stream": "stdout", 
       "text": [
        "0.04 sec", 
        "[bwa_sai2sam_pe_core] 6913 sequences have been processed."
       ]
      }, 
      {
       "output_type": "stream", 
       "stream": "stdout", 
       "text": [
        "[main] Version: 0.6.2-r126", 
        "[main] CMD: bwa sampe /Users/brant/code/AFS/agouti-mc1r.masked.fasta /Users/brant/code/AFS/sim-20haplos_exp-dist_theta0.05_8xCov/sim-reads/sim6b_s_1_1_sequence.txt.sai /Users/brant/code/AFS/sim-20haplos_exp-dist_theta0.05_8xCov/sim-reads/sim6b_s_1_2_sequence.txt.sai /Users/brant/code/AFS/sim-20haplos_exp-dist_theta0.05_8xCov/sim-reads/sim6b_s_1_1_sequence.txt /Users/brant/code/AFS/sim-20haplos_exp-dist_theta0.05_8xCov/sim-reads/sim6b_s_1_2_sequence.txt", 
        "[main] Real time: 0.793 sec; CPU: 0.505 sec"
       ]
      }, 
      {
       "output_type": "stream", 
       "stream": "stdout", 
       "text": [
        "[Tue Jul 24 04:14:17 EDT 2012] net.sf.picard.sam.AddOrReplaceReadGroups INPUT=/Users/brant/code/AFS/sim-20haplos_exp-dist_theta0.05_8xCov/sim-reads/sim6b-aln.sorted.bam OUTPUT=/Users/brant/code/AFS/sim-20haplos_exp-dist_theta0.05_8xCov/sim-reads/sim6b-aln.sorted.rg.bam RGID=/Users/brant/code/AFS/sim-20haplos_exp-dist_theta0.05_8xCov/sim-reads/sim6b RGLB=lane1_/Users/brant/code/AFS/sim-20haplos_exp-dist_theta0.05_8xCov/sim-reads/sim6b RGPL=illumina RGPU=lane1 RGSM=sim6    VERBOSITY=INFO QUIET=false VALIDATION_STRINGENCY=STRICT COMPRESSION_LEVEL=5 MAX_RECORDS_IN_RAM=500000 CREATE_INDEX=false CREATE_MD5_FILE=false", 
        "[Tue Jul 24 04:14:17 EDT 2012] Executing as brant@gottuminum.local on Mac OS X 10.7.4 x86_64; Java HotSpot(TM) 64-Bit Server VM 1.6.0_33-b03-424-11M3720; Picard version: 1.73(1234)"
       ]
      }, 
      {
       "output_type": "stream", 
       "stream": "stdout", 
       "text": [
        "INFO\t2012-07-24 04:14:17\tAddOrReplaceReadGroups\tCreated read group ID=/Users/brant/code/AFS/sim-20haplos_exp-dist_theta0.05_8xCov/sim-reads/sim6b PL=illumina LB=lane1_/Users/brant/code/AFS/sim-20haplos_exp-dist_theta0.05_8xCov/sim-reads/sim6b SM=sim6", 
        ""
       ]
      }, 
      {
       "output_type": "stream", 
       "stream": "stdout", 
       "text": [
        "[Tue Jul 24 04:14:19 EDT 2012] net.sf.picard.sam.AddOrReplaceReadGroups done. Elapsed time: 0.03 minutes.", 
        "Runtime.totalMemory()=85000192"
       ]
      }, 
      {
       "output_type": "stream", 
       "stream": "stdout", 
       "text": [
        "[Tue Jul 24 04:14:22 EDT 2012] net.sf.picard.sam.CreateSequenceDictionary REFERENCE=/Users/brant/code/AFS/sim-20haplos_exp-dist_theta0.05_8xCov/hap8_agouti-mc1r.fa OUTPUT=/Users/brant/code/AFS/sim-20haplos_exp-dist_theta0.05_8xCov/hap8_agouti-mc1r.dict    TRUNCATE_NAMES_AT_WHITESPACE=true NUM_SEQUENCES=2147483647 VERBOSITY=INFO QUIET=false VALIDATION_STRINGENCY=STRICT COMPRESSION_LEVEL=5 MAX_RECORDS_IN_RAM=500000 CREATE_INDEX=false CREATE_MD5_FILE=false", 
        "[Tue Jul 24 04:14:22 EDT 2012] Executing as brant@gottuminum.local on Mac OS X 10.7.4 x86_64; Java HotSpot(TM) 64-Bit Server VM 1.6.0_33-b03-424-11M3720; Picard version: 1.73(1234)"
       ]
      }, 
      {
       "output_type": "stream", 
       "stream": "stdout", 
       "text": [
        "[Tue Jul 24 04:14:22 EDT 2012] net.sf.picard.sam.CreateSequenceDictionary done. Elapsed time: 0.00 minutes.", 
        "Runtime.totalMemory()=85000192"
       ]
      }, 
      {
       "output_type": "stream", 
       "stream": "stdout", 
       "text": [
        "[samopen] SAM header is present: 2 sequences."
       ]
      }, 
      {
       "output_type": "stream", 
       "stream": "stdout", 
       "text": [
        "[Tue Jul 24 04:14:24 EDT 2012] net.sf.picard.sam.SamToFastq INPUT=/Users/brant/code/AFS/sim-20haplos_exp-dist_theta0.05_8xCov/sim-reads/sim7a-simreads.sorted.bam FASTQ=/Users/brant/code/AFS/sim-20haplos_exp-dist_theta0.05_8xCov/sim-reads/sim7a_s_1_1_sequence.txt SECOND_END_FASTQ=/Users/brant/code/AFS/sim-20haplos_exp-dist_theta0.05_8xCov/sim-reads/sim7a_s_1_2_sequence.txt INCLUDE_NON_PF_READS=true VALIDATION_STRINGENCY=SILENT    OUTPUT_PER_RG=false RE_REVERSE=true READ1_TRIM=0 READ2_TRIM=0 INCLUDE_NON_PRIMARY_ALIGNMENTS=false VERBOSITY=INFO QUIET=false COMPRESSION_LEVEL=5 MAX_RECORDS_IN_RAM=500000 CREATE_INDEX=false CREATE_MD5_FILE=false", 
        "[Tue Jul 24 04:14:24 EDT 2012] Executing as brant@gottuminum.local on Mac OS X 10.7.4 x86_64; Java HotSpot(TM) 64-Bit Server VM 1.6.0_33-b03-424-11M3720; Picard version: 1.73(1234)"
       ]
      }, 
      {
       "output_type": "stream", 
       "stream": "stdout", 
       "text": [
        "[Tue Jul 24 04:14:26 EDT 2012] net.sf.picard.sam.SamToFastq done. Elapsed time: 0.03 minutes.", 
        "Runtime.totalMemory()=85000192", 
        "", 
        "/Users/brant/code/AFS/sim-20haplos_exp-dist_theta0.05_8xCov/sim-reads/sim7a_s_1_1_sequence.txt /Users/brant/code/AFS/sim-20haplos_exp-dist_theta0.05_8xCov/sim-reads/sim7a_s_1_2_sequence.txt created", 
        "[bwa_index] Pack FASTA... 0.01 sec", 
        "[bwa_index] Construct BWT for the packed sequence..."
       ]
      }, 
      {
       "output_type": "stream", 
       "stream": "stdout", 
       "text": [
        "[bwa_index] 0.10 seconds elapse.", 
        "[bwa_index] Update BWT... 0.00 sec", 
        "[bwa_index] Pack forward-only FASTA... 0.01 sec", 
        "[bwa_index] Construct SA from BWT and Occ... "
       ]
      }, 
      {
       "output_type": "stream", 
       "stream": "stdout", 
       "text": [
        "0.04 sec", 
        "[main] Version: 0.6.2-r126", 
        "[main] CMD: bwa index /Users/brant/code/AFS/agouti-mc1r.masked.fasta", 
        "[main] Real time: 0.177 sec; CPU: 0.162 sec", 
        "[bwa_aln] 17bp reads: max_diff = 2", 
        "[bwa_aln] 38bp reads: max_diff = 3", 
        "[bwa_aln] 64bp reads: max_diff = 4", 
        "[bwa_aln] 93bp reads: max_diff = 5", 
        "[bwa_aln] 124bp reads: max_diff = 6", 
        "[bwa_aln] 157bp reads: max_diff = 7", 
        "[bwa_aln] 190bp reads: max_diff = 8", 
        "[bwa_aln] 225bp reads: max_diff = 9"
       ]
      }, 
      {
       "output_type": "stream", 
       "stream": "stdout", 
       "text": [
        "[bwa_aln_core] calculate SA coordinate... "
       ]
      }, 
      {
       "output_type": "stream", 
       "stream": "stdout", 
       "text": [
        "0.29 sec", 
        "[bwa_aln_core] write to the disk... 0.00 sec", 
        "[bwa_aln_core] 6913 sequences have been processed."
       ]
      }, 
      {
       "output_type": "stream", 
       "stream": "stdout", 
       "text": [
        "[main] Version: 0.6.2-r126", 
        "[main] CMD: bwa aln /Users/brant/code/AFS/agouti-mc1r.masked.fasta /Users/brant/code/AFS/sim-20haplos_exp-dist_theta0.05_8xCov/sim-reads/sim7a_s_1_1_sequence.txt", 
        "[main] Real time: 0.415 sec; CPU: 0.393 sec", 
        "[bwa_aln] 17bp reads: max_diff = 2", 
        "[bwa_aln] 38bp reads: max_diff = 3", 
        "[bwa_aln] 64bp reads: max_diff = 4", 
        "[bwa_aln] 93bp reads: max_diff = 5", 
        "[bwa_aln] 124bp reads: max_diff = 6", 
        "[bwa_aln] 157bp reads: max_diff = 7", 
        "[bwa_aln] 190bp reads: max_diff = 8", 
        "[bwa_aln] 225bp reads: max_diff = 9"
       ]
      }, 
      {
       "output_type": "stream", 
       "stream": "stdout", 
       "text": [
        "[bwa_aln_core] calculate SA coordinate... "
       ]
      }, 
      {
       "output_type": "stream", 
       "stream": "stdout", 
       "text": [
        "0.31 sec", 
        "[bwa_aln_core] write to the disk... 0.00 sec", 
        "[bwa_aln_core] 6913 sequences have been processed."
       ]
      }, 
      {
       "output_type": "stream", 
       "stream": "stdout", 
       "text": [
        "[main] Version: 0.6.2-r126", 
        "[main] CMD: bwa aln /Users/brant/code/AFS/agouti-mc1r.masked.fasta /Users/brant/code/AFS/sim-20haplos_exp-dist_theta0.05_8xCov/sim-reads/sim7a_s_1_2_sequence.txt", 
        "[main] Real time: 0.426 sec; CPU: 0.405 sec"
       ]
      }, 
      {
       "output_type": "stream", 
       "stream": "stdout", 
       "text": [
        "[bwa_sai2sam_pe_core] convert to sequence coordinate... ", 
        "[infer_isize] (25, 50, 75) percentile: (186, 200, 213)", 
        "[infer_isize] low and high boundaries: 132 and 267 for estimating avg and std", 
        "[infer_isize] inferred external isize from 2545 pairs: 199.497 +/- 19.299", 
        "[infer_isize] skewness: -0.105; kurtosis: -0.071; ap_prior: 1.18e-05", 
        "[infer_isize] inferred maximum insert size: 308 (5.64 sigma)", 
        "[bwa_sai2sam_pe_core] time elapses: 0.04 sec", 
        "[bwa_sai2sam_pe_core] changing coordinates of 33 alignments.", 
        "[bwa_sai2sam_pe_core] align unmapped mate..."
       ]
      }, 
      {
       "output_type": "stream", 
       "stream": "stdout", 
       "text": [
        "[bwa_paired_sw] 911 out of 1341 Q17 singletons are mated.", 
        "[bwa_paired_sw] 0 out of 1 Q17 discordant pairs are fixed.", 
        "[bwa_sai2sam_pe_core] time elapses: 0.31 sec", 
        "[bwa_sai2sam_pe_core] refine gapped alignments... "
       ]
      }, 
      {
       "output_type": "stream", 
       "stream": "stdout", 
       "text": [
        "0.01 sec", 
        "[bwa_sai2sam_pe_core] print alignments... [samopen] SAM header is present: 2 sequences."
       ]
      }, 
      {
       "output_type": "stream", 
       "stream": "stdout", 
       "text": [
        "0.05 sec", 
        "[bwa_sai2sam_pe_core] 6913 sequences have been processed."
       ]
      }, 
      {
       "output_type": "stream", 
       "stream": "stdout", 
       "text": [
        "[main] Version: 0.6.2-r126", 
        "[main] CMD: bwa sampe /Users/brant/code/AFS/agouti-mc1r.masked.fasta /Users/brant/code/AFS/sim-20haplos_exp-dist_theta0.05_8xCov/sim-reads/sim7a_s_1_1_sequence.txt.sai /Users/brant/code/AFS/sim-20haplos_exp-dist_theta0.05_8xCov/sim-reads/sim7a_s_1_2_sequence.txt.sai /Users/brant/code/AFS/sim-20haplos_exp-dist_theta0.05_8xCov/sim-reads/sim7a_s_1_1_sequence.txt /Users/brant/code/AFS/sim-20haplos_exp-dist_theta0.05_8xCov/sim-reads/sim7a_s_1_2_sequence.txt", 
        "[main] Real time: 0.867 sec; CPU: 0.524 sec"
       ]
      }, 
      {
       "output_type": "stream", 
       "stream": "stdout", 
       "text": [
        "[Tue Jul 24 04:14:29 EDT 2012] net.sf.picard.sam.AddOrReplaceReadGroups INPUT=/Users/brant/code/AFS/sim-20haplos_exp-dist_theta0.05_8xCov/sim-reads/sim7a-aln.sorted.bam OUTPUT=/Users/brant/code/AFS/sim-20haplos_exp-dist_theta0.05_8xCov/sim-reads/sim7a-aln.sorted.rg.bam RGID=/Users/brant/code/AFS/sim-20haplos_exp-dist_theta0.05_8xCov/sim-reads/sim7a RGLB=lane1_/Users/brant/code/AFS/sim-20haplos_exp-dist_theta0.05_8xCov/sim-reads/sim7a RGPL=illumina RGPU=lane1 RGSM=sim7    VERBOSITY=INFO QUIET=false VALIDATION_STRINGENCY=STRICT COMPRESSION_LEVEL=5 MAX_RECORDS_IN_RAM=500000 CREATE_INDEX=false CREATE_MD5_FILE=false", 
        "[Tue Jul 24 04:14:29 EDT 2012] Executing as brant@gottuminum.local on Mac OS X 10.7.4 x86_64; Java HotSpot(TM) 64-Bit Server VM 1.6.0_33-b03-424-11M3720; Picard version: 1.73(1234)"
       ]
      }, 
      {
       "output_type": "stream", 
       "stream": "stdout", 
       "text": [
        "INFO\t2012-07-24 04:14:29\tAddOrReplaceReadGroups\tCreated read group ID=/Users/brant/code/AFS/sim-20haplos_exp-dist_theta0.05_8xCov/sim-reads/sim7a PL=illumina LB=lane1_/Users/brant/code/AFS/sim-20haplos_exp-dist_theta0.05_8xCov/sim-reads/sim7a SM=sim7", 
        ""
       ]
      }, 
      {
       "output_type": "stream", 
       "stream": "stdout", 
       "text": [
        "[Tue Jul 24 04:14:31 EDT 2012] net.sf.picard.sam.AddOrReplaceReadGroups done. Elapsed time: 0.03 minutes.", 
        "Runtime.totalMemory()=85000192"
       ]
      }, 
      {
       "output_type": "stream", 
       "stream": "stdout", 
       "text": [
        "[Tue Jul 24 04:14:33 EDT 2012] net.sf.picard.sam.CreateSequenceDictionary REFERENCE=/Users/brant/code/AFS/sim-20haplos_exp-dist_theta0.05_8xCov/hap5_agouti-mc1r.fa OUTPUT=/Users/brant/code/AFS/sim-20haplos_exp-dist_theta0.05_8xCov/hap5_agouti-mc1r.dict    TRUNCATE_NAMES_AT_WHITESPACE=true NUM_SEQUENCES=2147483647 VERBOSITY=INFO QUIET=false VALIDATION_STRINGENCY=STRICT COMPRESSION_LEVEL=5 MAX_RECORDS_IN_RAM=500000 CREATE_INDEX=false CREATE_MD5_FILE=false", 
        "[Tue Jul 24 04:14:33 EDT 2012] Executing as brant@gottuminum.local on Mac OS X 10.7.4 x86_64; Java HotSpot(TM) 64-Bit Server VM 1.6.0_33-b03-424-11M3720; Picard version: 1.73(1234)"
       ]
      }, 
      {
       "output_type": "stream", 
       "stream": "stdout", 
       "text": [
        "[Tue Jul 24 04:14:33 EDT 2012] net.sf.picard.sam.CreateSequenceDictionary done. Elapsed time: 0.00 minutes.", 
        "Runtime.totalMemory()=85000192"
       ]
      }, 
      {
       "output_type": "stream", 
       "stream": "stdout", 
       "text": [
        "[samopen] SAM header is present: 2 sequences."
       ]
      }, 
      {
       "output_type": "stream", 
       "stream": "stdout", 
       "text": [
        "[Tue Jul 24 04:14:35 EDT 2012] net.sf.picard.sam.SamToFastq INPUT=/Users/brant/code/AFS/sim-20haplos_exp-dist_theta0.05_8xCov/sim-reads/sim7b-simreads.sorted.bam FASTQ=/Users/brant/code/AFS/sim-20haplos_exp-dist_theta0.05_8xCov/sim-reads/sim7b_s_1_1_sequence.txt SECOND_END_FASTQ=/Users/brant/code/AFS/sim-20haplos_exp-dist_theta0.05_8xCov/sim-reads/sim7b_s_1_2_sequence.txt INCLUDE_NON_PF_READS=true VALIDATION_STRINGENCY=SILENT    OUTPUT_PER_RG=false RE_REVERSE=true READ1_TRIM=0 READ2_TRIM=0 INCLUDE_NON_PRIMARY_ALIGNMENTS=false VERBOSITY=INFO QUIET=false COMPRESSION_LEVEL=5 MAX_RECORDS_IN_RAM=500000 CREATE_INDEX=false CREATE_MD5_FILE=false", 
        "[Tue Jul 24 04:14:35 EDT 2012] Executing as brant@gottuminum.local on Mac OS X 10.7.4 x86_64; Java HotSpot(TM) 64-Bit Server VM 1.6.0_33-b03-424-11M3720; Picard version: 1.73(1234)"
       ]
      }, 
      {
       "output_type": "stream", 
       "stream": "stdout", 
       "text": [
        "[Tue Jul 24 04:14:36 EDT 2012] net.sf.picard.sam.SamToFastq done. Elapsed time: 0.03 minutes.", 
        "Runtime.totalMemory()=85000192", 
        "", 
        "/Users/brant/code/AFS/sim-20haplos_exp-dist_theta0.05_8xCov/sim-reads/sim7b_s_1_1_sequence.txt /Users/brant/code/AFS/sim-20haplos_exp-dist_theta0.05_8xCov/sim-reads/sim7b_s_1_2_sequence.txt created", 
        "[bwa_index] Pack FASTA... 0.01 sec", 
        "[bwa_index] Construct BWT for the packed sequence..."
       ]
      }, 
      {
       "output_type": "stream", 
       "stream": "stdout", 
       "text": [
        "[bwa_index] 0.10 seconds elapse.", 
        "[bwa_index] Update BWT... 0.00 sec", 
        "[bwa_index] Pack forward-only FASTA... "
       ]
      }, 
      {
       "output_type": "stream", 
       "stream": "stdout", 
       "text": [
        "0.01 sec", 
        "[bwa_index] Construct SA from BWT and Occ... 0.04 sec", 
        "[main] Version: 0.6.2-r126", 
        "[main] CMD: bwa index /Users/brant/code/AFS/agouti-mc1r.masked.fasta", 
        "[main] Real time: 0.166 sec; CPU: 0.160 sec"
       ]
      }, 
      {
       "output_type": "stream", 
       "stream": "stdout", 
       "text": [
        "[bwa_aln] 17bp reads: max_diff = 2", 
        "[bwa_aln] 38bp reads: max_diff = 3", 
        "[bwa_aln] 64bp reads: max_diff = 4", 
        "[bwa_aln] 93bp reads: max_diff = 5", 
        "[bwa_aln] 124bp reads: max_diff = 6", 
        "[bwa_aln] 157bp reads: max_diff = 7", 
        "[bwa_aln] 190bp reads: max_diff = 8", 
        "[bwa_aln] 225bp reads: max_diff = 9", 
        "[bwa_aln_core] calculate SA coordinate... "
       ]
      }, 
      {
       "output_type": "stream", 
       "stream": "stdout", 
       "text": [
        "0.30 sec", 
        "[bwa_aln_core] write to the disk... 0.00 sec", 
        "[bwa_aln_core] 6913 sequences have been processed."
       ]
      }, 
      {
       "output_type": "stream", 
       "stream": "stdout", 
       "text": [
        "[main] Version: 0.6.2-r126", 
        "[main] CMD: bwa aln /Users/brant/code/AFS/agouti-mc1r.masked.fasta /Users/brant/code/AFS/sim-20haplos_exp-dist_theta0.05_8xCov/sim-reads/sim7b_s_1_1_sequence.txt", 
        "[main] Real time: 0.411 sec; CPU: 0.394 sec", 
        "[bwa_aln] 17bp reads: max_diff = 2", 
        "[bwa_aln] 38bp reads: max_diff = 3", 
        "[bwa_aln] 64bp reads: max_diff = 4", 
        "[bwa_aln] 93bp reads: max_diff = 5", 
        "[bwa_aln] 124bp reads: max_diff = 6", 
        "[bwa_aln] 157bp reads: max_diff = 7", 
        "[bwa_aln] 190bp reads: max_diff = 8", 
        "[bwa_aln] 225bp reads: max_diff = 9", 
        "[bwa_aln_core] calculate SA coordinate... "
       ]
      }, 
      {
       "output_type": "stream", 
       "stream": "stdout", 
       "text": [
        "0.32 sec", 
        "[bwa_aln_core] write to the disk... 0.00 sec", 
        "[bwa_aln_core] 6913 sequences have been processed."
       ]
      }, 
      {
       "output_type": "stream", 
       "stream": "stdout", 
       "text": [
        "[main] Version: 0.6.2-r126", 
        "[main] CMD: bwa aln /Users/brant/code/AFS/agouti-mc1r.masked.fasta /Users/brant/code/AFS/sim-20haplos_exp-dist_theta0.05_8xCov/sim-reads/sim7b_s_1_2_sequence.txt", 
        "[main] Real time: 0.523 sec; CPU: 0.412 sec"
       ]
      }, 
      {
       "output_type": "stream", 
       "stream": "stdout", 
       "text": [
        "[bwa_sai2sam_pe_core] convert to sequence coordinate... "
       ]
      }, 
      {
       "output_type": "stream", 
       "stream": "stdout", 
       "text": [
        "[infer_isize] (25, 50, 75) percentile: (186, 200, 212)", 
        "[infer_isize] low and high boundaries: 134 and 264 for estimating avg and std", 
        "[infer_isize] inferred external isize from 2543 pairs: 199.229 +/- 19.278", 
        "[infer_isize] skewness: 0.039; kurtosis: -0.021; ap_prior: 3.14e-05", 
        "[infer_isize] inferred maximum insert size: 308 (5.64 sigma)", 
        "[bwa_sai2sam_pe_core] time elapses: 0.04 sec", 
        "[bwa_sai2sam_pe_core] changing coordinates of 29 alignments.", 
        "[bwa_sai2sam_pe_core] align unmapped mate..."
       ]
      }, 
      {
       "output_type": "stream", 
       "stream": "stdout", 
       "text": [
        "[bwa_paired_sw] 867 out of 1285 Q17 singletons are mated.", 
        "[bwa_paired_sw] 4 out of 8 Q17 discordant pairs are fixed.", 
        "[bwa_sai2sam_pe_core] time elapses: 0.30 sec", 
        "[bwa_sai2sam_pe_core] refine gapped alignments... 0.01 sec", 
        "[bwa_sai2sam_pe_core] print alignments... [samopen] SAM header is present: 2 sequences."
       ]
      }, 
      {
       "output_type": "stream", 
       "stream": "stdout", 
       "text": [
        "0.04 sec", 
        "[bwa_sai2sam_pe_core] 6913 sequences have been processed."
       ]
      }, 
      {
       "output_type": "stream", 
       "stream": "stdout", 
       "text": [
        "[main] Version: 0.6.2-r126", 
        "[main] CMD: bwa sampe /Users/brant/code/AFS/agouti-mc1r.masked.fasta /Users/brant/code/AFS/sim-20haplos_exp-dist_theta0.05_8xCov/sim-reads/sim7b_s_1_1_sequence.txt.sai /Users/brant/code/AFS/sim-20haplos_exp-dist_theta0.05_8xCov/sim-reads/sim7b_s_1_2_sequence.txt.sai /Users/brant/code/AFS/sim-20haplos_exp-dist_theta0.05_8xCov/sim-reads/sim7b_s_1_1_sequence.txt /Users/brant/code/AFS/sim-20haplos_exp-dist_theta0.05_8xCov/sim-reads/sim7b_s_1_2_sequence.txt", 
        "[main] Real time: 0.848 sec; CPU: 0.519 sec"
       ]
      }, 
      {
       "output_type": "stream", 
       "stream": "stdout", 
       "text": [
        "[Tue Jul 24 04:14:39 EDT 2012] net.sf.picard.sam.AddOrReplaceReadGroups INPUT=/Users/brant/code/AFS/sim-20haplos_exp-dist_theta0.05_8xCov/sim-reads/sim7b-aln.sorted.bam OUTPUT=/Users/brant/code/AFS/sim-20haplos_exp-dist_theta0.05_8xCov/sim-reads/sim7b-aln.sorted.rg.bam RGID=/Users/brant/code/AFS/sim-20haplos_exp-dist_theta0.05_8xCov/sim-reads/sim7b RGLB=lane1_/Users/brant/code/AFS/sim-20haplos_exp-dist_theta0.05_8xCov/sim-reads/sim7b RGPL=illumina RGPU=lane1 RGSM=sim7    VERBOSITY=INFO QUIET=false VALIDATION_STRINGENCY=STRICT COMPRESSION_LEVEL=5 MAX_RECORDS_IN_RAM=500000 CREATE_INDEX=false CREATE_MD5_FILE=false", 
        "[Tue Jul 24 04:14:39 EDT 2012] Executing as brant@gottuminum.local on Mac OS X 10.7.4 x86_64; Java HotSpot(TM) 64-Bit Server VM 1.6.0_33-b03-424-11M3720; Picard version: 1.73(1234)"
       ]
      }, 
      {
       "output_type": "stream", 
       "stream": "stdout", 
       "text": [
        "INFO\t2012-07-24 04:14:39\tAddOrReplaceReadGroups\tCreated read group ID=/Users/brant/code/AFS/sim-20haplos_exp-dist_theta0.05_8xCov/sim-reads/sim7b PL=illumina LB=lane1_/Users/brant/code/AFS/sim-20haplos_exp-dist_theta0.05_8xCov/sim-reads/sim7b SM=sim7", 
        ""
       ]
      }, 
      {
       "output_type": "stream", 
       "stream": "stdout", 
       "text": [
        "[Tue Jul 24 04:14:42 EDT 2012] net.sf.picard.sam.AddOrReplaceReadGroups done. Elapsed time: 0.04 minutes.", 
        "Runtime.totalMemory()=85000192"
       ]
      }, 
      {
       "output_type": "stream", 
       "stream": "stdout", 
       "text": [
        "[Tue Jul 24 04:14:45 EDT 2012] net.sf.picard.sam.CreateSequenceDictionary REFERENCE=/Users/brant/code/AFS/sim-20haplos_exp-dist_theta0.05_8xCov/hap1_agouti-mc1r.fa OUTPUT=/Users/brant/code/AFS/sim-20haplos_exp-dist_theta0.05_8xCov/hap1_agouti-mc1r.dict    TRUNCATE_NAMES_AT_WHITESPACE=true NUM_SEQUENCES=2147483647 VERBOSITY=INFO QUIET=false VALIDATION_STRINGENCY=STRICT COMPRESSION_LEVEL=5 MAX_RECORDS_IN_RAM=500000 CREATE_INDEX=false CREATE_MD5_FILE=false"
       ]
      }, 
      {
       "output_type": "stream", 
       "stream": "stdout", 
       "text": [
        "[Tue Jul 24 04:14:45 EDT 2012] Executing as brant@gottuminum.local on Mac OS X 10.7.4 x86_64; Java HotSpot(TM) 64-Bit Server VM 1.6.0_33-b03-424-11M3720; Picard version: 1.73(1234)"
       ]
      }, 
      {
       "output_type": "stream", 
       "stream": "stdout", 
       "text": [
        "[Tue Jul 24 04:14:45 EDT 2012] net.sf.picard.sam.CreateSequenceDictionary done. Elapsed time: 0.00 minutes.", 
        "Runtime.totalMemory()=85000192", 
        "[samopen] SAM header is present: 2 sequences."
       ]
      }, 
      {
       "output_type": "stream", 
       "stream": "stdout", 
       "text": [
        "[Tue Jul 24 04:14:46 EDT 2012] net.sf.picard.sam.SamToFastq INPUT=/Users/brant/code/AFS/sim-20haplos_exp-dist_theta0.05_8xCov/sim-reads/sim8a-simreads.sorted.bam FASTQ=/Users/brant/code/AFS/sim-20haplos_exp-dist_theta0.05_8xCov/sim-reads/sim8a_s_1_1_sequence.txt SECOND_END_FASTQ=/Users/brant/code/AFS/sim-20haplos_exp-dist_theta0.05_8xCov/sim-reads/sim8a_s_1_2_sequence.txt INCLUDE_NON_PF_READS=true VALIDATION_STRINGENCY=SILENT    OUTPUT_PER_RG=false RE_REVERSE=true READ1_TRIM=0 READ2_TRIM=0 INCLUDE_NON_PRIMARY_ALIGNMENTS=false VERBOSITY=INFO QUIET=false COMPRESSION_LEVEL=5 MAX_RECORDS_IN_RAM=500000 CREATE_INDEX=false CREATE_MD5_FILE=false", 
        "[Tue Jul 24 04:14:46 EDT 2012] Executing as brant@gottuminum.local on Mac OS X 10.7.4 x86_64; Java HotSpot(TM) 64-Bit Server VM 1.6.0_33-b03-424-11M3720; Picard version: 1.73(1234)"
       ]
      }, 
      {
       "output_type": "stream", 
       "stream": "stdout", 
       "text": [
        "[Tue Jul 24 04:14:48 EDT 2012] net.sf.picard.sam.SamToFastq done. Elapsed time: 0.03 minutes.", 
        "Runtime.totalMemory()=85000192"
       ]
      }, 
      {
       "output_type": "stream", 
       "stream": "stdout", 
       "text": [
        "", 
        "/Users/brant/code/AFS/sim-20haplos_exp-dist_theta0.05_8xCov/sim-reads/sim8a_s_1_1_sequence.txt /Users/brant/code/AFS/sim-20haplos_exp-dist_theta0.05_8xCov/sim-reads/sim8a_s_1_2_sequence.txt created", 
        "[bwa_index] Pack FASTA... 0.01 sec", 
        "[bwa_index] Construct BWT for the packed sequence..."
       ]
      }, 
      {
       "output_type": "stream", 
       "stream": "stdout", 
       "text": [
        "[bwa_index] 0.10 seconds elapse.", 
        "[bwa_index] Update BWT... 0.00 sec", 
        "[bwa_index] Pack forward-only FASTA... "
       ]
      }, 
      {
       "output_type": "stream", 
       "stream": "stdout", 
       "text": [
        "0.01 sec", 
        "[bwa_index] Construct SA from BWT and Occ... 0.04 sec", 
        "[main] Version: 0.6.2-r126", 
        "[main] CMD: bwa index /Users/brant/code/AFS/agouti-mc1r.masked.fasta", 
        "[main] Real time: 0.179 sec; CPU: 0.164 sec", 
        "[bwa_aln] 17bp reads: max_diff = 2", 
        "[bwa_aln] 38bp reads: max_diff = 3", 
        "[bwa_aln] 64bp reads: max_diff = 4", 
        "[bwa_aln] 93bp reads: max_diff = 5", 
        "[bwa_aln] 124bp reads: max_diff = 6", 
        "[bwa_aln] 157bp reads: max_diff = 7", 
        "[bwa_aln] 190bp reads: max_diff = 8", 
        "[bwa_aln] 225bp reads: max_diff = 9"
       ]
      }, 
      {
       "output_type": "stream", 
       "stream": "stdout", 
       "text": [
        "[bwa_aln_core] calculate SA coordinate... "
       ]
      }, 
      {
       "output_type": "stream", 
       "stream": "stdout", 
       "text": [
        "0.29 sec", 
        "[bwa_aln_core] write to the disk... "
       ]
      }, 
      {
       "output_type": "stream", 
       "stream": "stdout", 
       "text": [
        "0.00 sec", 
        "[bwa_aln_core] 6913 sequences have been processed."
       ]
      }, 
      {
       "output_type": "stream", 
       "stream": "stdout", 
       "text": [
        "[main] Version: 0.6.2-r126", 
        "[main] CMD: bwa aln /Users/brant/code/AFS/agouti-mc1r.masked.fasta /Users/brant/code/AFS/sim-20haplos_exp-dist_theta0.05_8xCov/sim-reads/sim8a_s_1_1_sequence.txt", 
        "[main] Real time: 0.397 sec; CPU: 0.385 sec", 
        "[bwa_aln] 17bp reads: max_diff = 2", 
        "[bwa_aln] 38bp reads: max_diff = 3", 
        "[bwa_aln] 64bp reads: max_diff = 4", 
        "[bwa_aln] 93bp reads: max_diff = 5", 
        "[bwa_aln] 124bp reads: max_diff = 6", 
        "[bwa_aln] 157bp reads: max_diff = 7", 
        "[bwa_aln] 190bp reads: max_diff = 8", 
        "[bwa_aln] 225bp reads: max_diff = 9", 
        "[bwa_aln_core] calculate SA coordinate... "
       ]
      }, 
      {
       "output_type": "stream", 
       "stream": "stdout", 
       "text": [
        "0.32 sec", 
        "[bwa_aln_core] write to the disk... 0.00 sec", 
        "[bwa_aln_core] 6913 sequences have been processed."
       ]
      }, 
      {
       "output_type": "stream", 
       "stream": "stdout", 
       "text": [
        "[main] Version: 0.6.2-r126", 
        "[main] CMD: bwa aln /Users/brant/code/AFS/agouti-mc1r.masked.fasta /Users/brant/code/AFS/sim-20haplos_exp-dist_theta0.05_8xCov/sim-reads/sim8a_s_1_2_sequence.txt", 
        "[main] Real time: 0.556 sec; CPU: 0.421 sec"
       ]
      }, 
      {
       "output_type": "stream", 
       "stream": "stdout", 
       "text": [
        "[bwa_sai2sam_pe_core] convert to sequence coordinate... ", 
        "[infer_isize] (25, 50, 75) percentile: (187, 199, 211)", 
        "[infer_isize] low and high boundaries: 139 and 259 for estimating avg and std", 
        "[infer_isize] inferred external isize from 2572 pairs: 199.191 +/- 19.148", 
        "[infer_isize] skewness: -0.007; kurtosis: -0.035; ap_prior: 1.17e-05", 
        "[infer_isize] inferred maximum insert size: 307 (5.64 sigma)"
       ]
      }, 
      {
       "output_type": "stream", 
       "stream": "stdout", 
       "text": [
        "[bwa_sai2sam_pe_core] time elapses: 0.04 sec", 
        "[bwa_sai2sam_pe_core] changing coordinates of 22 alignments.", 
        "[bwa_sai2sam_pe_core] align unmapped mate..."
       ]
      }, 
      {
       "output_type": "stream", 
       "stream": "stdout", 
       "text": [
        "[bwa_paired_sw] 874 out of 1274 Q17 singletons are mated.", 
        "[bwa_paired_sw] 1 out of 3 Q17 discordant pairs are fixed.", 
        "[bwa_sai2sam_pe_core] time elapses: 0.30 sec", 
        "[bwa_sai2sam_pe_core] refine gapped alignments... 0.01 sec", 
        "[bwa_sai2sam_pe_core] print alignments... [samopen] SAM header is present: 2 sequences."
       ]
      }, 
      {
       "output_type": "stream", 
       "stream": "stdout", 
       "text": [
        "0.05 sec", 
        "[bwa_sai2sam_pe_core] 6913 sequences have been processed."
       ]
      }, 
      {
       "output_type": "stream", 
       "stream": "stdout", 
       "text": [
        "[main] Version: 0.6.2-r126", 
        "[main] CMD: bwa sampe /Users/brant/code/AFS/agouti-mc1r.masked.fasta /Users/brant/code/AFS/sim-20haplos_exp-dist_theta0.05_8xCov/sim-reads/sim8a_s_1_1_sequence.txt.sai /Users/brant/code/AFS/sim-20haplos_exp-dist_theta0.05_8xCov/sim-reads/sim8a_s_1_2_sequence.txt.sai /Users/brant/code/AFS/sim-20haplos_exp-dist_theta0.05_8xCov/sim-reads/sim8a_s_1_1_sequence.txt /Users/brant/code/AFS/sim-20haplos_exp-dist_theta0.05_8xCov/sim-reads/sim8a_s_1_2_sequence.txt", 
        "[main] Real time: 0.843 sec; CPU: 0.508 sec"
       ]
      }, 
      {
       "output_type": "stream", 
       "stream": "stdout", 
       "text": [
        "[Tue Jul 24 04:14:51 EDT 2012] net.sf.picard.sam.AddOrReplaceReadGroups INPUT=/Users/brant/code/AFS/sim-20haplos_exp-dist_theta0.05_8xCov/sim-reads/sim8a-aln.sorted.bam OUTPUT=/Users/brant/code/AFS/sim-20haplos_exp-dist_theta0.05_8xCov/sim-reads/sim8a-aln.sorted.rg.bam RGID=/Users/brant/code/AFS/sim-20haplos_exp-dist_theta0.05_8xCov/sim-reads/sim8a RGLB=lane1_/Users/brant/code/AFS/sim-20haplos_exp-dist_theta0.05_8xCov/sim-reads/sim8a RGPL=illumina RGPU=lane1 RGSM=sim8    VERBOSITY=INFO QUIET=false VALIDATION_STRINGENCY=STRICT COMPRESSION_LEVEL=5 MAX_RECORDS_IN_RAM=500000 CREATE_INDEX=false CREATE_MD5_FILE=false"
       ]
      }, 
      {
       "output_type": "stream", 
       "stream": "stdout", 
       "text": [
        "[Tue Jul 24 04:14:51 EDT 2012] Executing as brant@gottuminum.local on Mac OS X 10.7.4 x86_64; Java HotSpot(TM) 64-Bit Server VM 1.6.0_33-b03-424-11M3720; Picard version: 1.73(1234)", 
        "INFO\t"
       ]
      }, 
      {
       "output_type": "stream", 
       "stream": "stdout", 
       "text": [
        "2012-07-24 04:14:51\tAddOrReplaceReadGroups\tCreated read group ID=/Users/brant/code/AFS/sim-20haplos_exp-dist_theta0.05_8xCov/sim-reads/sim8a PL=illumina LB=lane1_/Users/brant/code/AFS/sim-20haplos_exp-dist_theta0.05_8xCov/sim-reads/sim8a SM=sim8", 
        ""
       ]
      }, 
      {
       "output_type": "stream", 
       "stream": "stdout", 
       "text": [
        "[Tue Jul 24 04:14:52 EDT 2012] net.sf.picard.sam.AddOrReplaceReadGroups done. Elapsed time: 0.03 minutes.", 
        "Runtime.totalMemory()=85000192"
       ]
      }, 
      {
       "output_type": "stream", 
       "stream": "stdout", 
       "text": [
        "[Tue Jul 24 04:14:55 EDT 2012] net.sf.picard.sam.CreateSequenceDictionary REFERENCE=/Users/brant/code/AFS/sim-20haplos_exp-dist_theta0.05_8xCov/hap12_agouti-mc1r.fa OUTPUT=/Users/brant/code/AFS/sim-20haplos_exp-dist_theta0.05_8xCov/hap12_agouti-mc1r.dict    TRUNCATE_NAMES_AT_WHITESPACE=true NUM_SEQUENCES=2147483647 VERBOSITY=INFO QUIET=false VALIDATION_STRINGENCY=STRICT COMPRESSION_LEVEL=5 MAX_RECORDS_IN_RAM=500000 CREATE_INDEX=false CREATE_MD5_FILE=false", 
        "[Tue Jul 24 04:14:55 EDT 2012] Executing as brant@gottuminum.local on Mac OS X 10.7.4 x86_64; Java HotSpot(TM) 64-Bit Server VM 1.6.0_33-b03-424-11M3720; Picard version: 1.73(1234)"
       ]
      }, 
      {
       "output_type": "stream", 
       "stream": "stdout", 
       "text": [
        "[Tue Jul 24 04:14:55 EDT 2012] net.sf.picard.sam.CreateSequenceDictionary done. Elapsed time: 0.00 minutes.", 
        "Runtime.totalMemory()=85000192", 
        "[samopen] SAM header is present: 2 sequences."
       ]
      }, 
      {
       "output_type": "stream", 
       "stream": "stdout", 
       "text": [
        "[Tue Jul 24 04:14:56 EDT 2012] net.sf.picard.sam.SamToFastq INPUT=/Users/brant/code/AFS/sim-20haplos_exp-dist_theta0.05_8xCov/sim-reads/sim8b-simreads.sorted.bam FASTQ=/Users/brant/code/AFS/sim-20haplos_exp-dist_theta0.05_8xCov/sim-reads/sim8b_s_1_1_sequence.txt SECOND_END_FASTQ=/Users/brant/code/AFS/sim-20haplos_exp-dist_theta0.05_8xCov/sim-reads/sim8b_s_1_2_sequence.txt INCLUDE_NON_PF_READS=true VALIDATION_STRINGENCY=SILENT    OUTPUT_PER_RG=false RE_REVERSE=true READ1_TRIM=0 READ2_TRIM=0 INCLUDE_NON_PRIMARY_ALIGNMENTS=false VERBOSITY=INFO QUIET=false COMPRESSION_LEVEL=5 MAX_RECORDS_IN_RAM=500000 CREATE_INDEX=false CREATE_MD5_FILE=false", 
        "[Tue Jul 24 04:14:56 EDT 2012] Executing as brant@gottuminum.local on Mac OS X 10.7.4 x86_64; Java HotSpot(TM) 64-Bit Server VM 1.6.0_33-b03-424-11M3720; Picard version: 1.73(1234)"
       ]
      }, 
      {
       "output_type": "stream", 
       "stream": "stdout", 
       "text": [
        "[Tue Jul 24 04:14:58 EDT 2012] net.sf.picard.sam.SamToFastq done. Elapsed time: 0.03 minutes.", 
        "Runtime.totalMemory()=85000192", 
        "", 
        "/Users/brant/code/AFS/sim-20haplos_exp-dist_theta0.05_8xCov/sim-reads/sim8b_s_1_1_sequence.txt /Users/brant/code/AFS/sim-20haplos_exp-dist_theta0.05_8xCov/sim-reads/sim8b_s_1_2_sequence.txt created"
       ]
      }, 
      {
       "output_type": "stream", 
       "stream": "stdout", 
       "text": [
        "[bwa_index] Pack FASTA... 0.01 sec", 
        "[bwa_index] Construct BWT for the packed sequence..."
       ]
      }, 
      {
       "output_type": "stream", 
       "stream": "stdout", 
       "text": [
        "[bwa_index] 0.11 seconds elapse.", 
        "[bwa_index] Update BWT... 0.00 sec", 
        "[bwa_index] Pack forward-only FASTA... 0.01 sec", 
        "[bwa_index] Construct SA from BWT and Occ... "
       ]
      }, 
      {
       "output_type": "stream", 
       "stream": "stdout", 
       "text": [
        "0.04 sec", 
        "[main] Version: 0.6.2-r126", 
        "[main] CMD: bwa index /Users/brant/code/AFS/agouti-mc1r.masked.fasta", 
        "[main] Real time: 0.270 sec; CPU: 0.176 sec", 
        "[bwa_aln] 17bp reads: max_diff = 2", 
        "[bwa_aln] 38bp reads: max_diff = 3", 
        "[bwa_aln] 64bp reads: max_diff = 4", 
        "[bwa_aln] 93bp reads: max_diff = 5", 
        "[bwa_aln] 124bp reads: max_diff = 6", 
        "[bwa_aln] 157bp reads: max_diff = 7", 
        "[bwa_aln] 190bp reads: max_diff = 8", 
        "[bwa_aln] 225bp reads: max_diff = 9"
       ]
      }, 
      {
       "output_type": "stream", 
       "stream": "stdout", 
       "text": [
        "[bwa_aln_core] calculate SA coordinate... "
       ]
      }, 
      {
       "output_type": "stream", 
       "stream": "stdout", 
       "text": [
        "0.30 sec", 
        "[bwa_aln_core] write to the disk... 0.00 sec", 
        "[bwa_aln_core] 6913 sequences have been processed."
       ]
      }, 
      {
       "output_type": "stream", 
       "stream": "stdout", 
       "text": [
        "[main] Version: 0.6.2-r126", 
        "[main] CMD: bwa aln /Users/brant/code/AFS/agouti-mc1r.masked.fasta /Users/brant/code/AFS/sim-20haplos_exp-dist_theta0.05_8xCov/sim-reads/sim8b_s_1_1_sequence.txt", 
        "[main] Real time: 0.858 sec; CPU: 0.390 sec", 
        "[bwa_aln] 17bp reads: max_diff = 2", 
        "[bwa_aln] 38bp reads: max_diff = 3", 
        "[bwa_aln] 64bp reads: max_diff = 4", 
        "[bwa_aln] 93bp reads: max_diff = 5", 
        "[bwa_aln] 124bp reads: max_diff = 6", 
        "[bwa_aln] 157bp reads: max_diff = 7", 
        "[bwa_aln] 190bp reads: max_diff = 8", 
        "[bwa_aln] 225bp reads: max_diff = 9", 
        "[bwa_aln_core] calculate SA coordinate... "
       ]
      }, 
      {
       "output_type": "stream", 
       "stream": "stdout", 
       "text": [
        "0.30 sec", 
        "[bwa_aln_core] write to the disk... 0.00 sec", 
        "[bwa_aln_core] 6913 sequences have been processed."
       ]
      }, 
      {
       "output_type": "stream", 
       "stream": "stdout", 
       "text": [
        "[main] Version: 0.6.2-r126", 
        "[main] CMD: bwa aln /Users/brant/code/AFS/agouti-mc1r.masked.fasta /Users/brant/code/AFS/sim-20haplos_exp-dist_theta0.05_8xCov/sim-reads/sim8b_s_1_2_sequence.txt", 
        "[main] Real time: 0.741 sec; CPU: 0.400 sec"
       ]
      }, 
      {
       "output_type": "stream", 
       "stream": "stdout", 
       "text": [
        "[bwa_sai2sam_pe_core] convert to sequence coordinate... "
       ]
      }, 
      {
       "output_type": "stream", 
       "stream": "stdout", 
       "text": [
        "[infer_isize] (25, 50, 75) percentile: (186, 200, 213)", 
        "[infer_isize] low and high boundaries: 132 and 267 for estimating avg and std", 
        "[infer_isize] inferred external isize from 2550 pairs: 199.053 +/- 19.958", 
        "[infer_isize] skewness: -0.023; kurtosis: -0.041; ap_prior: 1.00e-05", 
        "[infer_isize] inferred maximum insert size: 312 (5.64 sigma)", 
        "[bwa_sai2sam_pe_core] time elapses: 0.04 sec", 
        "[bwa_sai2sam_pe_core] changing coordinates of 31 alignments.", 
        "[bwa_sai2sam_pe_core] align unmapped mate..."
       ]
      }, 
      {
       "output_type": "stream", 
       "stream": "stdout", 
       "text": [
        "[bwa_paired_sw] 883 out of 1259 Q17 singletons are mated.", 
        "[bwa_paired_sw] 0 out of 2 Q17 discordant pairs are fixed.", 
        "[bwa_sai2sam_pe_core] time elapses: 0.30 sec", 
        "[bwa_sai2sam_pe_core] refine gapped alignments... "
       ]
      }, 
      {
       "output_type": "stream", 
       "stream": "stdout", 
       "text": [
        "0.01 sec", 
        "[bwa_sai2sam_pe_core] print alignments... [samopen] SAM header is present: 2 sequences."
       ]
      }, 
      {
       "output_type": "stream", 
       "stream": "stdout", 
       "text": [
        "0.05 sec"
       ]
      }, 
      {
       "output_type": "stream", 
       "stream": "stdout", 
       "text": [
        "[bwa_sai2sam_pe_core] 6913 sequences have been processed."
       ]
      }, 
      {
       "output_type": "stream", 
       "stream": "stdout", 
       "text": [
        "[main] Version: 0.6.2-r126", 
        "[main] CMD: bwa sampe /Users/brant/code/AFS/agouti-mc1r.masked.fasta /Users/brant/code/AFS/sim-20haplos_exp-dist_theta0.05_8xCov/sim-reads/sim8b_s_1_1_sequence.txt.sai /Users/brant/code/AFS/sim-20haplos_exp-dist_theta0.05_8xCov/sim-reads/sim8b_s_1_2_sequence.txt.sai /Users/brant/code/AFS/sim-20haplos_exp-dist_theta0.05_8xCov/sim-reads/sim8b_s_1_1_sequence.txt /Users/brant/code/AFS/sim-20haplos_exp-dist_theta0.05_8xCov/sim-reads/sim8b_s_1_2_sequence.txt", 
        "[main] Real time: 2.055 sec; CPU: 0.520 sec"
       ]
      }, 
      {
       "output_type": "stream", 
       "stream": "stdout", 
       "text": [
        "[Tue Jul 24 04:15:05 EDT 2012] net.sf.picard.sam.AddOrReplaceReadGroups INPUT=/Users/brant/code/AFS/sim-20haplos_exp-dist_theta0.05_8xCov/sim-reads/sim8b-aln.sorted.bam OUTPUT=/Users/brant/code/AFS/sim-20haplos_exp-dist_theta0.05_8xCov/sim-reads/sim8b-aln.sorted.rg.bam RGID=/Users/brant/code/AFS/sim-20haplos_exp-dist_theta0.05_8xCov/sim-reads/sim8b RGLB=lane1_/Users/brant/code/AFS/sim-20haplos_exp-dist_theta0.05_8xCov/sim-reads/sim8b RGPL=illumina RGPU=lane1 RGSM=sim8    VERBOSITY=INFO QUIET=false VALIDATION_STRINGENCY=STRICT COMPRESSION_LEVEL=5 MAX_RECORDS_IN_RAM=500000 CREATE_INDEX=false CREATE_MD5_FILE=false", 
        "[Tue Jul 24 04:15:05 EDT 2012] Executing as brant@gottuminum.local on Mac OS X 10.7.4 x86_64; Java HotSpot(TM) 64-Bit Server VM 1.6.0_33-b03-424-11M3720; Picard version: 1.73(1234)"
       ]
      }, 
      {
       "output_type": "stream", 
       "stream": "stdout", 
       "text": [
        "INFO\t2012-07-24 04:15:05\tAddOrReplaceReadGroups\tCreated read group ID=/Users/brant/code/AFS/sim-20haplos_exp-dist_theta0.05_8xCov/sim-reads/sim8b PL=illumina LB=lane1_/Users/brant/code/AFS/sim-20haplos_exp-dist_theta0.05_8xCov/sim-reads/sim8b SM=sim8", 
        ""
       ]
      }, 
      {
       "output_type": "stream", 
       "stream": "stdout", 
       "text": [
        "[Tue Jul 24 04:15:07 EDT 2012] net.sf.picard.sam.AddOrReplaceReadGroups done. Elapsed time: 0.03 minutes.", 
        "Runtime.totalMemory()=85000192"
       ]
      }, 
      {
       "output_type": "stream", 
       "stream": "stdout", 
       "text": [
        "[Tue Jul 24 04:15:12 EDT 2012] net.sf.picard.sam.CreateSequenceDictionary REFERENCE=/Users/brant/code/AFS/sim-20haplos_exp-dist_theta0.05_8xCov/hap15_agouti-mc1r.fa OUTPUT=/Users/brant/code/AFS/sim-20haplos_exp-dist_theta0.05_8xCov/hap15_agouti-mc1r.dict    TRUNCATE_NAMES_AT_WHITESPACE=true NUM_SEQUENCES=2147483647 VERBOSITY=INFO QUIET=false VALIDATION_STRINGENCY=STRICT COMPRESSION_LEVEL=5 MAX_RECORDS_IN_RAM=500000 CREATE_INDEX=false CREATE_MD5_FILE=false", 
        "[Tue Jul 24 04:15:12 EDT 2012] Executing as brant@gottuminum.local on Mac OS X 10.7.4 x86_64; Java HotSpot(TM) 64-Bit Server VM 1.6.0_33-b03-424-11M3720; Picard version: 1.73(1234)"
       ]
      }, 
      {
       "output_type": "stream", 
       "stream": "stdout", 
       "text": [
        "[Tue Jul 24 04:15:12 EDT 2012] net.sf.picard.sam.CreateSequenceDictionary done. Elapsed time: 0.00 minutes.", 
        "Runtime.totalMemory()=85000192", 
        "[samopen] SAM header is present: 2 sequences."
       ]
      }, 
      {
       "output_type": "stream", 
       "stream": "stdout", 
       "text": [
        "[Tue Jul 24 04:15:13 EDT 2012] net.sf.picard.sam.SamToFastq INPUT=/Users/brant/code/AFS/sim-20haplos_exp-dist_theta0.05_8xCov/sim-reads/sim9a-simreads.sorted.bam FASTQ=/Users/brant/code/AFS/sim-20haplos_exp-dist_theta0.05_8xCov/sim-reads/sim9a_s_1_1_sequence.txt SECOND_END_FASTQ=/Users/brant/code/AFS/sim-20haplos_exp-dist_theta0.05_8xCov/sim-reads/sim9a_s_1_2_sequence.txt INCLUDE_NON_PF_READS=true VALIDATION_STRINGENCY=SILENT    OUTPUT_PER_RG=false RE_REVERSE=true READ1_TRIM=0 READ2_TRIM=0 INCLUDE_NON_PRIMARY_ALIGNMENTS=false VERBOSITY=INFO QUIET=false COMPRESSION_LEVEL=5 MAX_RECORDS_IN_RAM=500000 CREATE_INDEX=false CREATE_MD5_FILE=false", 
        "[Tue Jul 24 04:15:13 EDT 2012] Executing as brant@gottuminum.local on Mac OS X 10.7.4 x86_64; Java HotSpot(TM) 64-Bit Server VM 1.6.0_33-b03-424-11M3720; Picard version: 1.73(1234)"
       ]
      }, 
      {
       "output_type": "stream", 
       "stream": "stdout", 
       "text": [
        "[Tue Jul 24 04:15:15 EDT 2012] net.sf.picard.sam.SamToFastq done. Elapsed time: 0.03 minutes.", 
        "Runtime.totalMemory()=85000192", 
        "", 
        "/Users/brant/code/AFS/sim-20haplos_exp-dist_theta0.05_8xCov/sim-reads/sim9a_s_1_1_sequence.txt /Users/brant/code/AFS/sim-20haplos_exp-dist_theta0.05_8xCov/sim-reads/sim9a_s_1_2_sequence.txt created"
       ]
      }, 
      {
       "output_type": "stream", 
       "stream": "stdout", 
       "text": [
        "[bwa_index] Pack FASTA... 0.01 sec", 
        "[bwa_index] Construct BWT for the packed sequence..."
       ]
      }, 
      {
       "output_type": "stream", 
       "stream": "stdout", 
       "text": [
        "[bwa_index] 0.10 seconds elapse.", 
        "[bwa_index] Update BWT... 0.00 sec", 
        "[bwa_index] Pack forward-only FASTA... "
       ]
      }, 
      {
       "output_type": "stream", 
       "stream": "stdout", 
       "text": [
        "0.01 sec", 
        "[bwa_index] Construct SA from BWT and Occ... 0.04 sec", 
        "[main] Version: 0.6.2-r126", 
        "[main] CMD: bwa index /Users/brant/code/AFS/agouti-mc1r.masked.fasta", 
        "[main] Real time: 0.210 sec; CPU: 0.166 sec"
       ]
      }, 
      {
       "output_type": "stream", 
       "stream": "stdout", 
       "text": [
        "[bwa_aln] 17bp reads: max_diff = 2", 
        "[bwa_aln] 38bp reads: max_diff = 3", 
        "[bwa_aln] 64bp reads: max_diff = 4", 
        "[bwa_aln] 93bp reads: max_diff = 5", 
        "[bwa_aln] 124bp reads: max_diff = 6", 
        "[bwa_aln] 157bp reads: max_diff = 7", 
        "[bwa_aln] 190bp reads: max_diff = 8", 
        "[bwa_aln] 225bp reads: max_diff = 9", 
        "[bwa_aln_core] calculate SA coordinate... "
       ]
      }, 
      {
       "output_type": "stream", 
       "stream": "stdout", 
       "text": [
        "0.29 sec", 
        "[bwa_aln_core] write to the disk... 0.00 sec", 
        "[bwa_aln_core] 6913 sequences have been processed."
       ]
      }, 
      {
       "output_type": "stream", 
       "stream": "stdout", 
       "text": [
        "[main] Version: 0.6.2-r126", 
        "[main] CMD: bwa aln /Users/brant/code/AFS/agouti-mc1r.masked.fasta /Users/brant/code/AFS/sim-20haplos_exp-dist_theta0.05_8xCov/sim-reads/sim9a_s_1_1_sequence.txt", 
        "[main] Real time: 0.393 sec; CPU: 0.382 sec"
       ]
      }, 
      {
       "output_type": "stream", 
       "stream": "stdout", 
       "text": [
        "[bwa_aln] 17bp reads: max_diff = 2", 
        "[bwa_aln] 38bp reads: max_diff = 3", 
        "[bwa_aln] 64bp reads: max_diff = 4", 
        "[bwa_aln] 93bp reads: max_diff = 5", 
        "[bwa_aln] 124bp reads: max_diff = 6", 
        "[bwa_aln] 157bp reads: max_diff = 7", 
        "[bwa_aln] 190bp reads: max_diff = 8", 
        "[bwa_aln] 225bp reads: max_diff = 9", 
        "[bwa_aln_core] calculate SA coordinate... "
       ]
      }, 
      {
       "output_type": "stream", 
       "stream": "stdout", 
       "text": [
        "0.31 sec", 
        "[bwa_aln_core] write to the disk... 0.00 sec", 
        "[bwa_aln_core] 6913 sequences have been processed."
       ]
      }, 
      {
       "output_type": "stream", 
       "stream": "stdout", 
       "text": [
        "[main] Version: 0.6.2-r126", 
        "[main] CMD: bwa aln /Users/brant/code/AFS/agouti-mc1r.masked.fasta /Users/brant/code/AFS/sim-20haplos_exp-dist_theta0.05_8xCov/sim-reads/sim9a_s_1_2_sequence.txt", 
        "[main] Real time: 0.415 sec; CPU: 0.405 sec", 
        "[bwa_sai2sam_pe_core] convert to sequence coordinate... "
       ]
      }, 
      {
       "output_type": "stream", 
       "stream": "stdout", 
       "text": [
        "[infer_isize] (25, 50, 75) percentile: (186, 199, 213)", 
        "[infer_isize] low and high boundaries: 132 and 267 for estimating avg and std", 
        "[infer_isize] inferred external isize from 2568 pairs: 199.018 +/- 19.762", 
        "[infer_isize] skewness: -0.022; kurtosis: -0.125; ap_prior: 2.33e-05", 
        "[infer_isize] inferred maximum insert size: 310 (5.64 sigma)", 
        "[bwa_sai2sam_pe_core] time elapses: 0.04 sec", 
        "[bwa_sai2sam_pe_core] changing coordinates of 29 alignments.", 
        "[bwa_sai2sam_pe_core] align unmapped mate..."
       ]
      }, 
      {
       "output_type": "stream", 
       "stream": "stdout", 
       "text": [
        "[bwa_paired_sw] 872 out of 1288 Q17 singletons are mated.", 
        "[bwa_paired_sw] 2 out of 6 Q17 discordant pairs are fixed.", 
        "[bwa_sai2sam_pe_core] time elapses: 0.31 sec", 
        "[bwa_sai2sam_pe_core] refine gapped alignments... "
       ]
      }, 
      {
       "output_type": "stream", 
       "stream": "stdout", 
       "text": [
        "0.01 sec", 
        "[bwa_sai2sam_pe_core] print alignments... [samopen] SAM header is present: 2 sequences."
       ]
      }, 
      {
       "output_type": "stream", 
       "stream": "stdout", 
       "text": [
        "0.05 sec", 
        "[bwa_sai2sam_pe_core] 6913 sequences have been processed."
       ]
      }, 
      {
       "output_type": "stream", 
       "stream": "stdout", 
       "text": [
        "[main] Version: 0.6.2-r126", 
        "[main] CMD: bwa sampe /Users/brant/code/AFS/agouti-mc1r.masked.fasta /Users/brant/code/AFS/sim-20haplos_exp-dist_theta0.05_8xCov/sim-reads/sim9a_s_1_1_sequence.txt.sai /Users/brant/code/AFS/sim-20haplos_exp-dist_theta0.05_8xCov/sim-reads/sim9a_s_1_2_sequence.txt.sai /Users/brant/code/AFS/sim-20haplos_exp-dist_theta0.05_8xCov/sim-reads/sim9a_s_1_1_sequence.txt /Users/brant/code/AFS/sim-20haplos_exp-dist_theta0.05_8xCov/sim-reads/sim9a_s_1_2_sequence.txt", 
        "[main] Real time: 0.993 sec; CPU: 0.518 sec"
       ]
      }, 
      {
       "output_type": "stream", 
       "stream": "stdout", 
       "text": [
        "[Tue Jul 24 04:15:18 EDT 2012] net.sf.picard.sam.AddOrReplaceReadGroups INPUT=/Users/brant/code/AFS/sim-20haplos_exp-dist_theta0.05_8xCov/sim-reads/sim9a-aln.sorted.bam OUTPUT=/Users/brant/code/AFS/sim-20haplos_exp-dist_theta0.05_8xCov/sim-reads/sim9a-aln.sorted.rg.bam RGID=/Users/brant/code/AFS/sim-20haplos_exp-dist_theta0.05_8xCov/sim-reads/sim9a RGLB=lane1_/Users/brant/code/AFS/sim-20haplos_exp-dist_theta0.05_8xCov/sim-reads/sim9a RGPL=illumina RGPU=lane1 RGSM=sim9    VERBOSITY=INFO QUIET=false VALIDATION_STRINGENCY=STRICT COMPRESSION_LEVEL=5 MAX_RECORDS_IN_RAM=500000 CREATE_INDEX=false CREATE_MD5_FILE=false", 
        "[Tue Jul 24 04:15:18 EDT 2012] Executing as brant@gottuminum.local on Mac OS X 10.7.4 x86_64; Java HotSpot(TM) 64-Bit Server VM 1.6.0_33-b03-424-11M3720; Picard version: 1.73(1234)"
       ]
      }, 
      {
       "output_type": "stream", 
       "stream": "stdout", 
       "text": [
        "INFO\t2012-07-24 04:15:18\tAddOrReplaceReadGroups\tCreated read group ID=/Users/brant/code/AFS/sim-20haplos_exp-dist_theta0.05_8xCov/sim-reads/sim9a PL=illumina LB=lane1_/Users/brant/code/AFS/sim-20haplos_exp-dist_theta0.05_8xCov/sim-reads/sim9a SM=sim9", 
        ""
       ]
      }, 
      {
       "output_type": "stream", 
       "stream": "stdout", 
       "text": [
        "[Tue Jul 24 04:15:21 EDT 2012] net.sf.picard.sam.AddOrReplaceReadGroups done. Elapsed time: 0.05 minutes.", 
        "Runtime.totalMemory()=85000192"
       ]
      }, 
      {
       "output_type": "stream", 
       "stream": "stdout", 
       "text": [
        "[Tue Jul 24 04:15:25 EDT 2012] net.sf.picard.sam.CreateSequenceDictionary REFERENCE=/Users/brant/code/AFS/sim-20haplos_exp-dist_theta0.05_8xCov/hap18_agouti-mc1r.fa OUTPUT=/Users/brant/code/AFS/sim-20haplos_exp-dist_theta0.05_8xCov/hap18_agouti-mc1r.dict    TRUNCATE_NAMES_AT_WHITESPACE=true NUM_SEQUENCES=2147483647 VERBOSITY=INFO QUIET=false VALIDATION_STRINGENCY=STRICT COMPRESSION_LEVEL=5 MAX_RECORDS_IN_RAM=500000 CREATE_INDEX=false CREATE_MD5_FILE=false"
       ]
      }, 
      {
       "output_type": "stream", 
       "stream": "stdout", 
       "text": [
        "[Tue Jul 24 04:15:25 EDT 2012] Executing as brant@gottuminum.local on Mac OS X 10.7.4 x86_64; Java HotSpot(TM) 64-Bit Server VM 1.6.0_33-b03-424-11M3720; Picard version: 1.73(1234)"
       ]
      }, 
      {
       "output_type": "stream", 
       "stream": "stdout", 
       "text": [
        "[Tue Jul 24 04:15:25 EDT 2012] net.sf.picard.sam.CreateSequenceDictionary done. Elapsed time: 0.00 minutes.", 
        "Runtime.totalMemory()=85000192"
       ]
      }, 
      {
       "output_type": "stream", 
       "stream": "stdout", 
       "text": [
        "[samopen] SAM header is present: 2 sequences."
       ]
      }, 
      {
       "output_type": "stream", 
       "stream": "stdout", 
       "text": [
        "[Tue Jul 24 04:15:26 EDT 2012] net.sf.picard.sam.SamToFastq INPUT=/Users/brant/code/AFS/sim-20haplos_exp-dist_theta0.05_8xCov/sim-reads/sim9b-simreads.sorted.bam FASTQ=/Users/brant/code/AFS/sim-20haplos_exp-dist_theta0.05_8xCov/sim-reads/sim9b_s_1_1_sequence.txt SECOND_END_FASTQ=/Users/brant/code/AFS/sim-20haplos_exp-dist_theta0.05_8xCov/sim-reads/sim9b_s_1_2_sequence.txt INCLUDE_NON_PF_READS=true VALIDATION_STRINGENCY=SILENT    OUTPUT_PER_RG=false RE_REVERSE=true READ1_TRIM=0 READ2_TRIM=0 INCLUDE_NON_PRIMARY_ALIGNMENTS=false VERBOSITY=INFO QUIET=false COMPRESSION_LEVEL=5 MAX_RECORDS_IN_RAM=500000 CREATE_INDEX=false CREATE_MD5_FILE=false", 
        "[Tue Jul 24 04:15:26 EDT 2012] Executing as brant@gottuminum.local on Mac OS X 10.7.4 x86_64; Java HotSpot(TM) 64-Bit Server VM 1.6.0_33-b03-424-11M3720; Picard version: 1.73(1234)"
       ]
      }, 
      {
       "output_type": "stream", 
       "stream": "stdout", 
       "text": [
        "[Tue Jul 24 04:15:28 EDT 2012] net.sf.picard.sam.SamToFastq done. Elapsed time: 0.03 minutes."
       ]
      }, 
      {
       "output_type": "stream", 
       "stream": "stdout", 
       "text": [
        "Runtime.totalMemory()=85000192", 
        "", 
        "/Users/brant/code/AFS/sim-20haplos_exp-dist_theta0.05_8xCov/sim-reads/sim9b_s_1_1_sequence.txt /Users/brant/code/AFS/sim-20haplos_exp-dist_theta0.05_8xCov/sim-reads/sim9b_s_1_2_sequence.txt created", 
        "[bwa_index] Pack FASTA... 0.01 sec", 
        "[bwa_index] Construct BWT for the packed sequence..."
       ]
      }, 
      {
       "output_type": "stream", 
       "stream": "stdout", 
       "text": [
        "[bwa_index] 0.10 seconds elapse.", 
        "[bwa_index] Update BWT... 0.00 sec", 
        "[bwa_index] Pack forward-only FASTA... 0.01 sec", 
        "[bwa_index] Construct SA from BWT and Occ... "
       ]
      }, 
      {
       "output_type": "stream", 
       "stream": "stdout", 
       "text": [
        "0.04 sec", 
        "[main] Version: 0.6.2-r126", 
        "[main] CMD: bwa index /Users/brant/code/AFS/agouti-mc1r.masked.fasta", 
        "[main] Real time: 0.175 sec; CPU: 0.161 sec", 
        "[bwa_aln] 17bp reads: max_diff = 2", 
        "[bwa_aln] 38bp reads: max_diff = 3", 
        "[bwa_aln] 64bp reads: max_diff = 4", 
        "[bwa_aln] 93bp reads: max_diff = 5", 
        "[bwa_aln] 124bp reads: max_diff = 6", 
        "[bwa_aln] 157bp reads: max_diff = 7", 
        "[bwa_aln] 190bp reads: max_diff = 8", 
        "[bwa_aln] 225bp reads: max_diff = 9"
       ]
      }, 
      {
       "output_type": "stream", 
       "stream": "stdout", 
       "text": [
        "[bwa_aln_core] calculate SA coordinate... "
       ]
      }, 
      {
       "output_type": "stream", 
       "stream": "stdout", 
       "text": [
        "0.29 sec", 
        "[bwa_aln_core] write to the disk... 0.00 sec"
       ]
      }, 
      {
       "output_type": "stream", 
       "stream": "stdout", 
       "text": [
        "[bwa_aln_core] 6913 sequences have been processed."
       ]
      }, 
      {
       "output_type": "stream", 
       "stream": "stdout", 
       "text": [
        "[main] Version: 0.6.2-r126", 
        "[main] CMD: bwa aln /Users/brant/code/AFS/agouti-mc1r.masked.fasta /Users/brant/code/AFS/sim-20haplos_exp-dist_theta0.05_8xCov/sim-reads/sim9b_s_1_1_sequence.txt", 
        "[main] Real time: 0.392 sec; CPU: 0.385 sec", 
        "[bwa_aln] 17bp reads: max_diff = 2", 
        "[bwa_aln] 38bp reads: max_diff = 3", 
        "[bwa_aln] 64bp reads: max_diff = 4", 
        "[bwa_aln] 93bp reads: max_diff = 5", 
        "[bwa_aln] 124bp reads: max_diff = 6", 
        "[bwa_aln] 157bp reads: max_diff = 7", 
        "[bwa_aln] 190bp reads: max_diff = 8", 
        "[bwa_aln] 225bp reads: max_diff = 9", 
        "[bwa_aln_core] calculate SA coordinate... "
       ]
      }, 
      {
       "output_type": "stream", 
       "stream": "stdout", 
       "text": [
        "0.30 sec", 
        "[bwa_aln_core] write to the disk... 0.00 sec"
       ]
      }, 
      {
       "output_type": "stream", 
       "stream": "stdout", 
       "text": [
        "[bwa_aln_core] 6913 sequences have been processed."
       ]
      }, 
      {
       "output_type": "stream", 
       "stream": "stdout", 
       "text": [
        "[main] Version: 0.6.2-r126", 
        "[main] CMD: bwa aln /Users/brant/code/AFS/agouti-mc1r.masked.fasta /Users/brant/code/AFS/sim-20haplos_exp-dist_theta0.05_8xCov/sim-reads/sim9b_s_1_2_sequence.txt", 
        "[main] Real time: 0.396 sec; CPU: 0.392 sec"
       ]
      }, 
      {
       "output_type": "stream", 
       "stream": "stdout", 
       "text": [
        "[bwa_sai2sam_pe_core] convert to sequence coordinate... ", 
        "[infer_isize] (25, 50, 75) percentile: (186, 199, 212)", 
        "[infer_isize] low and high boundaries: 134 and 264 for estimating avg and std", 
        "[infer_isize] inferred external isize from 2639 pairs: 198.931 +/- 19.569", 
        "[infer_isize] skewness: 0.011; kurtosis: 0.001; ap_prior: 1.00e-05", 
        "[infer_isize] inferred maximum insert size: 309 (5.64 sigma)", 
        "[bwa_sai2sam_pe_core] time elapses: 0.04 sec", 
        "[bwa_sai2sam_pe_core] changing coordinates of 36 alignments.", 
        "[bwa_sai2sam_pe_core] align unmapped mate..."
       ]
      }, 
      {
       "output_type": "stream", 
       "stream": "stdout", 
       "text": [
        "[bwa_paired_sw] 859 out of 1310 Q17 singletons are mated.", 
        "[bwa_paired_sw] 0 out of 2 Q17 discordant pairs are fixed.", 
        "[bwa_sai2sam_pe_core] time elapses: 0.30 sec", 
        "[bwa_sai2sam_pe_core] refine gapped alignments... 0.01 sec", 
        "[bwa_sai2sam_pe_core] print alignments... [samopen] SAM header is present: 2 sequences."
       ]
      }, 
      {
       "output_type": "stream", 
       "stream": "stdout", 
       "text": [
        "0.05 sec", 
        "[bwa_sai2sam_pe_core] 6913 sequences have been processed."
       ]
      }, 
      {
       "output_type": "stream", 
       "stream": "stdout", 
       "text": [
        "[main] Version: 0.6.2-r126", 
        "[main] CMD: bwa sampe /Users/brant/code/AFS/agouti-mc1r.masked.fasta /Users/brant/code/AFS/sim-20haplos_exp-dist_theta0.05_8xCov/sim-reads/sim9b_s_1_1_sequence.txt.sai /Users/brant/code/AFS/sim-20haplos_exp-dist_theta0.05_8xCov/sim-reads/sim9b_s_1_2_sequence.txt.sai /Users/brant/code/AFS/sim-20haplos_exp-dist_theta0.05_8xCov/sim-reads/sim9b_s_1_1_sequence.txt /Users/brant/code/AFS/sim-20haplos_exp-dist_theta0.05_8xCov/sim-reads/sim9b_s_1_2_sequence.txt", 
        "[main] Real time: 0.794 sec; CPU: 0.517 sec"
       ]
      }, 
      {
       "output_type": "stream", 
       "stream": "stdout", 
       "text": [
        "[Tue Jul 24 04:15:31 EDT 2012] net.sf.picard.sam.AddOrReplaceReadGroups INPUT=/Users/brant/code/AFS/sim-20haplos_exp-dist_theta0.05_8xCov/sim-reads/sim9b-aln.sorted.bam OUTPUT=/Users/brant/code/AFS/sim-20haplos_exp-dist_theta0.05_8xCov/sim-reads/sim9b-aln.sorted.rg.bam RGID=/Users/brant/code/AFS/sim-20haplos_exp-dist_theta0.05_8xCov/sim-reads/sim9b RGLB=lane1_/Users/brant/code/AFS/sim-20haplos_exp-dist_theta0.05_8xCov/sim-reads/sim9b RGPL=illumina RGPU=lane1 RGSM=sim9    VERBOSITY=INFO QUIET=false VALIDATION_STRINGENCY=STRICT COMPRESSION_LEVEL=5 MAX_RECORDS_IN_RAM=500000 CREATE_INDEX=false CREATE_MD5_FILE=false", 
        "[Tue Jul 24 04:15:31 EDT 2012] Executing as brant@gottuminum.local on Mac OS X 10.7.4 x86_64; Java HotSpot(TM) 64-Bit Server VM 1.6.0_33-b03-424-11M3720; Picard version: 1.73(1234)"
       ]
      }, 
      {
       "output_type": "stream", 
       "stream": "stdout", 
       "text": [
        "INFO\t2012-07-24 04:15:31\tAddOrReplaceReadGroups\tCreated read group ID=/Users/brant/code/AFS/sim-20haplos_exp-dist_theta0.05_8xCov/sim-reads/sim9b PL=illumina LB=lane1_/Users/brant/code/AFS/sim-20haplos_exp-dist_theta0.05_8xCov/sim-reads/sim9b SM=sim9", 
        ""
       ]
      }, 
      {
       "output_type": "stream", 
       "stream": "stdout", 
       "text": [
        "[Tue Jul 24 04:15:32 EDT 2012] net.sf.picard.sam.AddOrReplaceReadGroups done. Elapsed time: 0.02 minutes.", 
        "Runtime.totalMemory()=85000192"
       ]
      }, 
      {
       "output_type": "stream", 
       "stream": "stdout", 
       "text": [
        "[Tue Jul 24 04:15:36 EDT 2012] net.sf.picard.sam.CreateSequenceDictionary REFERENCE=/Users/brant/code/AFS/sim-20haplos_exp-dist_theta0.05_8xCov/hap13_agouti-mc1r.fa OUTPUT=/Users/brant/code/AFS/sim-20haplos_exp-dist_theta0.05_8xCov/hap13_agouti-mc1r.dict    TRUNCATE_NAMES_AT_WHITESPACE=true NUM_SEQUENCES=2147483647 VERBOSITY=INFO QUIET=false VALIDATION_STRINGENCY=STRICT COMPRESSION_LEVEL=5 MAX_RECORDS_IN_RAM=500000 CREATE_INDEX=false CREATE_MD5_FILE=false", 
        "[Tue Jul 24 04:15:36 EDT 2012] Executing as brant@gottuminum.local on Mac OS X 10.7.4 x86_64; Java HotSpot(TM) 64-Bit Server VM 1.6.0_33-b03-424-11M3720; Picard version: 1.73(1234)"
       ]
      }, 
      {
       "output_type": "stream", 
       "stream": "stdout", 
       "text": [
        "[Tue Jul 24 04:15:36 EDT 2012] net.sf.picard.sam.CreateSequenceDictionary done. Elapsed time: 0.00 minutes.", 
        "Runtime.totalMemory()=85000192"
       ]
      }, 
      {
       "output_type": "stream", 
       "stream": "stdout", 
       "text": [
        "[samopen] SAM header is present: 2 sequences."
       ]
      }, 
      {
       "output_type": "stream", 
       "stream": "stdout", 
       "text": [
        "[Tue Jul 24 04:15:38 EDT 2012] net.sf.picard.sam.SamToFastq INPUT=/Users/brant/code/AFS/sim-20haplos_exp-dist_theta0.05_8xCov/sim-reads/sim10a-simreads.sorted.bam FASTQ=/Users/brant/code/AFS/sim-20haplos_exp-dist_theta0.05_8xCov/sim-reads/sim10a_s_1_1_sequence.txt SECOND_END_FASTQ=/Users/brant/code/AFS/sim-20haplos_exp-dist_theta0.05_8xCov/sim-reads/sim10a_s_1_2_sequence.txt INCLUDE_NON_PF_READS=true VALIDATION_STRINGENCY=SILENT    OUTPUT_PER_RG=false RE_REVERSE=true READ1_TRIM=0 READ2_TRIM=0 INCLUDE_NON_PRIMARY_ALIGNMENTS=false VERBOSITY=INFO QUIET=false COMPRESSION_LEVEL=5 MAX_RECORDS_IN_RAM=500000 CREATE_INDEX=false CREATE_MD5_FILE=false", 
        "[Tue Jul 24 04:15:38 EDT 2012] Executing as brant@gottuminum.local on Mac OS X 10.7.4 x86_64; Java HotSpot(TM) 64-Bit Server VM 1.6.0_33-b03-424-11M3720; Picard version: 1.73(1234)"
       ]
      }, 
      {
       "output_type": "stream", 
       "stream": "stdout", 
       "text": [
        "[Tue Jul 24 04:15:40 EDT 2012] net.sf.picard.sam.SamToFastq done. Elapsed time: 0.04 minutes.", 
        "Runtime.totalMemory()=85000192", 
        "", 
        "/Users/brant/code/AFS/sim-20haplos_exp-dist_theta0.05_8xCov/sim-reads/sim10a_s_1_1_sequence.txt /Users/brant/code/AFS/sim-20haplos_exp-dist_theta0.05_8xCov/sim-reads/sim10a_s_1_2_sequence.txt created"
       ]
      }, 
      {
       "output_type": "stream", 
       "stream": "stdout", 
       "text": [
        "[bwa_index] Pack FASTA... 0.01 sec", 
        "[bwa_index] Construct BWT for the packed sequence..."
       ]
      }, 
      {
       "output_type": "stream", 
       "stream": "stdout", 
       "text": [
        "[bwa_index] 0.11 seconds elapse.", 
        "[bwa_index] Update BWT... 0.00 sec", 
        "[bwa_index] Pack forward-only FASTA... 0.01 sec", 
        "[bwa_index] Construct SA from BWT and Occ... "
       ]
      }, 
      {
       "output_type": "stream", 
       "stream": "stdout", 
       "text": [
        "0.04 sec", 
        "[main] Version: 0.6.2-r126", 
        "[main] CMD: bwa index /Users/brant/code/AFS/agouti-mc1r.masked.fasta", 
        "[main] Real time: 0.247 sec; CPU: 0.174 sec"
       ]
      }, 
      {
       "output_type": "stream", 
       "stream": "stdout", 
       "text": [
        "[bwa_aln] 17bp reads: max_diff = 2", 
        "[bwa_aln] 38bp reads: max_diff = 3", 
        "[bwa_aln] 64bp reads: max_diff = 4", 
        "[bwa_aln] 93bp reads: max_diff = 5", 
        "[bwa_aln] 124bp reads: max_diff = 6", 
        "[bwa_aln] 157bp reads: max_diff = 7", 
        "[bwa_aln] 190bp reads: max_diff = 8", 
        "[bwa_aln] 225bp reads: max_diff = 9", 
        "[bwa_aln_core] calculate SA coordinate... "
       ]
      }, 
      {
       "output_type": "stream", 
       "stream": "stdout", 
       "text": [
        "0.31 sec", 
        "[bwa_aln_core] write to the disk... 0.00 sec", 
        "[bwa_aln_core] 6913 sequences have been processed."
       ]
      }, 
      {
       "output_type": "stream", 
       "stream": "stdout", 
       "text": [
        "[main] Version: 0.6.2-r126"
       ]
      }, 
      {
       "output_type": "stream", 
       "stream": "stdout", 
       "text": [
        "[main] CMD: bwa aln /Users/brant/code/AFS/agouti-mc1r.masked.fasta /Users/brant/code/AFS/sim-20haplos_exp-dist_theta0.05_8xCov/sim-reads/sim10a_s_1_1_sequence.txt", 
        "[main] Real time: 0.735 sec; CPU: 0.418 sec", 
        "[bwa_aln] 17bp reads: max_diff = 2", 
        "[bwa_aln] 38bp reads: max_diff = 3", 
        "[bwa_aln] 64bp reads: max_diff = 4", 
        "[bwa_aln] 93bp reads: max_diff = 5", 
        "[bwa_aln] 124bp reads: max_diff = 6", 
        "[bwa_aln] 157bp reads: max_diff = 7", 
        "[bwa_aln] 190bp reads: max_diff = 8", 
        "[bwa_aln] 225bp reads: max_diff = 9"
       ]
      }, 
      {
       "output_type": "stream", 
       "stream": "stdout", 
       "text": [
        "[bwa_aln_core] calculate SA coordinate... "
       ]
      }, 
      {
       "output_type": "stream", 
       "stream": "stdout", 
       "text": [
        "0.32 sec", 
        "[bwa_aln_core] write to the disk... 0.00 sec", 
        "[bwa_aln_core] 6913 sequences have been processed."
       ]
      }, 
      {
       "output_type": "stream", 
       "stream": "stdout", 
       "text": [
        "[main] Version: 0.6.2-r126", 
        "[main] CMD: bwa aln /Users/brant/code/AFS/agouti-mc1r.masked.fasta /Users/brant/code/AFS/sim-20haplos_exp-dist_theta0.05_8xCov/sim-reads/sim10a_s_1_2_sequence.txt", 
        "[main] Real time: 0.654 sec; CPU: 0.419 sec"
       ]
      }, 
      {
       "output_type": "stream", 
       "stream": "stdout", 
       "text": [
        "[bwa_sai2sam_pe_core] convert to sequence coordinate... "
       ]
      }, 
      {
       "output_type": "stream", 
       "stream": "stdout", 
       "text": [
        "[infer_isize] (25, 50, 75) percentile: (187, 199, 212)", 
        "[infer_isize] low and high boundaries: 137 and 262 for estimating avg and std", 
        "[infer_isize] inferred external isize from 2552 pairs: 199.391 +/- 19.294", 
        "[infer_isize] skewness: 0.027; kurtosis: 0.003; ap_prior: 1.18e-05", 
        "[infer_isize] inferred maximum insert size: 308 (5.64 sigma)", 
        "[bwa_sai2sam_pe_core] time elapses: 0.04 sec", 
        "[bwa_sai2sam_pe_core] changing coordinates of 28 alignments.", 
        "[bwa_sai2sam_pe_core] align unmapped mate..."
       ]
      }, 
      {
       "output_type": "stream", 
       "stream": "stdout", 
       "text": [
        "[bwa_paired_sw] 845 out of 1262 Q17 singletons are mated.", 
        "[bwa_paired_sw] 1 out of 3 Q17 discordant pairs are fixed.", 
        "[bwa_sai2sam_pe_core] time elapses: 0.29 sec", 
        "[bwa_sai2sam_pe_core] refine gapped alignments... 0.01 sec", 
        "[bwa_sai2sam_pe_core] print alignments... [samopen] SAM header is present: 2 sequences."
       ]
      }, 
      {
       "output_type": "stream", 
       "stream": "stdout", 
       "text": [
        "0.05 sec"
       ]
      }, 
      {
       "output_type": "stream", 
       "stream": "stdout", 
       "text": [
        "[bwa_sai2sam_pe_core] 6913 sequences have been processed."
       ]
      }, 
      {
       "output_type": "stream", 
       "stream": "stdout", 
       "text": [
        "[main] Version: 0.6.2-r126", 
        "[main] CMD: bwa sampe /Users/brant/code/AFS/agouti-mc1r.masked.fasta /Users/brant/code/AFS/sim-20haplos_exp-dist_theta0.05_8xCov/sim-reads/sim10a_s_1_1_sequence.txt.sai /Users/brant/code/AFS/sim-20haplos_exp-dist_theta0.05_8xCov/sim-reads/sim10a_s_1_2_sequence.txt.sai /Users/brant/code/AFS/sim-20haplos_exp-dist_theta0.05_8xCov/sim-reads/sim10a_s_1_1_sequence.txt /Users/brant/code/AFS/sim-20haplos_exp-dist_theta0.05_8xCov/sim-reads/sim10a_s_1_2_sequence.txt", 
        "[main] Real time: 1.221 sec; CPU: 0.524 sec"
       ]
      }, 
      {
       "output_type": "stream", 
       "stream": "stdout", 
       "text": [
        "[Tue Jul 24 04:15:45 EDT 2012] net.sf.picard.sam.AddOrReplaceReadGroups INPUT=/Users/brant/code/AFS/sim-20haplos_exp-dist_theta0.05_8xCov/sim-reads/sim10a-aln.sorted.bam OUTPUT=/Users/brant/code/AFS/sim-20haplos_exp-dist_theta0.05_8xCov/sim-reads/sim10a-aln.sorted.rg.bam RGID=/Users/brant/code/AFS/sim-20haplos_exp-dist_theta0.05_8xCov/sim-reads/sim10a RGLB=lane1_/Users/brant/code/AFS/sim-20haplos_exp-dist_theta0.05_8xCov/sim-reads/sim10a RGPL=illumina RGPU=lane1 RGSM=sim10    VERBOSITY=INFO QUIET=false VALIDATION_STRINGENCY=STRICT COMPRESSION_LEVEL=5 MAX_RECORDS_IN_RAM=500000 CREATE_INDEX=false CREATE_MD5_FILE=false", 
        "[Tue Jul 24 04:15:45 EDT 2012] Executing as brant@gottuminum.local on Mac OS X 10.7.4 x86_64; Java HotSpot(TM) 64-Bit Server VM 1.6.0_33-b03-424-11M3720; Picard version: 1.73(1234)"
       ]
      }, 
      {
       "output_type": "stream", 
       "stream": "stdout", 
       "text": [
        "INFO\t"
       ]
      }, 
      {
       "output_type": "stream", 
       "stream": "stdout", 
       "text": [
        "2012-07-24 04:15:45\tAddOrReplaceReadGroups\tCreated read group ID=/Users/brant/code/AFS/sim-20haplos_exp-dist_theta0.05_8xCov/sim-reads/sim10a PL=illumina LB=lane1_/Users/brant/code/AFS/sim-20haplos_exp-dist_theta0.05_8xCov/sim-reads/sim10a SM=sim10", 
        ""
       ]
      }, 
      {
       "output_type": "stream", 
       "stream": "stdout", 
       "text": [
        "[Tue Jul 24 04:15:48 EDT 2012] net.sf.picard.sam.AddOrReplaceReadGroups done. Elapsed time: 0.05 minutes.", 
        "Runtime.totalMemory()=85000192"
       ]
      }, 
      {
       "output_type": "stream", 
       "stream": "stdout", 
       "text": [
        "[Tue Jul 24 04:15:52 EDT 2012] net.sf.picard.sam.CreateSequenceDictionary REFERENCE=/Users/brant/code/AFS/sim-20haplos_exp-dist_theta0.05_8xCov/hap9_agouti-mc1r.fa OUTPUT=/Users/brant/code/AFS/sim-20haplos_exp-dist_theta0.05_8xCov/hap9_agouti-mc1r.dict    TRUNCATE_NAMES_AT_WHITESPACE=true NUM_SEQUENCES=2147483647 VERBOSITY=INFO QUIET=false VALIDATION_STRINGENCY=STRICT COMPRESSION_LEVEL=5 MAX_RECORDS_IN_RAM=500000 CREATE_INDEX=false CREATE_MD5_FILE=false", 
        "[Tue Jul 24 04:15:52 EDT 2012] Executing as brant@gottuminum.local on Mac OS X 10.7.4 x86_64; Java HotSpot(TM) 64-Bit Server VM 1.6.0_33-b03-424-11M3720; Picard version: 1.73(1234)"
       ]
      }, 
      {
       "output_type": "stream", 
       "stream": "stdout", 
       "text": [
        "[Tue Jul 24 04:15:52 EDT 2012] net.sf.picard.sam.CreateSequenceDictionary done. Elapsed time: 0.00 minutes.", 
        "Runtime.totalMemory()=85000192"
       ]
      }, 
      {
       "output_type": "stream", 
       "stream": "stdout", 
       "text": [
        "[samopen] SAM header is present: 2 sequences."
       ]
      }, 
      {
       "output_type": "stream", 
       "stream": "stdout", 
       "text": [
        "[Tue Jul 24 04:15:53 EDT 2012] net.sf.picard.sam.SamToFastq INPUT=/Users/brant/code/AFS/sim-20haplos_exp-dist_theta0.05_8xCov/sim-reads/sim10b-simreads.sorted.bam FASTQ=/Users/brant/code/AFS/sim-20haplos_exp-dist_theta0.05_8xCov/sim-reads/sim10b_s_1_1_sequence.txt SECOND_END_FASTQ=/Users/brant/code/AFS/sim-20haplos_exp-dist_theta0.05_8xCov/sim-reads/sim10b_s_1_2_sequence.txt INCLUDE_NON_PF_READS=true VALIDATION_STRINGENCY=SILENT    OUTPUT_PER_RG=false RE_REVERSE=true READ1_TRIM=0 READ2_TRIM=0 INCLUDE_NON_PRIMARY_ALIGNMENTS=false VERBOSITY=INFO QUIET=false COMPRESSION_LEVEL=5 MAX_RECORDS_IN_RAM=500000 CREATE_INDEX=false CREATE_MD5_FILE=false", 
        "[Tue Jul 24 04:15:53 EDT 2012] Executing as brant@gottuminum.local on Mac OS X 10.7.4 x86_64; Java HotSpot(TM) 64-Bit Server VM 1.6.0_33-b03-424-11M3720; Picard version: 1.73(1234)"
       ]
      }, 
      {
       "output_type": "stream", 
       "stream": "stdout", 
       "text": [
        "[Tue Jul 24 04:15:55 EDT 2012] net.sf.picard.sam.SamToFastq done. Elapsed time: 0.03 minutes.", 
        "Runtime.totalMemory()=85000192", 
        "", 
        "/Users/brant/code/AFS/sim-20haplos_exp-dist_theta0.05_8xCov/sim-reads/sim10b_s_1_1_sequence.txt /Users/brant/code/AFS/sim-20haplos_exp-dist_theta0.05_8xCov/sim-reads/sim10b_s_1_2_sequence.txt created"
       ]
      }, 
      {
       "output_type": "stream", 
       "stream": "stdout", 
       "text": [
        "[bwa_index] Pack FASTA... 0.01 sec", 
        "[bwa_index] Construct BWT for the packed sequence..."
       ]
      }, 
      {
       "output_type": "stream", 
       "stream": "stdout", 
       "text": [
        "[bwa_index] 0.10 seconds elapse.", 
        "[bwa_index] Update BWT... 0.00 sec", 
        "[bwa_index] Pack forward-only FASTA... 0.01 sec", 
        "[bwa_index] Construct SA from BWT and Occ... "
       ]
      }, 
      {
       "output_type": "stream", 
       "stream": "stdout", 
       "text": [
        "0.04 sec", 
        "[main] Version: 0.6.2-r126", 
        "[main] CMD: bwa index /Users/brant/code/AFS/agouti-mc1r.masked.fasta", 
        "[main] Real time: 0.179 sec; CPU: 0.167 sec", 
        "[bwa_aln] 17bp reads: max_diff = 2", 
        "[bwa_aln] 38bp reads: max_diff = 3", 
        "[bwa_aln] 64bp reads: max_diff = 4", 
        "[bwa_aln] 93bp reads: max_diff = 5", 
        "[bwa_aln] 124bp reads: max_diff = 6", 
        "[bwa_aln] 157bp reads: max_diff = 7", 
        "[bwa_aln] 190bp reads: max_diff = 8", 
        "[bwa_aln] 225bp reads: max_diff = 9", 
        "[bwa_aln_core] calculate SA coordinate... "
       ]
      }, 
      {
       "output_type": "stream", 
       "stream": "stdout", 
       "text": [
        "0.29 sec", 
        "[bwa_aln_core] write to the disk... 0.00 sec", 
        "[bwa_aln_core] 6913 sequences have been processed."
       ]
      }, 
      {
       "output_type": "stream", 
       "stream": "stdout", 
       "text": [
        "[main] Version: 0.6.2-r126", 
        "[main] CMD: bwa aln /Users/brant/code/AFS/agouti-mc1r.masked.fasta /Users/brant/code/AFS/sim-20haplos_exp-dist_theta0.05_8xCov/sim-reads/sim10b_s_1_1_sequence.txt", 
        "[main] Real time: 0.408 sec; CPU: 0.392 sec", 
        "[bwa_aln] 17bp reads: max_diff = 2", 
        "[bwa_aln] 38bp reads: max_diff = 3", 
        "[bwa_aln] 64bp reads: max_diff = 4", 
        "[bwa_aln] 93bp reads: max_diff = 5", 
        "[bwa_aln] 124bp reads: max_diff = 6", 
        "[bwa_aln] 157bp reads: max_diff = 7", 
        "[bwa_aln] 190bp reads: max_diff = 8", 
        "[bwa_aln] 225bp reads: max_diff = 9", 
        "[bwa_aln_core] calculate SA coordinate... "
       ]
      }, 
      {
       "output_type": "stream", 
       "stream": "stdout", 
       "text": [
        "0.31 sec", 
        "[bwa_aln_core] write to the disk... 0.00 sec", 
        "[bwa_aln_core] 6913 sequences have been processed."
       ]
      }, 
      {
       "output_type": "stream", 
       "stream": "stdout", 
       "text": [
        "[main] Version: 0.6.2-r126", 
        "[main] CMD: bwa aln /Users/brant/code/AFS/agouti-mc1r.masked.fasta /Users/brant/code/AFS/sim-20haplos_exp-dist_theta0.05_8xCov/sim-reads/sim10b_s_1_2_sequence.txt", 
        "[main] Real time: 0.411 sec; CPU: 0.408 sec"
       ]
      }, 
      {
       "output_type": "stream", 
       "stream": "stdout", 
       "text": [
        "[bwa_sai2sam_pe_core] convert to sequence coordinate... ", 
        "[infer_isize] (25, 50, 75) percentile: (187, 200, 212)", 
        "[infer_isize] low and high boundaries: 137 and 262 for estimating avg and std", 
        "[infer_isize] inferred external isize from 2576 pairs: 199.149 +/- 19.219", 
        "[infer_isize] skewness: -0.077; kurtosis: -0.085; ap_prior: 1.00e-05", 
        "[infer_isize] inferred maximum insert size: 308 (5.64 sigma)"
       ]
      }, 
      {
       "output_type": "stream", 
       "stream": "stdout", 
       "text": [
        "[bwa_sai2sam_pe_core] time elapses: 0.03 sec", 
        "[bwa_sai2sam_pe_core] changing coordinates of 32 alignments.", 
        "[bwa_sai2sam_pe_core] align unmapped mate..."
       ]
      }, 
      {
       "output_type": "stream", 
       "stream": "stdout", 
       "text": [
        "[bwa_paired_sw] 911 out of 1308 Q17 singletons are mated.", 
        "[bwa_paired_sw] 0 out of 2 Q17 discordant pairs are fixed.", 
        "[bwa_sai2sam_pe_core] time elapses: 0.31 sec", 
        "[bwa_sai2sam_pe_core] refine gapped alignments... 0.01 sec", 
        "[bwa_sai2sam_pe_core] print alignments... [samopen] SAM header is present: 2 sequences."
       ]
      }, 
      {
       "output_type": "stream", 
       "stream": "stdout", 
       "text": [
        "0.04 sec", 
        "[bwa_sai2sam_pe_core] 6913 sequences have been processed."
       ]
      }, 
      {
       "output_type": "stream", 
       "stream": "stdout", 
       "text": [
        "[main] Version: 0.6.2-r126", 
        "[main] CMD: bwa sampe /Users/brant/code/AFS/agouti-mc1r.masked.fasta /Users/brant/code/AFS/sim-20haplos_exp-dist_theta0.05_8xCov/sim-reads/sim10b_s_1_1_sequence.txt.sai /Users/brant/code/AFS/sim-20haplos_exp-dist_theta0.05_8xCov/sim-reads/sim10b_s_1_2_sequence.txt.sai /Users/brant/code/AFS/sim-20haplos_exp-dist_theta0.05_8xCov/sim-reads/sim10b_s_1_1_sequence.txt /Users/brant/code/AFS/sim-20haplos_exp-dist_theta0.05_8xCov/sim-reads/sim10b_s_1_2_sequence.txt", 
        "[main] Real time: 0.800 sec; CPU: 0.523 sec"
       ]
      }, 
      {
       "output_type": "stream", 
       "stream": "stdout", 
       "text": [
        "[Tue Jul 24 04:15:58 EDT 2012] net.sf.picard.sam.AddOrReplaceReadGroups INPUT=/Users/brant/code/AFS/sim-20haplos_exp-dist_theta0.05_8xCov/sim-reads/sim10b-aln.sorted.bam OUTPUT=/Users/brant/code/AFS/sim-20haplos_exp-dist_theta0.05_8xCov/sim-reads/sim10b-aln.sorted.rg.bam RGID=/Users/brant/code/AFS/sim-20haplos_exp-dist_theta0.05_8xCov/sim-reads/sim10b RGLB=lane1_/Users/brant/code/AFS/sim-20haplos_exp-dist_theta0.05_8xCov/sim-reads/sim10b RGPL=illumina RGPU=lane1 RGSM=sim10    VERBOSITY=INFO QUIET=false VALIDATION_STRINGENCY=STRICT COMPRESSION_LEVEL=5 MAX_RECORDS_IN_RAM=500000 CREATE_INDEX=false CREATE_MD5_FILE=false", 
        "[Tue Jul 24 04:15:58 EDT 2012] Executing as brant@gottuminum.local on Mac OS X 10.7.4 x86_64; Java HotSpot(TM) 64-Bit Server VM 1.6.0_33-b03-424-11M3720; Picard version: 1.73(1234)"
       ]
      }, 
      {
       "output_type": "stream", 
       "stream": "stdout", 
       "text": [
        "INFO\t2012-07-24 04:15:58\tAddOrReplaceReadGroups\tCreated read group ID=/Users/brant/code/AFS/sim-20haplos_exp-dist_theta0.05_8xCov/sim-reads/sim10b PL=illumina LB=lane1_/Users/brant/code/AFS/sim-20haplos_exp-dist_theta0.05_8xCov/sim-reads/sim10b SM=sim10", 
        ""
       ]
      }, 
      {
       "output_type": "stream", 
       "stream": "stdout", 
       "text": [
        "[Tue Jul 24 04:16:00 EDT 2012] net.sf.picard.sam.AddOrReplaceReadGroups done. Elapsed time: 0.03 minutes.", 
        "Runtime.totalMemory()=85000192"
       ]
      }
     ], 
     "prompt_number": 250
    }, 
    {
     "cell_type": "code", 
     "collapsed": true, 
     "input": [
      "bams = glob(outdir+'sim-reads/*.rg.bam')", 
      "Istr = ' -I '.join(bams)", 
      "vcf = outdir+'all.vcf'", 
      "java_ram = '1g'", 
      "jar = os.path.expanduser('~/jars/gatk/GenomeAnalysisTK.jar')", 
      "gatkcmd = 'java -Xmx%s -jar %s -T UnifiedGenotyper -I %s -R %s -o %s -maxAlleles 1 -out_mode EMIT_ALL_SITES' % (java_ram, jar, Istr, map_reference, vcf)", 
      "!$gatkcmd"
     ], 
     "language": "python", 
     "outputs": [
      {
       "output_type": "stream", 
       "stream": "stdout", 
       "text": [
        "INFO  04:16:10,474 HelpFormatter - --------------------------------------------------------------------------------- ", 
        "INFO  04:16:10,477 HelpFormatter - The Genome Analysis Toolkit (GATK) v1.6-13-g91f02df, Compiled 2012/07/23 13:34:16 ", 
        "INFO  04:16:10,478 HelpFormatter - Copyright (c) 2010 The Broad Institute ", 
        "INFO  04:16:10,478 HelpFormatter - Please view our documentation at http://www.broadinstitute.org/gsa/wiki ", 
        "INFO  04:16:10,478 HelpFormatter - For support, please view our support site at http://getsatisfaction.com/gsa ", 
        "INFO  04:16:10,479 HelpFormatter - Program Args: -T UnifiedGenotyper -I /Users/brant/code/AFS/sim-20haplos_exp-dist_theta0.05_8xCov/sim-reads/sim10a-aln.sorted.rg.bam -I /Users/brant/code/AFS/sim-20haplos_exp-dist_theta0.05_8xCov/sim-reads/sim10b-aln.sorted.rg.bam -I /Users/brant/code/AFS/sim-20haplos_exp-dist_theta0.05_8xCov/sim-reads/sim1a-aln.sorted.rg.bam -I /Users/brant/code/AFS/sim-20haplos_exp-dist_theta0.05_8xCov/sim-reads/sim1b-aln.sorted.rg.bam -I /Users/brant/code/AFS/sim-20haplos_exp-dist_theta0.05_8xCov/sim-reads/sim2a-aln.sorted.rg.bam -I /Users/brant/code/AFS/sim-20haplos_exp-dist_theta0.05_8xCov/sim-reads/sim2b-aln.sorted.rg.bam -I /Users/brant/code/AFS/sim-20haplos_exp-dist_theta0.05_8xCov/sim-reads/sim3a-aln.sorted.rg.bam -I /Users/brant/code/AFS/sim-20haplos_exp-dist_theta0.05_8xCov/sim-reads/sim3b-aln.sorted.rg.bam -I /Users/brant/code/AFS/sim-20haplos_exp-dist_theta0.05_8xCov/sim-reads/sim4a-aln.sorted.rg.bam -I /Users/brant/code/AFS/sim-20haplos_exp-dist_theta0.05_8xCov/sim-reads/sim4b-aln.sorted.rg.bam -I /Users/brant/code/AFS/sim-20haplos_exp-dist_theta0.05_8xCov/sim-reads/sim5a-aln.sorted.rg.bam -I /Users/brant/code/AFS/sim-20haplos_exp-dist_theta0.05_8xCov/sim-reads/sim5b-aln.sorted.rg.bam -I /Users/brant/code/AFS/sim-20haplos_exp-dist_theta0.05_8xCov/sim-reads/sim6a-aln.sorted.rg.bam -I /Users/brant/code/AFS/sim-20haplos_exp-dist_theta0.05_8xCov/sim-reads/sim6b-aln.sorted.rg.bam -I /Users/brant/code/AFS/sim-20haplos_exp-dist_theta0.05_8xCov/sim-reads/sim7a-aln.sorted.rg.bam -I /Users/brant/code/AFS/sim-20haplos_exp-dist_theta0.05_8xCov/sim-reads/sim7b-aln.sorted.rg.bam -I /Users/brant/code/AFS/sim-20haplos_exp-dist_theta0.05_8xCov/sim-reads/sim8a-aln.sorted.rg.bam -I /Users/brant/code/AFS/sim-20haplos_exp-dist_theta0.05_8xCov/sim-reads/sim8b-aln.sorted.rg.bam -I /Users/brant/code/AFS/sim-20haplos_exp-dist_theta0.05_8xCov/sim-reads/sim9a-aln.sorted.rg.bam -I /Users/brant/code/AFS/sim-20haplos_exp-dist_theta0.05_8xCov/sim-reads/sim9b-aln.sorted.rg.bam -R /Users/brant/code/AFS/agouti-mc1r.masked.fasta -o /Users/brant/code/AFS/sim-20haplos_exp-dist_theta0.05_8xCov/all.vcf -maxAlleles 1 -out_mode EMIT_ALL_SITES ", 
        "INFO  04:16:10,481 HelpFormatter - Date/Time: 2012/07/24 04:16:10 ", 
        "INFO  04:16:10,481 HelpFormatter - --------------------------------------------------------------------------------- ", 
        "INFO  04:16:10,481 HelpFormatter - --------------------------------------------------------------------------------- "
       ]
      }, 
      {
       "output_type": "stream", 
       "stream": "stdout", 
       "text": [
        "INFO  04:16:10,526 GenomeAnalysisEngine - Strictness is SILENT "
       ]
      }, 
      {
       "output_type": "stream", 
       "stream": "stdout", 
       "text": [
        "INFO  04:16:10,599 SAMDataSource$SAMReaders - Initializing SAMRecords in serial "
       ]
      }, 
      {
       "output_type": "stream", 
       "stream": "stdout", 
       "text": [
        "INFO  04:16:10,735 SAMDataSource$SAMReaders - Done initializing BAM readers: total time 0.13 "
       ]
      }, 
      {
       "output_type": "stream", 
       "stream": "stdout", 
       "text": [
        "INFO  04:16:11,338 TraversalEngine - [INITIALIZATION COMPLETE; TRAVERSAL STARTING] ", 
        "INFO  04:16:11,339 TraversalEngine -        Location processed.sites  runtime per.1M.sites completed total.runtime remaining "
       ]
      }, 
      {
       "output_type": "stream", 
       "stream": "stdout", 
       "text": [
        "WARN  04:16:14,438 ExactAFCalculationModel - this tool is currently set to genotype at most 1 alternate alleles in a given context, but the context at agouti_bac:1421 has 2 alternate alleles so only the top alleles will be used; see the --max_alternate_alleles argument "
       ]
      }, 
      {
       "output_type": "stream", 
       "stream": "stdout", 
       "text": [
        "WARN  04:16:14,920 ExactAFCalculationModel - this tool is currently set to genotype at most 1 alternate alleles in a given context, but the context at agouti_bac:1562 has 2 alternate alleles so only the top alleles will be used; see the --max_alternate_alleles argument "
       ]
      }, 
      {
       "output_type": "stream", 
       "stream": "stdout", 
       "text": [
        "WARN  04:16:15,170 ExactAFCalculationModel - this tool is currently set to genotype at most 1 alternate alleles in a given context, but the context at agouti_bac:1683 has 2 alternate alleles so only the top alleles will be used; see the --max_alternate_alleles argument "
       ]
      }, 
      {
       "output_type": "stream", 
       "stream": "stdout", 
       "text": [
        "WARN  04:16:16,125 ExactAFCalculationModel - this tool is currently set to genotype at most 1 alternate alleles in a given context, but the context at agouti_bac:2037 has 2 alternate alleles so only the top alleles will be used; see the --max_alternate_alleles argument "
       ]
      }, 
      {
       "output_type": "stream", 
       "stream": "stdout", 
       "text": [
        "WARN  04:16:16,546 ExactAFCalculationModel - this tool is currently set to genotype at most 1 alternate alleles in a given context, but the context at agouti_bac:2660 has 2 alternate alleles so only the top alleles will be used; see the --max_alternate_alleles argument "
       ]
      }, 
      {
       "output_type": "stream", 
       "stream": "stdout", 
       "text": [
        "WARN  04:16:17,053 ExactAFCalculationModel - this tool is currently set to genotype at most 1 alternate alleles in a given context, but the context at agouti_bac:2912 has 2 alternate alleles so only the top alleles will be used; see the --max_alternate_alleles argument "
       ]
      }, 
      {
       "output_type": "stream", 
       "stream": "stdout", 
       "text": [
        "WARN  04:16:18,306 ExactAFCalculationModel - this tool is currently set to genotype at most 1 alternate alleles in a given context, but the context at agouti_bac:3528 has 2 alternate alleles so only the top alleles will be used; see the --max_alternate_alleles argument "
       ]
      }, 
      {
       "output_type": "stream", 
       "stream": "stdout", 
       "text": [
        "WARN  04:16:18,598 ExactAFCalculationModel - this tool is currently set to genotype at most 1 alternate alleles in a given context, but the context at agouti_bac:4044 has 2 alternate alleles so only the top alleles will be used; see the --max_alternate_alleles argument "
       ]
      }, 
      {
       "output_type": "stream", 
       "stream": "stdout", 
       "text": [
        "WARN  04:16:18,848 ExactAFCalculationModel - this tool is currently set to genotype at most 1 alternate alleles in a given context, but the context at agouti_bac:5097 has 2 alternate alleles so only the top alleles will be used; see the --max_alternate_alleles argument "
       ]
      }, 
      {
       "output_type": "stream", 
       "stream": "stdout", 
       "text": [
        "WARN  04:16:18,975 ExactAFCalculationModel - this tool is currently set to genotype at most 1 alternate alleles in a given context, but the context at agouti_bac:5207 has 2 alternate alleles so only the top alleles will be used; see the --max_alternate_alleles argument "
       ]
      }, 
      {
       "output_type": "stream", 
       "stream": "stdout", 
       "text": [
        "WARN  04:16:19,094 ExactAFCalculationModel - this tool is currently set to genotype at most 1 alternate alleles in a given context, but the context at agouti_bac:5356 has 2 alternate alleles so only the top alleles will be used; see the --max_alternate_alleles argument "
       ]
      }, 
      {
       "output_type": "stream", 
       "stream": "stdout", 
       "text": [
        "WARN  04:16:19,427 ExactAFCalculationModel - this tool is currently set to genotype at most 1 alternate alleles in a given context, but the context at agouti_bac:5642 has 2 alternate alleles so only the top alleles will be used; see the --max_alternate_alleles argument "
       ]
      }, 
      {
       "output_type": "stream", 
       "stream": "stdout", 
       "text": [
        "WARN  04:16:19,515 ExactAFCalculationModel - this tool is currently set to genotype at most 1 alternate alleles in a given context, but the context at agouti_bac:5734 has 2 alternate alleles so only the top alleles will be used; see the --max_alternate_alleles argument ", 
        "WARN  04:16:19,520 ExactAFCalculationModel - this tool is currently set to genotype at most 1 alternate alleles in a given context, but the context at agouti_bac:5740 has 2 alternate alleles so only the top alleles will be used; see the --max_alternate_alleles argument "
       ]
      }, 
      {
       "output_type": "stream", 
       "stream": "stdout", 
       "text": [
        "WARN  04:16:19,822 ExactAFCalculationModel - this tool is currently set to genotype at most 1 alternate alleles in a given context, but the context at agouti_bac:6380 has 2 alternate alleles so only the top alleles will be used; see the --max_alternate_alleles argument "
       ]
      }, 
      {
       "output_type": "stream", 
       "stream": "stdout", 
       "text": [
        "WARN  04:16:20,146 ExactAFCalculationModel - this tool is currently set to genotype at most 1 alternate alleles in a given context, but the context at agouti_bac:6884 has 2 alternate alleles so only the top alleles will be used; see the --max_alternate_alleles argument "
       ]
      }, 
      {
       "output_type": "stream", 
       "stream": "stdout", 
       "text": [
        "WARN  04:16:20,240 ExactAFCalculationModel - this tool is currently set to genotype at most 1 alternate alleles in a given context, but the context at agouti_bac:8467 has 3 alternate alleles so only the top alleles will be used; see the --max_alternate_alleles argument "
       ]
      }, 
      {
       "output_type": "stream", 
       "stream": "stdout", 
       "text": [
        "WARN  04:16:20,356 ExactAFCalculationModel - this tool is currently set to genotype at most 1 alternate alleles in a given context, but the context at agouti_bac:8675 has 2 alternate alleles so only the top alleles will be used; see the --max_alternate_alleles argument ", 
        "WARN  04:16:20,361 ExactAFCalculationModel - this tool is currently set to genotype at most 1 alternate alleles in a given context, but the context at agouti_bac:8686 has 2 alternate alleles so only the top alleles will be used; see the --max_alternate_alleles argument "
       ]
      }, 
      {
       "output_type": "stream", 
       "stream": "stdout", 
       "text": [
        "WARN  04:16:20,410 ExactAFCalculationModel - this tool is currently set to genotype at most 1 alternate alleles in a given context, but the context at agouti_bac:8793 has 2 alternate alleles so only the top alleles will be used; see the --max_alternate_alleles argument "
       ]
      }, 
      {
       "output_type": "stream", 
       "stream": "stdout", 
       "text": [
        "WARN  04:16:20,785 ExactAFCalculationModel - this tool is currently set to genotype at most 1 alternate alleles in a given context, but the context at agouti_bac:9951 has 2 alternate alleles so only the top alleles will be used; see the --max_alternate_alleles argument "
       ]
      }, 
      {
       "output_type": "stream", 
       "stream": "stdout", 
       "text": [
        "WARN  04:16:20,840 ExactAFCalculationModel - this tool is currently set to genotype at most 1 alternate alleles in a given context, but the context at agouti_bac:10068 has 2 alternate alleles so only the top alleles will be used; see the --max_alternate_alleles argument ", 
        "WARN  04:16:20,842 ExactAFCalculationModel - this tool is currently set to genotype at most 1 alternate alleles in a given context, but the context at agouti_bac:10072 has 2 alternate alleles so only the top alleles will be used; see the --max_alternate_alleles argument "
       ]
      }, 
      {
       "output_type": "stream", 
       "stream": "stdout", 
       "text": [
        "WARN  04:16:20,928 ExactAFCalculationModel - this tool is currently set to genotype at most 1 alternate alleles in a given context, but the context at agouti_bac:10697 has 2 alternate alleles so only the top alleles will be used; see the --max_alternate_alleles argument "
       ]
      }, 
      {
       "output_type": "stream", 
       "stream": "stdout", 
       "text": [
        "WARN  04:16:21,010 ExactAFCalculationModel - this tool is currently set to genotype at most 1 alternate alleles in a given context, but the context at agouti_bac:10797 has 2 alternate alleles so only the top alleles will be used; see the --max_alternate_alleles argument "
       ]
      }, 
      {
       "output_type": "stream", 
       "stream": "stdout", 
       "text": [
        "WARN  04:16:21,233 ExactAFCalculationModel - this tool is currently set to genotype at most 1 alternate alleles in a given context, but the context at agouti_bac:11301 has 2 alternate alleles so only the top alleles will be used; see the --max_alternate_alleles argument "
       ]
      }, 
      {
       "output_type": "stream", 
       "stream": "stdout", 
       "text": [
        "WARN  04:16:21,288 ExactAFCalculationModel - this tool is currently set to genotype at most 1 alternate alleles in a given context, but the context at agouti_bac:11413 has 2 alternate alleles so only the top alleles will be used; see the --max_alternate_alleles argument "
       ]
      }, 
      {
       "output_type": "stream", 
       "stream": "stdout", 
       "text": [
        "WARN  04:16:21,464 ExactAFCalculationModel - this tool is currently set to genotype at most 1 alternate alleles in a given context, but the context at agouti_bac:11792 has 2 alternate alleles so only the top alleles will be used; see the --max_alternate_alleles argument "
       ]
      }, 
      {
       "output_type": "stream", 
       "stream": "stdout", 
       "text": [
        "WARN  04:16:21,790 ExactAFCalculationModel - this tool is currently set to genotype at most 1 alternate alleles in a given context, but the context at agouti_bac:12071 has 2 alternate alleles so only the top alleles will be used; see the --max_alternate_alleles argument "
       ]
      }, 
      {
       "output_type": "stream", 
       "stream": "stdout", 
       "text": [
        "WARN  04:16:21,903 ExactAFCalculationModel - this tool is currently set to genotype at most 1 alternate alleles in a given context, but the context at agouti_bac:12209 has 2 alternate alleles so only the top alleles will be used; see the --max_alternate_alleles argument "
       ]
      }, 
      {
       "output_type": "stream", 
       "stream": "stdout", 
       "text": [
        "WARN  04:16:22,728 ExactAFCalculationModel - this tool is currently set to genotype at most 1 alternate alleles in a given context, but the context at agouti_bac:14583 has 2 alternate alleles so only the top alleles will be used; see the --max_alternate_alleles argument "
       ]
      }, 
      {
       "output_type": "stream", 
       "stream": "stdout", 
       "text": [
        "WARN  04:16:22,863 ExactAFCalculationModel - this tool is currently set to genotype at most 1 alternate alleles in a given context, but the context at agouti_bac:15210 has 2 alternate alleles so only the top alleles will be used; see the --max_alternate_alleles argument "
       ]
      }, 
      {
       "output_type": "stream", 
       "stream": "stdout", 
       "text": [
        "WARN  04:16:23,908 ExactAFCalculationModel - this tool is currently set to genotype at most 1 alternate alleles in a given context, but the context at agouti_bac:16825 has 2 alternate alleles so only the top alleles will be used; see the --max_alternate_alleles argument "
       ]
      }, 
      {
       "output_type": "stream", 
       "stream": "stdout", 
       "text": [
        "WARN  04:16:24,121 ExactAFCalculationModel - this tool is currently set to genotype at most 1 alternate alleles in a given context, but the context at agouti_bac:17022 has 2 alternate alleles so only the top alleles will be used; see the --max_alternate_alleles argument "
       ]
      }, 
      {
       "output_type": "stream", 
       "stream": "stdout", 
       "text": [
        "WARN  04:16:24,212 ExactAFCalculationModel - this tool is currently set to genotype at most 1 alternate alleles in a given context, but the context at agouti_bac:17223 has 2 alternate alleles so only the top alleles will be used; see the --max_alternate_alleles argument "
       ]
      }, 
      {
       "output_type": "stream", 
       "stream": "stdout", 
       "text": [
        "WARN  04:16:25,143 ExactAFCalculationModel - this tool is currently set to genotype at most 1 alternate alleles in a given context, but the context at agouti_bac:19308 has 2 alternate alleles so only the top alleles will be used; see the --max_alternate_alleles argument "
       ]
      }, 
      {
       "output_type": "stream", 
       "stream": "stdout", 
       "text": [
        "WARN  04:16:25,599 ExactAFCalculationModel - this tool is currently set to genotype at most 1 alternate alleles in a given context, but the context at agouti_bac:19711 has 2 alternate alleles so only the top alleles will be used; see the --max_alternate_alleles argument "
       ]
      }, 
      {
       "output_type": "stream", 
       "stream": "stdout", 
       "text": [
        "WARN  04:16:25,777 ExactAFCalculationModel - this tool is currently set to genotype at most 1 alternate alleles in a given context, but the context at agouti_bac:20535 has 2 alternate alleles so only the top alleles will be used; see the --max_alternate_alleles argument "
       ]
      }, 
      {
       "output_type": "stream", 
       "stream": "stdout", 
       "text": [
        "WARN  04:16:25,899 ExactAFCalculationModel - this tool is currently set to genotype at most 1 alternate alleles in a given context, but the context at agouti_bac:21393 has 2 alternate alleles so only the top alleles will be used; see the --max_alternate_alleles argument "
       ]
      }, 
      {
       "output_type": "stream", 
       "stream": "stdout", 
       "text": [
        "WARN  04:16:26,093 ExactAFCalculationModel - this tool is currently set to genotype at most 1 alternate alleles in a given context, but the context at agouti_bac:22355 has 2 alternate alleles so only the top alleles will be used; see the --max_alternate_alleles argument ", 
        "WARN  04:16:26,098 ExactAFCalculationModel - this tool is currently set to genotype at most 1 alternate alleles in a given context, but the context at agouti_bac:22374 has 2 alternate alleles so only the top alleles will be used; see the --max_alternate_alleles argument "
       ]
      }, 
      {
       "output_type": "stream", 
       "stream": "stdout", 
       "text": [
        "WARN  04:16:26,224 ExactAFCalculationModel - this tool is currently set to genotype at most 1 alternate alleles in a given context, but the context at agouti_bac:22556 has 2 alternate alleles so only the top alleles will be used; see the --max_alternate_alleles argument "
       ]
      }, 
      {
       "output_type": "stream", 
       "stream": "stdout", 
       "text": [
        "WARN  04:16:26,387 ExactAFCalculationModel - this tool is currently set to genotype at most 1 alternate alleles in a given context, but the context at agouti_bac:22613 has 2 alternate alleles so only the top alleles will be used; see the --max_alternate_alleles argument "
       ]
      }, 
      {
       "output_type": "stream", 
       "stream": "stdout", 
       "text": [
        "WARN  04:16:26,397 ExactAFCalculationModel - this tool is currently set to genotype at most 1 alternate alleles in a given context, but the context at agouti_bac:22637 has 2 alternate alleles so only the top alleles will be used; see the --max_alternate_alleles argument ", 
        "WARN  04:16:26,419 ExactAFCalculationModel - this tool is currently set to genotype at most 1 alternate alleles in a given context, but the context at agouti_bac:22653 has 2 alternate alleles so only the top alleles will be used; see the --max_alternate_alleles argument "
       ]
      }, 
      {
       "output_type": "stream", 
       "stream": "stdout", 
       "text": [
        "WARN  04:16:26,734 ExactAFCalculationModel - this tool is currently set to genotype at most 1 alternate alleles in a given context, but the context at agouti_bac:24938 has 2 alternate alleles so only the top alleles will be used; see the --max_alternate_alleles argument "
       ]
      }, 
      {
       "output_type": "stream", 
       "stream": "stdout", 
       "text": [
        "WARN  04:16:26,958 ExactAFCalculationModel - this tool is currently set to genotype at most 1 alternate alleles in a given context, but the context at agouti_bac:25920 has 2 alternate alleles so only the top alleles will be used; see the --max_alternate_alleles argument "
       ]
      }, 
      {
       "output_type": "stream", 
       "stream": "stdout", 
       "text": [
        "WARN  04:16:26,982 ExactAFCalculationModel - this tool is currently set to genotype at most 1 alternate alleles in a given context, but the context at agouti_bac:25998 has 3 alternate alleles so only the top alleles will be used; see the --max_alternate_alleles argument "
       ]
      }, 
      {
       "output_type": "stream", 
       "stream": "stdout", 
       "text": [
        "WARN  04:16:27,055 ExactAFCalculationModel - this tool is currently set to genotype at most 1 alternate alleles in a given context, but the context at agouti_bac:26264 has 2 alternate alleles so only the top alleles will be used; see the --max_alternate_alleles argument "
       ]
      }, 
      {
       "output_type": "stream", 
       "stream": "stdout", 
       "text": [
        "WARN  04:16:27,071 ExactAFCalculationModel - this tool is currently set to genotype at most 1 alternate alleles in a given context, but the context at agouti_bac:26329 has 2 alternate alleles so only the top alleles will be used; see the --max_alternate_alleles argument ", 
        "WARN  04:16:27,097 ExactAFCalculationModel - this tool is currently set to genotype at most 1 alternate alleles in a given context, but the context at agouti_bac:26428 has 2 alternate alleles so only the top alleles will be used; see the --max_alternate_alleles argument "
       ]
      }, 
      {
       "output_type": "stream", 
       "stream": "stdout", 
       "text": [
        "WARN  04:16:27,151 ExactAFCalculationModel - this tool is currently set to genotype at most 1 alternate alleles in a given context, but the context at agouti_bac:26632 has 2 alternate alleles so only the top alleles will be used; see the --max_alternate_alleles argument "
       ]
      }, 
      {
       "output_type": "stream", 
       "stream": "stdout", 
       "text": [
        "WARN  04:16:27,178 ExactAFCalculationModel - this tool is currently set to genotype at most 1 alternate alleles in a given context, but the context at agouti_bac:26779 has 2 alternate alleles so only the top alleles will be used; see the --max_alternate_alleles argument ", 
        "WARN  04:16:27,197 ExactAFCalculationModel - this tool is currently set to genotype at most 1 alternate alleles in a given context, but the context at agouti_bac:26845 has 2 alternate alleles so only the top alleles will be used; see the --max_alternate_alleles argument "
       ]
      }, 
      {
       "output_type": "stream", 
       "stream": "stdout", 
       "text": [
        "WARN  04:16:27,235 ExactAFCalculationModel - this tool is currently set to genotype at most 1 alternate alleles in a given context, but the context at agouti_bac:27239 has 2 alternate alleles so only the top alleles will be used; see the --max_alternate_alleles argument "
       ]
      }, 
      {
       "output_type": "stream", 
       "stream": "stdout", 
       "text": [
        "WARN  04:16:27,465 ExactAFCalculationModel - this tool is currently set to genotype at most 1 alternate alleles in a given context, but the context at agouti_bac:28183 has 2 alternate alleles so only the top alleles will be used; see the --max_alternate_alleles argument ", 
        "WARN  04:16:27,474 ExactAFCalculationModel - this tool is currently set to genotype at most 1 alternate alleles in a given context, but the context at agouti_bac:28223 has 2 alternate alleles so only the top alleles will be used; see the --max_alternate_alleles argument "
       ]
      }, 
      {
       "output_type": "stream", 
       "stream": "stdout", 
       "text": [
        "WARN  04:16:27,529 ExactAFCalculationModel - this tool is currently set to genotype at most 1 alternate alleles in a given context, but the context at agouti_bac:28323 has 2 alternate alleles so only the top alleles will be used; see the --max_alternate_alleles argument "
       ]
      }, 
      {
       "output_type": "stream", 
       "stream": "stdout", 
       "text": [
        "WARN  04:16:27,594 ExactAFCalculationModel - this tool is currently set to genotype at most 1 alternate alleles in a given context, but the context at agouti_bac:28559 has 2 alternate alleles so only the top alleles will be used; see the --max_alternate_alleles argument ", 
        "WARN  04:16:27,621 ExactAFCalculationModel - this tool is currently set to genotype at most 1 alternate alleles in a given context, but the context at agouti_bac:28656 has 2 alternate alleles so only the top alleles will be used; see the --max_alternate_alleles argument ", 
        "WARN  04:16:27,623 ExactAFCalculationModel - this tool is currently set to genotype at most 1 alternate alleles in a given context, but the context at agouti_bac:28663 has 2 alternate alleles so only the top alleles will be used; see the --max_alternate_alleles argument "
       ]
      }, 
      {
       "output_type": "stream", 
       "stream": "stdout", 
       "text": [
        "WARN  04:16:27,716 ExactAFCalculationModel - this tool is currently set to genotype at most 1 alternate alleles in a given context, but the context at agouti_bac:29044 has 2 alternate alleles so only the top alleles will be used; see the --max_alternate_alleles argument ", 
        "WARN  04:16:27,740 ExactAFCalculationModel - this tool is currently set to genotype at most 1 alternate alleles in a given context, but the context at agouti_bac:29141 has 2 alternate alleles so only the top alleles will be used; see the --max_alternate_alleles argument "
       ]
      }, 
      {
       "output_type": "stream", 
       "stream": "stdout", 
       "text": [
        "WARN  04:16:27,749 ExactAFCalculationModel - this tool is currently set to genotype at most 1 alternate alleles in a given context, but the context at agouti_bac:29174 has 2 alternate alleles so only the top alleles will be used; see the --max_alternate_alleles argument ", 
        "WARN  04:16:27,774 ExactAFCalculationModel - this tool is currently set to genotype at most 1 alternate alleles in a given context, but the context at agouti_bac:29282 has 2 alternate alleles so only the top alleles will be used; see the --max_alternate_alleles argument "
       ]
      }, 
      {
       "output_type": "stream", 
       "stream": "stdout", 
       "text": [
        "WARN  04:16:27,820 ExactAFCalculationModel - this tool is currently set to genotype at most 1 alternate alleles in a given context, but the context at agouti_bac:29469 has 2 alternate alleles so only the top alleles will be used; see the --max_alternate_alleles argument ", 
        "WARN  04:16:27,828 ExactAFCalculationModel - this tool is currently set to genotype at most 1 alternate alleles in a given context, but the context at agouti_bac:29508 has 2 alternate alleles so only the top alleles will be used; see the --max_alternate_alleles argument "
       ]
      }, 
      {
       "output_type": "stream", 
       "stream": "stdout", 
       "text": [
        "WARN  04:16:27,861 ExactAFCalculationModel - this tool is currently set to genotype at most 1 alternate alleles in a given context, but the context at agouti_bac:29614 has 2 alternate alleles so only the top alleles will be used; see the --max_alternate_alleles argument "
       ]
      }, 
      {
       "output_type": "stream", 
       "stream": "stdout", 
       "text": [
        "WARN  04:16:27,951 ExactAFCalculationModel - this tool is currently set to genotype at most 1 alternate alleles in a given context, but the context at agouti_bac:29932 has 2 alternate alleles so only the top alleles will be used; see the --max_alternate_alleles argument "
       ]
      }, 
      {
       "output_type": "stream", 
       "stream": "stdout", 
       "text": [
        "WARN  04:16:28,045 ExactAFCalculationModel - this tool is currently set to genotype at most 1 alternate alleles in a given context, but the context at agouti_bac:30249 has 2 alternate alleles so only the top alleles will be used; see the --max_alternate_alleles argument "
       ]
      }, 
      {
       "output_type": "stream", 
       "stream": "stdout", 
       "text": [
        "WARN  04:16:28,079 ExactAFCalculationModel - this tool is currently set to genotype at most 1 alternate alleles in a given context, but the context at agouti_bac:30367 has 2 alternate alleles so only the top alleles will be used; see the --max_alternate_alleles argument "
       ]
      }, 
      {
       "output_type": "stream", 
       "stream": "stdout", 
       "text": [
        "WARN  04:16:28,128 ExactAFCalculationModel - this tool is currently set to genotype at most 1 alternate alleles in a given context, but the context at agouti_bac:30534 has 2 alternate alleles so only the top alleles will be used; see the --max_alternate_alleles argument "
       ]
      }, 
      {
       "output_type": "stream", 
       "stream": "stdout", 
       "text": [
        "WARN  04:16:28,222 ExactAFCalculationModel - this tool is currently set to genotype at most 1 alternate alleles in a given context, but the context at agouti_bac:31258 has 2 alternate alleles so only the top alleles will be used; see the --max_alternate_alleles argument ", 
        "WARN  04:16:28,249 ExactAFCalculationModel - this tool is currently set to genotype at most 1 alternate alleles in a given context, but the context at agouti_bac:31351 has 2 alternate alleles so only the top alleles will be used; see the --max_alternate_alleles argument "
       ]
      }, 
      {
       "output_type": "stream", 
       "stream": "stdout", 
       "text": [
        "WARN  04:16:28,286 ExactAFCalculationModel - this tool is currently set to genotype at most 1 alternate alleles in a given context, but the context at agouti_bac:31596 has 2 alternate alleles so only the top alleles will be used; see the --max_alternate_alleles argument "
       ]
      }, 
      {
       "output_type": "stream", 
       "stream": "stdout", 
       "text": [
        "WARN  04:16:28,412 ExactAFCalculationModel - this tool is currently set to genotype at most 1 alternate alleles in a given context, but the context at agouti_bac:32011 has 2 alternate alleles so only the top alleles will be used; see the --max_alternate_alleles argument "
       ]
      }, 
      {
       "output_type": "stream", 
       "stream": "stdout", 
       "text": [
        "WARN  04:16:28,420 ExactAFCalculationModel - this tool is currently set to genotype at most 1 alternate alleles in a given context, but the context at agouti_bac:32041 has 2 alternate alleles so only the top alleles will be used; see the --max_alternate_alleles argument ", 
        "WARN  04:16:28,452 ExactAFCalculationModel - this tool is currently set to genotype at most 1 alternate alleles in a given context, but the context at agouti_bac:32158 has 2 alternate alleles so only the top alleles will be used; see the --max_alternate_alleles argument "
       ]
      }, 
      {
       "output_type": "stream", 
       "stream": "stdout", 
       "text": [
        "WARN  04:16:28,643 ExactAFCalculationModel - this tool is currently set to genotype at most 1 alternate alleles in a given context, but the context at agouti_bac:33071 has 2 alternate alleles so only the top alleles will be used; see the --max_alternate_alleles argument ", 
        "WARN  04:16:28,673 ExactAFCalculationModel - this tool is currently set to genotype at most 1 alternate alleles in a given context, but the context at agouti_bac:33180 has 2 alternate alleles so only the top alleles will be used; see the --max_alternate_alleles argument "
       ]
      }, 
      {
       "output_type": "stream", 
       "stream": "stdout", 
       "text": [
        "WARN  04:16:28,903 ExactAFCalculationModel - this tool is currently set to genotype at most 1 alternate alleles in a given context, but the context at agouti_bac:35987 has 2 alternate alleles so only the top alleles will be used; see the --max_alternate_alleles argument ", 
        "WARN  04:16:28,904 ExactAFCalculationModel - this tool is currently set to genotype at most 1 alternate alleles in a given context, but the context at agouti_bac:35989 has 2 alternate alleles so only the top alleles will be used; see the --max_alternate_alleles argument "
       ]
      }, 
      {
       "output_type": "stream", 
       "stream": "stdout", 
       "text": [
        "WARN  04:16:28,983 ExactAFCalculationModel - this tool is currently set to genotype at most 1 alternate alleles in a given context, but the context at agouti_bac:36277 has 2 alternate alleles so only the top alleles will be used; see the --max_alternate_alleles argument "
       ]
      }, 
      {
       "output_type": "stream", 
       "stream": "stdout", 
       "text": [
        "WARN  04:16:28,998 ExactAFCalculationModel - this tool is currently set to genotype at most 1 alternate alleles in a given context, but the context at agouti_bac:36335 has 2 alternate alleles so only the top alleles will be used; see the --max_alternate_alleles argument ", 
        "WARN  04:16:29,009 ExactAFCalculationModel - this tool is currently set to genotype at most 1 alternate alleles in a given context, but the context at agouti_bac:36382 has 2 alternate alleles so only the top alleles will be used; see the --max_alternate_alleles argument ", 
        "WARN  04:16:29,024 ExactAFCalculationModel - this tool is currently set to genotype at most 1 alternate alleles in a given context, but the context at agouti_bac:36441 has 2 alternate alleles so only the top alleles will be used; see the --max_alternate_alleles argument ", 
        "WARN  04:16:29,032 ExactAFCalculationModel - this tool is currently set to genotype at most 1 alternate alleles in a given context, but the context at agouti_bac:36461 has 2 alternate alleles so only the top alleles will be used; see the --max_alternate_alleles argument "
       ]
      }, 
      {
       "output_type": "stream", 
       "stream": "stdout", 
       "text": [
        "WARN  04:16:29,053 ExactAFCalculationModel - this tool is currently set to genotype at most 1 alternate alleles in a given context, but the context at agouti_bac:36550 has 2 alternate alleles so only the top alleles will be used; see the --max_alternate_alleles argument ", 
        "WARN  04:16:29,082 ExactAFCalculationModel - this tool is currently set to genotype at most 1 alternate alleles in a given context, but the context at agouti_bac:37003 has 2 alternate alleles so only the top alleles will be used; see the --max_alternate_alleles argument "
       ]
      }, 
      {
       "output_type": "stream", 
       "stream": "stdout", 
       "text": [
        "WARN  04:16:29,139 ExactAFCalculationModel - this tool is currently set to genotype at most 1 alternate alleles in a given context, but the context at agouti_bac:37219 has 2 alternate alleles so only the top alleles will be used; see the --max_alternate_alleles argument ", 
        "WARN  04:16:29,146 ExactAFCalculationModel - this tool is currently set to genotype at most 1 alternate alleles in a given context, but the context at agouti_bac:37248 has 2 alternate alleles so only the top alleles will be used; see the --max_alternate_alleles argument ", 
        "WARN  04:16:29,152 ExactAFCalculationModel - this tool is currently set to genotype at most 1 alternate alleles in a given context, but the context at agouti_bac:37273 has 2 alternate alleles so only the top alleles will be used; see the --max_alternate_alleles argument "
       ]
      }, 
      {
       "output_type": "stream", 
       "stream": "stdout", 
       "text": [
        "WARN  04:16:29,223 ExactAFCalculationModel - this tool is currently set to genotype at most 1 alternate alleles in a given context, but the context at agouti_bac:38566 has 2 alternate alleles so only the top alleles will be used; see the --max_alternate_alleles argument "
       ]
      }, 
      {
       "output_type": "stream", 
       "stream": "stdout", 
       "text": [
        "WARN  04:16:29,314 ExactAFCalculationModel - this tool is currently set to genotype at most 1 alternate alleles in a given context, but the context at agouti_bac:38947 has 2 alternate alleles so only the top alleles will be used; see the --max_alternate_alleles argument "
       ]
      }, 
      {
       "output_type": "stream", 
       "stream": "stdout", 
       "text": [
        "WARN  04:16:29,352 ExactAFCalculationModel - this tool is currently set to genotype at most 1 alternate alleles in a given context, but the context at agouti_bac:39111 has 2 alternate alleles so only the top alleles will be used; see the --max_alternate_alleles argument ", 
        "WARN  04:16:29,360 ExactAFCalculationModel - this tool is currently set to genotype at most 1 alternate alleles in a given context, but the context at agouti_bac:39147 has 2 alternate alleles so only the top alleles will be used; see the --max_alternate_alleles argument "
       ]
      }, 
      {
       "output_type": "stream", 
       "stream": "stdout", 
       "text": [
        "WARN  04:16:29,448 ExactAFCalculationModel - this tool is currently set to genotype at most 1 alternate alleles in a given context, but the context at agouti_bac:39471 has 2 alternate alleles so only the top alleles will be used; see the --max_alternate_alleles argument ", 
        "WARN  04:16:29,456 ExactAFCalculationModel - this tool is currently set to genotype at most 1 alternate alleles in a given context, but the context at agouti_bac:39511 has 2 alternate alleles so only the top alleles will be used; see the --max_alternate_alleles argument "
       ]
      }, 
      {
       "output_type": "stream", 
       "stream": "stdout", 
       "text": [
        "WARN  04:16:29,648 ExactAFCalculationModel - this tool is currently set to genotype at most 1 alternate alleles in a given context, but the context at agouti_bac:40390 has 2 alternate alleles so only the top alleles will be used; see the --max_alternate_alleles argument "
       ]
      }, 
      {
       "output_type": "stream", 
       "stream": "stdout", 
       "text": [
        "WARN  04:16:29,825 ExactAFCalculationModel - this tool is currently set to genotype at most 1 alternate alleles in a given context, but the context at agouti_bac:41897 has 2 alternate alleles so only the top alleles will be used; see the --max_alternate_alleles argument "
       ]
      }, 
      {
       "output_type": "stream", 
       "stream": "stdout", 
       "text": [
        "WARN  04:16:29,888 ExactAFCalculationModel - this tool is currently set to genotype at most 1 alternate alleles in a given context, but the context at agouti_bac:42262 has 2 alternate alleles so only the top alleles will be used; see the --max_alternate_alleles argument ", 
        "WARN  04:16:29,899 ExactAFCalculationModel - this tool is currently set to genotype at most 1 alternate alleles in a given context, but the context at agouti_bac:42308 has 2 alternate alleles so only the top alleles will be used; see the --max_alternate_alleles argument "
       ]
      }, 
      {
       "output_type": "stream", 
       "stream": "stdout", 
       "text": [
        "WARN  04:16:29,987 ExactAFCalculationModel - this tool is currently set to genotype at most 1 alternate alleles in a given context, but the context at agouti_bac:42672 has 2 alternate alleles so only the top alleles will be used; see the --max_alternate_alleles argument "
       ]
      }, 
      {
       "output_type": "stream", 
       "stream": "stdout", 
       "text": [
        "WARN  04:16:30,200 ExactAFCalculationModel - this tool is currently set to genotype at most 1 alternate alleles in a given context, but the context at agouti_bac:43497 has 2 alternate alleles so only the top alleles will be used; see the --max_alternate_alleles argument "
       ]
      }, 
      {
       "output_type": "stream", 
       "stream": "stdout", 
       "text": [
        "WARN  04:16:30,288 ExactAFCalculationModel - this tool is currently set to genotype at most 1 alternate alleles in a given context, but the context at agouti_bac:43752 has 2 alternate alleles so only the top alleles will be used; see the --max_alternate_alleles argument "
       ]
      }, 
      {
       "output_type": "stream", 
       "stream": "stdout", 
       "text": [
        "WARN  04:16:30,325 ExactAFCalculationModel - this tool is currently set to genotype at most 1 alternate alleles in a given context, but the context at agouti_bac:46081 has 2 alternate alleles so only the top alleles will be used; see the --max_alternate_alleles argument ", 
        "WARN  04:16:30,352 ExactAFCalculationModel - this tool is currently set to genotype at most 1 alternate alleles in a given context, but the context at agouti_bac:46177 has 2 alternate alleles so only the top alleles will be used; see the --max_alternate_alleles argument "
       ]
      }, 
      {
       "output_type": "stream", 
       "stream": "stdout", 
       "text": [
        "WARN  04:16:30,438 ExactAFCalculationModel - this tool is currently set to genotype at most 1 alternate alleles in a given context, but the context at agouti_bac:46724 has 2 alternate alleles so only the top alleles will be used; see the --max_alternate_alleles argument ", 
        "WARN  04:16:30,452 ExactAFCalculationModel - this tool is currently set to genotype at most 1 alternate alleles in a given context, but the context at agouti_bac:46768 has 2 alternate alleles so only the top alleles will be used; see the --max_alternate_alleles argument ", 
        "WARN  04:16:30,468 ExactAFCalculationModel - this tool is currently set to genotype at most 1 alternate alleles in a given context, but the context at agouti_bac:46832 has 2 alternate alleles so only the top alleles will be used; see the --max_alternate_alleles argument "
       ]
      }, 
      {
       "output_type": "stream", 
       "stream": "stdout", 
       "text": [
        "WARN  04:16:30,478 ExactAFCalculationModel - this tool is currently set to genotype at most 1 alternate alleles in a given context, but the context at agouti_bac:46869 has 2 alternate alleles so only the top alleles will be used; see the --max_alternate_alleles argument ", 
        "WARN  04:16:30,488 ExactAFCalculationModel - this tool is currently set to genotype at most 1 alternate alleles in a given context, but the context at agouti_bac:46901 has 2 alternate alleles so only the top alleles will be used; see the --max_alternate_alleles argument "
       ]
      }, 
      {
       "output_type": "stream", 
       "stream": "stdout", 
       "text": [
        "WARN  04:16:30,550 ExactAFCalculationModel - this tool is currently set to genotype at most 1 alternate alleles in a given context, but the context at agouti_bac:47143 has 2 alternate alleles so only the top alleles will be used; see the --max_alternate_alleles argument "
       ]
      }, 
      {
       "output_type": "stream", 
       "stream": "stdout", 
       "text": [
        "WARN  04:16:30,652 ExactAFCalculationModel - this tool is currently set to genotype at most 1 alternate alleles in a given context, but the context at agouti_bac:47567 has 2 alternate alleles so only the top alleles will be used; see the --max_alternate_alleles argument ", 
        "WARN  04:16:30,657 ExactAFCalculationModel - this tool is currently set to genotype at most 1 alternate alleles in a given context, but the context at agouti_bac:47588 has 2 alternate alleles so only the top alleles will be used; see the --max_alternate_alleles argument ", 
        "WARN  04:16:30,663 ExactAFCalculationModel - this tool is currently set to genotype at most 1 alternate alleles in a given context, but the context at agouti_bac:47610 has 2 alternate alleles so only the top alleles will be used; see the --max_alternate_alleles argument ", 
        "WARN  04:16:30,665 ExactAFCalculationModel - this tool is currently set to genotype at most 1 alternate alleles in a given context, but the context at agouti_bac:47621 has 2 alternate alleles so only the top alleles will be used; see the --max_alternate_alleles argument "
       ]
      }, 
      {
       "output_type": "stream", 
       "stream": "stdout", 
       "text": [
        "WARN  04:16:30,732 ExactAFCalculationModel - this tool is currently set to genotype at most 1 alternate alleles in a given context, but the context at agouti_bac:48049 has 2 alternate alleles so only the top alleles will be used; see the --max_alternate_alleles argument "
       ]
      }, 
      {
       "output_type": "stream", 
       "stream": "stdout", 
       "text": [
        "WARN  04:16:30,829 ExactAFCalculationModel - this tool is currently set to genotype at most 1 alternate alleles in a given context, but the context at agouti_bac:48419 has 2 alternate alleles so only the top alleles will be used; see the --max_alternate_alleles argument "
       ]
      }, 
      {
       "output_type": "stream", 
       "stream": "stdout", 
       "text": [
        "WARN  04:16:30,855 ExactAFCalculationModel - this tool is currently set to genotype at most 1 alternate alleles in a given context, but the context at agouti_bac:48500 has 2 alternate alleles so only the top alleles will be used; see the --max_alternate_alleles argument "
       ]
      }, 
      {
       "output_type": "stream", 
       "stream": "stdout", 
       "text": [
        "WARN  04:16:30,930 ExactAFCalculationModel - this tool is currently set to genotype at most 1 alternate alleles in a given context, but the context at agouti_bac:48793 has 2 alternate alleles so only the top alleles will be used; see the --max_alternate_alleles argument ", 
        "WARN  04:16:30,932 ExactAFCalculationModel - this tool is currently set to genotype at most 1 alternate alleles in a given context, but the context at agouti_bac:48796 has 2 alternate alleles so only the top alleles will be used; see the --max_alternate_alleles argument "
       ]
      }, 
      {
       "output_type": "stream", 
       "stream": "stdout", 
       "text": [
        "WARN  04:16:30,992 ExactAFCalculationModel - this tool is currently set to genotype at most 1 alternate alleles in a given context, but the context at agouti_bac:49043 has 2 alternate alleles so only the top alleles will be used; see the --max_alternate_alleles argument "
       ]
      }, 
      {
       "output_type": "stream", 
       "stream": "stdout", 
       "text": [
        "WARN  04:16:31,250 ExactAFCalculationModel - this tool is currently set to genotype at most 1 alternate alleles in a given context, but the context at agouti_bac:50798 has 2 alternate alleles so only the top alleles will be used; see the --max_alternate_alleles argument ", 
        "WARN  04:16:31,254 ExactAFCalculationModel - this tool is currently set to genotype at most 1 alternate alleles in a given context, but the context at agouti_bac:50812 has 2 alternate alleles so only the top alleles will be used; see the --max_alternate_alleles argument "
       ]
      }, 
      {
       "output_type": "stream", 
       "stream": "stdout", 
       "text": [
        "WARN  04:16:31,271 ExactAFCalculationModel - this tool is currently set to genotype at most 1 alternate alleles in a given context, but the context at agouti_bac:50847 has 2 alternate alleles so only the top alleles will be used; see the --max_alternate_alleles argument ", 
        "WARN  04:16:31,300 ExactAFCalculationModel - this tool is currently set to genotype at most 1 alternate alleles in a given context, but the context at agouti_bac:50901 has 2 alternate alleles so only the top alleles will be used; see the --max_alternate_alleles argument "
       ]
      }, 
      {
       "output_type": "stream", 
       "stream": "stdout", 
       "text": [
        "WARN  04:16:31,339 ExactAFCalculationModel - this tool is currently set to genotype at most 1 alternate alleles in a given context, but the context at agouti_bac:51040 has 2 alternate alleles so only the top alleles will be used; see the --max_alternate_alleles argument "
       ]
      }, 
      {
       "output_type": "stream", 
       "stream": "stdout", 
       "text": [
        "WARN  04:16:31,455 ExactAFCalculationModel - this tool is currently set to genotype at most 1 alternate alleles in a given context, but the context at agouti_bac:51453 has 2 alternate alleles so only the top alleles will be used; see the --max_alternate_alleles argument "
       ]
      }, 
      {
       "output_type": "stream", 
       "stream": "stdout", 
       "text": [
        "WARN  04:16:31,481 ExactAFCalculationModel - this tool is currently set to genotype at most 1 alternate alleles in a given context, but the context at agouti_bac:51535 has 2 alternate alleles so only the top alleles will be used; see the --max_alternate_alleles argument "
       ]
      }, 
      {
       "output_type": "stream", 
       "stream": "stdout", 
       "text": [
        "WARN  04:16:31,601 ExactAFCalculationModel - this tool is currently set to genotype at most 1 alternate alleles in a given context, but the context at agouti_bac:51796 has 2 alternate alleles so only the top alleles will be used; see the --max_alternate_alleles argument ", 
        "WARN  04:16:31,619 ExactAFCalculationModel - this tool is currently set to genotype at most 1 alternate alleles in a given context, but the context at agouti_bac:51831 has 2 alternate alleles so only the top alleles will be used; see the --max_alternate_alleles argument ", 
        "WARN  04:16:31,628 ExactAFCalculationModel - this tool is currently set to genotype at most 1 alternate alleles in a given context, but the context at agouti_bac:51835 has 2 alternate alleles so only the top alleles will be used; see the --max_alternate_alleles argument "
       ]
      }, 
      {
       "output_type": "stream", 
       "stream": "stdout", 
       "text": [
        "WARN  04:16:31,642 ExactAFCalculationModel - this tool is currently set to genotype at most 1 alternate alleles in a given context, but the context at agouti_bac:51856 has 2 alternate alleles so only the top alleles will be used; see the --max_alternate_alleles argument "
       ]
      }, 
      {
       "output_type": "stream", 
       "stream": "stdout", 
       "text": [
        "WARN  04:16:31,779 ExactAFCalculationModel - this tool is currently set to genotype at most 1 alternate alleles in a given context, but the context at agouti_bac:52541 has 2 alternate alleles so only the top alleles will be used; see the --max_alternate_alleles argument "
       ]
      }, 
      {
       "output_type": "stream", 
       "stream": "stdout", 
       "text": [
        "WARN  04:16:31,808 ExactAFCalculationModel - this tool is currently set to genotype at most 1 alternate alleles in a given context, but the context at agouti_bac:52662 has 2 alternate alleles so only the top alleles will be used; see the --max_alternate_alleles argument "
       ]
      }, 
      {
       "output_type": "stream", 
       "stream": "stdout", 
       "text": [
        "WARN  04:16:31,955 ExactAFCalculationModel - this tool is currently set to genotype at most 1 alternate alleles in a given context, but the context at agouti_bac:53215 has 2 alternate alleles so only the top alleles will be used; see the --max_alternate_alleles argument "
       ]
      }, 
      {
       "output_type": "stream", 
       "stream": "stdout", 
       "text": [
        "WARN  04:16:32,002 ExactAFCalculationModel - this tool is currently set to genotype at most 1 alternate alleles in a given context, but the context at agouti_bac:53776 has 2 alternate alleles so only the top alleles will be used; see the --max_alternate_alleles argument "
       ]
      }, 
      {
       "output_type": "stream", 
       "stream": "stdout", 
       "text": [
        "WARN  04:16:32,047 ExactAFCalculationModel - this tool is currently set to genotype at most 1 alternate alleles in a given context, but the context at agouti_bac:53879 has 2 alternate alleles so only the top alleles will be used; see the --max_alternate_alleles argument "
       ]
      }, 
      {
       "output_type": "stream", 
       "stream": "stdout", 
       "text": [
        "WARN  04:16:32,143 ExactAFCalculationModel - this tool is currently set to genotype at most 1 alternate alleles in a given context, but the context at agouti_bac:54372 has 2 alternate alleles so only the top alleles will be used; see the --max_alternate_alleles argument "
       ]
      }, 
      {
       "output_type": "stream", 
       "stream": "stdout", 
       "text": [
        "WARN  04:16:32,228 ExactAFCalculationModel - this tool is currently set to genotype at most 1 alternate alleles in a given context, but the context at agouti_bac:54741 has 2 alternate alleles so only the top alleles will be used; see the --max_alternate_alleles argument "
       ]
      }, 
      {
       "output_type": "stream", 
       "stream": "stdout", 
       "text": [
        "WARN  04:16:32,281 ExactAFCalculationModel - this tool is currently set to genotype at most 1 alternate alleles in a given context, but the context at agouti_bac:55251 has 2 alternate alleles so only the top alleles will be used; see the --max_alternate_alleles argument ", 
        "WARN  04:16:32,301 ExactAFCalculationModel - this tool is currently set to genotype at most 1 alternate alleles in a given context, but the context at agouti_bac:55349 has 2 alternate alleles so only the top alleles will be used; see the --max_alternate_alleles argument "
       ]
      }, 
      {
       "output_type": "stream", 
       "stream": "stdout", 
       "text": [
        "WARN  04:16:32,305 ExactAFCalculationModel - this tool is currently set to genotype at most 1 alternate alleles in a given context, but the context at agouti_bac:55363 has 2 alternate alleles so only the top alleles will be used; see the --max_alternate_alleles argument ", 
        "WARN  04:16:32,330 ExactAFCalculationModel - this tool is currently set to genotype at most 1 alternate alleles in a given context, but the context at agouti_bac:56361 has 2 alternate alleles so only the top alleles will be used; see the --max_alternate_alleles argument "
       ]
      }, 
      {
       "output_type": "stream", 
       "stream": "stdout", 
       "text": [
        "WARN  04:16:32,457 ExactAFCalculationModel - this tool is currently set to genotype at most 1 alternate alleles in a given context, but the context at agouti_bac:59521 has 2 alternate alleles so only the top alleles will be used; see the --max_alternate_alleles argument "
       ]
      }, 
      {
       "output_type": "stream", 
       "stream": "stdout", 
       "text": [
        "WARN  04:16:32,561 ExactAFCalculationModel - this tool is currently set to genotype at most 1 alternate alleles in a given context, but the context at agouti_bac:61801 has 2 alternate alleles so only the top alleles will be used; see the --max_alternate_alleles argument "
       ]
      }, 
      {
       "output_type": "stream", 
       "stream": "stdout", 
       "text": [
        "WARN  04:16:32,591 ExactAFCalculationModel - this tool is currently set to genotype at most 1 alternate alleles in a given context, but the context at agouti_bac:61890 has 2 alternate alleles so only the top alleles will be used; see the --max_alternate_alleles argument "
       ]
      }, 
      {
       "output_type": "stream", 
       "stream": "stdout", 
       "text": [
        "WARN  04:16:32,643 ExactAFCalculationModel - this tool is currently set to genotype at most 1 alternate alleles in a given context, but the context at agouti_bac:62051 has 2 alternate alleles so only the top alleles will be used; see the --max_alternate_alleles argument ", 
        "WARN  04:16:32,647 ExactAFCalculationModel - this tool is currently set to genotype at most 1 alternate alleles in a given context, but the context at agouti_bac:62056 has 2 alternate alleles so only the top alleles will be used; see the --max_alternate_alleles argument ", 
        "WARN  04:16:32,649 ExactAFCalculationModel - this tool is currently set to genotype at most 1 alternate alleles in a given context, but the context at agouti_bac:62061 has 2 alternate alleles so only the top alleles will be used; see the --max_alternate_alleles argument ", 
        "WARN  04:16:32,664 ExactAFCalculationModel - this tool is currently set to genotype at most 1 alternate alleles in a given context, but the context at agouti_bac:62105 has 2 alternate alleles so only the top alleles will be used; see the --max_alternate_alleles argument "
       ]
      }, 
      {
       "output_type": "stream", 
       "stream": "stdout", 
       "text": [
        "WARN  04:16:32,766 ExactAFCalculationModel - this tool is currently set to genotype at most 1 alternate alleles in a given context, but the context at agouti_bac:62784 has 2 alternate alleles so only the top alleles will be used; see the --max_alternate_alleles argument "
       ]
      }, 
      {
       "output_type": "stream", 
       "stream": "stdout", 
       "text": [
        "WARN  04:16:32,806 ExactAFCalculationModel - this tool is currently set to genotype at most 1 alternate alleles in a given context, but the context at agouti_bac:62894 has 2 alternate alleles so only the top alleles will be used; see the --max_alternate_alleles argument "
       ]
      }, 
      {
       "output_type": "stream", 
       "stream": "stdout", 
       "text": [
        "WARN  04:16:32,834 ExactAFCalculationModel - this tool is currently set to genotype at most 1 alternate alleles in a given context, but the context at agouti_bac:62976 has 2 alternate alleles so only the top alleles will be used; see the --max_alternate_alleles argument "
       ]
      }, 
      {
       "output_type": "stream", 
       "stream": "stdout", 
       "text": [
        "WARN  04:16:32,936 ExactAFCalculationModel - this tool is currently set to genotype at most 1 alternate alleles in a given context, but the context at agouti_bac:63651 has 2 alternate alleles so only the top alleles will be used; see the --max_alternate_alleles argument "
       ]
      }, 
      {
       "output_type": "stream", 
       "stream": "stdout", 
       "text": [
        "WARN  04:16:32,980 ExactAFCalculationModel - this tool is currently set to genotype at most 1 alternate alleles in a given context, but the context at agouti_bac:63826 has 2 alternate alleles so only the top alleles will be used; see the --max_alternate_alleles argument "
       ]
      }, 
      {
       "output_type": "stream", 
       "stream": "stdout", 
       "text": [
        "WARN  04:16:33,072 ExactAFCalculationModel - this tool is currently set to genotype at most 1 alternate alleles in a given context, but the context at agouti_bac:64180 has 2 alternate alleles so only the top alleles will be used; see the --max_alternate_alleles argument "
       ]
      }, 
      {
       "output_type": "stream", 
       "stream": "stdout", 
       "text": [
        "WARN  04:16:33,239 ExactAFCalculationModel - this tool is currently set to genotype at most 1 alternate alleles in a given context, but the context at agouti_bac:66017 has 2 alternate alleles so only the top alleles will be used; see the --max_alternate_alleles argument "
       ]
      }, 
      {
       "output_type": "stream", 
       "stream": "stdout", 
       "text": [
        "WARN  04:16:33,281 ExactAFCalculationModel - this tool is currently set to genotype at most 1 alternate alleles in a given context, but the context at agouti_bac:66181 has 2 alternate alleles so only the top alleles will be used; see the --max_alternate_alleles argument ", 
        "WARN  04:16:33,296 ExactAFCalculationModel - this tool is currently set to genotype at most 1 alternate alleles in a given context, but the context at agouti_bac:66252 has 2 alternate alleles so only the top alleles will be used; see the --max_alternate_alleles argument "
       ]
      }, 
      {
       "output_type": "stream", 
       "stream": "stdout", 
       "text": [
        "WARN  04:16:33,377 ExactAFCalculationModel - this tool is currently set to genotype at most 1 alternate alleles in a given context, but the context at agouti_bac:66553 has 2 alternate alleles so only the top alleles will be used; see the --max_alternate_alleles argument ", 
        "WARN  04:16:33,384 ExactAFCalculationModel - this tool is currently set to genotype at most 1 alternate alleles in a given context, but the context at agouti_bac:66583 has 2 alternate alleles so only the top alleles will be used; see the --max_alternate_alleles argument ", 
        "WARN  04:16:33,388 ExactAFCalculationModel - this tool is currently set to genotype at most 1 alternate alleles in a given context, but the context at agouti_bac:66598 has 2 alternate alleles so only the top alleles will be used; see the --max_alternate_alleles argument "
       ]
      }, 
      {
       "output_type": "stream", 
       "stream": "stdout", 
       "text": [
        "WARN  04:16:33,482 ExactAFCalculationModel - this tool is currently set to genotype at most 1 alternate alleles in a given context, but the context at agouti_bac:66908 has 3 alternate alleles so only the top alleles will be used; see the --max_alternate_alleles argument "
       ]
      }, 
      {
       "output_type": "stream", 
       "stream": "stdout", 
       "text": [
        "WARN  04:16:33,555 ExactAFCalculationModel - this tool is currently set to genotype at most 1 alternate alleles in a given context, but the context at agouti_bac:67203 has 2 alternate alleles so only the top alleles will be used; see the --max_alternate_alleles argument ", 
        "WARN  04:16:33,562 ExactAFCalculationModel - this tool is currently set to genotype at most 1 alternate alleles in a given context, but the context at agouti_bac:67232 has 2 alternate alleles so only the top alleles will be used; see the --max_alternate_alleles argument "
       ]
      }, 
      {
       "output_type": "stream", 
       "stream": "stdout", 
       "text": [
        "WARN  04:16:33,626 ExactAFCalculationModel - this tool is currently set to genotype at most 1 alternate alleles in a given context, but the context at agouti_bac:67477 has 2 alternate alleles so only the top alleles will be used; see the --max_alternate_alleles argument ", 
        "WARN  04:16:33,631 ExactAFCalculationModel - this tool is currently set to genotype at most 1 alternate alleles in a given context, but the context at agouti_bac:67492 has 3 alternate alleles so only the top alleles will be used; see the --max_alternate_alleles argument ", 
        "WARN  04:16:33,655 ExactAFCalculationModel - this tool is currently set to genotype at most 1 alternate alleles in a given context, but the context at agouti_bac:67569 has 2 alternate alleles so only the top alleles will be used; see the --max_alternate_alleles argument ", 
        "WARN  04:16:33,666 ExactAFCalculationModel - this tool is currently set to genotype at most 1 alternate alleles in a given context, but the context at agouti_bac:67593 has 2 alternate alleles so only the top alleles will be used; see the --max_alternate_alleles argument "
       ]
      }, 
      {
       "output_type": "stream", 
       "stream": "stdout", 
       "text": [
        "WARN  04:16:33,668 ExactAFCalculationModel - this tool is currently set to genotype at most 1 alternate alleles in a given context, but the context at agouti_bac:67594 has 2 alternate alleles so only the top alleles will be used; see the --max_alternate_alleles argument ", 
        "WARN  04:16:33,709 ExactAFCalculationModel - this tool is currently set to genotype at most 1 alternate alleles in a given context, but the context at agouti_bac:67757 has 2 alternate alleles so only the top alleles will be used; see the --max_alternate_alleles argument ", 
        "WARN  04:16:33,712 ExactAFCalculationModel - this tool is currently set to genotype at most 1 alternate alleles in a given context, but the context at agouti_bac:67769 has 2 alternate alleles so only the top alleles will be used; see the --max_alternate_alleles argument "
       ]
      }, 
      {
       "output_type": "stream", 
       "stream": "stdout", 
       "text": [
        "WARN  04:16:33,804 ExactAFCalculationModel - this tool is currently set to genotype at most 1 alternate alleles in a given context, but the context at agouti_bac:68287 has 2 alternate alleles so only the top alleles will be used; see the --max_alternate_alleles argument ", 
        "WARN  04:16:33,813 ExactAFCalculationModel - this tool is currently set to genotype at most 1 alternate alleles in a given context, but the context at agouti_bac:68327 has 2 alternate alleles so only the top alleles will be used; see the --max_alternate_alleles argument ", 
        "WARN  04:16:33,819 ExactAFCalculationModel - this tool is currently set to genotype at most 1 alternate alleles in a given context, but the context at agouti_bac:68348 has 2 alternate alleles so only the top alleles will be used; see the --max_alternate_alleles argument "
       ]
      }, 
      {
       "output_type": "stream", 
       "stream": "stdout", 
       "text": [
        "WARN  04:16:33,933 ExactAFCalculationModel - this tool is currently set to genotype at most 1 alternate alleles in a given context, but the context at agouti_bac:68835 has 2 alternate alleles so only the top alleles will be used; see the --max_alternate_alleles argument "
       ]
      }, 
      {
       "output_type": "stream", 
       "stream": "stdout", 
       "text": [
        "WARN  04:16:33,984 ExactAFCalculationModel - this tool is currently set to genotype at most 1 alternate alleles in a given context, but the context at agouti_bac:69063 has 2 alternate alleles so only the top alleles will be used; see the --max_alternate_alleles argument ", 
        "WARN  04:16:34,014 ExactAFCalculationModel - this tool is currently set to genotype at most 1 alternate alleles in a given context, but the context at agouti_bac:69638 has 2 alternate alleles so only the top alleles will be used; see the --max_alternate_alleles argument ", 
        "WARN  04:16:34,022 ExactAFCalculationModel - this tool is currently set to genotype at most 1 alternate alleles in a given context, but the context at agouti_bac:69663 has 2 alternate alleles so only the top alleles will be used; see the --max_alternate_alleles argument "
       ]
      }, 
      {
       "output_type": "stream", 
       "stream": "stdout", 
       "text": [
        "WARN  04:16:34,111 ExactAFCalculationModel - this tool is currently set to genotype at most 1 alternate alleles in a given context, but the context at agouti_bac:70004 has 2 alternate alleles so only the top alleles will be used; see the --max_alternate_alleles argument "
       ]
      }, 
      {
       "output_type": "stream", 
       "stream": "stdout", 
       "text": [
        "WARN  04:16:34,223 ExactAFCalculationModel - this tool is currently set to genotype at most 1 alternate alleles in a given context, but the context at agouti_bac:70759 has 2 alternate alleles so only the top alleles will be used; see the --max_alternate_alleles argument "
       ]
      }, 
      {
       "output_type": "stream", 
       "stream": "stdout", 
       "text": [
        "WARN  04:16:34,320 ExactAFCalculationModel - this tool is currently set to genotype at most 1 alternate alleles in a given context, but the context at agouti_bac:71114 has 2 alternate alleles so only the top alleles will be used; see the --max_alternate_alleles argument ", 
        "WARN  04:16:34,333 ExactAFCalculationModel - this tool is currently set to genotype at most 1 alternate alleles in a given context, but the context at agouti_bac:71172 has 2 alternate alleles so only the top alleles will be used; see the --max_alternate_alleles argument "
       ]
      }, 
      {
       "output_type": "stream", 
       "stream": "stdout", 
       "text": [
        "WARN  04:16:34,351 ExactAFCalculationModel - this tool is currently set to genotype at most 1 alternate alleles in a given context, but the context at agouti_bac:71228 has 2 alternate alleles so only the top alleles will be used; see the --max_alternate_alleles argument ", 
        "WARN  04:16:34,376 ExactAFCalculationModel - this tool is currently set to genotype at most 1 alternate alleles in a given context, but the context at agouti_bac:71322 has 2 alternate alleles so only the top alleles will be used; see the --max_alternate_alleles argument "
       ]
      }, 
      {
       "output_type": "stream", 
       "stream": "stdout", 
       "text": [
        "WARN  04:16:34,399 ExactAFCalculationModel - this tool is currently set to genotype at most 1 alternate alleles in a given context, but the context at agouti_bac:72596 has 2 alternate alleles so only the top alleles will be used; see the --max_alternate_alleles argument ", 
        "WARN  04:16:34,422 ExactAFCalculationModel - this tool is currently set to genotype at most 1 alternate alleles in a given context, but the context at agouti_bac:72681 has 2 alternate alleles so only the top alleles will be used; see the --max_alternate_alleles argument "
       ]
      }, 
      {
       "output_type": "stream", 
       "stream": "stdout", 
       "text": [
        "WARN  04:16:34,487 ExactAFCalculationModel - this tool is currently set to genotype at most 1 alternate alleles in a given context, but the context at agouti_bac:73050 has 2 alternate alleles so only the top alleles will be used; see the --max_alternate_alleles argument "
       ]
      }, 
      {
       "output_type": "stream", 
       "stream": "stdout", 
       "text": [
        "WARN  04:16:34,553 ExactAFCalculationModel - this tool is currently set to genotype at most 1 alternate alleles in a given context, but the context at agouti_bac:74100 has 2 alternate alleles so only the top alleles will be used; see the --max_alternate_alleles argument ", 
        "WARN  04:16:34,554 ExactAFCalculationModel - this tool is currently set to genotype at most 1 alternate alleles in a given context, but the context at agouti_bac:74101 has 2 alternate alleles so only the top alleles will be used; see the --max_alternate_alleles argument ", 
        "WARN  04:16:34,592 ExactAFCalculationModel - this tool is currently set to genotype at most 1 alternate alleles in a given context, but the context at agouti_bac:74249 has 2 alternate alleles so only the top alleles will be used; see the --max_alternate_alleles argument "
       ]
      }, 
      {
       "output_type": "stream", 
       "stream": "stdout", 
       "text": [
        "WARN  04:16:34,599 ExactAFCalculationModel - this tool is currently set to genotype at most 1 alternate alleles in a given context, but the context at agouti_bac:74276 has 2 alternate alleles so only the top alleles will be used; see the --max_alternate_alleles argument "
       ]
      }, 
      {
       "output_type": "stream", 
       "stream": "stdout", 
       "text": [
        "WARN  04:16:34,742 ExactAFCalculationModel - this tool is currently set to genotype at most 1 alternate alleles in a given context, but the context at agouti_bac:75297 has 2 alternate alleles so only the top alleles will be used; see the --max_alternate_alleles argument "
       ]
      }, 
      {
       "output_type": "stream", 
       "stream": "stdout", 
       "text": [
        "WARN  04:16:34,811 ExactAFCalculationModel - this tool is currently set to genotype at most 1 alternate alleles in a given context, but the context at agouti_bac:76400 has 2 alternate alleles so only the top alleles will be used; see the --max_alternate_alleles argument ", 
        "WARN  04:16:34,818 ExactAFCalculationModel - this tool is currently set to genotype at most 1 alternate alleles in a given context, but the context at agouti_bac:76430 has 2 alternate alleles so only the top alleles will be used; see the --max_alternate_alleles argument "
       ]
      }, 
      {
       "output_type": "stream", 
       "stream": "stdout", 
       "text": [
        "WARN  04:16:34,891 ExactAFCalculationModel - this tool is currently set to genotype at most 1 alternate alleles in a given context, but the context at agouti_bac:76660 has 2 alternate alleles so only the top alleles will be used; see the --max_alternate_alleles argument "
       ]
      }, 
      {
       "output_type": "stream", 
       "stream": "stdout", 
       "text": [
        "WARN  04:16:34,981 ExactAFCalculationModel - this tool is currently set to genotype at most 1 alternate alleles in a given context, but the context at agouti_bac:77030 has 2 alternate alleles so only the top alleles will be used; see the --max_alternate_alleles argument "
       ]
      }, 
      {
       "output_type": "stream", 
       "stream": "stdout", 
       "text": [
        "WARN  04:16:35,028 ExactAFCalculationModel - this tool is currently set to genotype at most 1 alternate alleles in a given context, but the context at agouti_bac:77221 has 2 alternate alleles so only the top alleles will be used; see the --max_alternate_alleles argument "
       ]
      }, 
      {
       "output_type": "stream", 
       "stream": "stdout", 
       "text": [
        "WARN  04:16:35,197 ExactAFCalculationModel - this tool is currently set to genotype at most 1 alternate alleles in a given context, but the context at agouti_bac:79003 has 2 alternate alleles so only the top alleles will be used; see the --max_alternate_alleles argument ", 
        "WARN  04:16:35,212 ExactAFCalculationModel - this tool is currently set to genotype at most 1 alternate alleles in a given context, but the context at agouti_bac:79043 has 2 alternate alleles so only the top alleles will be used; see the --max_alternate_alleles argument "
       ]
      }, 
      {
       "output_type": "stream", 
       "stream": "stdout", 
       "text": [
        "WARN  04:16:35,286 ExactAFCalculationModel - this tool is currently set to genotype at most 1 alternate alleles in a given context, but the context at agouti_bac:79227 has 2 alternate alleles so only the top alleles will be used; see the --max_alternate_alleles argument ", 
        "WARN  04:16:35,327 ExactAFCalculationModel - this tool is currently set to genotype at most 1 alternate alleles in a given context, but the context at agouti_bac:79639 has 2 alternate alleles so only the top alleles will be used; see the --max_alternate_alleles argument ", 
        "WARN  04:16:35,336 ExactAFCalculationModel - this tool is currently set to genotype at most 1 alternate alleles in a given context, but the context at agouti_bac:79669 has 2 alternate alleles so only the top alleles will be used; see the --max_alternate_alleles argument "
       ]
      }, 
      {
       "output_type": "stream", 
       "stream": "stdout", 
       "text": [
        "WARN  04:16:35,369 ExactAFCalculationModel - this tool is currently set to genotype at most 1 alternate alleles in a given context, but the context at agouti_bac:79758 has 3 alternate alleles so only the top alleles will be used; see the --max_alternate_alleles argument ", 
        "WARN  04:16:35,383 ExactAFCalculationModel - this tool is currently set to genotype at most 1 alternate alleles in a given context, but the context at agouti_bac:79819 has 2 alternate alleles so only the top alleles will be used; see the --max_alternate_alleles argument "
       ]
      }, 
      {
       "output_type": "stream", 
       "stream": "stdout", 
       "text": [
        "WARN  04:16:35,504 ExactAFCalculationModel - this tool is currently set to genotype at most 1 alternate alleles in a given context, but the context at agouti_bac:80646 has 2 alternate alleles so only the top alleles will be used; see the --max_alternate_alleles argument ", 
        "WARN  04:16:35,525 ExactAFCalculationModel - this tool is currently set to genotype at most 1 alternate alleles in a given context, but the context at agouti_bac:80716 has 2 alternate alleles so only the top alleles will be used; see the --max_alternate_alleles argument "
       ]
      }, 
      {
       "output_type": "stream", 
       "stream": "stdout", 
       "text": [
        "WARN  04:16:35,560 ExactAFCalculationModel - this tool is currently set to genotype at most 1 alternate alleles in a given context, but the context at agouti_bac:80784 has 2 alternate alleles so only the top alleles will be used; see the --max_alternate_alleles argument "
       ]
      }, 
      {
       "output_type": "stream", 
       "stream": "stdout", 
       "text": [
        "WARN  04:16:35,647 ExactAFCalculationModel - this tool is currently set to genotype at most 1 alternate alleles in a given context, but the context at agouti_bac:81392 has 2 alternate alleles so only the top alleles will be used; see the --max_alternate_alleles argument "
       ]
      }, 
      {
       "output_type": "stream", 
       "stream": "stdout", 
       "text": [
        "WARN  04:16:35,671 ExactAFCalculationModel - this tool is currently set to genotype at most 1 alternate alleles in a given context, but the context at agouti_bac:81478 has 2 alternate alleles so only the top alleles will be used; see the --max_alternate_alleles argument ", 
        "WARN  04:16:35,701 ExactAFCalculationModel - this tool is currently set to genotype at most 1 alternate alleles in a given context, but the context at agouti_bac:81580 has 2 alternate alleles so only the top alleles will be used; see the --max_alternate_alleles argument "
       ]
      }, 
      {
       "output_type": "stream", 
       "stream": "stdout", 
       "text": [
        "WARN  04:16:35,785 ExactAFCalculationModel - this tool is currently set to genotype at most 1 alternate alleles in a given context, but the context at agouti_bac:82243 has 2 alternate alleles so only the top alleles will be used; see the --max_alternate_alleles argument "
       ]
      }, 
      {
       "output_type": "stream", 
       "stream": "stdout", 
       "text": [
        "WARN  04:16:35,820 ExactAFCalculationModel - this tool is currently set to genotype at most 1 alternate alleles in a given context, but the context at agouti_bac:82367 has 2 alternate alleles so only the top alleles will be used; see the --max_alternate_alleles argument "
       ]
      }, 
      {
       "output_type": "stream", 
       "stream": "stdout", 
       "text": [
        "WARN  04:16:35,909 ExactAFCalculationModel - this tool is currently set to genotype at most 1 alternate alleles in a given context, but the context at agouti_bac:82758 has 2 alternate alleles so only the top alleles will be used; see the --max_alternate_alleles argument "
       ]
      }, 
      {
       "output_type": "stream", 
       "stream": "stdout", 
       "text": [
        "WARN  04:16:36,052 ExactAFCalculationModel - this tool is currently set to genotype at most 1 alternate alleles in a given context, but the context at agouti_bac:83310 has 2 alternate alleles so only the top alleles will be used; see the --max_alternate_alleles argument "
       ]
      }, 
      {
       "output_type": "stream", 
       "stream": "stdout", 
       "text": [
        "WARN  04:16:36,107 ExactAFCalculationModel - this tool is currently set to genotype at most 1 alternate alleles in a given context, but the context at agouti_bac:83353 has 2 alternate alleles so only the top alleles will be used; see the --max_alternate_alleles argument "
       ]
      }, 
      {
       "output_type": "stream", 
       "stream": "stdout", 
       "text": [
        "WARN  04:16:36,160 ExactAFCalculationModel - this tool is currently set to genotype at most 1 alternate alleles in a given context, but the context at agouti_bac:83492 has 2 alternate alleles so only the top alleles will be used; see the --max_alternate_alleles argument "
       ]
      }, 
      {
       "output_type": "stream", 
       "stream": "stdout", 
       "text": [
        "WARN  04:16:36,238 ExactAFCalculationModel - this tool is currently set to genotype at most 1 alternate alleles in a given context, but the context at agouti_bac:86988 has 2 alternate alleles so only the top alleles will be used; see the --max_alternate_alleles argument "
       ]
      }, 
      {
       "output_type": "stream", 
       "stream": "stdout", 
       "text": [
        "WARN  04:16:36,377 ExactAFCalculationModel - this tool is currently set to genotype at most 1 alternate alleles in a given context, but the context at agouti_bac:87297 has 2 alternate alleles so only the top alleles will be used; see the --max_alternate_alleles argument "
       ]
      }, 
      {
       "output_type": "stream", 
       "stream": "stdout", 
       "text": [
        "WARN  04:16:36,404 ExactAFCalculationModel - this tool is currently set to genotype at most 1 alternate alleles in a given context, but the context at agouti_bac:87412 has 2 alternate alleles so only the top alleles will be used; see the --max_alternate_alleles argument ", 
        "WARN  04:16:36,446 ExactAFCalculationModel - this tool is currently set to genotype at most 1 alternate alleles in a given context, but the context at agouti_bac:87556 has 2 alternate alleles so only the top alleles will be used; see the --max_alternate_alleles argument "
       ]
      }, 
      {
       "output_type": "stream", 
       "stream": "stdout", 
       "text": [
        "WARN  04:16:36,573 ExactAFCalculationModel - this tool is currently set to genotype at most 1 alternate alleles in a given context, but the context at agouti_bac:87925 has 2 alternate alleles so only the top alleles will be used; see the --max_alternate_alleles argument "
       ]
      }, 
      {
       "output_type": "stream", 
       "stream": "stdout", 
       "text": [
        "WARN  04:16:36,613 ExactAFCalculationModel - this tool is currently set to genotype at most 1 alternate alleles in a given context, but the context at agouti_bac:88202 has 2 alternate alleles so only the top alleles will be used; see the --max_alternate_alleles argument ", 
        "WARN  04:16:36,628 ExactAFCalculationModel - this tool is currently set to genotype at most 1 alternate alleles in a given context, but the context at agouti_bac:88267 has 2 alternate alleles so only the top alleles will be used; see the --max_alternate_alleles argument "
       ]
      }, 
      {
       "output_type": "stream", 
       "stream": "stdout", 
       "text": [
        "WARN  04:16:36,710 ExactAFCalculationModel - this tool is currently set to genotype at most 1 alternate alleles in a given context, but the context at agouti_bac:88601 has 3 alternate alleles so only the top alleles will be used; see the --max_alternate_alleles argument "
       ]
      }, 
      {
       "output_type": "stream", 
       "stream": "stdout", 
       "text": [
        "WARN  04:16:36,766 ExactAFCalculationModel - this tool is currently set to genotype at most 1 alternate alleles in a given context, but the context at agouti_bac:89337 has 2 alternate alleles so only the top alleles will be used; see the --max_alternate_alleles argument ", 
        "WARN  04:16:36,791 ExactAFCalculationModel - this tool is currently set to genotype at most 1 alternate alleles in a given context, but the context at agouti_bac:89447 has 2 alternate alleles so only the top alleles will be used; see the --max_alternate_alleles argument ", 
        "WARN  04:16:36,805 ExactAFCalculationModel - this tool is currently set to genotype at most 1 alternate alleles in a given context, but the context at agouti_bac:89501 has 2 alternate alleles so only the top alleles will be used; see the --max_alternate_alleles argument "
       ]
      }, 
      {
       "output_type": "stream", 
       "stream": "stdout", 
       "text": [
        "WARN  04:16:36,836 ExactAFCalculationModel - this tool is currently set to genotype at most 1 alternate alleles in a given context, but the context at agouti_bac:89610 has 2 alternate alleles so only the top alleles will be used; see the --max_alternate_alleles argument "
       ]
      }, 
      {
       "output_type": "stream", 
       "stream": "stdout", 
       "text": [
        "WARN  04:16:36,886 ExactAFCalculationModel - this tool is currently set to genotype at most 1 alternate alleles in a given context, but the context at agouti_bac:89780 has 2 alternate alleles so only the top alleles will be used; see the --max_alternate_alleles argument ", 
        "WARN  04:16:36,892 ExactAFCalculationModel - this tool is currently set to genotype at most 1 alternate alleles in a given context, but the context at agouti_bac:89801 has 2 alternate alleles so only the top alleles will be used; see the --max_alternate_alleles argument "
       ]
      }, 
      {
       "output_type": "stream", 
       "stream": "stdout", 
       "text": [
        "WARN  04:16:36,938 ExactAFCalculationModel - this tool is currently set to genotype at most 1 alternate alleles in a given context, but the context at agouti_bac:90126 has 2 alternate alleles so only the top alleles will be used; see the --max_alternate_alleles argument "
       ]
      }, 
      {
       "output_type": "stream", 
       "stream": "stdout", 
       "text": [
        "WARN  04:16:36,971 ExactAFCalculationModel - this tool is currently set to genotype at most 1 alternate alleles in a given context, but the context at agouti_bac:90264 has 2 alternate alleles so only the top alleles will be used; see the --max_alternate_alleles argument ", 
        "WARN  04:16:37,013 ExactAFCalculationModel - this tool is currently set to genotype at most 1 alternate alleles in a given context, but the context at agouti_bac:90419 has 3 alternate alleles so only the top alleles will be used; see the --max_alternate_alleles argument "
       ]
      }, 
      {
       "output_type": "stream", 
       "stream": "stdout", 
       "text": [
        "WARN  04:16:37,027 ExactAFCalculationModel - this tool is currently set to genotype at most 1 alternate alleles in a given context, but the context at agouti_bac:90464 has 2 alternate alleles so only the top alleles will be used; see the --max_alternate_alleles argument ", 
        "WARN  04:16:37,043 ExactAFCalculationModel - this tool is currently set to genotype at most 1 alternate alleles in a given context, but the context at agouti_bac:90525 has 2 alternate alleles so only the top alleles will be used; see the --max_alternate_alleles argument ", 
        "WARN  04:16:37,054 ExactAFCalculationModel - this tool is currently set to genotype at most 1 alternate alleles in a given context, but the context at agouti_bac:90938 has 2 alternate alleles so only the top alleles will be used; see the --max_alternate_alleles argument "
       ]
      }, 
      {
       "output_type": "stream", 
       "stream": "stdout", 
       "text": [
        "WARN  04:16:37,122 ExactAFCalculationModel - this tool is currently set to genotype at most 1 alternate alleles in a given context, but the context at agouti_bac:91397 has 2 alternate alleles so only the top alleles will be used; see the --max_alternate_alleles argument "
       ]
      }, 
      {
       "output_type": "stream", 
       "stream": "stdout", 
       "text": [
        "WARN  04:16:37,213 ExactAFCalculationModel - this tool is currently set to genotype at most 1 alternate alleles in a given context, but the context at agouti_bac:91742 has 2 alternate alleles so only the top alleles will be used; see the --max_alternate_alleles argument "
       ]
      }, 
      {
       "output_type": "stream", 
       "stream": "stdout", 
       "text": [
        "WARN  04:16:37,227 ExactAFCalculationModel - this tool is currently set to genotype at most 1 alternate alleles in a given context, but the context at agouti_bac:91788 has 2 alternate alleles so only the top alleles will be used; see the --max_alternate_alleles argument ", 
        "WARN  04:16:37,267 ExactAFCalculationModel - this tool is currently set to genotype at most 1 alternate alleles in a given context, but the context at agouti_bac:92457 has 2 alternate alleles so only the top alleles will be used; see the --max_alternate_alleles argument "
       ]
      }, 
      {
       "output_type": "stream", 
       "stream": "stdout", 
       "text": [
        "WARN  04:16:37,296 ExactAFCalculationModel - this tool is currently set to genotype at most 1 alternate alleles in a given context, but the context at agouti_bac:92557 has 2 alternate alleles so only the top alleles will be used; see the --max_alternate_alleles argument "
       ]
      }, 
      {
       "output_type": "stream", 
       "stream": "stdout", 
       "text": [
        "WARN  04:16:37,397 ExactAFCalculationModel - this tool is currently set to genotype at most 1 alternate alleles in a given context, but the context at agouti_bac:93256 has 2 alternate alleles so only the top alleles will be used; see the --max_alternate_alleles argument ", 
        "WARN  04:16:37,426 ExactAFCalculationModel - this tool is currently set to genotype at most 1 alternate alleles in a given context, but the context at agouti_bac:93373 has 2 alternate alleles so only the top alleles will be used; see the --max_alternate_alleles argument "
       ]
      }, 
      {
       "output_type": "stream", 
       "stream": "stdout", 
       "text": [
        "WARN  04:16:37,456 ExactAFCalculationModel - this tool is currently set to genotype at most 1 alternate alleles in a given context, but the context at agouti_bac:93651 has 2 alternate alleles so only the top alleles will be used; see the --max_alternate_alleles argument "
       ]
      }, 
      {
       "output_type": "stream", 
       "stream": "stdout", 
       "text": [
        "WARN  04:16:37,529 ExactAFCalculationModel - this tool is currently set to genotype at most 1 alternate alleles in a given context, but the context at agouti_bac:93875 has 2 alternate alleles so only the top alleles will be used; see the --max_alternate_alleles argument "
       ]
      }, 
      {
       "output_type": "stream", 
       "stream": "stdout", 
       "text": [
        "WARN  04:16:37,635 ExactAFCalculationModel - this tool is currently set to genotype at most 1 alternate alleles in a given context, but the context at agouti_bac:94181 has 2 alternate alleles so only the top alleles will be used; see the --max_alternate_alleles argument "
       ]
      }, 
      {
       "output_type": "stream", 
       "stream": "stdout", 
       "text": [
        "WARN  04:16:37,900 ExactAFCalculationModel - this tool is currently set to genotype at most 1 alternate alleles in a given context, but the context at agouti_bac:100426 has 2 alternate alleles so only the top alleles will be used; see the --max_alternate_alleles argument ", 
        "WARN  04:16:37,924 ExactAFCalculationModel - this tool is currently set to genotype at most 1 alternate alleles in a given context, but the context at agouti_bac:100528 has 2 alternate alleles so only the top alleles will be used; see the --max_alternate_alleles argument "
       ]
      }, 
      {
       "output_type": "stream", 
       "stream": "stdout", 
       "text": [
        "WARN  04:16:38,045 ExactAFCalculationModel - this tool is currently set to genotype at most 1 alternate alleles in a given context, but the context at agouti_bac:101535 has 2 alternate alleles so only the top alleles will be used; see the --max_alternate_alleles argument "
       ]
      }, 
      {
       "output_type": "stream", 
       "stream": "stdout", 
       "text": [
        "WARN  04:16:38,129 ExactAFCalculationModel - this tool is currently set to genotype at most 1 alternate alleles in a given context, but the context at agouti_bac:101929 has 2 alternate alleles so only the top alleles will be used; see the --max_alternate_alleles argument ", 
        "WARN  04:16:38,149 ExactAFCalculationModel - this tool is currently set to genotype at most 1 alternate alleles in a given context, but the context at agouti_bac:101975 has 2 alternate alleles so only the top alleles will be used; see the --max_alternate_alleles argument "
       ]
      }, 
      {
       "output_type": "stream", 
       "stream": "stdout", 
       "text": [
        "WARN  04:16:38,245 ExactAFCalculationModel - this tool is currently set to genotype at most 1 alternate alleles in a given context, but the context at agouti_bac:102289 has 2 alternate alleles so only the top alleles will be used; see the --max_alternate_alleles argument "
       ]
      }, 
      {
       "output_type": "stream", 
       "stream": "stdout", 
       "text": [
        "WARN  04:16:38,335 ExactAFCalculationModel - this tool is currently set to genotype at most 1 alternate alleles in a given context, but the context at agouti_bac:102536 has 2 alternate alleles so only the top alleles will be used; see the --max_alternate_alleles argument "
       ]
      }, 
      {
       "output_type": "stream", 
       "stream": "stdout", 
       "text": [
        "WARN  04:16:38,400 ExactAFCalculationModel - this tool is currently set to genotype at most 1 alternate alleles in a given context, but the context at agouti_bac:102792 has 2 alternate alleles so only the top alleles will be used; see the --max_alternate_alleles argument "
       ]
      }, 
      {
       "output_type": "stream", 
       "stream": "stdout", 
       "text": [
        "WARN  04:16:38,413 ExactAFCalculationModel - this tool is currently set to genotype at most 1 alternate alleles in a given context, but the context at agouti_bac:102835 has 2 alternate alleles so only the top alleles will be used; see the --max_alternate_alleles argument ", 
        "WARN  04:16:38,449 ExactAFCalculationModel - this tool is currently set to genotype at most 1 alternate alleles in a given context, but the context at agouti_bac:103062 has 2 alternate alleles so only the top alleles will be used; see the --max_alternate_alleles argument "
       ]
      }, 
      {
       "output_type": "stream", 
       "stream": "stdout", 
       "text": [
        "WARN  04:16:38,501 ExactAFCalculationModel - this tool is currently set to genotype at most 1 alternate alleles in a given context, but the context at agouti_bac:103259 has 2 alternate alleles so only the top alleles will be used; see the --max_alternate_alleles argument "
       ]
      }, 
      {
       "output_type": "stream", 
       "stream": "stdout", 
       "text": [
        "WARN  04:16:38,591 ExactAFCalculationModel - this tool is currently set to genotype at most 1 alternate alleles in a given context, but the context at agouti_bac:103574 has 2 alternate alleles so only the top alleles will be used; see the --max_alternate_alleles argument "
       ]
      }, 
      {
       "output_type": "stream", 
       "stream": "stdout", 
       "text": [
        "WARN  04:16:38,704 ExactAFCalculationModel - this tool is currently set to genotype at most 1 alternate alleles in a given context, but the context at agouti_bac:104159 has 2 alternate alleles so only the top alleles will be used; see the --max_alternate_alleles argument ", 
        "WARN  04:16:38,712 ExactAFCalculationModel - this tool is currently set to genotype at most 1 alternate alleles in a given context, but the context at agouti_bac:104195 has 2 alternate alleles so only the top alleles will be used; see the --max_alternate_alleles argument ", 
        "WARN  04:16:38,715 ExactAFCalculationModel - this tool is currently set to genotype at most 1 alternate alleles in a given context, but the context at agouti_bac:104211 has 2 alternate alleles so only the top alleles will be used; see the --max_alternate_alleles argument "
       ]
      }, 
      {
       "output_type": "stream", 
       "stream": "stdout", 
       "text": [
        "WARN  04:16:38,730 ExactAFCalculationModel - this tool is currently set to genotype at most 1 alternate alleles in a given context, but the context at agouti_bac:104260 has 2 alternate alleles so only the top alleles will be used; see the --max_alternate_alleles argument ", 
        "WARN  04:16:38,740 ExactAFCalculationModel - this tool is currently set to genotype at most 1 alternate alleles in a given context, but the context at agouti_bac:104293 has 2 alternate alleles so only the top alleles will be used; see the --max_alternate_alleles argument ", 
        "WARN  04:16:38,752 ExactAFCalculationModel - this tool is currently set to genotype at most 1 alternate alleles in a given context, but the context at agouti_bac:104329 has 2 alternate alleles so only the top alleles will be used; see the --max_alternate_alleles argument "
       ]
      }, 
      {
       "output_type": "stream", 
       "stream": "stdout", 
       "text": [
        "WARN  04:16:38,803 ExactAFCalculationModel - this tool is currently set to genotype at most 1 alternate alleles in a given context, but the context at agouti_bac:104734 has 2 alternate alleles so only the top alleles will be used; see the --max_alternate_alleles argument "
       ]
      }, 
      {
       "output_type": "stream", 
       "stream": "stdout", 
       "text": [
        "WARN  04:16:38,863 ExactAFCalculationModel - this tool is currently set to genotype at most 1 alternate alleles in a given context, but the context at agouti_bac:104901 has 2 alternate alleles so only the top alleles will be used; see the --max_alternate_alleles argument "
       ]
      }, 
      {
       "output_type": "stream", 
       "stream": "stdout", 
       "text": [
        "WARN  04:16:38,888 ExactAFCalculationModel - this tool is currently set to genotype at most 1 alternate alleles in a given context, but the context at agouti_bac:104980 has 2 alternate alleles so only the top alleles will be used; see the --max_alternate_alleles argument "
       ]
      }, 
      {
       "output_type": "stream", 
       "stream": "stdout", 
       "text": [
        "WARN  04:16:38,940 ExactAFCalculationModel - this tool is currently set to genotype at most 1 alternate alleles in a given context, but the context at agouti_bac:105564 has 2 alternate alleles so only the top alleles will be used; see the --max_alternate_alleles argument "
       ]
      }, 
      {
       "output_type": "stream", 
       "stream": "stdout", 
       "text": [
        "WARN  04:16:39,007 ExactAFCalculationModel - this tool is currently set to genotype at most 1 alternate alleles in a given context, but the context at agouti_bac:105834 has 2 alternate alleles so only the top alleles will be used; see the --max_alternate_alleles argument "
       ]
      }, 
      {
       "output_type": "stream", 
       "stream": "stdout", 
       "text": [
        "WARN  04:16:39,117 ExactAFCalculationModel - this tool is currently set to genotype at most 1 alternate alleles in a given context, but the context at agouti_bac:106289 has 2 alternate alleles so only the top alleles will be used; see the --max_alternate_alleles argument ", 
        "WARN  04:16:39,121 ExactAFCalculationModel - this tool is currently set to genotype at most 1 alternate alleles in a given context, but the context at agouti_bac:106306 has 2 alternate alleles so only the top alleles will be used; see the --max_alternate_alleles argument ", 
        "WARN  04:16:39,130 ExactAFCalculationModel - this tool is currently set to genotype at most 1 alternate alleles in a given context, but the context at agouti_bac:106354 has 2 alternate alleles so only the top alleles will be used; see the --max_alternate_alleles argument "
       ]
      }, 
      {
       "output_type": "stream", 
       "stream": "stdout", 
       "text": [
        "WARN  04:16:39,202 ExactAFCalculationModel - this tool is currently set to genotype at most 1 alternate alleles in a given context, but the context at agouti_bac:107189 has 2 alternate alleles so only the top alleles will be used; see the --max_alternate_alleles argument ", 
        "WARN  04:16:39,209 ExactAFCalculationModel - this tool is currently set to genotype at most 1 alternate alleles in a given context, but the context at agouti_bac:107219 has 2 alternate alleles so only the top alleles will be used; see the --max_alternate_alleles argument "
       ]
      }, 
      {
       "output_type": "stream", 
       "stream": "stdout", 
       "text": [
        "WARN  04:16:39,241 ExactAFCalculationModel - this tool is currently set to genotype at most 1 alternate alleles in a given context, but the context at agouti_bac:107358 has 2 alternate alleles so only the top alleles will be used; see the --max_alternate_alleles argument ", 
        "WARN  04:16:39,291 ExactAFCalculationModel - this tool is currently set to genotype at most 1 alternate alleles in a given context, but the context at agouti_bac:108784 has 2 alternate alleles so only the top alleles will be used; see the --max_alternate_alleles argument "
       ]
      }, 
      {
       "output_type": "stream", 
       "stream": "stdout", 
       "text": [
        "WARN  04:16:39,396 ExactAFCalculationModel - this tool is currently set to genotype at most 1 alternate alleles in a given context, but the context at agouti_bac:109490 has 2 alternate alleles so only the top alleles will be used; see the --max_alternate_alleles argument ", 
        "WARN  04:16:39,404 ExactAFCalculationModel - this tool is currently set to genotype at most 1 alternate alleles in a given context, but the context at agouti_bac:109521 has 2 alternate alleles so only the top alleles will be used; see the --max_alternate_alleles argument ", 
        "WARN  04:16:39,409 ExactAFCalculationModel - this tool is currently set to genotype at most 1 alternate alleles in a given context, but the context at agouti_bac:109536 has 2 alternate alleles so only the top alleles will be used; see the --max_alternate_alleles argument "
       ]
      }, 
      {
       "output_type": "stream", 
       "stream": "stdout", 
       "text": [
        "WARN  04:16:39,604 ExactAFCalculationModel - this tool is currently set to genotype at most 1 alternate alleles in a given context, but the context at agouti_bac:110767 has 2 alternate alleles so only the top alleles will be used; see the --max_alternate_alleles argument ", 
        "WARN  04:16:39,644 ExactAFCalculationModel - this tool is currently set to genotype at most 1 alternate alleles in a given context, but the context at agouti_bac:110936 has 2 alternate alleles so only the top alleles will be used; see the --max_alternate_alleles argument "
       ]
      }, 
      {
       "output_type": "stream", 
       "stream": "stdout", 
       "text": [
        "WARN  04:16:39,729 ExactAFCalculationModel - this tool is currently set to genotype at most 1 alternate alleles in a given context, but the context at agouti_bac:111281 has 2 alternate alleles so only the top alleles will be used; see the --max_alternate_alleles argument ", 
        "WARN  04:16:39,744 ExactAFCalculationModel - this tool is currently set to genotype at most 1 alternate alleles in a given context, but the context at agouti_bac:111353 has 2 alternate alleles so only the top alleles will be used; see the --max_alternate_alleles argument "
       ]
      }, 
      {
       "output_type": "stream", 
       "stream": "stdout", 
       "text": [
        "WARN  04:16:39,788 ExactAFCalculationModel - this tool is currently set to genotype at most 1 alternate alleles in a given context, but the context at agouti_bac:111525 has 2 alternate alleles so only the top alleles will be used; see the --max_alternate_alleles argument "
       ]
      }, 
      {
       "output_type": "stream", 
       "stream": "stdout", 
       "text": [
        "WARN  04:16:39,932 ExactAFCalculationModel - this tool is currently set to genotype at most 1 alternate alleles in a given context, but the context at agouti_bac:113740 has 2 alternate alleles so only the top alleles will be used; see the --max_alternate_alleles argument ", 
        "WARN  04:16:39,959 ExactAFCalculationModel - this tool is currently set to genotype at most 1 alternate alleles in a given context, but the context at agouti_bac:113852 has 2 alternate alleles so only the top alleles will be used; see the --max_alternate_alleles argument "
       ]
      }, 
      {
       "output_type": "stream", 
       "stream": "stdout", 
       "text": [
        "WARN  04:16:40,033 ExactAFCalculationModel - this tool is currently set to genotype at most 1 alternate alleles in a given context, but the context at agouti_bac:115045 has 2 alternate alleles so only the top alleles will be used; see the --max_alternate_alleles argument ", 
        "WARN  04:16:40,061 ExactAFCalculationModel - this tool is currently set to genotype at most 1 alternate alleles in a given context, but the context at agouti_bac:115153 has 2 alternate alleles so only the top alleles will be used; see the --max_alternate_alleles argument "
       ]
      }, 
      {
       "output_type": "stream", 
       "stream": "stdout", 
       "text": [
        "WARN  04:16:40,084 ExactAFCalculationModel - this tool is currently set to genotype at most 1 alternate alleles in a given context, but the context at agouti_bac:115236 has 2 alternate alleles so only the top alleles will be used; see the --max_alternate_alleles argument ", 
        "WARN  04:16:40,112 ExactAFCalculationModel - this tool is currently set to genotype at most 1 alternate alleles in a given context, but the context at agouti_bac:115332 has 2 alternate alleles so only the top alleles will be used; see the --max_alternate_alleles argument "
       ]
      }, 
      {
       "output_type": "stream", 
       "stream": "stdout", 
       "text": [
        "WARN  04:16:40,140 ExactAFCalculationModel - this tool is currently set to genotype at most 1 alternate alleles in a given context, but the context at agouti_bac:115444 has 2 alternate alleles so only the top alleles will be used; see the --max_alternate_alleles argument "
       ]
      }, 
      {
       "output_type": "stream", 
       "stream": "stdout", 
       "text": [
        "WARN  04:16:40,231 ExactAFCalculationModel - this tool is currently set to genotype at most 1 alternate alleles in a given context, but the context at agouti_bac:117299 has 2 alternate alleles so only the top alleles will be used; see the --max_alternate_alleles argument "
       ]
      }, 
      {
       "output_type": "stream", 
       "stream": "stdout", 
       "text": [
        "WARN  04:16:40,272 ExactAFCalculationModel - this tool is currently set to genotype at most 1 alternate alleles in a given context, but the context at agouti_bac:117390 has 2 alternate alleles so only the top alleles will be used; see the --max_alternate_alleles argument ", 
        "WARN  04:16:40,283 ExactAFCalculationModel - this tool is currently set to genotype at most 1 alternate alleles in a given context, but the context at agouti_bac:117425 has 2 alternate alleles so only the top alleles will be used; see the --max_alternate_alleles argument "
       ]
      }, 
      {
       "output_type": "stream", 
       "stream": "stdout", 
       "text": [
        "WARN  04:16:40,334 ExactAFCalculationModel - this tool is currently set to genotype at most 1 alternate alleles in a given context, but the context at agouti_bac:117963 has 2 alternate alleles so only the top alleles will be used; see the --max_alternate_alleles argument "
       ]
      }, 
      {
       "output_type": "stream", 
       "stream": "stdout", 
       "text": [
        "WARN  04:16:40,441 ExactAFCalculationModel - this tool is currently set to genotype at most 1 alternate alleles in a given context, but the context at agouti_bac:118387 has 2 alternate alleles so only the top alleles will be used; see the --max_alternate_alleles argument "
       ]
      }, 
      {
       "output_type": "stream", 
       "stream": "stdout", 
       "text": [
        "WARN  04:16:40,521 ExactAFCalculationModel - this tool is currently set to genotype at most 1 alternate alleles in a given context, but the context at agouti_bac:118706 has 2 alternate alleles so only the top alleles will be used; see the --max_alternate_alleles argument "
       ]
      }, 
      {
       "output_type": "stream", 
       "stream": "stdout", 
       "text": [
        "WARN  04:16:40,528 ExactAFCalculationModel - this tool is currently set to genotype at most 1 alternate alleles in a given context, but the context at agouti_bac:118732 has 2 alternate alleles so only the top alleles will be used; see the --max_alternate_alleles argument "
       ]
      }, 
      {
       "output_type": "stream", 
       "stream": "stdout", 
       "text": [
        "WARN  04:16:40,652 ExactAFCalculationModel - this tool is currently set to genotype at most 1 alternate alleles in a given context, but the context at agouti_bac:120057 has 2 alternate alleles so only the top alleles will be used; see the --max_alternate_alleles argument ", 
        "WARN  04:16:40,659 ExactAFCalculationModel - this tool is currently set to genotype at most 1 alternate alleles in a given context, but the context at agouti_bac:120083 has 2 alternate alleles so only the top alleles will be used; see the --max_alternate_alleles argument ", 
        "WARN  04:16:40,673 ExactAFCalculationModel - this tool is currently set to genotype at most 1 alternate alleles in a given context, but the context at agouti_bac:120155 has 2 alternate alleles so only the top alleles will be used; see the --max_alternate_alleles argument "
       ]
      }, 
      {
       "output_type": "stream", 
       "stream": "stdout", 
       "text": [
        "WARN  04:16:40,732 ExactAFCalculationModel - this tool is currently set to genotype at most 1 alternate alleles in a given context, but the context at agouti_bac:121320 has 2 alternate alleles so only the top alleles will be used; see the --max_alternate_alleles argument ", 
        "WARN  04:16:40,761 ExactAFCalculationModel - this tool is currently set to genotype at most 1 alternate alleles in a given context, but the context at agouti_bac:121429 has 2 alternate alleles so only the top alleles will be used; see the --max_alternate_alleles argument "
       ]
      }, 
      {
       "output_type": "stream", 
       "stream": "stdout", 
       "text": [
        "WARN  04:16:40,835 ExactAFCalculationModel - this tool is currently set to genotype at most 1 alternate alleles in a given context, but the context at agouti_bac:121631 has 2 alternate alleles so only the top alleles will be used; see the --max_alternate_alleles argument "
       ]
      }, 
      {
       "output_type": "stream", 
       "stream": "stdout", 
       "text": [
        "WARN  04:16:40,876 ExactAFCalculationModel - this tool is currently set to genotype at most 1 alternate alleles in a given context, but the context at agouti_bac:121779 has 2 alternate alleles so only the top alleles will be used; see the --max_alternate_alleles argument ", 
        "WARN  04:16:40,890 ExactAFCalculationModel - this tool is currently set to genotype at most 1 alternate alleles in a given context, but the context at agouti_bac:121852 has 2 alternate alleles so only the top alleles will be used; see the --max_alternate_alleles argument ", 
        "WARN  04:16:40,893 ExactAFCalculationModel - this tool is currently set to genotype at most 1 alternate alleles in a given context, but the context at agouti_bac:121863 has 2 alternate alleles so only the top alleles will be used; see the --max_alternate_alleles argument "
       ]
      }, 
      {
       "output_type": "stream", 
       "stream": "stdout", 
       "text": [
        "WARN  04:16:40,994 ExactAFCalculationModel - this tool is currently set to genotype at most 1 alternate alleles in a given context, but the context at agouti_bac:122296 has 2 alternate alleles so only the top alleles will be used; see the --max_alternate_alleles argument "
       ]
      }, 
      {
       "output_type": "stream", 
       "stream": "stdout", 
       "text": [
        "WARN  04:16:41,014 ExactAFCalculationModel - this tool is currently set to genotype at most 1 alternate alleles in a given context, but the context at agouti_bac:122380 has 2 alternate alleles so only the top alleles will be used; see the --max_alternate_alleles argument "
       ]
      }, 
      {
       "output_type": "stream", 
       "stream": "stdout", 
       "text": [
        "WARN  04:16:41,138 ExactAFCalculationModel - this tool is currently set to genotype at most 1 alternate alleles in a given context, but the context at agouti_bac:124064 has 2 alternate alleles so only the top alleles will be used; see the --max_alternate_alleles argument "
       ]
      }, 
      {
       "output_type": "stream", 
       "stream": "stdout", 
       "text": [
        "WARN  04:16:41,208 ExactAFCalculationModel - this tool is currently set to genotype at most 1 alternate alleles in a given context, but the context at agouti_bac:124777 has 2 alternate alleles so only the top alleles will be used; see the --max_alternate_alleles argument "
       ]
      }, 
      {
       "output_type": "stream", 
       "stream": "stdout", 
       "text": [
        "INFO  04:16:41,258 TraversalEngine - agouti_bac:125001        1.25e+05   30.0 s        4.0 m     36.2%        83.1 s    53.0 s ", 
        "WARN  04:16:41,301 ExactAFCalculationModel - this tool is currently set to genotype at most 1 alternate alleles in a given context, but the context at agouti_bac:125313 has 2 alternate alleles so only the top alleles will be used; see the --max_alternate_alleles argument "
       ]
      }, 
      {
       "output_type": "stream", 
       "stream": "stdout", 
       "text": [
        "WARN  04:16:41,326 ExactAFCalculationModel - this tool is currently set to genotype at most 1 alternate alleles in a given context, but the context at agouti_bac:125363 has 2 alternate alleles so only the top alleles will be used; see the --max_alternate_alleles argument "
       ]
      }, 
      {
       "output_type": "stream", 
       "stream": "stdout", 
       "text": [
        "WARN  04:16:41,500 ExactAFCalculationModel - this tool is currently set to genotype at most 1 alternate alleles in a given context, but the context at agouti_bac:126624 has 2 alternate alleles so only the top alleles will be used; see the --max_alternate_alleles argument "
       ]
      }, 
      {
       "output_type": "stream", 
       "stream": "stdout", 
       "text": [
        "WARN  04:16:41,534 ExactAFCalculationModel - this tool is currently set to genotype at most 1 alternate alleles in a given context, but the context at agouti_bac:126720 has 2 alternate alleles so only the top alleles will be used; see the --max_alternate_alleles argument "
       ]
      }, 
      {
       "output_type": "stream", 
       "stream": "stdout", 
       "text": [
        "WARN  04:16:41,718 ExactAFCalculationModel - this tool is currently set to genotype at most 1 alternate alleles in a given context, but the context at agouti_bac:127791 has 2 alternate alleles so only the top alleles will be used; see the --max_alternate_alleles argument ", 
        "WARN  04:16:41,735 ExactAFCalculationModel - this tool is currently set to genotype at most 1 alternate alleles in a given context, but the context at agouti_bac:127925 has 2 alternate alleles so only the top alleles will be used; see the --max_alternate_alleles argument ", 
        "WARN  04:16:41,755 ExactAFCalculationModel - this tool is currently set to genotype at most 1 alternate alleles in a given context, but the context at agouti_bac:128007 has 2 alternate alleles so only the top alleles will be used; see the --max_alternate_alleles argument ", 
        "WARN  04:16:41,760 ExactAFCalculationModel - this tool is currently set to genotype at most 1 alternate alleles in a given context, but the context at agouti_bac:128025 has 2 alternate alleles so only the top alleles will be used; see the --max_alternate_alleles argument "
       ]
      }, 
      {
       "output_type": "stream", 
       "stream": "stdout", 
       "text": [
        "WARN  04:16:41,802 ExactAFCalculationModel - this tool is currently set to genotype at most 1 alternate alleles in a given context, but the context at agouti_bac:128170 has 2 alternate alleles so only the top alleles will be used; see the --max_alternate_alleles argument "
       ]
      }, 
      {
       "output_type": "stream", 
       "stream": "stdout", 
       "text": [
        "WARN  04:16:41,918 ExactAFCalculationModel - this tool is currently set to genotype at most 1 alternate alleles in a given context, but the context at agouti_bac:128538 has 2 alternate alleles so only the top alleles will be used; see the --max_alternate_alleles argument "
       ]
      }, 
      {
       "output_type": "stream", 
       "stream": "stdout", 
       "text": [
        "WARN  04:16:42,057 ExactAFCalculationModel - this tool is currently set to genotype at most 1 alternate alleles in a given context, but the context at agouti_bac:129559 has 2 alternate alleles so only the top alleles will be used; see the --max_alternate_alleles argument "
       ]
      }, 
      {
       "output_type": "stream", 
       "stream": "stdout", 
       "text": [
        "WARN  04:16:42,081 ExactAFCalculationModel - this tool is currently set to genotype at most 1 alternate alleles in a given context, but the context at agouti_bac:129649 has 2 alternate alleles so only the top alleles will be used; see the --max_alternate_alleles argument ", 
        "WARN  04:16:42,101 ExactAFCalculationModel - this tool is currently set to genotype at most 1 alternate alleles in a given context, but the context at agouti_bac:129723 has 2 alternate alleles so only the top alleles will be used; see the --max_alternate_alleles argument "
       ]
      }, 
      {
       "output_type": "stream", 
       "stream": "stdout", 
       "text": [
        "WARN  04:16:42,326 ExactAFCalculationModel - this tool is currently set to genotype at most 1 alternate alleles in a given context, but the context at agouti_bac:131968 has 2 alternate alleles so only the top alleles will be used; see the --max_alternate_alleles argument "
       ]
      }, 
      {
       "output_type": "stream", 
       "stream": "stdout", 
       "text": [
        "WARN  04:16:42,333 ExactAFCalculationModel - this tool is currently set to genotype at most 1 alternate alleles in a given context, but the context at agouti_bac:131998 has 2 alternate alleles so only the top alleles will be used; see the --max_alternate_alleles argument "
       ]
      }, 
      {
       "output_type": "stream", 
       "stream": "stdout", 
       "text": [
        "WARN  04:16:42,400 ExactAFCalculationModel - this tool is currently set to genotype at most 1 alternate alleles in a given context, but the context at agouti_bac:132144 has 2 alternate alleles so only the top alleles will be used; see the --max_alternate_alleles argument "
       ]
      }, 
      {
       "output_type": "stream", 
       "stream": "stdout", 
       "text": [
        "WARN  04:16:42,486 ExactAFCalculationModel - this tool is currently set to genotype at most 1 alternate alleles in a given context, but the context at agouti_bac:132463 has 2 alternate alleles so only the top alleles will be used; see the --max_alternate_alleles argument "
       ]
      }, 
      {
       "output_type": "stream", 
       "stream": "stdout", 
       "text": [
        "WARN  04:16:42,642 ExactAFCalculationModel - this tool is currently set to genotype at most 1 alternate alleles in a given context, but the context at agouti_bac:133044 has 2 alternate alleles so only the top alleles will be used; see the --max_alternate_alleles argument "
       ]
      }, 
      {
       "output_type": "stream", 
       "stream": "stdout", 
       "text": [
        "WARN  04:16:42,699 ExactAFCalculationModel - this tool is currently set to genotype at most 1 alternate alleles in a given context, but the context at agouti_bac:133275 has 2 alternate alleles so only the top alleles will be used; see the --max_alternate_alleles argument "
       ]
      }, 
      {
       "output_type": "stream", 
       "stream": "stdout", 
       "text": [
        "WARN  04:16:42,895 ExactAFCalculationModel - this tool is currently set to genotype at most 1 alternate alleles in a given context, but the context at agouti_bac:134033 has 2 alternate alleles so only the top alleles will be used; see the --max_alternate_alleles argument "
       ]
      }, 
      {
       "output_type": "stream", 
       "stream": "stdout", 
       "text": [
        "WARN  04:16:42,899 ExactAFCalculationModel - this tool is currently set to genotype at most 1 alternate alleles in a given context, but the context at agouti_bac:134049 has 2 alternate alleles so only the top alleles will be used; see the --max_alternate_alleles argument ", 
        "WARN  04:16:42,904 ExactAFCalculationModel - this tool is currently set to genotype at most 1 alternate alleles in a given context, but the context at agouti_bac:134067 has 2 alternate alleles so only the top alleles will be used; see the --max_alternate_alleles argument ", 
        "WARN  04:16:42,916 ExactAFCalculationModel - this tool is currently set to genotype at most 1 alternate alleles in a given context, but the context at agouti_bac:134201 has 2 alternate alleles so only the top alleles will be used; see the --max_alternate_alleles argument ", 
        "WARN  04:16:42,929 ExactAFCalculationModel - this tool is currently set to genotype at most 1 alternate alleles in a given context, but the context at agouti_bac:134259 has 2 alternate alleles so only the top alleles will be used; see the --max_alternate_alleles argument ", 
        "WARN  04:16:42,930 ExactAFCalculationModel - this tool is currently set to genotype at most 1 alternate alleles in a given context, but the context at agouti_bac:134260 has 3 alternate alleles so only the top alleles will be used; see the --max_alternate_alleles argument "
       ]
      }, 
      {
       "output_type": "stream", 
       "stream": "stdout", 
       "text": [
        "WARN  04:16:43,036 ExactAFCalculationModel - this tool is currently set to genotype at most 1 alternate alleles in a given context, but the context at agouti_bac:134673 has 2 alternate alleles so only the top alleles will be used; see the --max_alternate_alleles argument "
       ]
      }, 
      {
       "output_type": "stream", 
       "stream": "stdout", 
       "text": [
        "WARN  04:16:43,062 ExactAFCalculationModel - this tool is currently set to genotype at most 1 alternate alleles in a given context, but the context at agouti_bac:134728 has 2 alternate alleles so only the top alleles will be used; see the --max_alternate_alleles argument ", 
        "WARN  04:16:43,082 ExactAFCalculationModel - this tool is currently set to genotype at most 1 alternate alleles in a given context, but the context at agouti_bac:134780 has 2 alternate alleles so only the top alleles will be used; see the --max_alternate_alleles argument "
       ]
      }, 
      {
       "output_type": "stream", 
       "stream": "stdout", 
       "text": [
        "WARN  04:16:43,129 ExactAFCalculationModel - this tool is currently set to genotype at most 1 alternate alleles in a given context, but the context at agouti_bac:135172 has 2 alternate alleles so only the top alleles will be used; see the --max_alternate_alleles argument ", 
        "WARN  04:16:43,131 ExactAFCalculationModel - this tool is currently set to genotype at most 1 alternate alleles in a given context, but the context at agouti_bac:135179 has 2 alternate alleles so only the top alleles will be used; see the --max_alternate_alleles argument ", 
        "WARN  04:16:43,149 ExactAFCalculationModel - this tool is currently set to genotype at most 1 alternate alleles in a given context, but the context at agouti_bac:135240 has 2 alternate alleles so only the top alleles will be used; see the --max_alternate_alleles argument "
       ]
      }, 
      {
       "output_type": "stream", 
       "stream": "stdout", 
       "text": [
        "WARN  04:16:43,195 ExactAFCalculationModel - this tool is currently set to genotype at most 1 alternate alleles in a given context, but the context at agouti_bac:135496 has 2 alternate alleles so only the top alleles will be used; see the --max_alternate_alleles argument "
       ]
      }, 
      {
       "output_type": "stream", 
       "stream": "stdout", 
       "text": [
        "WARN  04:16:43,424 ExactAFCalculationModel - this tool is currently set to genotype at most 1 alternate alleles in a given context, but the context at agouti_bac:137838 has 2 alternate alleles so only the top alleles will be used; see the --max_alternate_alleles argument ", 
        "WARN  04:16:43,437 ExactAFCalculationModel - this tool is currently set to genotype at most 1 alternate alleles in a given context, but the context at agouti_bac:137896 has 2 alternate alleles so only the top alleles will be used; see the --max_alternate_alleles argument "
       ]
      }, 
      {
       "output_type": "stream", 
       "stream": "stdout", 
       "text": [
        "WARN  04:16:43,515 ExactAFCalculationModel - this tool is currently set to genotype at most 1 alternate alleles in a given context, but the context at agouti_bac:138147 has 2 alternate alleles so only the top alleles will be used; see the --max_alternate_alleles argument "
       ]
      }, 
      {
       "output_type": "stream", 
       "stream": "stdout", 
       "text": [
        "WARN  04:16:43,623 ExactAFCalculationModel - this tool is currently set to genotype at most 1 alternate alleles in a given context, but the context at agouti_bac:138297 has 2 alternate alleles so only the top alleles will be used; see the --max_alternate_alleles argument "
       ]
      }, 
      {
       "output_type": "stream", 
       "stream": "stdout", 
       "text": [
        "WARN  04:16:43,778 ExactAFCalculationModel - this tool is currently set to genotype at most 1 alternate alleles in a given context, but the context at agouti_bac:138540 has 2 alternate alleles so only the top alleles will be used; see the --max_alternate_alleles argument "
       ]
      }, 
      {
       "output_type": "stream", 
       "stream": "stdout", 
       "text": [
        "WARN  04:16:43,828 ExactAFCalculationModel - this tool is currently set to genotype at most 1 alternate alleles in a given context, but the context at agouti_bac:138632 has 2 alternate alleles so only the top alleles will be used; see the --max_alternate_alleles argument "
       ]
      }, 
      {
       "output_type": "stream", 
       "stream": "stdout", 
       "text": [
        "WARN  04:16:43,858 ExactAFCalculationModel - this tool is currently set to genotype at most 1 alternate alleles in a given context, but the context at agouti_bac:138667 has 2 alternate alleles so only the top alleles will be used; see the --max_alternate_alleles argument ", 
        "WARN  04:16:43,869 ExactAFCalculationModel - this tool is currently set to genotype at most 1 alternate alleles in a given context, but the context at agouti_bac:138695 has 2 alternate alleles so only the top alleles will be used; see the --max_alternate_alleles argument "
       ]
      }, 
      {
       "output_type": "stream", 
       "stream": "stdout", 
       "text": [
        "WARN  04:16:44,005 ExactAFCalculationModel - this tool is currently set to genotype at most 1 alternate alleles in a given context, but the context at agouti_bac:138875 has 2 alternate alleles so only the top alleles will be used; see the --max_alternate_alleles argument "
       ]
      }, 
      {
       "output_type": "stream", 
       "stream": "stdout", 
       "text": [
        "WARN  04:16:44,177 ExactAFCalculationModel - this tool is currently set to genotype at most 1 alternate alleles in a given context, but the context at agouti_bac:139075 has 2 alternate alleles so only the top alleles will be used; see the --max_alternate_alleles argument "
       ]
      }, 
      {
       "output_type": "stream", 
       "stream": "stdout", 
       "text": [
        "WARN  04:16:44,234 ExactAFCalculationModel - this tool is currently set to genotype at most 1 alternate alleles in a given context, but the context at agouti_bac:139091 has 2 alternate alleles so only the top alleles will be used; see the --max_alternate_alleles argument "
       ]
      }, 
      {
       "output_type": "stream", 
       "stream": "stdout", 
       "text": [
        "WARN  04:16:44,370 ExactAFCalculationModel - this tool is currently set to genotype at most 1 alternate alleles in a given context, but the context at agouti_bac:139547 has 2 alternate alleles so only the top alleles will be used; see the --max_alternate_alleles argument "
       ]
      }, 
      {
       "output_type": "stream", 
       "stream": "stdout", 
       "text": [
        "WARN  04:16:44,645 ExactAFCalculationModel - this tool is currently set to genotype at most 1 alternate alleles in a given context, but the context at agouti_bac:139912 has 2 alternate alleles so only the top alleles will be used; see the --max_alternate_alleles argument ", 
        "WARN  04:16:44,660 ExactAFCalculationModel - this tool is currently set to genotype at most 1 alternate alleles in a given context, but the context at agouti_bac:139956 has 2 alternate alleles so only the top alleles will be used; see the --max_alternate_alleles argument "
       ]
      }, 
      {
       "output_type": "stream", 
       "stream": "stdout", 
       "text": [
        "WARN  04:16:44,735 ExactAFCalculationModel - this tool is currently set to genotype at most 1 alternate alleles in a given context, but the context at agouti_bac:140229 has 2 alternate alleles so only the top alleles will be used; see the --max_alternate_alleles argument ", 
        "WARN  04:16:44,756 ExactAFCalculationModel - this tool is currently set to genotype at most 1 alternate alleles in a given context, but the context at agouti_bac:140280 has 2 alternate alleles so only the top alleles will be used; see the --max_alternate_alleles argument "
       ]
      }, 
      {
       "output_type": "stream", 
       "stream": "stdout", 
       "text": [
        "WARN  04:16:44,846 ExactAFCalculationModel - this tool is currently set to genotype at most 1 alternate alleles in a given context, but the context at agouti_bac:140823 has 2 alternate alleles so only the top alleles will be used; see the --max_alternate_alleles argument "
       ]
      }, 
      {
       "output_type": "stream", 
       "stream": "stdout", 
       "text": [
        "WARN  04:16:44,895 ExactAFCalculationModel - this tool is currently set to genotype at most 1 alternate alleles in a given context, but the context at agouti_bac:140921 has 2 alternate alleles so only the top alleles will be used; see the --max_alternate_alleles argument ", 
        "WARN  04:16:44,924 ExactAFCalculationModel - this tool is currently set to genotype at most 1 alternate alleles in a given context, but the context at agouti_bac:141184 has 2 alternate alleles so only the top alleles will be used; see the --max_alternate_alleles argument "
       ]
      }, 
      {
       "output_type": "stream", 
       "stream": "stdout", 
       "text": [
        "WARN  04:16:44,952 ExactAFCalculationModel - this tool is currently set to genotype at most 1 alternate alleles in a given context, but the context at agouti_bac:141284 has 2 alternate alleles so only the top alleles will be used; see the --max_alternate_alleles argument "
       ]
      }, 
      {
       "output_type": "stream", 
       "stream": "stdout", 
       "text": [
        "WARN  04:16:44,998 ExactAFCalculationModel - this tool is currently set to genotype at most 1 alternate alleles in a given context, but the context at agouti_bac:141406 has 2 alternate alleles so only the top alleles will be used; see the --max_alternate_alleles argument ", 
        "WARN  04:16:45,004 ExactAFCalculationModel - this tool is currently set to genotype at most 1 alternate alleles in a given context, but the context at agouti_bac:141429 has 2 alternate alleles so only the top alleles will be used; see the --max_alternate_alleles argument "
       ]
      }, 
      {
       "output_type": "stream", 
       "stream": "stdout", 
       "text": [
        "WARN  04:16:45,128 ExactAFCalculationModel - this tool is currently set to genotype at most 1 alternate alleles in a given context, but the context at agouti_bac:141699 has 2 alternate alleles so only the top alleles will be used; see the --max_alternate_alleles argument "
       ]
      }, 
      {
       "output_type": "stream", 
       "stream": "stdout", 
       "text": [
        "WARN  04:16:45,318 ExactAFCalculationModel - this tool is currently set to genotype at most 1 alternate alleles in a given context, but the context at agouti_bac:142225 has 2 alternate alleles so only the top alleles will be used; see the --max_alternate_alleles argument "
       ]
      }, 
      {
       "output_type": "stream", 
       "stream": "stdout", 
       "text": [
        "WARN  04:16:45,584 ExactAFCalculationModel - this tool is currently set to genotype at most 1 alternate alleles in a given context, but the context at agouti_bac:142817 has 2 alternate alleles so only the top alleles will be used; see the --max_alternate_alleles argument "
       ]
      }, 
      {
       "output_type": "stream", 
       "stream": "stdout", 
       "text": [
        "WARN  04:16:45,836 ExactAFCalculationModel - this tool is currently set to genotype at most 1 alternate alleles in a given context, but the context at agouti_bac:143961 has 2 alternate alleles so only the top alleles will be used; see the --max_alternate_alleles argument ", 
        "WARN  04:16:45,857 ExactAFCalculationModel - this tool is currently set to genotype at most 1 alternate alleles in a given context, but the context at agouti_bac:144038 has 2 alternate alleles so only the top alleles will be used; see the --max_alternate_alleles argument "
       ]
      }, 
      {
       "output_type": "stream", 
       "stream": "stdout", 
       "text": [
        "WARN  04:16:45,898 ExactAFCalculationModel - this tool is currently set to genotype at most 1 alternate alleles in a given context, but the context at agouti_bac:144099 has 2 alternate alleles so only the top alleles will be used; see the --max_alternate_alleles argument "
       ]
      }, 
      {
       "output_type": "stream", 
       "stream": "stdout", 
       "text": [
        "WARN  04:16:46,013 ExactAFCalculationModel - this tool is currently set to genotype at most 1 alternate alleles in a given context, but the context at agouti_bac:144628 has 2 alternate alleles so only the top alleles will be used; see the --max_alternate_alleles argument "
       ]
      }, 
      {
       "output_type": "stream", 
       "stream": "stdout", 
       "text": [
        "WARN  04:16:46,160 ExactAFCalculationModel - this tool is currently set to genotype at most 1 alternate alleles in a given context, but the context at agouti_bac:145008 has 2 alternate alleles so only the top alleles will be used; see the --max_alternate_alleles argument "
       ]
      }, 
      {
       "output_type": "stream", 
       "stream": "stdout", 
       "text": [
        "WARN  04:16:46,335 ExactAFCalculationModel - this tool is currently set to genotype at most 1 alternate alleles in a given context, but the context at agouti_bac:145335 has 2 alternate alleles so only the top alleles will be used; see the --max_alternate_alleles argument "
       ]
      }, 
      {
       "output_type": "stream", 
       "stream": "stdout", 
       "text": [
        "WARN  04:16:46,370 ExactAFCalculationModel - this tool is currently set to genotype at most 1 alternate alleles in a given context, but the context at agouti_bac:145442 has 2 alternate alleles so only the top alleles will be used; see the --max_alternate_alleles argument "
       ]
      }, 
      {
       "output_type": "stream", 
       "stream": "stdout", 
       "text": [
        "WARN  04:16:46,419 ExactAFCalculationModel - this tool is currently set to genotype at most 1 alternate alleles in a given context, but the context at agouti_bac:145564 has 2 alternate alleles so only the top alleles will be used; see the --max_alternate_alleles argument "
       ]
      }, 
      {
       "output_type": "stream", 
       "stream": "stdout", 
       "text": [
        "WARN  04:16:46,496 ExactAFCalculationModel - this tool is currently set to genotype at most 1 alternate alleles in a given context, but the context at agouti_bac:145805 has 2 alternate alleles so only the top alleles will be used; see the --max_alternate_alleles argument "
       ]
      }, 
      {
       "output_type": "stream", 
       "stream": "stdout", 
       "text": [
        "WARN  04:16:46,764 ExactAFCalculationModel - this tool is currently set to genotype at most 1 alternate alleles in a given context, but the context at agouti_bac:146376 has 2 alternate alleles so only the top alleles will be used; see the --max_alternate_alleles argument "
       ]
      }, 
      {
       "output_type": "stream", 
       "stream": "stdout", 
       "text": [
        "WARN  04:16:46,795 ExactAFCalculationModel - this tool is currently set to genotype at most 1 alternate alleles in a given context, but the context at agouti_bac:146486 has 2 alternate alleles so only the top alleles will be used; see the --max_alternate_alleles argument "
       ]
      }, 
      {
       "output_type": "stream", 
       "stream": "stdout", 
       "text": [
        "WARN  04:16:46,981 ExactAFCalculationModel - this tool is currently set to genotype at most 1 alternate alleles in a given context, but the context at agouti_bac:147274 has 2 alternate alleles so only the top alleles will be used; see the --max_alternate_alleles argument "
       ]
      }, 
      {
       "output_type": "stream", 
       "stream": "stdout", 
       "text": [
        "WARN  04:16:47,024 ExactAFCalculationModel - this tool is currently set to genotype at most 1 alternate alleles in a given context, but the context at agouti_bac:147392 has 2 alternate alleles so only the top alleles will be used; see the --max_alternate_alleles argument ", 
        "WARN  04:16:47,031 ExactAFCalculationModel - this tool is currently set to genotype at most 1 alternate alleles in a given context, but the context at agouti_bac:147400 has 2 alternate alleles so only the top alleles will be used; see the --max_alternate_alleles argument "
       ]
      }, 
      {
       "output_type": "stream", 
       "stream": "stdout", 
       "text": [
        "WARN  04:16:47,170 ExactAFCalculationModel - this tool is currently set to genotype at most 1 alternate alleles in a given context, but the context at agouti_bac:147633 has 2 alternate alleles so only the top alleles will be used; see the --max_alternate_alleles argument ", 
        "WARN  04:16:47,194 ExactAFCalculationModel - this tool is currently set to genotype at most 1 alternate alleles in a given context, but the context at agouti_bac:147728 has 2 alternate alleles so only the top alleles will be used; see the --max_alternate_alleles argument "
       ]
      }, 
      {
       "output_type": "stream", 
       "stream": "stdout", 
       "text": [
        "WARN  04:16:47,210 ExactAFCalculationModel - this tool is currently set to genotype at most 1 alternate alleles in a given context, but the context at agouti_bac:147786 has 2 alternate alleles so only the top alleles will be used; see the --max_alternate_alleles argument "
       ]
      }, 
      {
       "output_type": "stream", 
       "stream": "stdout", 
       "text": [
        "WARN  04:16:47,345 ExactAFCalculationModel - this tool is currently set to genotype at most 1 alternate alleles in a given context, but the context at agouti_bac:148596 has 2 alternate alleles so only the top alleles will be used; see the --max_alternate_alleles argument "
       ]
      }, 
      {
       "output_type": "stream", 
       "stream": "stdout", 
       "text": [
        "WARN  04:16:47,371 ExactAFCalculationModel - this tool is currently set to genotype at most 1 alternate alleles in a given context, but the context at agouti_bac:148696 has 2 alternate alleles so only the top alleles will be used; see the --max_alternate_alleles argument ", 
        "WARN  04:16:47,392 ExactAFCalculationModel - this tool is currently set to genotype at most 1 alternate alleles in a given context, but the context at agouti_bac:148769 has 2 alternate alleles so only the top alleles will be used; see the --max_alternate_alleles argument ", 
        "WARN  04:16:47,410 ExactAFCalculationModel - this tool is currently set to genotype at most 1 alternate alleles in a given context, but the context at agouti_bac:148845 has 2 alternate alleles so only the top alleles will be used; see the --max_alternate_alleles argument "
       ]
      }, 
      {
       "output_type": "stream", 
       "stream": "stdout", 
       "text": [
        "WARN  04:16:47,524 ExactAFCalculationModel - this tool is currently set to genotype at most 1 alternate alleles in a given context, but the context at agouti_bac:150176 has 2 alternate alleles so only the top alleles will be used; see the --max_alternate_alleles argument ", 
        "WARN  04:16:47,555 ExactAFCalculationModel - this tool is currently set to genotype at most 1 alternate alleles in a given context, but the context at agouti_bac:150312 has 2 alternate alleles so only the top alleles will be used; see the --max_alternate_alleles argument "
       ]
      }, 
      {
       "output_type": "stream", 
       "stream": "stdout", 
       "text": [
        "WARN  04:16:47,595 ExactAFCalculationModel - this tool is currently set to genotype at most 1 alternate alleles in a given context, but the context at agouti_bac:150474 has 2 alternate alleles so only the top alleles will be used; see the --max_alternate_alleles argument "
       ]
      }, 
      {
       "output_type": "stream", 
       "stream": "stdout", 
       "text": [
        "WARN  04:16:47,634 ExactAFCalculationModel - this tool is currently set to genotype at most 1 alternate alleles in a given context, but the context at agouti_bac:150598 has 2 alternate alleles so only the top alleles will be used; see the --max_alternate_alleles argument ", 
        "WARN  04:16:47,650 ExactAFCalculationModel - this tool is currently set to genotype at most 1 alternate alleles in a given context, but the context at agouti_bac:150655 has 2 alternate alleles so only the top alleles will be used; see the --max_alternate_alleles argument "
       ]
      }, 
      {
       "output_type": "stream", 
       "stream": "stdout", 
       "text": [
        "WARN  04:16:47,817 ExactAFCalculationModel - this tool is currently set to genotype at most 1 alternate alleles in a given context, but the context at agouti_bac:152135 has 2 alternate alleles so only the top alleles will be used; see the --max_alternate_alleles argument "
       ]
      }, 
      {
       "output_type": "stream", 
       "stream": "stdout", 
       "text": [
        "WARN  04:16:47,853 ExactAFCalculationModel - this tool is currently set to genotype at most 1 alternate alleles in a given context, but the context at agouti_bac:152251 has 2 alternate alleles so only the top alleles will be used; see the --max_alternate_alleles argument ", 
        "WARN  04:16:47,858 ExactAFCalculationModel - this tool is currently set to genotype at most 1 alternate alleles in a given context, but the context at agouti_bac:152270 has 2 alternate alleles so only the top alleles will be used; see the --max_alternate_alleles argument "
       ]
      }, 
      {
       "output_type": "stream", 
       "stream": "stdout", 
       "text": [
        "WARN  04:16:47,914 ExactAFCalculationModel - this tool is currently set to genotype at most 1 alternate alleles in a given context, but the context at agouti_bac:152686 has 2 alternate alleles so only the top alleles will be used; see the --max_alternate_alleles argument "
       ]
      }, 
      {
       "output_type": "stream", 
       "stream": "stdout", 
       "text": [
        "WARN  04:16:47,945 ExactAFCalculationModel - this tool is currently set to genotype at most 1 alternate alleles in a given context, but the context at agouti_bac:152968 has 2 alternate alleles so only the top alleles will be used; see the --max_alternate_alleles argument "
       ]
      }, 
      {
       "output_type": "stream", 
       "stream": "stdout", 
       "text": [
        "WARN  04:16:47,997 ExactAFCalculationModel - this tool is currently set to genotype at most 1 alternate alleles in a given context, but the context at agouti_bac:153186 has 2 alternate alleles so only the top alleles will be used; see the --max_alternate_alleles argument "
       ]
      }, 
      {
       "output_type": "stream", 
       "stream": "stdout", 
       "text": [
        "WARN  04:16:48,139 ExactAFCalculationModel - this tool is currently set to genotype at most 1 alternate alleles in a given context, but the context at agouti_bac:154370 has 2 alternate alleles so only the top alleles will be used; see the --max_alternate_alleles argument "
       ]
      }, 
      {
       "output_type": "stream", 
       "stream": "stdout", 
       "text": [
        "WARN  04:16:48,241 ExactAFCalculationModel - this tool is currently set to genotype at most 1 alternate alleles in a given context, but the context at agouti_bac:154787 has 2 alternate alleles so only the top alleles will be used; see the --max_alternate_alleles argument "
       ]
      }, 
      {
       "output_type": "stream", 
       "stream": "stdout", 
       "text": [
        "WARN  04:16:48,248 ExactAFCalculationModel - this tool is currently set to genotype at most 1 alternate alleles in a given context, but the context at agouti_bac:155251 has 2 alternate alleles so only the top alleles will be used; see the --max_alternate_alleles argument ", 
        "WARN  04:16:48,251 ExactAFCalculationModel - this tool is currently set to genotype at most 1 alternate alleles in a given context, but the context at agouti_bac:155264 has 2 alternate alleles so only the top alleles will be used; see the --max_alternate_alleles argument ", 
        "WARN  04:16:48,268 ExactAFCalculationModel - this tool is currently set to genotype at most 1 alternate alleles in a given context, but the context at agouti_bac:155330 has 2 alternate alleles so only the top alleles will be used; see the --max_alternate_alleles argument "
       ]
      }, 
      {
       "output_type": "stream", 
       "stream": "stdout", 
       "text": [
        "WARN  04:16:48,381 ExactAFCalculationModel - this tool is currently set to genotype at most 1 alternate alleles in a given context, but the context at agouti_bac:155795 has 2 alternate alleles so only the top alleles will be used; see the --max_alternate_alleles argument ", 
        "WARN  04:16:48,390 ExactAFCalculationModel - this tool is currently set to genotype at most 1 alternate alleles in a given context, but the context at agouti_bac:155829 has 2 alternate alleles so only the top alleles will be used; see the --max_alternate_alleles argument "
       ]
      }, 
      {
       "output_type": "stream", 
       "stream": "stdout", 
       "text": [
        "WARN  04:16:48,412 ExactAFCalculationModel - this tool is currently set to genotype at most 1 alternate alleles in a given context, but the context at agouti_bac:155902 has 2 alternate alleles so only the top alleles will be used; see the --max_alternate_alleles argument "
       ]
      }, 
      {
       "output_type": "stream", 
       "stream": "stdout", 
       "text": [
        "WARN  04:16:48,638 ExactAFCalculationModel - this tool is currently set to genotype at most 1 alternate alleles in a given context, but the context at agouti_bac:158471 has 2 alternate alleles so only the top alleles will be used; see the --max_alternate_alleles argument "
       ]
      }, 
      {
       "output_type": "stream", 
       "stream": "stdout", 
       "text": [
        "WARN  04:16:49,016 ExactAFCalculationModel - this tool is currently set to genotype at most 1 alternate alleles in a given context, but the context at agouti_bac:164408 has 2 alternate alleles so only the top alleles will be used; see the --max_alternate_alleles argument "
       ]
      }, 
      {
       "output_type": "stream", 
       "stream": "stdout", 
       "text": [
        "WARN  04:16:49,113 ExactAFCalculationModel - this tool is currently set to genotype at most 1 alternate alleles in a given context, but the context at agouti_bac:164900 has 2 alternate alleles so only the top alleles will be used; see the --max_alternate_alleles argument "
       ]
      }, 
      {
       "output_type": "stream", 
       "stream": "stdout", 
       "text": [
        "WARN  04:16:49,136 ExactAFCalculationModel - this tool is currently set to genotype at most 1 alternate alleles in a given context, but the context at agouti_bac:165323 has 2 alternate alleles so only the top alleles will be used; see the --max_alternate_alleles argument ", 
        "WARN  04:16:49,138 ExactAFCalculationModel - this tool is currently set to genotype at most 1 alternate alleles in a given context, but the context at agouti_bac:165330 has 2 alternate alleles so only the top alleles will be used; see the --max_alternate_alleles argument ", 
        "WARN  04:16:49,148 ExactAFCalculationModel - this tool is currently set to genotype at most 1 alternate alleles in a given context, but the context at agouti_bac:165381 has 2 alternate alleles so only the top alleles will be used; see the --max_alternate_alleles argument "
       ]
      }, 
      {
       "output_type": "stream", 
       "stream": "stdout", 
       "text": [
        "WARN  04:16:49,184 ExactAFCalculationModel - this tool is currently set to genotype at most 1 alternate alleles in a given context, but the context at agouti_bac:165495 has 2 alternate alleles so only the top alleles will be used; see the --max_alternate_alleles argument ", 
        "WARN  04:16:49,201 ExactAFCalculationModel - this tool is currently set to genotype at most 1 alternate alleles in a given context, but the context at agouti_bac:165557 has 2 alternate alleles so only the top alleles will be used; see the --max_alternate_alleles argument ", 
        "WARN  04:16:49,202 ExactAFCalculationModel - this tool is currently set to genotype at most 1 alternate alleles in a given context, but the context at agouti_bac:165559 has 2 alternate alleles so only the top alleles will be used; see the --max_alternate_alleles argument "
       ]
      }, 
      {
       "output_type": "stream", 
       "stream": "stdout", 
       "text": [
        "WARN  04:16:49,321 ExactAFCalculationModel - this tool is currently set to genotype at most 1 alternate alleles in a given context, but the context at agouti_bac:166691 has 2 alternate alleles so only the top alleles will be used; see the --max_alternate_alleles argument "
       ]
      }, 
      {
       "output_type": "stream", 
       "stream": "stdout", 
       "text": [
        "WARN  04:16:49,367 ExactAFCalculationModel - this tool is currently set to genotype at most 1 alternate alleles in a given context, but the context at agouti_bac:166899 has 2 alternate alleles so only the top alleles will be used; see the --max_alternate_alleles argument "
       ]
      }, 
      {
       "output_type": "stream", 
       "stream": "stdout", 
       "text": [
        "WARN  04:16:49,399 ExactAFCalculationModel - this tool is currently set to genotype at most 1 alternate alleles in a given context, but the context at agouti_bac:167045 has 2 alternate alleles so only the top alleles will be used; see the --max_alternate_alleles argument ", 
        "WARN  04:16:49,414 ExactAFCalculationModel - this tool is currently set to genotype at most 1 alternate alleles in a given context, but the context at agouti_bac:167104 has 2 alternate alleles so only the top alleles will be used; see the --max_alternate_alleles argument "
       ]
      }, 
      {
       "output_type": "stream", 
       "stream": "stdout", 
       "text": [
        "WARN  04:16:49,526 ExactAFCalculationModel - this tool is currently set to genotype at most 1 alternate alleles in a given context, but the context at agouti_bac:167552 has 2 alternate alleles so only the top alleles will be used; see the --max_alternate_alleles argument "
       ]
      }, 
      {
       "output_type": "stream", 
       "stream": "stdout", 
       "text": [
        "WARN  04:16:49,582 ExactAFCalculationModel - this tool is currently set to genotype at most 1 alternate alleles in a given context, but the context at agouti_bac:167773 has 2 alternate alleles so only the top alleles will be used; see the --max_alternate_alleles argument "
       ]
      }, 
      {
       "output_type": "stream", 
       "stream": "stdout", 
       "text": [
        "WARN  04:16:49,644 ExactAFCalculationModel - this tool is currently set to genotype at most 1 alternate alleles in a given context, but the context at agouti_bac:168819 has 2 alternate alleles so only the top alleles will be used; see the --max_alternate_alleles argument ", 
        "WARN  04:16:49,660 ExactAFCalculationModel - this tool is currently set to genotype at most 1 alternate alleles in a given context, but the context at agouti_bac:168890 has 2 alternate alleles so only the top alleles will be used; see the --max_alternate_alleles argument "
       ]
      }, 
      {
       "output_type": "stream", 
       "stream": "stdout", 
       "text": [
        "WARN  04:16:49,765 ExactAFCalculationModel - this tool is currently set to genotype at most 1 alternate alleles in a given context, but the context at agouti_bac:169373 has 2 alternate alleles so only the top alleles will be used; see the --max_alternate_alleles argument "
       ]
      }, 
      {
       "output_type": "stream", 
       "stream": "stdout", 
       "text": [
        "WARN  04:16:49,964 ExactAFCalculationModel - this tool is currently set to genotype at most 1 alternate alleles in a given context, but the context at agouti_bac:171275 has 2 alternate alleles so only the top alleles will be used; see the --max_alternate_alleles argument "
       ]
      }, 
      {
       "output_type": "stream", 
       "stream": "stdout", 
       "text": [
        "WARN  04:16:50,013 ExactAFCalculationModel - this tool is currently set to genotype at most 1 alternate alleles in a given context, but the context at agouti_bac:171488 has 2 alternate alleles so only the top alleles will be used; see the --max_alternate_alleles argument "
       ]
      }, 
      {
       "output_type": "stream", 
       "stream": "stdout", 
       "text": [
        "WARN  04:16:50,096 ExactAFCalculationModel - this tool is currently set to genotype at most 1 alternate alleles in a given context, but the context at agouti_bac:174649 has 2 alternate alleles so only the top alleles will be used; see the --max_alternate_alleles argument "
       ]
      }, 
      {
       "output_type": "stream", 
       "stream": "stdout", 
       "text": [
        "WARN  04:16:50,184 ExactAFCalculationModel - this tool is currently set to genotype at most 1 alternate alleles in a given context, but the context at agouti_bac:175951 has 2 alternate alleles so only the top alleles will be used; see the --max_alternate_alleles argument "
       ]
      }, 
      {
       "output_type": "stream", 
       "stream": "stdout", 
       "text": [
        "WARN  04:16:50,219 ExactAFCalculationModel - this tool is currently set to genotype at most 1 alternate alleles in a given context, but the context at agouti_bac:176079 has 2 alternate alleles so only the top alleles will be used; see the --max_alternate_alleles argument "
       ]
      }, 
      {
       "output_type": "stream", 
       "stream": "stdout", 
       "text": [
        "WARN  04:16:50,347 ExactAFCalculationModel - this tool is currently set to genotype at most 1 alternate alleles in a given context, but the context at agouti_bac:179476 has 2 alternate alleles so only the top alleles will be used; see the --max_alternate_alleles argument "
       ]
      }, 
      {
       "output_type": "stream", 
       "stream": "stdout", 
       "text": [
        "WARN  04:16:50,361 ExactAFCalculationModel - this tool is currently set to genotype at most 1 alternate alleles in a given context, but the context at agouti_bac:179520 has 2 alternate alleles so only the top alleles will be used; see the --max_alternate_alleles argument ", 
        "WARN  04:16:50,376 ExactAFCalculationModel - this tool is currently set to genotype at most 1 alternate alleles in a given context, but the context at agouti_bac:179547 has 2 alternate alleles so only the top alleles will be used; see the --max_alternate_alleles argument "
       ]
      }, 
      {
       "output_type": "stream", 
       "stream": "stdout", 
       "text": [
        "WARN  04:16:50,414 ExactAFCalculationModel - this tool is currently set to genotype at most 1 alternate alleles in a given context, but the context at agouti_bac:179695 has 2 alternate alleles so only the top alleles will be used; see the --max_alternate_alleles argument ", 
        "WARN  04:16:50,422 ExactAFCalculationModel - this tool is currently set to genotype at most 1 alternate alleles in a given context, but the context at agouti_bac:179709 has 2 alternate alleles so only the top alleles will be used; see the --max_alternate_alleles argument "
       ]
      }, 
      {
       "output_type": "stream", 
       "stream": "stdout", 
       "text": [
        "WARN  04:16:50,596 ExactAFCalculationModel - this tool is currently set to genotype at most 1 alternate alleles in a given context, but the context at agouti_bac:181298 has 2 alternate alleles so only the top alleles will be used; see the --max_alternate_alleles argument "
       ]
      }, 
      {
       "output_type": "stream", 
       "stream": "stdout", 
       "text": [
        "WARN  04:16:50,622 ExactAFCalculationModel - this tool is currently set to genotype at most 1 alternate alleles in a given context, but the context at agouti_bac:181403 has 2 alternate alleles so only the top alleles will be used; see the --max_alternate_alleles argument ", 
        "WARN  04:16:50,630 ExactAFCalculationModel - this tool is currently set to genotype at most 1 alternate alleles in a given context, but the context at agouti_bac:181429 has 2 alternate alleles so only the top alleles will be used; see the --max_alternate_alleles argument ", 
        "WARN  04:16:50,642 ExactAFCalculationModel - this tool is currently set to genotype at most 1 alternate alleles in a given context, but the context at agouti_bac:181481 has 2 alternate alleles so only the top alleles will be used; see the --max_alternate_alleles argument "
       ]
      }, 
      {
       "output_type": "stream", 
       "stream": "stdout", 
       "text": [
        "WARN  04:16:50,711 ExactAFCalculationModel - this tool is currently set to genotype at most 1 alternate alleles in a given context, but the context at agouti_bac:182232 has 2 alternate alleles so only the top alleles will be used; see the --max_alternate_alleles argument ", 
        "WARN  04:16:50,716 ExactAFCalculationModel - this tool is currently set to genotype at most 1 alternate alleles in a given context, but the context at agouti_bac:182249 has 2 alternate alleles so only the top alleles will be used; see the --max_alternate_alleles argument "
       ]
      }, 
      {
       "output_type": "stream", 
       "stream": "stdout", 
       "text": [
        "WARN  04:16:50,808 ExactAFCalculationModel - this tool is currently set to genotype at most 1 alternate alleles in a given context, but the context at agouti_bac:182721 has 2 alternate alleles so only the top alleles will be used; see the --max_alternate_alleles argument "
       ]
      }, 
      {
       "output_type": "stream", 
       "stream": "stdout", 
       "text": [
        "WARN  04:16:50,872 ExactAFCalculationModel - this tool is currently set to genotype at most 1 alternate alleles in a given context, but the context at agouti_bac:183135 has 2 alternate alleles so only the top alleles will be used; see the --max_alternate_alleles argument "
       ]
      }, 
      {
       "output_type": "stream", 
       "stream": "stdout", 
       "text": [
        "WARN  04:16:50,914 ExactAFCalculationModel - this tool is currently set to genotype at most 1 alternate alleles in a given context, but the context at agouti_bac:183423 has 2 alternate alleles so only the top alleles will be used; see the --max_alternate_alleles argument "
       ]
      }, 
      {
       "output_type": "stream", 
       "stream": "stdout", 
       "text": [
        "WARN  04:16:51,095 ExactAFCalculationModel - this tool is currently set to genotype at most 1 alternate alleles in a given context, but the context at agouti_bac:184733 has 2 alternate alleles so only the top alleles will be used; see the --max_alternate_alleles argument "
       ]
      }, 
      {
       "output_type": "stream", 
       "stream": "stdout", 
       "text": [
        "WARN  04:16:51,160 ExactAFCalculationModel - this tool is currently set to genotype at most 1 alternate alleles in a given context, but the context at agouti_bac:184971 has 2 alternate alleles so only the top alleles will be used; see the --max_alternate_alleles argument "
       ]
      }, 
      {
       "output_type": "stream", 
       "stream": "stdout", 
       "text": [
        "WARN  04:16:51,182 ExactAFCalculationModel - this tool is currently set to genotype at most 1 alternate alleles in a given context, but the context at agouti_bac:184981 has 2 alternate alleles so only the top alleles will be used; see the --max_alternate_alleles argument ", 
        "WARN  04:16:51,209 ExactAFCalculationModel - this tool is currently set to genotype at most 1 alternate alleles in a given context, but the context at agouti_bac:185069 has 2 alternate alleles so only the top alleles will be used; see the --max_alternate_alleles argument "
       ]
      }, 
      {
       "output_type": "stream", 
       "stream": "stdout", 
       "text": [
        "WARN  04:16:51,313 ExactAFCalculationModel - this tool is currently set to genotype at most 1 alternate alleles in a given context, but the context at agouti_bac:185277 has 2 alternate alleles so only the top alleles will be used; see the --max_alternate_alleles argument ", 
        "WARN  04:16:51,320 ExactAFCalculationModel - this tool is currently set to genotype at most 1 alternate alleles in a given context, but the context at agouti_bac:185304 has 2 alternate alleles so only the top alleles will be used; see the --max_alternate_alleles argument "
       ]
      }, 
      {
       "output_type": "stream", 
       "stream": "stdout", 
       "text": [
        "WARN  04:16:51,407 ExactAFCalculationModel - this tool is currently set to genotype at most 1 alternate alleles in a given context, but the context at mc1r_bac:331 has 2 alternate alleles so only the top alleles will be used; see the --max_alternate_alleles argument ", 
        "WARN  04:16:51,419 ExactAFCalculationModel - this tool is currently set to genotype at most 1 alternate alleles in a given context, but the context at mc1r_bac:379 has 2 alternate alleles so only the top alleles will be used; see the --max_alternate_alleles argument "
       ]
      }, 
      {
       "output_type": "stream", 
       "stream": "stdout", 
       "text": [
        "WARN  04:16:51,463 ExactAFCalculationModel - this tool is currently set to genotype at most 1 alternate alleles in a given context, but the context at mc1r_bac:544 has 2 alternate alleles so only the top alleles will be used; see the --max_alternate_alleles argument "
       ]
      }, 
      {
       "output_type": "stream", 
       "stream": "stdout", 
       "text": [
        "WARN  04:16:51,509 ExactAFCalculationModel - this tool is currently set to genotype at most 1 alternate alleles in a given context, but the context at mc1r_bac:849 has 2 alternate alleles so only the top alleles will be used; see the --max_alternate_alleles argument "
       ]
      }, 
      {
       "output_type": "stream", 
       "stream": "stdout", 
       "text": [
        "WARN  04:16:51,650 ExactAFCalculationModel - this tool is currently set to genotype at most 1 alternate alleles in a given context, but the context at mc1r_bac:1099 has 2 alternate alleles so only the top alleles will be used; see the --max_alternate_alleles argument "
       ]
      }, 
      {
       "output_type": "stream", 
       "stream": "stdout", 
       "text": [
        "WARN  04:16:51,783 ExactAFCalculationModel - this tool is currently set to genotype at most 1 alternate alleles in a given context, but the context at mc1r_bac:1804 has 2 alternate alleles so only the top alleles will be used; see the --max_alternate_alleles argument "
       ]
      }, 
      {
       "output_type": "stream", 
       "stream": "stdout", 
       "text": [
        "WARN  04:16:51,978 ExactAFCalculationModel - this tool is currently set to genotype at most 1 alternate alleles in a given context, but the context at mc1r_bac:2215 has 2 alternate alleles so only the top alleles will be used; see the --max_alternate_alleles argument "
       ]
      }, 
      {
       "output_type": "stream", 
       "stream": "stdout", 
       "text": [
        "WARN  04:16:52,044 ExactAFCalculationModel - this tool is currently set to genotype at most 1 alternate alleles in a given context, but the context at mc1r_bac:2294 has 2 alternate alleles so only the top alleles will be used; see the --max_alternate_alleles argument ", 
        "WARN  04:16:52,071 ExactAFCalculationModel - this tool is currently set to genotype at most 1 alternate alleles in a given context, but the context at mc1r_bac:2370 has 2 alternate alleles so only the top alleles will be used; see the --max_alternate_alleles argument "
       ]
      }, 
      {
       "output_type": "stream", 
       "stream": "stdout", 
       "text": [
        "WARN  04:16:52,109 ExactAFCalculationModel - this tool is currently set to genotype at most 1 alternate alleles in a given context, but the context at mc1r_bac:2442 has 2 alternate alleles so only the top alleles will be used; see the --max_alternate_alleles argument ", 
        "WARN  04:16:52,126 ExactAFCalculationModel - this tool is currently set to genotype at most 1 alternate alleles in a given context, but the context at mc1r_bac:2492 has 2 alternate alleles so only the top alleles will be used; see the --max_alternate_alleles argument "
       ]
      }, 
      {
       "output_type": "stream", 
       "stream": "stdout", 
       "text": [
        "WARN  04:16:52,152 ExactAFCalculationModel - this tool is currently set to genotype at most 1 alternate alleles in a given context, but the context at mc1r_bac:2555 has 2 alternate alleles so only the top alleles will be used; see the --max_alternate_alleles argument "
       ]
      }, 
      {
       "output_type": "stream", 
       "stream": "stdout", 
       "text": [
        "WARN  04:16:52,254 ExactAFCalculationModel - this tool is currently set to genotype at most 1 alternate alleles in a given context, but the context at mc1r_bac:3140 has 2 alternate alleles so only the top alleles will be used; see the --max_alternate_alleles argument "
       ]
      }, 
      {
       "output_type": "stream", 
       "stream": "stdout", 
       "text": [
        "WARN  04:16:52,330 ExactAFCalculationModel - this tool is currently set to genotype at most 1 alternate alleles in a given context, but the context at mc1r_bac:3297 has 2 alternate alleles so only the top alleles will be used; see the --max_alternate_alleles argument "
       ]
      }, 
      {
       "output_type": "stream", 
       "stream": "stdout", 
       "text": [
        "WARN  04:16:52,353 ExactAFCalculationModel - this tool is currently set to genotype at most 1 alternate alleles in a given context, but the context at mc1r_bac:3372 has 2 alternate alleles so only the top alleles will be used; see the --max_alternate_alleles argument "
       ]
      }, 
      {
       "output_type": "stream", 
       "stream": "stdout", 
       "text": [
        "WARN  04:16:52,514 ExactAFCalculationModel - this tool is currently set to genotype at most 1 alternate alleles in a given context, but the context at mc1r_bac:3701 has 2 alternate alleles so only the top alleles will be used; see the --max_alternate_alleles argument "
       ]
      }, 
      {
       "output_type": "stream", 
       "stream": "stdout", 
       "text": [
        "WARN  04:16:52,738 ExactAFCalculationModel - this tool is currently set to genotype at most 1 alternate alleles in a given context, but the context at mc1r_bac:5000 has 2 alternate alleles so only the top alleles will be used; see the --max_alternate_alleles argument "
       ]
      }, 
      {
       "output_type": "stream", 
       "stream": "stdout", 
       "text": [
        "WARN  04:16:53,116 ExactAFCalculationModel - this tool is currently set to genotype at most 1 alternate alleles in a given context, but the context at mc1r_bac:6625 has 2 alternate alleles so only the top alleles will be used; see the --max_alternate_alleles argument "
       ]
      }, 
      {
       "output_type": "stream", 
       "stream": "stdout", 
       "text": [
        "WARN  04:16:53,213 ExactAFCalculationModel - this tool is currently set to genotype at most 1 alternate alleles in a given context, but the context at mc1r_bac:6808 has 2 alternate alleles so only the top alleles will be used; see the --max_alternate_alleles argument ", 
        "WARN  04:16:53,214 ExactAFCalculationModel - this tool is currently set to genotype at most 1 alternate alleles in a given context, but the context at mc1r_bac:6811 has 2 alternate alleles so only the top alleles will be used; see the --max_alternate_alleles argument "
       ]
      }, 
      {
       "output_type": "stream", 
       "stream": "stdout", 
       "text": [
        "WARN  04:16:53,278 ExactAFCalculationModel - this tool is currently set to genotype at most 1 alternate alleles in a given context, but the context at mc1r_bac:6971 has 2 alternate alleles so only the top alleles will be used; see the --max_alternate_alleles argument "
       ]
      }, 
      {
       "output_type": "stream", 
       "stream": "stdout", 
       "text": [
        "WARN  04:16:53,354 ExactAFCalculationModel - this tool is currently set to genotype at most 1 alternate alleles in a given context, but the context at mc1r_bac:7057 has 2 alternate alleles so only the top alleles will be used; see the --max_alternate_alleles argument ", 
        "WARN  04:16:53,361 ExactAFCalculationModel - this tool is currently set to genotype at most 1 alternate alleles in a given context, but the context at mc1r_bac:7074 has 2 alternate alleles so only the top alleles will be used; see the --max_alternate_alleles argument ", 
        "WARN  04:16:53,387 ExactAFCalculationModel - this tool is currently set to genotype at most 1 alternate alleles in a given context, but the context at mc1r_bac:7158 has 2 alternate alleles so only the top alleles will be used; see the --max_alternate_alleles argument ", 
        "WARN  04:16:53,388 ExactAFCalculationModel - this tool is currently set to genotype at most 1 alternate alleles in a given context, but the context at mc1r_bac:7161 has 2 alternate alleles so only the top alleles will be used; see the --max_alternate_alleles argument "
       ]
      }, 
      {
       "output_type": "stream", 
       "stream": "stdout", 
       "text": [
        "WARN  04:16:53,441 ExactAFCalculationModel - this tool is currently set to genotype at most 1 alternate alleles in a given context, but the context at mc1r_bac:7247 has 2 alternate alleles so only the top alleles will be used; see the --max_alternate_alleles argument "
       ]
      }, 
      {
       "output_type": "stream", 
       "stream": "stdout", 
       "text": [
        "WARN  04:16:53,671 ExactAFCalculationModel - this tool is currently set to genotype at most 1 alternate alleles in a given context, but the context at mc1r_bac:8532 has 2 alternate alleles so only the top alleles will be used; see the --max_alternate_alleles argument ", 
        "WARN  04:16:53,675 ExactAFCalculationModel - this tool is currently set to genotype at most 1 alternate alleles in a given context, but the context at mc1r_bac:8547 has 2 alternate alleles so only the top alleles will be used; see the --max_alternate_alleles argument "
       ]
      }, 
      {
       "output_type": "stream", 
       "stream": "stdout", 
       "text": [
        "WARN  04:16:53,868 ExactAFCalculationModel - this tool is currently set to genotype at most 1 alternate alleles in a given context, but the context at mc1r_bac:9133 has 2 alternate alleles so only the top alleles will be used; see the --max_alternate_alleles argument "
       ]
      }, 
      {
       "output_type": "stream", 
       "stream": "stdout", 
       "text": [
        "WARN  04:16:54,048 ExactAFCalculationModel - this tool is currently set to genotype at most 1 alternate alleles in a given context, but the context at mc1r_bac:9620 has 2 alternate alleles so only the top alleles will be used; see the --max_alternate_alleles argument ", 
        "WARN  04:16:54,073 ExactAFCalculationModel - this tool is currently set to genotype at most 1 alternate alleles in a given context, but the context at mc1r_bac:9666 has 2 alternate alleles so only the top alleles will be used; see the --max_alternate_alleles argument ", 
        "WARN  04:16:54,080 ExactAFCalculationModel - this tool is currently set to genotype at most 1 alternate alleles in a given context, but the context at mc1r_bac:9689 has 2 alternate alleles so only the top alleles will be used; see the --max_alternate_alleles argument "
       ]
      }, 
      {
       "output_type": "stream", 
       "stream": "stdout", 
       "text": [
        "WARN  04:16:54,195 ExactAFCalculationModel - this tool is currently set to genotype at most 1 alternate alleles in a given context, but the context at mc1r_bac:9798 has 2 alternate alleles so only the top alleles will be used; see the --max_alternate_alleles argument "
       ]
      }, 
      {
       "output_type": "stream", 
       "stream": "stdout", 
       "text": [
        "WARN  04:16:54,267 ExactAFCalculationModel - this tool is currently set to genotype at most 1 alternate alleles in a given context, but the context at mc1r_bac:9880 has 2 alternate alleles so only the top alleles will be used; see the --max_alternate_alleles argument "
       ]
      }, 
      {
       "output_type": "stream", 
       "stream": "stdout", 
       "text": [
        "WARN  04:16:54,331 ExactAFCalculationModel - this tool is currently set to genotype at most 1 alternate alleles in a given context, but the context at mc1r_bac:10080 has 2 alternate alleles so only the top alleles will be used; see the --max_alternate_alleles argument "
       ]
      }, 
      {
       "output_type": "stream", 
       "stream": "stdout", 
       "text": [
        "WARN  04:16:54,414 ExactAFCalculationModel - this tool is currently set to genotype at most 1 alternate alleles in a given context, but the context at mc1r_bac:11149 has 3 alternate alleles so only the top alleles will be used; see the --max_alternate_alleles argument "
       ]
      }, 
      {
       "output_type": "stream", 
       "stream": "stdout", 
       "text": [
        "WARN  04:16:54,492 ExactAFCalculationModel - this tool is currently set to genotype at most 1 alternate alleles in a given context, but the context at mc1r_bac:11450 has 2 alternate alleles so only the top alleles will be used; see the --max_alternate_alleles argument ", 
        "WARN  04:16:54,508 ExactAFCalculationModel - this tool is currently set to genotype at most 1 alternate alleles in a given context, but the context at mc1r_bac:11510 has 2 alternate alleles so only the top alleles will be used; see the --max_alternate_alleles argument ", 
        "WARN  04:16:54,518 ExactAFCalculationModel - this tool is currently set to genotype at most 1 alternate alleles in a given context, but the context at mc1r_bac:11548 has 2 alternate alleles so only the top alleles will be used; see the --max_alternate_alleles argument "
       ]
      }, 
      {
       "output_type": "stream", 
       "stream": "stdout", 
       "text": [
        "WARN  04:16:54,607 ExactAFCalculationModel - this tool is currently set to genotype at most 1 alternate alleles in a given context, but the context at mc1r_bac:12240 has 2 alternate alleles so only the top alleles will be used; see the --max_alternate_alleles argument "
       ]
      }, 
      {
       "output_type": "stream", 
       "stream": "stdout", 
       "text": [
        "WARN  04:16:54,648 ExactAFCalculationModel - this tool is currently set to genotype at most 1 alternate alleles in a given context, but the context at mc1r_bac:12351 has 2 alternate alleles so only the top alleles will be used; see the --max_alternate_alleles argument "
       ]
      }, 
      {
       "output_type": "stream", 
       "stream": "stdout", 
       "text": [
        "WARN  04:16:54,741 ExactAFCalculationModel - this tool is currently set to genotype at most 1 alternate alleles in a given context, but the context at mc1r_bac:13047 has 2 alternate alleles so only the top alleles will be used; see the --max_alternate_alleles argument "
       ]
      }, 
      {
       "output_type": "stream", 
       "stream": "stdout", 
       "text": [
        "WARN  04:16:54,817 ExactAFCalculationModel - this tool is currently set to genotype at most 1 alternate alleles in a given context, but the context at mc1r_bac:13173 has 2 alternate alleles so only the top alleles will be used; see the --max_alternate_alleles argument "
       ]
      }, 
      {
       "output_type": "stream", 
       "stream": "stdout", 
       "text": [
        "WARN  04:16:54,912 ExactAFCalculationModel - this tool is currently set to genotype at most 1 alternate alleles in a given context, but the context at mc1r_bac:13402 has 2 alternate alleles so only the top alleles will be used; see the --max_alternate_alleles argument ", 
        "WARN  04:16:54,926 ExactAFCalculationModel - this tool is currently set to genotype at most 1 alternate alleles in a given context, but the context at mc1r_bac:13463 has 2 alternate alleles so only the top alleles will be used; see the --max_alternate_alleles argument "
       ]
      }, 
      {
       "output_type": "stream", 
       "stream": "stdout", 
       "text": [
        "WARN  04:16:54,956 ExactAFCalculationModel - this tool is currently set to genotype at most 1 alternate alleles in a given context, but the context at mc1r_bac:13847 has 2 alternate alleles so only the top alleles will be used; see the --max_alternate_alleles argument "
       ]
      }, 
      {
       "output_type": "stream", 
       "stream": "stdout", 
       "text": [
        "WARN  04:16:55,065 ExactAFCalculationModel - this tool is currently set to genotype at most 1 alternate alleles in a given context, but the context at mc1r_bac:14169 has 2 alternate alleles so only the top alleles will be used; see the --max_alternate_alleles argument "
       ]
      }, 
      {
       "output_type": "stream", 
       "stream": "stdout", 
       "text": [
        "WARN  04:16:55,141 ExactAFCalculationModel - this tool is currently set to genotype at most 1 alternate alleles in a given context, but the context at mc1r_bac:15189 has 2 alternate alleles so only the top alleles will be used; see the --max_alternate_alleles argument "
       ]
      }, 
      {
       "output_type": "stream", 
       "stream": "stdout", 
       "text": [
        "WARN  04:16:55,299 ExactAFCalculationModel - this tool is currently set to genotype at most 1 alternate alleles in a given context, but the context at mc1r_bac:15660 has 2 alternate alleles so only the top alleles will be used; see the --max_alternate_alleles argument "
       ]
      }, 
      {
       "output_type": "stream", 
       "stream": "stdout", 
       "text": [
        "WARN  04:16:55,347 ExactAFCalculationModel - this tool is currently set to genotype at most 1 alternate alleles in a given context, but the context at mc1r_bac:15833 has 2 alternate alleles so only the top alleles will be used; see the --max_alternate_alleles argument "
       ]
      }, 
      {
       "output_type": "stream", 
       "stream": "stdout", 
       "text": [
        "WARN  04:16:55,576 ExactAFCalculationModel - this tool is currently set to genotype at most 1 alternate alleles in a given context, but the context at mc1r_bac:16709 has 2 alternate alleles so only the top alleles will be used; see the --max_alternate_alleles argument "
       ]
      }, 
      {
       "output_type": "stream", 
       "stream": "stdout", 
       "text": [
        "WARN  04:16:55,676 ExactAFCalculationModel - this tool is currently set to genotype at most 1 alternate alleles in a given context, but the context at mc1r_bac:17132 has 2 alternate alleles so only the top alleles will be used; see the --max_alternate_alleles argument "
       ]
      }, 
      {
       "output_type": "stream", 
       "stream": "stdout", 
       "text": [
        "WARN  04:16:55,776 ExactAFCalculationModel - this tool is currently set to genotype at most 1 alternate alleles in a given context, but the context at mc1r_bac:17592 has 2 alternate alleles so only the top alleles will be used; see the --max_alternate_alleles argument ", 
        "WARN  04:16:55,812 ExactAFCalculationModel - this tool is currently set to genotype at most 1 alternate alleles in a given context, but the context at mc1r_bac:17719 has 2 alternate alleles so only the top alleles will be used; see the --max_alternate_alleles argument "
       ]
      }, 
      {
       "output_type": "stream", 
       "stream": "stdout", 
       "text": [
        "WARN  04:16:55,948 ExactAFCalculationModel - this tool is currently set to genotype at most 1 alternate alleles in a given context, but the context at mc1r_bac:18205 has 2 alternate alleles so only the top alleles will be used; see the --max_alternate_alleles argument "
       ]
      }, 
      {
       "output_type": "stream", 
       "stream": "stdout", 
       "text": [
        "WARN  04:16:55,988 ExactAFCalculationModel - this tool is currently set to genotype at most 1 alternate alleles in a given context, but the context at mc1r_bac:18377 has 2 alternate alleles so only the top alleles will be used; see the --max_alternate_alleles argument "
       ]
      }, 
      {
       "output_type": "stream", 
       "stream": "stdout", 
       "text": [
        "WARN  04:16:56,150 ExactAFCalculationModel - this tool is currently set to genotype at most 1 alternate alleles in a given context, but the context at mc1r_bac:18991 has 2 alternate alleles so only the top alleles will be used; see the --max_alternate_alleles argument ", 
        "WARN  04:16:56,177 ExactAFCalculationModel - this tool is currently set to genotype at most 1 alternate alleles in a given context, but the context at mc1r_bac:19259 has 2 alternate alleles so only the top alleles will be used; see the --max_alternate_alleles argument "
       ]
      }, 
      {
       "output_type": "stream", 
       "stream": "stdout", 
       "text": [
        "WARN  04:16:56,293 ExactAFCalculationModel - this tool is currently set to genotype at most 1 alternate alleles in a given context, but the context at mc1r_bac:19538 has 2 alternate alleles so only the top alleles will be used; see the --max_alternate_alleles argument "
       ]
      }, 
      {
       "output_type": "stream", 
       "stream": "stdout", 
       "text": [
        "WARN  04:16:56,320 ExactAFCalculationModel - this tool is currently set to genotype at most 1 alternate alleles in a given context, but the context at mc1r_bac:19647 has 2 alternate alleles so only the top alleles will be used; see the --max_alternate_alleles argument "
       ]
      }, 
      {
       "output_type": "stream", 
       "stream": "stdout", 
       "text": [
        "WARN  04:16:56,412 ExactAFCalculationModel - this tool is currently set to genotype at most 1 alternate alleles in a given context, but the context at mc1r_bac:20888 has 2 alternate alleles so only the top alleles will be used; see the --max_alternate_alleles argument "
       ]
      }, 
      {
       "output_type": "stream", 
       "stream": "stdout", 
       "text": [
        "WARN  04:16:56,487 ExactAFCalculationModel - this tool is currently set to genotype at most 1 alternate alleles in a given context, but the context at mc1r_bac:21167 has 2 alternate alleles so only the top alleles will be used; see the --max_alternate_alleles argument "
       ]
      }, 
      {
       "output_type": "stream", 
       "stream": "stdout", 
       "text": [
        "WARN  04:16:56,559 ExactAFCalculationModel - this tool is currently set to genotype at most 1 alternate alleles in a given context, but the context at mc1r_bac:21430 has 2 alternate alleles so only the top alleles will be used; see the --max_alternate_alleles argument "
       ]
      }, 
      {
       "output_type": "stream", 
       "stream": "stdout", 
       "text": [
        "WARN  04:16:56,687 ExactAFCalculationModel - this tool is currently set to genotype at most 1 alternate alleles in a given context, but the context at mc1r_bac:22250 has 2 alternate alleles so only the top alleles will be used; see the --max_alternate_alleles argument "
       ]
      }, 
      {
       "output_type": "stream", 
       "stream": "stdout", 
       "text": [
        "WARN  04:16:56,729 ExactAFCalculationModel - this tool is currently set to genotype at most 1 alternate alleles in a given context, but the context at mc1r_bac:22466 has 2 alternate alleles so only the top alleles will be used; see the --max_alternate_alleles argument "
       ]
      }, 
      {
       "output_type": "stream", 
       "stream": "stdout", 
       "text": [
        "WARN  04:16:56,783 ExactAFCalculationModel - this tool is currently set to genotype at most 1 alternate alleles in a given context, but the context at mc1r_bac:22681 has 2 alternate alleles so only the top alleles will be used; see the --max_alternate_alleles argument ", 
        "WARN  04:16:56,811 ExactAFCalculationModel - this tool is currently set to genotype at most 1 alternate alleles in a given context, but the context at mc1r_bac:22788 has 2 alternate alleles so only the top alleles will be used; see the --max_alternate_alleles argument "
       ]
      }, 
      {
       "output_type": "stream", 
       "stream": "stdout", 
       "text": [
        "WARN  04:16:57,056 ExactAFCalculationModel - this tool is currently set to genotype at most 1 alternate alleles in a given context, but the context at mc1r_bac:23718 has 2 alternate alleles so only the top alleles will be used; see the --max_alternate_alleles argument "
       ]
      }, 
      {
       "output_type": "stream", 
       "stream": "stdout", 
       "text": [
        "WARN  04:16:57,105 ExactAFCalculationModel - this tool is currently set to genotype at most 1 alternate alleles in a given context, but the context at mc1r_bac:23893 has 2 alternate alleles so only the top alleles will be used; see the --max_alternate_alleles argument "
       ]
      }, 
      {
       "output_type": "stream", 
       "stream": "stdout", 
       "text": [
        "WARN  04:16:57,160 ExactAFCalculationModel - this tool is currently set to genotype at most 1 alternate alleles in a given context, but the context at mc1r_bac:24104 has 2 alternate alleles so only the top alleles will be used; see the --max_alternate_alleles argument ", 
        "WARN  04:16:57,184 ExactAFCalculationModel - this tool is currently set to genotype at most 1 alternate alleles in a given context, but the context at mc1r_bac:24200 has 2 alternate alleles so only the top alleles will be used; see the --max_alternate_alleles argument "
       ]
      }, 
      {
       "output_type": "stream", 
       "stream": "stdout", 
       "text": [
        "WARN  04:16:57,223 ExactAFCalculationModel - this tool is currently set to genotype at most 1 alternate alleles in a given context, but the context at mc1r_bac:24796 has 2 alternate alleles so only the top alleles will be used; see the --max_alternate_alleles argument "
       ]
      }, 
      {
       "output_type": "stream", 
       "stream": "stdout", 
       "text": [
        "WARN  04:16:57,282 ExactAFCalculationModel - this tool is currently set to genotype at most 1 alternate alleles in a given context, but the context at mc1r_bac:25024 has 2 alternate alleles so only the top alleles will be used; see the --max_alternate_alleles argument "
       ]
      }, 
      {
       "output_type": "stream", 
       "stream": "stdout", 
       "text": [
        "WARN  04:16:57,298 ExactAFCalculationModel - this tool is currently set to genotype at most 1 alternate alleles in a given context, but the context at mc1r_bac:25073 has 2 alternate alleles so only the top alleles will be used; see the --max_alternate_alleles argument "
       ]
      }, 
      {
       "output_type": "stream", 
       "stream": "stdout", 
       "text": [
        "WARN  04:16:57,419 ExactAFCalculationModel - this tool is currently set to genotype at most 1 alternate alleles in a given context, but the context at mc1r_bac:25624 has 2 alternate alleles so only the top alleles will be used; see the --max_alternate_alleles argument "
       ]
      }, 
      {
       "output_type": "stream", 
       "stream": "stdout", 
       "text": [
        "WARN  04:16:57,636 ExactAFCalculationModel - this tool is currently set to genotype at most 1 alternate alleles in a given context, but the context at mc1r_bac:26360 has 2 alternate alleles so only the top alleles will be used; see the --max_alternate_alleles argument ", 
        "WARN  04:16:57,654 ExactAFCalculationModel - this tool is currently set to genotype at most 1 alternate alleles in a given context, but the context at mc1r_bac:26423 has 2 alternate alleles so only the top alleles will be used; see the --max_alternate_alleles argument "
       ]
      }, 
      {
       "output_type": "stream", 
       "stream": "stdout", 
       "text": [
        "WARN  04:16:57,837 ExactAFCalculationModel - this tool is currently set to genotype at most 1 alternate alleles in a given context, but the context at mc1r_bac:27314 has 2 alternate alleles so only the top alleles will be used; see the --max_alternate_alleles argument ", 
        "WARN  04:16:57,838 ExactAFCalculationModel - this tool is currently set to genotype at most 1 alternate alleles in a given context, but the context at mc1r_bac:27315 has 2 alternate alleles so only the top alleles will be used; see the --max_alternate_alleles argument "
       ]
      }, 
      {
       "output_type": "stream", 
       "stream": "stdout", 
       "text": [
        "WARN  04:16:57,859 ExactAFCalculationModel - this tool is currently set to genotype at most 1 alternate alleles in a given context, but the context at mc1r_bac:27409 has 2 alternate alleles so only the top alleles will be used; see the --max_alternate_alleles argument "
       ]
      }, 
      {
       "output_type": "stream", 
       "stream": "stdout", 
       "text": [
        "WARN  04:16:57,981 ExactAFCalculationModel - this tool is currently set to genotype at most 1 alternate alleles in a given context, but the context at mc1r_bac:27853 has 2 alternate alleles so only the top alleles will be used; see the --max_alternate_alleles argument ", 
        "WARN  04:16:57,988 ExactAFCalculationModel - this tool is currently set to genotype at most 1 alternate alleles in a given context, but the context at mc1r_bac:27877 has 2 alternate alleles so only the top alleles will be used; see the --max_alternate_alleles argument "
       ]
      }, 
      {
       "output_type": "stream", 
       "stream": "stdout", 
       "text": [
        "WARN  04:16:58,031 ExactAFCalculationModel - this tool is currently set to genotype at most 1 alternate alleles in a given context, but the context at mc1r_bac:28012 has 2 alternate alleles so only the top alleles will be used; see the --max_alternate_alleles argument ", 
        "WARN  04:16:58,063 ExactAFCalculationModel - this tool is currently set to genotype at most 1 alternate alleles in a given context, but the context at mc1r_bac:28131 has 2 alternate alleles so only the top alleles will be used; see the --max_alternate_alleles argument "
       ]
      }, 
      {
       "output_type": "stream", 
       "stream": "stdout", 
       "text": [
        "WARN  04:16:58,130 ExactAFCalculationModel - this tool is currently set to genotype at most 1 alternate alleles in a given context, but the context at mc1r_bac:28380 has 2 alternate alleles so only the top alleles will be used; see the --max_alternate_alleles argument "
       ]
      }, 
      {
       "output_type": "stream", 
       "stream": "stdout", 
       "text": [
        "WARN  04:16:58,173 ExactAFCalculationModel - this tool is currently set to genotype at most 1 alternate alleles in a given context, but the context at mc1r_bac:28472 has 2 alternate alleles so only the top alleles will be used; see the --max_alternate_alleles argument ", 
        "WARN  04:16:58,178 ExactAFCalculationModel - this tool is currently set to genotype at most 1 alternate alleles in a given context, but the context at mc1r_bac:28484 has 2 alternate alleles so only the top alleles will be used; see the --max_alternate_alleles argument "
       ]
      }, 
      {
       "output_type": "stream", 
       "stream": "stdout", 
       "text": [
        "WARN  04:16:58,253 ExactAFCalculationModel - this tool is currently set to genotype at most 1 alternate alleles in a given context, but the context at mc1r_bac:28727 has 2 alternate alleles so only the top alleles will be used; see the --max_alternate_alleles argument "
       ]
      }, 
      {
       "output_type": "stream", 
       "stream": "stdout", 
       "text": [
        "WARN  04:16:58,303 ExactAFCalculationModel - this tool is currently set to genotype at most 1 alternate alleles in a given context, but the context at mc1r_bac:28837 has 2 alternate alleles so only the top alleles will be used; see the --max_alternate_alleles argument "
       ]
      }, 
      {
       "output_type": "stream", 
       "stream": "stdout", 
       "text": [
        "WARN  04:16:58,541 ExactAFCalculationModel - this tool is currently set to genotype at most 1 alternate alleles in a given context, but the context at mc1r_bac:30132 has 2 alternate alleles so only the top alleles will be used; see the --max_alternate_alleles argument ", 
        "WARN  04:16:58,549 ExactAFCalculationModel - this tool is currently set to genotype at most 1 alternate alleles in a given context, but the context at mc1r_bac:30166 has 2 alternate alleles so only the top alleles will be used; see the --max_alternate_alleles argument "
       ]
      }, 
      {
       "output_type": "stream", 
       "stream": "stdout", 
       "text": [
        "WARN  04:16:58,597 ExactAFCalculationModel - this tool is currently set to genotype at most 1 alternate alleles in a given context, but the context at mc1r_bac:30731 has 2 alternate alleles so only the top alleles will be used; see the --max_alternate_alleles argument "
       ]
      }, 
      {
       "output_type": "stream", 
       "stream": "stdout", 
       "text": [
        "WARN  04:16:58,680 ExactAFCalculationModel - this tool is currently set to genotype at most 1 alternate alleles in a given context, but the context at mc1r_bac:31237 has 2 alternate alleles so only the top alleles will be used; see the --max_alternate_alleles argument ", 
        "WARN  04:16:58,690 ExactAFCalculationModel - this tool is currently set to genotype at most 1 alternate alleles in a given context, but the context at mc1r_bac:31286 has 2 alternate alleles so only the top alleles will be used; see the --max_alternate_alleles argument ", 
        "WARN  04:16:58,694 ExactAFCalculationModel - this tool is currently set to genotype at most 1 alternate alleles in a given context, but the context at mc1r_bac:31300 has 2 alternate alleles so only the top alleles will be used; see the --max_alternate_alleles argument "
       ]
      }, 
      {
       "output_type": "stream", 
       "stream": "stdout", 
       "text": [
        "WARN  04:16:58,792 ExactAFCalculationModel - this tool is currently set to genotype at most 1 alternate alleles in a given context, but the context at mc1r_bac:31659 has 2 alternate alleles so only the top alleles will be used; see the --max_alternate_alleles argument "
       ]
      }, 
      {
       "output_type": "stream", 
       "stream": "stdout", 
       "text": [
        "WARN  04:16:59,005 ExactAFCalculationModel - this tool is currently set to genotype at most 1 alternate alleles in a given context, but the context at mc1r_bac:32456 has 2 alternate alleles so only the top alleles will be used; see the --max_alternate_alleles argument "
       ]
      }, 
      {
       "output_type": "stream", 
       "stream": "stdout", 
       "text": [
        "WARN  04:16:59,095 ExactAFCalculationModel - this tool is currently set to genotype at most 1 alternate alleles in a given context, but the context at mc1r_bac:32726 has 2 alternate alleles so only the top alleles will be used; see the --max_alternate_alleles argument "
       ]
      }, 
      {
       "output_type": "stream", 
       "stream": "stdout", 
       "text": [
        "WARN  04:16:59,223 ExactAFCalculationModel - this tool is currently set to genotype at most 1 alternate alleles in a given context, but the context at mc1r_bac:33173 has 2 alternate alleles so only the top alleles will be used; see the --max_alternate_alleles argument ", 
        "WARN  04:16:59,253 ExactAFCalculationModel - this tool is currently set to genotype at most 1 alternate alleles in a given context, but the context at mc1r_bac:33234 has 2 alternate alleles so only the top alleles will be used; see the --max_alternate_alleles argument "
       ]
      }, 
      {
       "output_type": "stream", 
       "stream": "stdout", 
       "text": [
        "WARN  04:16:59,268 ExactAFCalculationModel - this tool is currently set to genotype at most 1 alternate alleles in a given context, but the context at mc1r_bac:33274 has 2 alternate alleles so only the top alleles will be used; see the --max_alternate_alleles argument ", 
        "WARN  04:16:59,299 ExactAFCalculationModel - this tool is currently set to genotype at most 1 alternate alleles in a given context, but the context at mc1r_bac:33384 has 2 alternate alleles so only the top alleles will be used; see the --max_alternate_alleles argument ", 
        "WARN  04:16:59,303 ExactAFCalculationModel - this tool is currently set to genotype at most 1 alternate alleles in a given context, but the context at mc1r_bac:33396 has 2 alternate alleles so only the top alleles will be used; see the --max_alternate_alleles argument "
       ]
      }, 
      {
       "output_type": "stream", 
       "stream": "stdout", 
       "text": [
        "WARN  04:16:59,420 ExactAFCalculationModel - this tool is currently set to genotype at most 1 alternate alleles in a given context, but the context at mc1r_bac:33739 has 2 alternate alleles so only the top alleles will be used; see the --max_alternate_alleles argument ", 
        "WARN  04:16:59,435 ExactAFCalculationModel - this tool is currently set to genotype at most 1 alternate alleles in a given context, but the context at mc1r_bac:33803 has 2 alternate alleles so only the top alleles will be used; see the --max_alternate_alleles argument ", 
        "WARN  04:16:59,446 ExactAFCalculationModel - this tool is currently set to genotype at most 1 alternate alleles in a given context, but the context at mc1r_bac:33840 has 2 alternate alleles so only the top alleles will be used; see the --max_alternate_alleles argument "
       ]
      }, 
      {
       "output_type": "stream", 
       "stream": "stdout", 
       "text": [
        "WARN  04:16:59,508 ExactAFCalculationModel - this tool is currently set to genotype at most 1 alternate alleles in a given context, but the context at mc1r_bac:34075 has 2 alternate alleles so only the top alleles will be used; see the --max_alternate_alleles argument "
       ]
      }, 
      {
       "output_type": "stream", 
       "stream": "stdout", 
       "text": [
        "WARN  04:16:59,525 ExactAFCalculationModel - this tool is currently set to genotype at most 1 alternate alleles in a given context, but the context at mc1r_bac:34132 has 2 alternate alleles so only the top alleles will be used; see the --max_alternate_alleles argument ", 
        "WARN  04:16:59,533 ExactAFCalculationModel - this tool is currently set to genotype at most 1 alternate alleles in a given context, but the context at mc1r_bac:34172 has 2 alternate alleles so only the top alleles will be used; see the --max_alternate_alleles argument "
       ]
      }, 
      {
       "output_type": "stream", 
       "stream": "stdout", 
       "text": [
        "WARN  04:16:59,576 ExactAFCalculationModel - this tool is currently set to genotype at most 1 alternate alleles in a given context, but the context at mc1r_bac:34324 has 2 alternate alleles so only the top alleles will be used; see the --max_alternate_alleles argument ", 
        "WARN  04:16:59,579 ExactAFCalculationModel - this tool is currently set to genotype at most 1 alternate alleles in a given context, but the context at mc1r_bac:34330 has 2 alternate alleles so only the top alleles will be used; see the --max_alternate_alleles argument ", 
        "WARN  04:16:59,590 ExactAFCalculationModel - this tool is currently set to genotype at most 1 alternate alleles in a given context, but the context at mc1r_bac:34374 has 2 alternate alleles so only the top alleles will be used; see the --max_alternate_alleles argument "
       ]
      }, 
      {
       "output_type": "stream", 
       "stream": "stdout", 
       "text": [
        "WARN  04:16:59,647 ExactAFCalculationModel - this tool is currently set to genotype at most 1 alternate alleles in a given context, but the context at mc1r_bac:35004 has 2 alternate alleles so only the top alleles will be used; see the --max_alternate_alleles argument ", 
        "WARN  04:16:59,648 ExactAFCalculationModel - this tool is currently set to genotype at most 1 alternate alleles in a given context, but the context at mc1r_bac:35008 has 2 alternate alleles so only the top alleles will be used; see the --max_alternate_alleles argument ", 
        "WARN  04:16:59,659 ExactAFCalculationModel - this tool is currently set to genotype at most 1 alternate alleles in a given context, but the context at mc1r_bac:35048 has 2 alternate alleles so only the top alleles will be used; see the --max_alternate_alleles argument "
       ]
      }, 
      {
       "output_type": "stream", 
       "stream": "stdout", 
       "text": [
        "WARN  04:16:59,708 ExactAFCalculationModel - this tool is currently set to genotype at most 1 alternate alleles in a given context, but the context at mc1r_bac:35720 has 2 alternate alleles so only the top alleles will be used; see the --max_alternate_alleles argument "
       ]
      }, 
      {
       "output_type": "stream", 
       "stream": "stdout", 
       "text": [
        "WARN  04:16:59,778 ExactAFCalculationModel - this tool is currently set to genotype at most 1 alternate alleles in a given context, but the context at mc1r_bac:35935 has 2 alternate alleles so only the top alleles will be used; see the --max_alternate_alleles argument ", 
        "WARN  04:16:59,815 ExactAFCalculationModel - this tool is currently set to genotype at most 1 alternate alleles in a given context, but the context at mc1r_bac:36097 has 2 alternate alleles so only the top alleles will be used; see the --max_alternate_alleles argument "
       ]
      }, 
      {
       "output_type": "stream", 
       "stream": "stdout", 
       "text": [
        "WARN  04:16:59,830 ExactAFCalculationModel - this tool is currently set to genotype at most 1 alternate alleles in a given context, but the context at mc1r_bac:36146 has 2 alternate alleles so only the top alleles will be used; see the --max_alternate_alleles argument "
       ]
      }, 
      {
       "output_type": "stream", 
       "stream": "stdout", 
       "text": [
        "WARN  04:16:59,889 ExactAFCalculationModel - this tool is currently set to genotype at most 1 alternate alleles in a given context, but the context at mc1r_bac:36340 has 2 alternate alleles so only the top alleles will be used; see the --max_alternate_alleles argument "
       ]
      }, 
      {
       "output_type": "stream", 
       "stream": "stdout", 
       "text": [
        "WARN  04:16:59,937 ExactAFCalculationModel - this tool is currently set to genotype at most 1 alternate alleles in a given context, but the context at mc1r_bac:36522 has 2 alternate alleles so only the top alleles will be used; see the --max_alternate_alleles argument ", 
        "WARN  04:16:59,957 ExactAFCalculationModel - this tool is currently set to genotype at most 1 alternate alleles in a given context, but the context at mc1r_bac:36607 has 2 alternate alleles so only the top alleles will be used; see the --max_alternate_alleles argument "
       ]
      }, 
      {
       "output_type": "stream", 
       "stream": "stdout", 
       "text": [
        "WARN  04:17:00,064 ExactAFCalculationModel - this tool is currently set to genotype at most 1 alternate alleles in a given context, but the context at mc1r_bac:36977 has 2 alternate alleles so only the top alleles will be used; see the --max_alternate_alleles argument "
       ]
      }, 
      {
       "output_type": "stream", 
       "stream": "stdout", 
       "text": [
        "WARN  04:17:00,148 ExactAFCalculationModel - this tool is currently set to genotype at most 1 alternate alleles in a given context, but the context at mc1r_bac:37275 has 2 alternate alleles so only the top alleles will be used; see the --max_alternate_alleles argument ", 
        "WARN  04:17:00,158 ExactAFCalculationModel - this tool is currently set to genotype at most 1 alternate alleles in a given context, but the context at mc1r_bac:37307 has 2 alternate alleles so only the top alleles will be used; see the --max_alternate_alleles argument "
       ]
      }, 
      {
       "output_type": "stream", 
       "stream": "stdout", 
       "text": [
        "WARN  04:17:00,187 ExactAFCalculationModel - this tool is currently set to genotype at most 1 alternate alleles in a given context, but the context at mc1r_bac:37409 has 2 alternate alleles so only the top alleles will be used; see the --max_alternate_alleles argument "
       ]
      }, 
      {
       "output_type": "stream", 
       "stream": "stdout", 
       "text": [
        "WARN  04:17:00,259 ExactAFCalculationModel - this tool is currently set to genotype at most 1 alternate alleles in a given context, but the context at mc1r_bac:37540 has 2 alternate alleles so only the top alleles will be used; see the --max_alternate_alleles argument "
       ]
      }, 
      {
       "output_type": "stream", 
       "stream": "stdout", 
       "text": [
        "WARN  04:17:00,483 ExactAFCalculationModel - this tool is currently set to genotype at most 1 alternate alleles in a given context, but the context at mc1r_bac:39211 has 2 alternate alleles so only the top alleles will be used; see the --max_alternate_alleles argument "
       ]
      }, 
      {
       "output_type": "stream", 
       "stream": "stdout", 
       "text": [
        "WARN  04:17:00,538 ExactAFCalculationModel - this tool is currently set to genotype at most 1 alternate alleles in a given context, but the context at mc1r_bac:39874 has 2 alternate alleles so only the top alleles will be used; see the --max_alternate_alleles argument ", 
        "WARN  04:17:00,543 ExactAFCalculationModel - this tool is currently set to genotype at most 1 alternate alleles in a given context, but the context at mc1r_bac:39891 has 2 alternate alleles so only the top alleles will be used; see the --max_alternate_alleles argument "
       ]
      }, 
      {
       "output_type": "stream", 
       "stream": "stdout", 
       "text": [
        "WARN  04:17:00,608 ExactAFCalculationModel - this tool is currently set to genotype at most 1 alternate alleles in a given context, but the context at mc1r_bac:40122 has 2 alternate alleles so only the top alleles will be used; see the --max_alternate_alleles argument "
       ]
      }, 
      {
       "output_type": "stream", 
       "stream": "stdout", 
       "text": [
        "WARN  04:17:00,784 ExactAFCalculationModel - this tool is currently set to genotype at most 1 alternate alleles in a given context, but the context at mc1r_bac:40646 has 2 alternate alleles so only the top alleles will be used; see the --max_alternate_alleles argument "
       ]
      }, 
      {
       "output_type": "stream", 
       "stream": "stdout", 
       "text": [
        "WARN  04:17:00,842 ExactAFCalculationModel - this tool is currently set to genotype at most 1 alternate alleles in a given context, but the context at mc1r_bac:40864 has 2 alternate alleles so only the top alleles will be used; see the --max_alternate_alleles argument ", 
        "WARN  04:17:00,864 ExactAFCalculationModel - this tool is currently set to genotype at most 1 alternate alleles in a given context, but the context at mc1r_bac:40957 has 2 alternate alleles so only the top alleles will be used; see the --max_alternate_alleles argument "
       ]
      }, 
      {
       "output_type": "stream", 
       "stream": "stdout", 
       "text": [
        "WARN  04:17:00,895 ExactAFCalculationModel - this tool is currently set to genotype at most 1 alternate alleles in a given context, but the context at mc1r_bac:41074 has 2 alternate alleles so only the top alleles will be used; see the --max_alternate_alleles argument "
       ]
      }, 
      {
       "output_type": "stream", 
       "stream": "stdout", 
       "text": [
        "WARN  04:17:01,151 ExactAFCalculationModel - this tool is currently set to genotype at most 1 alternate alleles in a given context, but the context at mc1r_bac:45868 has 2 alternate alleles so only the top alleles will be used; see the --max_alternate_alleles argument "
       ]
      }, 
      {
       "output_type": "stream", 
       "stream": "stdout", 
       "text": [
        "WARN  04:17:01,198 ExactAFCalculationModel - this tool is currently set to genotype at most 1 alternate alleles in a given context, but the context at mc1r_bac:45944 has 2 alternate alleles so only the top alleles will be used; see the --max_alternate_alleles argument "
       ]
      }, 
      {
       "output_type": "stream", 
       "stream": "stdout", 
       "text": [
        "WARN  04:17:01,270 ExactAFCalculationModel - this tool is currently set to genotype at most 1 alternate alleles in a given context, but the context at mc1r_bac:46197 has 2 alternate alleles so only the top alleles will be used; see the --max_alternate_alleles argument "
       ]
      }, 
      {
       "output_type": "stream", 
       "stream": "stdout", 
       "text": [
        "WARN  04:17:01,281 ExactAFCalculationModel - this tool is currently set to genotype at most 1 alternate alleles in a given context, but the context at mc1r_bac:46232 has 2 alternate alleles so only the top alleles will be used; see the --max_alternate_alleles argument ", 
        "WARN  04:17:01,305 ExactAFCalculationModel - this tool is currently set to genotype at most 1 alternate alleles in a given context, but the context at mc1r_bac:46326 has 2 alternate alleles so only the top alleles will be used; see the --max_alternate_alleles argument "
       ]
      }, 
      {
       "output_type": "stream", 
       "stream": "stdout", 
       "text": [
        "WARN  04:17:01,359 ExactAFCalculationModel - this tool is currently set to genotype at most 1 alternate alleles in a given context, but the context at mc1r_bac:46446 has 2 alternate alleles so only the top alleles will be used; see the --max_alternate_alleles argument "
       ]
      }, 
      {
       "output_type": "stream", 
       "stream": "stdout", 
       "text": [
        "WARN  04:17:01,390 ExactAFCalculationModel - this tool is currently set to genotype at most 1 alternate alleles in a given context, but the context at mc1r_bac:46552 has 2 alternate alleles so only the top alleles will be used; see the --max_alternate_alleles argument ", 
        "WARN  04:17:01,392 ExactAFCalculationModel - this tool is currently set to genotype at most 1 alternate alleles in a given context, but the context at mc1r_bac:46557 has 2 alternate alleles so only the top alleles will be used; see the --max_alternate_alleles argument ", 
        "WARN  04:17:01,396 ExactAFCalculationModel - this tool is currently set to genotype at most 1 alternate alleles in a given context, but the context at mc1r_bac:46570 has 2 alternate alleles so only the top alleles will be used; see the --max_alternate_alleles argument "
       ]
      }, 
      {
       "output_type": "stream", 
       "stream": "stdout", 
       "text": [
        "WARN  04:17:01,505 ExactAFCalculationModel - this tool is currently set to genotype at most 1 alternate alleles in a given context, but the context at mc1r_bac:46748 has 2 alternate alleles so only the top alleles will be used; see the --max_alternate_alleles argument ", 
        "WARN  04:17:01,519 ExactAFCalculationModel - this tool is currently set to genotype at most 1 alternate alleles in a given context, but the context at mc1r_bac:46801 has 2 alternate alleles so only the top alleles will be used; see the --max_alternate_alleles argument "
       ]
      }, 
      {
       "output_type": "stream", 
       "stream": "stdout", 
       "text": [
        "WARN  04:17:01,617 ExactAFCalculationModel - this tool is currently set to genotype at most 1 alternate alleles in a given context, but the context at mc1r_bac:46997 has 2 alternate alleles so only the top alleles will be used; see the --max_alternate_alleles argument "
       ]
      }, 
      {
       "output_type": "stream", 
       "stream": "stdout", 
       "text": [
        "WARN  04:17:01,759 ExactAFCalculationModel - this tool is currently set to genotype at most 1 alternate alleles in a given context, but the context at mc1r_bac:48114 has 2 alternate alleles so only the top alleles will be used; see the --max_alternate_alleles argument ", 
        "WARN  04:17:01,788 ExactAFCalculationModel - this tool is currently set to genotype at most 1 alternate alleles in a given context, but the context at mc1r_bac:48232 has 2 alternate alleles so only the top alleles will be used; see the --max_alternate_alleles argument "
       ]
      }, 
      {
       "output_type": "stream", 
       "stream": "stdout", 
       "text": [
        "WARN  04:17:01,934 ExactAFCalculationModel - this tool is currently set to genotype at most 1 alternate alleles in a given context, but the context at mc1r_bac:49113 has 2 alternate alleles so only the top alleles will be used; see the --max_alternate_alleles argument ", 
        "WARN  04:17:01,940 ExactAFCalculationModel - this tool is currently set to genotype at most 1 alternate alleles in a given context, but the context at mc1r_bac:49122 has 2 alternate alleles so only the top alleles will be used; see the --max_alternate_alleles argument "
       ]
      }, 
      {
       "output_type": "stream", 
       "stream": "stdout", 
       "text": [
        "WARN  04:17:02,055 ExactAFCalculationModel - this tool is currently set to genotype at most 1 alternate alleles in a given context, but the context at mc1r_bac:49593 has 2 alternate alleles so only the top alleles will be used; see the --max_alternate_alleles argument "
       ]
      }, 
      {
       "output_type": "stream", 
       "stream": "stdout", 
       "text": [
        "WARN  04:17:02,085 ExactAFCalculationModel - this tool is currently set to genotype at most 1 alternate alleles in a given context, but the context at mc1r_bac:49727 has 2 alternate alleles so only the top alleles will be used; see the --max_alternate_alleles argument "
       ]
      }, 
      {
       "output_type": "stream", 
       "stream": "stdout", 
       "text": [
        "WARN  04:17:02,144 ExactAFCalculationModel - this tool is currently set to genotype at most 1 alternate alleles in a given context, but the context at mc1r_bac:49963 has 2 alternate alleles so only the top alleles will be used; see the --max_alternate_alleles argument "
       ]
      }, 
      {
       "output_type": "stream", 
       "stream": "stdout", 
       "text": [
        "WARN  04:17:02,211 ExactAFCalculationModel - this tool is currently set to genotype at most 1 alternate alleles in a given context, but the context at mc1r_bac:50202 has 2 alternate alleles so only the top alleles will be used; see the --max_alternate_alleles argument "
       ]
      }, 
      {
       "output_type": "stream", 
       "stream": "stdout", 
       "text": [
        "WARN  04:17:02,346 ExactAFCalculationModel - this tool is currently set to genotype at most 1 alternate alleles in a given context, but the context at mc1r_bac:52998 has 2 alternate alleles so only the top alleles will be used; see the --max_alternate_alleles argument ", 
        "WARN  04:17:02,366 ExactAFCalculationModel - this tool is currently set to genotype at most 1 alternate alleles in a given context, but the context at mc1r_bac:53081 has 2 alternate alleles so only the top alleles will be used; see the --max_alternate_alleles argument "
       ]
      }, 
      {
       "output_type": "stream", 
       "stream": "stdout", 
       "text": [
        "WARN  04:17:02,415 ExactAFCalculationModel - this tool is currently set to genotype at most 1 alternate alleles in a given context, but the context at mc1r_bac:53269 has 2 alternate alleles so only the top alleles will be used; see the --max_alternate_alleles argument ", 
        "WARN  04:17:02,417 ExactAFCalculationModel - this tool is currently set to genotype at most 1 alternate alleles in a given context, but the context at mc1r_bac:53270 has 2 alternate alleles so only the top alleles will be used; see the --max_alternate_alleles argument "
       ]
      }, 
      {
       "output_type": "stream", 
       "stream": "stdout", 
       "text": [
        "WARN  04:17:02,504 ExactAFCalculationModel - this tool is currently set to genotype at most 1 alternate alleles in a given context, but the context at mc1r_bac:53501 has 2 alternate alleles so only the top alleles will be used; see the --max_alternate_alleles argument "
       ]
      }, 
      {
       "output_type": "stream", 
       "stream": "stdout", 
       "text": [
        "WARN  04:17:02,702 ExactAFCalculationModel - this tool is currently set to genotype at most 1 alternate alleles in a given context, but the context at mc1r_bac:54294 has 2 alternate alleles so only the top alleles will be used; see the --max_alternate_alleles argument ", 
        "WARN  04:17:02,718 ExactAFCalculationModel - this tool is currently set to genotype at most 1 alternate alleles in a given context, but the context at mc1r_bac:54348 has 2 alternate alleles so only the top alleles will be used; see the --max_alternate_alleles argument "
       ]
      }, 
      {
       "output_type": "stream", 
       "stream": "stdout", 
       "text": [
        "WARN  04:17:02,737 ExactAFCalculationModel - this tool is currently set to genotype at most 1 alternate alleles in a given context, but the context at mc1r_bac:54418 has 2 alternate alleles so only the top alleles will be used; see the --max_alternate_alleles argument "
       ]
      }, 
      {
       "output_type": "stream", 
       "stream": "stdout", 
       "text": [
        "WARN  04:17:02,821 ExactAFCalculationModel - this tool is currently set to genotype at most 1 alternate alleles in a given context, but the context at mc1r_bac:55567 has 2 alternate alleles so only the top alleles will be used; see the --max_alternate_alleles argument "
       ]
      }, 
      {
       "output_type": "stream", 
       "stream": "stdout", 
       "text": [
        "WARN  04:17:03,198 ExactAFCalculationModel - this tool is currently set to genotype at most 1 alternate alleles in a given context, but the context at mc1r_bac:58068 has 2 alternate alleles so only the top alleles will be used; see the --max_alternate_alleles argument ", 
        "WARN  04:17:03,234 ExactAFCalculationModel - this tool is currently set to genotype at most 1 alternate alleles in a given context, but the context at mc1r_bac:58779 has 2 alternate alleles so only the top alleles will be used; see the --max_alternate_alleles argument "
       ]
      }, 
      {
       "output_type": "stream", 
       "stream": "stdout", 
       "text": [
        "WARN  04:17:03,283 ExactAFCalculationModel - this tool is currently set to genotype at most 1 alternate alleles in a given context, but the context at mc1r_bac:58883 has 2 alternate alleles so only the top alleles will be used; see the --max_alternate_alleles argument "
       ]
      }, 
      {
       "output_type": "stream", 
       "stream": "stdout", 
       "text": [
        "WARN  04:17:03,369 ExactAFCalculationModel - this tool is currently set to genotype at most 1 alternate alleles in a given context, but the context at mc1r_bac:59663 has 2 alternate alleles so only the top alleles will be used; see the --max_alternate_alleles argument "
       ]
      }, 
      {
       "output_type": "stream", 
       "stream": "stdout", 
       "text": [
        "WARN  04:17:03,440 ExactAFCalculationModel - this tool is currently set to genotype at most 1 alternate alleles in a given context, but the context at mc1r_bac:59821 has 2 alternate alleles so only the top alleles will be used; see the --max_alternate_alleles argument "
       ]
      }, 
      {
       "output_type": "stream", 
       "stream": "stdout", 
       "text": [
        "WARN  04:17:03,478 ExactAFCalculationModel - this tool is currently set to genotype at most 1 alternate alleles in a given context, but the context at mc1r_bac:60011 has 2 alternate alleles so only the top alleles will be used; see the --max_alternate_alleles argument "
       ]
      }, 
      {
       "output_type": "stream", 
       "stream": "stdout", 
       "text": [
        "WARN  04:17:03,616 ExactAFCalculationModel - this tool is currently set to genotype at most 1 alternate alleles in a given context, but the context at mc1r_bac:60611 has 2 alternate alleles so only the top alleles will be used; see the --max_alternate_alleles argument "
       ]
      }, 
      {
       "output_type": "stream", 
       "stream": "stdout", 
       "text": [
        "WARN  04:17:03,728 ExactAFCalculationModel - this tool is currently set to genotype at most 1 alternate alleles in a given context, but the context at mc1r_bac:61055 has 2 alternate alleles so only the top alleles will be used; see the --max_alternate_alleles argument "
       ]
      }, 
      {
       "output_type": "stream", 
       "stream": "stdout", 
       "text": [
        "WARN  04:17:03,954 ExactAFCalculationModel - this tool is currently set to genotype at most 1 alternate alleles in a given context, but the context at mc1r_bac:63106 has 2 alternate alleles so only the top alleles will be used; see the --max_alternate_alleles argument ", 
        "WARN  04:17:03,958 ExactAFCalculationModel - this tool is currently set to genotype at most 1 alternate alleles in a given context, but the context at mc1r_bac:63117 has 2 alternate alleles so only the top alleles will be used; see the --max_alternate_alleles argument "
       ]
      }, 
      {
       "output_type": "stream", 
       "stream": "stdout", 
       "text": [
        "WARN  04:17:04,029 ExactAFCalculationModel - this tool is currently set to genotype at most 1 alternate alleles in a given context, but the context at mc1r_bac:63380 has 2 alternate alleles so only the top alleles will be used; see the --max_alternate_alleles argument ", 
        "WARN  04:17:04,040 ExactAFCalculationModel - this tool is currently set to genotype at most 1 alternate alleles in a given context, but the context at mc1r_bac:63424 has 2 alternate alleles so only the top alleles will be used; see the --max_alternate_alleles argument "
       ]
      }, 
      {
       "output_type": "stream", 
       "stream": "stdout", 
       "text": [
        "WARN  04:17:04,103 ExactAFCalculationModel - this tool is currently set to genotype at most 1 alternate alleles in a given context, but the context at mc1r_bac:63563 has 2 alternate alleles so only the top alleles will be used; see the --max_alternate_alleles argument ", 
        "WARN  04:17:04,126 ExactAFCalculationModel - this tool is currently set to genotype at most 1 alternate alleles in a given context, but the context at mc1r_bac:64271 has 2 alternate alleles so only the top alleles will be used; see the --max_alternate_alleles argument "
       ]
      }, 
      {
       "output_type": "stream", 
       "stream": "stdout", 
       "text": [
        "WARN  04:17:04,152 ExactAFCalculationModel - this tool is currently set to genotype at most 1 alternate alleles in a given context, but the context at mc1r_bac:64388 has 2 alternate alleles so only the top alleles will be used; see the --max_alternate_alleles argument ", 
        "WARN  04:17:04,162 ExactAFCalculationModel - this tool is currently set to genotype at most 1 alternate alleles in a given context, but the context at mc1r_bac:64406 has 2 alternate alleles so only the top alleles will be used; see the --max_alternate_alleles argument "
       ]
      }, 
      {
       "output_type": "stream", 
       "stream": "stdout", 
       "text": [
        "WARN  04:17:04,235 ExactAFCalculationModel - this tool is currently set to genotype at most 1 alternate alleles in a given context, but the context at mc1r_bac:64631 has 2 alternate alleles so only the top alleles will be used; see the --max_alternate_alleles argument ", 
        "WARN  04:17:04,244 ExactAFCalculationModel - this tool is currently set to genotype at most 1 alternate alleles in a given context, but the context at mc1r_bac:64656 has 2 alternate alleles so only the top alleles will be used; see the --max_alternate_alleles argument "
       ]
      }, 
      {
       "output_type": "stream", 
       "stream": "stdout", 
       "text": [
        "WARN  04:17:04,312 ExactAFCalculationModel - this tool is currently set to genotype at most 1 alternate alleles in a given context, but the context at mc1r_bac:64876 has 2 alternate alleles so only the top alleles will be used; see the --max_alternate_alleles argument "
       ]
      }, 
      {
       "output_type": "stream", 
       "stream": "stdout", 
       "text": [
        "WARN  04:17:04,510 ExactAFCalculationModel - this tool is currently set to genotype at most 1 alternate alleles in a given context, but the context at mc1r_bac:66484 has 2 alternate alleles so only the top alleles will be used; see the --max_alternate_alleles argument ", 
        "WARN  04:17:04,551 ExactAFCalculationModel - this tool is currently set to genotype at most 1 alternate alleles in a given context, but the context at mc1r_bac:66571 has 2 alternate alleles so only the top alleles will be used; see the --max_alternate_alleles argument ", 
        "WARN  04:17:04,555 ExactAFCalculationModel - this tool is currently set to genotype at most 1 alternate alleles in a given context, but the context at mc1r_bac:66587 has 2 alternate alleles so only the top alleles will be used; see the --max_alternate_alleles argument "
       ]
      }, 
      {
       "output_type": "stream", 
       "stream": "stdout", 
       "text": [
        "WARN  04:17:04,610 ExactAFCalculationModel - this tool is currently set to genotype at most 1 alternate alleles in a given context, but the context at mc1r_bac:67214 has 2 alternate alleles so only the top alleles will be used; see the --max_alternate_alleles argument "
       ]
      }, 
      {
       "output_type": "stream", 
       "stream": "stdout", 
       "text": [
        "WARN  04:17:04,694 ExactAFCalculationModel - this tool is currently set to genotype at most 1 alternate alleles in a given context, but the context at mc1r_bac:67548 has 2 alternate alleles so only the top alleles will be used; see the --max_alternate_alleles argument ", 
        "WARN  04:17:04,699 ExactAFCalculationModel - this tool is currently set to genotype at most 1 alternate alleles in a given context, but the context at mc1r_bac:67571 has 2 alternate alleles so only the top alleles will be used; see the --max_alternate_alleles argument "
       ]
      }, 
      {
       "output_type": "stream", 
       "stream": "stdout", 
       "text": [
        "WARN  04:17:04,780 ExactAFCalculationModel - this tool is currently set to genotype at most 1 alternate alleles in a given context, but the context at mc1r_bac:67870 has 2 alternate alleles so only the top alleles will be used; see the --max_alternate_alleles argument "
       ]
      }, 
      {
       "output_type": "stream", 
       "stream": "stdout", 
       "text": [
        "WARN  04:17:04,835 ExactAFCalculationModel - this tool is currently set to genotype at most 1 alternate alleles in a given context, but the context at mc1r_bac:68101 has 2 alternate alleles so only the top alleles will be used; see the --max_alternate_alleles argument ", 
        "WARN  04:17:04,856 ExactAFCalculationModel - this tool is currently set to genotype at most 1 alternate alleles in a given context, but the context at mc1r_bac:68192 has 2 alternate alleles so only the top alleles will be used; see the --max_alternate_alleles argument "
       ]
      }, 
      {
       "output_type": "stream", 
       "stream": "stdout", 
       "text": [
        "WARN  04:17:04,898 ExactAFCalculationModel - this tool is currently set to genotype at most 1 alternate alleles in a given context, but the context at mc1r_bac:68344 has 2 alternate alleles so only the top alleles will be used; see the --max_alternate_alleles argument ", 
        "WARN  04:17:04,899 ExactAFCalculationModel - this tool is currently set to genotype at most 1 alternate alleles in a given context, but the context at mc1r_bac:68345 has 2 alternate alleles so only the top alleles will be used; see the --max_alternate_alleles argument "
       ]
      }, 
      {
       "output_type": "stream", 
       "stream": "stdout", 
       "text": [
        "WARN  04:17:04,942 ExactAFCalculationModel - this tool is currently set to genotype at most 1 alternate alleles in a given context, but the context at mc1r_bac:68520 has 2 alternate alleles so only the top alleles will be used; see the --max_alternate_alleles argument "
       ]
      }, 
      {
       "output_type": "stream", 
       "stream": "stdout", 
       "text": [
        "WARN  04:17:05,066 ExactAFCalculationModel - this tool is currently set to genotype at most 1 alternate alleles in a given context, but the context at mc1r_bac:73971 has 2 alternate alleles so only the top alleles will be used; see the --max_alternate_alleles argument ", 
        "WARN  04:17:05,073 ExactAFCalculationModel - this tool is currently set to genotype at most 1 alternate alleles in a given context, but the context at mc1r_bac:73992 has 2 alternate alleles so only the top alleles will be used; see the --max_alternate_alleles argument "
       ]
      }, 
      {
       "output_type": "stream", 
       "stream": "stdout", 
       "text": [
        "WARN  04:17:05,159 ExactAFCalculationModel - this tool is currently set to genotype at most 1 alternate alleles in a given context, but the context at mc1r_bac:74488 has 2 alternate alleles so only the top alleles will be used; see the --max_alternate_alleles argument "
       ]
      }, 
      {
       "output_type": "stream", 
       "stream": "stdout", 
       "text": [
        "WARN  04:17:05,211 ExactAFCalculationModel - this tool is currently set to genotype at most 1 alternate alleles in a given context, but the context at mc1r_bac:74917 has 2 alternate alleles so only the top alleles will be used; see the --max_alternate_alleles argument "
       ]
      }, 
      {
       "output_type": "stream", 
       "stream": "stdout", 
       "text": [
        "WARN  04:17:05,264 ExactAFCalculationModel - this tool is currently set to genotype at most 1 alternate alleles in a given context, but the context at mc1r_bac:75055 has 2 alternate alleles so only the top alleles will be used; see the --max_alternate_alleles argument "
       ]
      }, 
      {
       "output_type": "stream", 
       "stream": "stdout", 
       "text": [
        "WARN  04:17:05,376 ExactAFCalculationModel - this tool is currently set to genotype at most 1 alternate alleles in a given context, but the context at mc1r_bac:75863 has 2 alternate alleles so only the top alleles will be used; see the --max_alternate_alleles argument "
       ]
      }, 
      {
       "output_type": "stream", 
       "stream": "stdout", 
       "text": [
        "WARN  04:17:05,468 ExactAFCalculationModel - this tool is currently set to genotype at most 1 alternate alleles in a given context, but the context at mc1r_bac:76233 has 2 alternate alleles so only the top alleles will be used; see the --max_alternate_alleles argument ", 
        "WARN  04:17:05,473 ExactAFCalculationModel - this tool is currently set to genotype at most 1 alternate alleles in a given context, but the context at mc1r_bac:76246 has 2 alternate alleles so only the top alleles will be used; see the --max_alternate_alleles argument "
       ]
      }, 
      {
       "output_type": "stream", 
       "stream": "stdout", 
       "text": [
        "WARN  04:17:05,528 ExactAFCalculationModel - this tool is currently set to genotype at most 1 alternate alleles in a given context, but the context at mc1r_bac:76451 has 2 alternate alleles so only the top alleles will be used; see the --max_alternate_alleles argument "
       ]
      }, 
      {
       "output_type": "stream", 
       "stream": "stdout", 
       "text": [
        "WARN  04:17:05,570 ExactAFCalculationModel - this tool is currently set to genotype at most 1 alternate alleles in a given context, but the context at mc1r_bac:76602 has 2 alternate alleles so only the top alleles will be used; see the --max_alternate_alleles argument "
       ]
      }, 
      {
       "output_type": "stream", 
       "stream": "stdout", 
       "text": [
        "WARN  04:17:05,628 ExactAFCalculationModel - this tool is currently set to genotype at most 1 alternate alleles in a given context, but the context at mc1r_bac:76810 has 2 alternate alleles so only the top alleles will be used; see the --max_alternate_alleles argument "
       ]
      }, 
      {
       "output_type": "stream", 
       "stream": "stdout", 
       "text": [
        "WARN  04:17:05,680 ExactAFCalculationModel - this tool is currently set to genotype at most 1 alternate alleles in a given context, but the context at mc1r_bac:76998 has 2 alternate alleles so only the top alleles will be used; see the --max_alternate_alleles argument "
       ]
      }, 
      {
       "output_type": "stream", 
       "stream": "stdout", 
       "text": [
        "WARN  04:17:05,745 ExactAFCalculationModel - this tool is currently set to genotype at most 1 alternate alleles in a given context, but the context at mc1r_bac:77247 has 2 alternate alleles so only the top alleles will be used; see the --max_alternate_alleles argument "
       ]
      }, 
      {
       "output_type": "stream", 
       "stream": "stdout", 
       "text": [
        "WARN  04:17:05,776 ExactAFCalculationModel - this tool is currently set to genotype at most 1 alternate alleles in a given context, but the context at mc1r_bac:77343 has 2 alternate alleles so only the top alleles will be used; see the --max_alternate_alleles argument "
       ]
      }, 
      {
       "output_type": "stream", 
       "stream": "stdout", 
       "text": [
        "WARN  04:17:05,882 ExactAFCalculationModel - this tool is currently set to genotype at most 1 alternate alleles in a given context, but the context at mc1r_bac:78017 has 2 alternate alleles so only the top alleles will be used; see the --max_alternate_alleles argument "
       ]
      }, 
      {
       "output_type": "stream", 
       "stream": "stdout", 
       "text": [
        "WARN  04:17:05,992 ExactAFCalculationModel - this tool is currently set to genotype at most 1 alternate alleles in a given context, but the context at mc1r_bac:78426 has 2 alternate alleles so only the top alleles will be used; see the --max_alternate_alleles argument "
       ]
      }, 
      {
       "output_type": "stream", 
       "stream": "stdout", 
       "text": [
        "WARN  04:17:06,052 ExactAFCalculationModel - this tool is currently set to genotype at most 1 alternate alleles in a given context, but the context at mc1r_bac:78631 has 2 alternate alleles so only the top alleles will be used; see the --max_alternate_alleles argument "
       ]
      }, 
      {
       "output_type": "stream", 
       "stream": "stdout", 
       "text": [
        "WARN  04:17:06,095 ExactAFCalculationModel - this tool is currently set to genotype at most 1 alternate alleles in a given context, but the context at mc1r_bac:78763 has 2 alternate alleles so only the top alleles will be used; see the --max_alternate_alleles argument "
       ]
      }, 
      {
       "output_type": "stream", 
       "stream": "stdout", 
       "text": [
        "WARN  04:17:06,124 ExactAFCalculationModel - this tool is currently set to genotype at most 1 alternate alleles in a given context, but the context at mc1r_bac:78854 has 2 alternate alleles so only the top alleles will be used; see the --max_alternate_alleles argument "
       ]
      }, 
      {
       "output_type": "stream", 
       "stream": "stdout", 
       "text": [
        "WARN  04:17:06,222 ExactAFCalculationModel - this tool is currently set to genotype at most 1 alternate alleles in a given context, but the context at mc1r_bac:79191 has 2 alternate alleles so only the top alleles will be used; see the --max_alternate_alleles argument ", 
        "WARN  04:17:06,259 ExactAFCalculationModel - this tool is currently set to genotype at most 1 alternate alleles in a given context, but the context at mc1r_bac:79342 has 2 alternate alleles so only the top alleles will be used; see the --max_alternate_alleles argument "
       ]
      }, 
      {
       "output_type": "stream", 
       "stream": "stdout", 
       "text": [
        "WARN  04:17:06,310 ExactAFCalculationModel - this tool is currently set to genotype at most 1 alternate alleles in a given context, but the context at mc1r_bac:79532 has 2 alternate alleles so only the top alleles will be used; see the --max_alternate_alleles argument "
       ]
      }, 
      {
       "output_type": "stream", 
       "stream": "stdout", 
       "text": [
        "WARN  04:17:06,391 ExactAFCalculationModel - this tool is currently set to genotype at most 1 alternate alleles in a given context, but the context at mc1r_bac:80040 has 2 alternate alleles so only the top alleles will be used; see the --max_alternate_alleles argument "
       ]
      }, 
      {
       "output_type": "stream", 
       "stream": "stdout", 
       "text": [
        "WARN  04:17:06,426 ExactAFCalculationModel - this tool is currently set to genotype at most 1 alternate alleles in a given context, but the context at mc1r_bac:80107 has 2 alternate alleles so only the top alleles will be used; see the --max_alternate_alleles argument ", 
        "WARN  04:17:06,440 ExactAFCalculationModel - this tool is currently set to genotype at most 1 alternate alleles in a given context, but the context at mc1r_bac:80154 has 2 alternate alleles so only the top alleles will be used; see the --max_alternate_alleles argument ", 
        "WARN  04:17:06,459 ExactAFCalculationModel - this tool is currently set to genotype at most 1 alternate alleles in a given context, but the context at mc1r_bac:81046 has 2 alternate alleles so only the top alleles will be used; see the --max_alternate_alleles argument "
       ]
      }, 
      {
       "output_type": "stream", 
       "stream": "stdout", 
       "text": [
        "WARN  04:17:06,546 ExactAFCalculationModel - this tool is currently set to genotype at most 1 alternate alleles in a given context, but the context at mc1r_bac:81397 has 2 alternate alleles so only the top alleles will be used; see the --max_alternate_alleles argument "
       ]
      }, 
      {
       "output_type": "stream", 
       "stream": "stdout", 
       "text": [
        "WARN  04:17:06,600 ExactAFCalculationModel - this tool is currently set to genotype at most 1 alternate alleles in a given context, but the context at mc1r_bac:81606 has 2 alternate alleles so only the top alleles will be used; see the --max_alternate_alleles argument ", 
        "WARN  04:17:06,619 ExactAFCalculationModel - this tool is currently set to genotype at most 1 alternate alleles in a given context, but the context at mc1r_bac:81635 has 2 alternate alleles so only the top alleles will be used; see the --max_alternate_alleles argument "
       ]
      }, 
      {
       "output_type": "stream", 
       "stream": "stdout", 
       "text": [
        "WARN  04:17:06,660 ExactAFCalculationModel - this tool is currently set to genotype at most 1 alternate alleles in a given context, but the context at mc1r_bac:81749 has 2 alternate alleles so only the top alleles will be used; see the --max_alternate_alleles argument ", 
        "WARN  04:17:06,679 ExactAFCalculationModel - this tool is currently set to genotype at most 1 alternate alleles in a given context, but the context at mc1r_bac:81811 has 2 alternate alleles so only the top alleles will be used; see the --max_alternate_alleles argument ", 
        "WARN  04:17:06,693 ExactAFCalculationModel - this tool is currently set to genotype at most 1 alternate alleles in a given context, but the context at mc1r_bac:81846 has 2 alternate alleles so only the top alleles will be used; see the --max_alternate_alleles argument ", 
        "WARN  04:17:06,698 ExactAFCalculationModel - this tool is currently set to genotype at most 1 alternate alleles in a given context, but the context at mc1r_bac:81850 has 2 alternate alleles so only the top alleles will be used; see the --max_alternate_alleles argument "
       ]
      }, 
      {
       "output_type": "stream", 
       "stream": "stdout", 
       "text": [
        "WARN  04:17:06,717 ExactAFCalculationModel - this tool is currently set to genotype at most 1 alternate alleles in a given context, but the context at mc1r_bac:81882 has 2 alternate alleles so only the top alleles will be used; see the --max_alternate_alleles argument "
       ]
      }, 
      {
       "output_type": "stream", 
       "stream": "stdout", 
       "text": [
        "WARN  04:17:06,784 ExactAFCalculationModel - this tool is currently set to genotype at most 1 alternate alleles in a given context, but the context at mc1r_bac:82003 has 2 alternate alleles so only the top alleles will be used; see the --max_alternate_alleles argument ", 
        "WARN  04:17:06,787 ExactAFCalculationModel - this tool is currently set to genotype at most 1 alternate alleles in a given context, but the context at mc1r_bac:82009 has 2 alternate alleles so only the top alleles will be used; see the --max_alternate_alleles argument "
       ]
      }, 
      {
       "output_type": "stream", 
       "stream": "stdout", 
       "text": [
        "WARN  04:17:06,832 ExactAFCalculationModel - this tool is currently set to genotype at most 1 alternate alleles in a given context, but the context at mc1r_bac:82122 has 2 alternate alleles so only the top alleles will be used; see the --max_alternate_alleles argument "
       ]
      }, 
      {
       "output_type": "stream", 
       "stream": "stdout", 
       "text": [
        "WARN  04:17:06,930 ExactAFCalculationModel - this tool is currently set to genotype at most 1 alternate alleles in a given context, but the context at mc1r_bac:82477 has 2 alternate alleles so only the top alleles will be used; see the --max_alternate_alleles argument ", 
        "WARN  04:17:06,948 ExactAFCalculationModel - this tool is currently set to genotype at most 1 alternate alleles in a given context, but the context at mc1r_bac:82547 has 2 alternate alleles so only the top alleles will be used; see the --max_alternate_alleles argument "
       ]
      }, 
      {
       "output_type": "stream", 
       "stream": "stdout", 
       "text": [
        "WARN  04:17:06,980 ExactAFCalculationModel - this tool is currently set to genotype at most 1 alternate alleles in a given context, but the context at mc1r_bac:82663 has 2 alternate alleles so only the top alleles will be used; see the --max_alternate_alleles argument ", 
        "WARN  04:17:06,987 ExactAFCalculationModel - this tool is currently set to genotype at most 1 alternate alleles in a given context, but the context at mc1r_bac:82697 has 2 alternate alleles so only the top alleles will be used; see the --max_alternate_alleles argument "
       ]
      }, 
      {
       "output_type": "stream", 
       "stream": "stdout", 
       "text": [
        "WARN  04:17:07,131 ExactAFCalculationModel - this tool is currently set to genotype at most 1 alternate alleles in a given context, but the context at mc1r_bac:83601 has 2 alternate alleles so only the top alleles will be used; see the --max_alternate_alleles argument "
       ]
      }, 
      {
       "output_type": "stream", 
       "stream": "stdout", 
       "text": [
        "WARN  04:17:07,213 ExactAFCalculationModel - this tool is currently set to genotype at most 1 alternate alleles in a given context, but the context at mc1r_bac:84112 has 2 alternate alleles so only the top alleles will be used; see the --max_alternate_alleles argument "
       ]
      }, 
      {
       "output_type": "stream", 
       "stream": "stdout", 
       "text": [
        "WARN  04:17:07,273 ExactAFCalculationModel - this tool is currently set to genotype at most 1 alternate alleles in a given context, but the context at mc1r_bac:84618 has 2 alternate alleles so only the top alleles will be used; see the --max_alternate_alleles argument "
       ]
      }, 
      {
       "output_type": "stream", 
       "stream": "stdout", 
       "text": [
        "WARN  04:17:07,309 ExactAFCalculationModel - this tool is currently set to genotype at most 1 alternate alleles in a given context, but the context at mc1r_bac:84763 has 2 alternate alleles so only the top alleles will be used; see the --max_alternate_alleles argument ", 
        "WARN  04:17:07,315 ExactAFCalculationModel - this tool is currently set to genotype at most 1 alternate alleles in a given context, but the context at mc1r_bac:84779 has 2 alternate alleles so only the top alleles will be used; see the --max_alternate_alleles argument "
       ]
      }, 
      {
       "output_type": "stream", 
       "stream": "stdout", 
       "text": [
        "WARN  04:17:07,352 ExactAFCalculationModel - this tool is currently set to genotype at most 1 alternate alleles in a given context, but the context at mc1r_bac:84927 has 2 alternate alleles so only the top alleles will be used; see the --max_alternate_alleles argument "
       ]
      }, 
      {
       "output_type": "stream", 
       "stream": "stdout", 
       "text": [
        "WARN  04:17:07,669 ExactAFCalculationModel - this tool is currently set to genotype at most 1 alternate alleles in a given context, but the context at mc1r_bac:88194 has 2 alternate alleles so only the top alleles will be used; see the --max_alternate_alleles argument "
       ]
      }, 
      {
       "output_type": "stream", 
       "stream": "stdout", 
       "text": [
        "WARN  04:17:07,766 ExactAFCalculationModel - this tool is currently set to genotype at most 1 alternate alleles in a given context, but the context at mc1r_bac:88921 has 2 alternate alleles so only the top alleles will be used; see the --max_alternate_alleles argument "
       ]
      }, 
      {
       "output_type": "stream", 
       "stream": "stdout", 
       "text": [
        "WARN  04:17:07,882 ExactAFCalculationModel - this tool is currently set to genotype at most 1 alternate alleles in a given context, but the context at mc1r_bac:89247 has 2 alternate alleles so only the top alleles will be used; see the --max_alternate_alleles argument "
       ]
      }, 
      {
       "output_type": "stream", 
       "stream": "stdout", 
       "text": [
        "WARN  04:17:07,921 ExactAFCalculationModel - this tool is currently set to genotype at most 1 alternate alleles in a given context, but the context at mc1r_bac:89392 has 2 alternate alleles so only the top alleles will be used; see the --max_alternate_alleles argument ", 
        "WARN  04:17:07,930 ExactAFCalculationModel - this tool is currently set to genotype at most 1 alternate alleles in a given context, but the context at mc1r_bac:89434 has 2 alternate alleles so only the top alleles will be used; see the --max_alternate_alleles argument ", 
        "WARN  04:17:07,951 ExactAFCalculationModel - this tool is currently set to genotype at most 1 alternate alleles in a given context, but the context at mc1r_bac:89503 has 2 alternate alleles so only the top alleles will be used; see the --max_alternate_alleles argument "
       ]
      }, 
      {
       "output_type": "stream", 
       "stream": "stdout", 
       "text": [
        "WARN  04:17:08,021 ExactAFCalculationModel - this tool is currently set to genotype at most 1 alternate alleles in a given context, but the context at mc1r_bac:89701 has 2 alternate alleles so only the top alleles will be used; see the --max_alternate_alleles argument ", 
        "WARN  04:17:08,027 ExactAFCalculationModel - this tool is currently set to genotype at most 1 alternate alleles in a given context, but the context at mc1r_bac:89715 has 2 alternate alleles so only the top alleles will be used; see the --max_alternate_alleles argument ", 
        "WARN  04:17:08,037 ExactAFCalculationModel - this tool is currently set to genotype at most 1 alternate alleles in a given context, but the context at mc1r_bac:89759 has 2 alternate alleles so only the top alleles will be used; see the --max_alternate_alleles argument "
       ]
      }, 
      {
       "output_type": "stream", 
       "stream": "stdout", 
       "text": [
        "WARN  04:17:08,092 ExactAFCalculationModel - this tool is currently set to genotype at most 1 alternate alleles in a given context, but the context at mc1r_bac:90280 has 2 alternate alleles so only the top alleles will be used; see the --max_alternate_alleles argument "
       ]
      }, 
      {
       "output_type": "stream", 
       "stream": "stdout", 
       "text": [
        "WARN  04:17:08,232 ExactAFCalculationModel - this tool is currently set to genotype at most 1 alternate alleles in a given context, but the context at mc1r_bac:91390 has 2 alternate alleles so only the top alleles will be used; see the --max_alternate_alleles argument "
       ]
      }, 
      {
       "output_type": "stream", 
       "stream": "stdout", 
       "text": [
        "WARN  04:17:08,428 ExactAFCalculationModel - this tool is currently set to genotype at most 1 alternate alleles in a given context, but the context at mc1r_bac:92755 has 2 alternate alleles so only the top alleles will be used; see the --max_alternate_alleles argument "
       ]
      }, 
      {
       "output_type": "stream", 
       "stream": "stdout", 
       "text": [
        "WARN  04:17:08,485 ExactAFCalculationModel - this tool is currently set to genotype at most 1 alternate alleles in a given context, but the context at mc1r_bac:92940 has 2 alternate alleles so only the top alleles will be used; see the --max_alternate_alleles argument "
       ]
      }, 
      {
       "output_type": "stream", 
       "stream": "stdout", 
       "text": [
        "WARN  04:17:08,645 ExactAFCalculationModel - this tool is currently set to genotype at most 1 alternate alleles in a given context, but the context at mc1r_bac:93488 has 2 alternate alleles so only the top alleles will be used; see the --max_alternate_alleles argument "
       ]
      }, 
      {
       "output_type": "stream", 
       "stream": "stdout", 
       "text": [
        "WARN  04:17:08,772 ExactAFCalculationModel - this tool is currently set to genotype at most 1 alternate alleles in a given context, but the context at mc1r_bac:93825 has 2 alternate alleles so only the top alleles will be used; see the --max_alternate_alleles argument "
       ]
      }, 
      {
       "output_type": "stream", 
       "stream": "stdout", 
       "text": [
        "WARN  04:17:08,896 ExactAFCalculationModel - this tool is currently set to genotype at most 1 alternate alleles in a given context, but the context at mc1r_bac:94333 has 2 alternate alleles so only the top alleles will be used; see the --max_alternate_alleles argument ", 
        "WARN  04:17:08,899 ExactAFCalculationModel - this tool is currently set to genotype at most 1 alternate alleles in a given context, but the context at mc1r_bac:94341 has 2 alternate alleles so only the top alleles will be used; see the --max_alternate_alleles argument ", 
        "WARN  04:17:08,931 ExactAFCalculationModel - this tool is currently set to genotype at most 1 alternate alleles in a given context, but the context at mc1r_bac:94459 has 2 alternate alleles so only the top alleles will be used; see the --max_alternate_alleles argument "
       ]
      }, 
      {
       "output_type": "stream", 
       "stream": "stdout", 
       "text": [
        "WARN  04:17:09,053 ExactAFCalculationModel - this tool is currently set to genotype at most 1 alternate alleles in a given context, but the context at mc1r_bac:94915 has 2 alternate alleles so only the top alleles will be used; see the --max_alternate_alleles argument "
       ]
      }, 
      {
       "output_type": "stream", 
       "stream": "stdout", 
       "text": [
        "WARN  04:17:09,123 ExactAFCalculationModel - this tool is currently set to genotype at most 1 alternate alleles in a given context, but the context at mc1r_bac:97034 has 2 alternate alleles so only the top alleles will be used; see the --max_alternate_alleles argument "
       ]
      }, 
      {
       "output_type": "stream", 
       "stream": "stdout", 
       "text": [
        "WARN  04:17:09,375 ExactAFCalculationModel - this tool is currently set to genotype at most 1 alternate alleles in a given context, but the context at mc1r_bac:99838 has 2 alternate alleles so only the top alleles will be used; see the --max_alternate_alleles argument "
       ]
      }, 
      {
       "output_type": "stream", 
       "stream": "stdout", 
       "text": [
        "WARN  04:17:09,445 ExactAFCalculationModel - this tool is currently set to genotype at most 1 alternate alleles in a given context, but the context at mc1r_bac:100024 has 2 alternate alleles so only the top alleles will be used; see the --max_alternate_alleles argument ", 
        "WARN  04:17:09,446 ExactAFCalculationModel - this tool is currently set to genotype at most 1 alternate alleles in a given context, but the context at mc1r_bac:100025 has 2 alternate alleles so only the top alleles will be used; see the --max_alternate_alleles argument "
       ]
      }, 
      {
       "output_type": "stream", 
       "stream": "stdout", 
       "text": [
        "WARN  04:17:09,483 ExactAFCalculationModel - this tool is currently set to genotype at most 1 alternate alleles in a given context, but the context at mc1r_bac:100121 has 2 alternate alleles so only the top alleles will be used; see the --max_alternate_alleles argument "
       ]
      }, 
      {
       "output_type": "stream", 
       "stream": "stdout", 
       "text": [
        "WARN  04:17:09,522 ExactAFCalculationModel - this tool is currently set to genotype at most 1 alternate alleles in a given context, but the context at mc1r_bac:100211 has 2 alternate alleles so only the top alleles will be used; see the --max_alternate_alleles argument "
       ]
      }, 
      {
       "output_type": "stream", 
       "stream": "stdout", 
       "text": [
        "WARN  04:17:09,793 ExactAFCalculationModel - this tool is currently set to genotype at most 1 alternate alleles in a given context, but the context at mc1r_bac:102225 has 2 alternate alleles so only the top alleles will be used; see the --max_alternate_alleles argument "
       ]
      }, 
      {
       "output_type": "stream", 
       "stream": "stdout", 
       "text": [
        "WARN  04:17:09,871 ExactAFCalculationModel - this tool is currently set to genotype at most 1 alternate alleles in a given context, but the context at mc1r_bac:102436 has 2 alternate alleles so only the top alleles will be used; see the --max_alternate_alleles argument ", 
        "WARN  04:17:09,911 ExactAFCalculationModel - this tool is currently set to genotype at most 1 alternate alleles in a given context, but the context at mc1r_bac:102581 has 2 alternate alleles so only the top alleles will be used; see the --max_alternate_alleles argument "
       ]
      }, 
      {
       "output_type": "stream", 
       "stream": "stdout", 
       "text": [
        "WARN  04:17:10,034 ExactAFCalculationModel - this tool is currently set to genotype at most 1 alternate alleles in a given context, but the context at mc1r_bac:104813 has 2 alternate alleles so only the top alleles will be used; see the --max_alternate_alleles argument "
       ]
      }, 
      {
       "output_type": "stream", 
       "stream": "stdout", 
       "text": [
        "WARN  04:17:10,115 ExactAFCalculationModel - this tool is currently set to genotype at most 1 alternate alleles in a given context, but the context at mc1r_bac:105567 has 2 alternate alleles so only the top alleles will be used; see the --max_alternate_alleles argument "
       ]
      }, 
      {
       "output_type": "stream", 
       "stream": "stdout", 
       "text": [
        "WARN  04:17:10,202 ExactAFCalculationModel - this tool is currently set to genotype at most 1 alternate alleles in a given context, but the context at mc1r_bac:105945 has 2 alternate alleles so only the top alleles will be used; see the --max_alternate_alleles argument "
       ]
      }, 
      {
       "output_type": "stream", 
       "stream": "stdout", 
       "text": [
        "WARN  04:17:10,340 ExactAFCalculationModel - this tool is currently set to genotype at most 1 alternate alleles in a given context, but the context at mc1r_bac:106434 has 2 alternate alleles so only the top alleles will be used; see the --max_alternate_alleles argument "
       ]
      }, 
      {
       "output_type": "stream", 
       "stream": "stdout", 
       "text": [
        "WARN  04:17:10,404 ExactAFCalculationModel - this tool is currently set to genotype at most 1 alternate alleles in a given context, but the context at mc1r_bac:106792 has 2 alternate alleles so only the top alleles will be used; see the --max_alternate_alleles argument ", 
        "WARN  04:17:10,438 ExactAFCalculationModel - this tool is currently set to genotype at most 1 alternate alleles in a given context, but the context at mc1r_bac:106919 has 2 alternate alleles so only the top alleles will be used; see the --max_alternate_alleles argument "
       ]
      }, 
      {
       "output_type": "stream", 
       "stream": "stdout", 
       "text": [
        "WARN  04:17:10,491 ExactAFCalculationModel - this tool is currently set to genotype at most 1 alternate alleles in a given context, but the context at mc1r_bac:107128 has 2 alternate alleles so only the top alleles will be used; see the --max_alternate_alleles argument "
       ]
      }, 
      {
       "output_type": "stream", 
       "stream": "stdout", 
       "text": [
        "WARN  04:17:10,543 ExactAFCalculationModel - this tool is currently set to genotype at most 1 alternate alleles in a given context, but the context at mc1r_bac:107320 has 2 alternate alleles so only the top alleles will be used; see the --max_alternate_alleles argument "
       ]
      }, 
      {
       "output_type": "stream", 
       "stream": "stdout", 
       "text": [
        "WARN  04:17:10,583 ExactAFCalculationModel - this tool is currently set to genotype at most 1 alternate alleles in a given context, but the context at mc1r_bac:107446 has 2 alternate alleles so only the top alleles will be used; see the --max_alternate_alleles argument "
       ]
      }, 
      {
       "output_type": "stream", 
       "stream": "stdout", 
       "text": [
        "WARN  04:17:10,608 ExactAFCalculationModel - this tool is currently set to genotype at most 1 alternate alleles in a given context, but the context at mc1r_bac:107538 has 2 alternate alleles so only the top alleles will be used; see the --max_alternate_alleles argument "
       ]
      }, 
      {
       "output_type": "stream", 
       "stream": "stdout", 
       "text": [
        "WARN  04:17:10,672 ExactAFCalculationModel - this tool is currently set to genotype at most 1 alternate alleles in a given context, but the context at mc1r_bac:107787 has 2 alternate alleles so only the top alleles will be used; see the --max_alternate_alleles argument "
       ]
      }, 
      {
       "output_type": "stream", 
       "stream": "stdout", 
       "text": [
        "WARN  04:17:10,719 ExactAFCalculationModel - this tool is currently set to genotype at most 1 alternate alleles in a given context, but the context at mc1r_bac:107964 has 2 alternate alleles so only the top alleles will be used; see the --max_alternate_alleles argument ", 
        "WARN  04:17:10,724 ExactAFCalculationModel - this tool is currently set to genotype at most 1 alternate alleles in a given context, but the context at mc1r_bac:107971 has 2 alternate alleles so only the top alleles will be used; see the --max_alternate_alleles argument "
       ]
      }, 
      {
       "output_type": "stream", 
       "stream": "stdout", 
       "text": [
        "WARN  04:17:10,923 ExactAFCalculationModel - this tool is currently set to genotype at most 1 alternate alleles in a given context, but the context at mc1r_bac:108746 has 2 alternate alleles so only the top alleles will be used; see the --max_alternate_alleles argument "
       ]
      }, 
      {
       "output_type": "stream", 
       "stream": "stdout", 
       "text": [
        "WARN  04:17:11,053 ExactAFCalculationModel - this tool is currently set to genotype at most 1 alternate alleles in a given context, but the context at mc1r_bac:109166 has 2 alternate alleles so only the top alleles will be used; see the --max_alternate_alleles argument "
       ]
      }, 
      {
       "output_type": "stream", 
       "stream": "stdout", 
       "text": [
        "WARN  04:17:11,058 ExactAFCalculationModel - this tool is currently set to genotype at most 1 alternate alleles in a given context, but the context at mc1r_bac:109179 has 2 alternate alleles so only the top alleles will be used; see the --max_alternate_alleles argument ", 
        "WARN  04:17:11,062 ExactAFCalculationModel - this tool is currently set to genotype at most 1 alternate alleles in a given context, but the context at mc1r_bac:109182 has 2 alternate alleles so only the top alleles will be used; see the --max_alternate_alleles argument "
       ]
      }, 
      {
       "output_type": "stream", 
       "stream": "stdout", 
       "text": [
        "WARN  04:17:11,126 ExactAFCalculationModel - this tool is currently set to genotype at most 1 alternate alleles in a given context, but the context at mc1r_bac:109657 has 2 alternate alleles so only the top alleles will be used; see the --max_alternate_alleles argument "
       ]
      }, 
      {
       "output_type": "stream", 
       "stream": "stdout", 
       "text": [
        "WARN  04:17:11,188 ExactAFCalculationModel - this tool is currently set to genotype at most 1 alternate alleles in a given context, but the context at mc1r_bac:109787 has 2 alternate alleles so only the top alleles will be used; see the --max_alternate_alleles argument "
       ]
      }, 
      {
       "output_type": "stream", 
       "stream": "stdout", 
       "text": [
        "WARN  04:17:11,225 ExactAFCalculationModel - this tool is currently set to genotype at most 1 alternate alleles in a given context, but the context at mc1r_bac:109891 has 2 alternate alleles so only the top alleles will be used; see the --max_alternate_alleles argument "
       ]
      }, 
      {
       "output_type": "stream", 
       "stream": "stdout", 
       "text": [
        "WARN  04:17:11,400 ExactAFCalculationModel - this tool is currently set to genotype at most 1 alternate alleles in a given context, but the context at mc1r_bac:110500 has 2 alternate alleles so only the top alleles will be used; see the --max_alternate_alleles argument ", 
        "WARN  04:17:11,407 ExactAFCalculationModel - this tool is currently set to genotype at most 1 alternate alleles in a given context, but the context at mc1r_bac:110517 has 2 alternate alleles so only the top alleles will be used; see the --max_alternate_alleles argument ", 
        "WARN  04:17:11,409 ExactAFCalculationModel - this tool is currently set to genotype at most 1 alternate alleles in a given context, but the context at mc1r_bac:110523 has 2 alternate alleles so only the top alleles will be used; see the --max_alternate_alleles argument "
       ]
      }, 
      {
       "output_type": "stream", 
       "stream": "stdout", 
       "text": [
        "INFO  04:17:11,438 TraversalEngine - mc1r_bac:110633        2.97e+05   60.2 s        3.4 m     85.9%        70.1 s     9.9 s "
       ]
      }, 
      {
       "output_type": "stream", 
       "stream": "stdout", 
       "text": [
        "WARN  04:17:11,543 ExactAFCalculationModel - this tool is currently set to genotype at most 1 alternate alleles in a given context, but the context at mc1r_bac:110962 has 2 alternate alleles so only the top alleles will be used; see the --max_alternate_alleles argument "
       ]
      }, 
      {
       "output_type": "stream", 
       "stream": "stdout", 
       "text": [
        "WARN  04:17:11,784 ExactAFCalculationModel - this tool is currently set to genotype at most 1 alternate alleles in a given context, but the context at mc1r_bac:112393 has 2 alternate alleles so only the top alleles will be used; see the --max_alternate_alleles argument "
       ]
      }, 
      {
       "output_type": "stream", 
       "stream": "stdout", 
       "text": [
        "WARN  04:17:11,937 ExactAFCalculationModel - this tool is currently set to genotype at most 1 alternate alleles in a given context, but the context at mc1r_bac:113535 has 2 alternate alleles so only the top alleles will be used; see the --max_alternate_alleles argument "
       ]
      }, 
      {
       "output_type": "stream", 
       "stream": "stdout", 
       "text": [
        "WARN  04:17:12,005 ExactAFCalculationModel - this tool is currently set to genotype at most 1 alternate alleles in a given context, but the context at mc1r_bac:115647 has 2 alternate alleles so only the top alleles will be used; see the --max_alternate_alleles argument "
       ]
      }, 
      {
       "output_type": "stream", 
       "stream": "stdout", 
       "text": [
        "WARN  04:17:12,028 ExactAFCalculationModel - this tool is currently set to genotype at most 1 alternate alleles in a given context, but the context at mc1r_bac:115658 has 2 alternate alleles so only the top alleles will be used; see the --max_alternate_alleles argument ", 
        "WARN  04:17:12,042 ExactAFCalculationModel - this tool is currently set to genotype at most 1 alternate alleles in a given context, but the context at mc1r_bac:115678 has 2 alternate alleles so only the top alleles will be used; see the --max_alternate_alleles argument "
       ]
      }, 
      {
       "output_type": "stream", 
       "stream": "stdout", 
       "text": [
        "WARN  04:17:12,069 ExactAFCalculationModel - this tool is currently set to genotype at most 1 alternate alleles in a given context, but the context at mc1r_bac:115777 has 2 alternate alleles so only the top alleles will be used; see the --max_alternate_alleles argument ", 
        "WARN  04:17:12,111 ExactAFCalculationModel - this tool is currently set to genotype at most 1 alternate alleles in a given context, but the context at mc1r_bac:115923 has 2 alternate alleles so only the top alleles will be used; see the --max_alternate_alleles argument "
       ]
      }, 
      {
       "output_type": "stream", 
       "stream": "stdout", 
       "text": [
        "WARN  04:17:12,201 ExactAFCalculationModel - this tool is currently set to genotype at most 1 alternate alleles in a given context, but the context at mc1r_bac:116287 has 2 alternate alleles so only the top alleles will be used; see the --max_alternate_alleles argument ", 
        "WARN  04:17:12,202 ExactAFCalculationModel - this tool is currently set to genotype at most 1 alternate alleles in a given context, but the context at mc1r_bac:116291 has 2 alternate alleles so only the top alleles will be used; see the --max_alternate_alleles argument "
       ]
      }, 
      {
       "output_type": "stream", 
       "stream": "stdout", 
       "text": [
        "WARN  04:17:12,237 ExactAFCalculationModel - this tool is currently set to genotype at most 1 alternate alleles in a given context, but the context at mc1r_bac:116418 has 2 alternate alleles so only the top alleles will be used; see the --max_alternate_alleles argument ", 
        "WARN  04:17:12,240 ExactAFCalculationModel - this tool is currently set to genotype at most 1 alternate alleles in a given context, but the context at mc1r_bac:116425 has 2 alternate alleles so only the top alleles will be used; see the --max_alternate_alleles argument ", 
        "WARN  04:17:12,261 ExactAFCalculationModel - this tool is currently set to genotype at most 1 alternate alleles in a given context, but the context at mc1r_bac:116503 has 2 alternate alleles so only the top alleles will be used; see the --max_alternate_alleles argument "
       ]
      }, 
      {
       "output_type": "stream", 
       "stream": "stdout", 
       "text": [
        "WARN  04:17:12,312 ExactAFCalculationModel - this tool is currently set to genotype at most 1 alternate alleles in a given context, but the context at mc1r_bac:116636 has 2 alternate alleles so only the top alleles will be used; see the --max_alternate_alleles argument "
       ]
      }, 
      {
       "output_type": "stream", 
       "stream": "stdout", 
       "text": [
        "WARN  04:17:12,358 ExactAFCalculationModel - this tool is currently set to genotype at most 1 alternate alleles in a given context, but the context at mc1r_bac:116793 has 2 alternate alleles so only the top alleles will be used; see the --max_alternate_alleles argument "
       ]
      }, 
      {
       "output_type": "stream", 
       "stream": "stdout", 
       "text": [
        "WARN  04:17:12,393 ExactAFCalculationModel - this tool is currently set to genotype at most 1 alternate alleles in a given context, but the context at mc1r_bac:116853 has 2 alternate alleles so only the top alleles will be used; see the --max_alternate_alleles argument ", 
        "WARN  04:17:12,410 ExactAFCalculationModel - this tool is currently set to genotype at most 1 alternate alleles in a given context, but the context at mc1r_bac:116914 has 2 alternate alleles so only the top alleles will be used; see the --max_alternate_alleles argument "
       ]
      }, 
      {
       "output_type": "stream", 
       "stream": "stdout", 
       "text": [
        "WARN  04:17:12,461 ExactAFCalculationModel - this tool is currently set to genotype at most 1 alternate alleles in a given context, but the context at mc1r_bac:117129 has 2 alternate alleles so only the top alleles will be used; see the --max_alternate_alleles argument "
       ]
      }, 
      {
       "output_type": "stream", 
       "stream": "stdout", 
       "text": [
        "WARN  04:17:12,557 ExactAFCalculationModel - this tool is currently set to genotype at most 1 alternate alleles in a given context, but the context at mc1r_bac:117472 has 2 alternate alleles so only the top alleles will be used; see the --max_alternate_alleles argument ", 
        "WARN  04:17:12,578 ExactAFCalculationModel - this tool is currently set to genotype at most 1 alternate alleles in a given context, but the context at mc1r_bac:117550 has 2 alternate alleles so only the top alleles will be used; see the --max_alternate_alleles argument ", 
        "WARN  04:17:12,580 ExactAFCalculationModel - this tool is currently set to genotype at most 1 alternate alleles in a given context, but the context at mc1r_bac:117554 has 3 alternate alleles so only the top alleles will be used; see the --max_alternate_alleles argument "
       ]
      }, 
      {
       "output_type": "stream", 
       "stream": "stdout", 
       "text": [
        "WARN  04:17:12,662 ExactAFCalculationModel - this tool is currently set to genotype at most 1 alternate alleles in a given context, but the context at mc1r_bac:117866 has 2 alternate alleles so only the top alleles will be used; see the --max_alternate_alleles argument ", 
        "WARN  04:17:12,663 ExactAFCalculationModel - this tool is currently set to genotype at most 1 alternate alleles in a given context, but the context at mc1r_bac:117873 has 2 alternate alleles so only the top alleles will be used; see the --max_alternate_alleles argument ", 
        "WARN  04:17:12,669 ExactAFCalculationModel - this tool is currently set to genotype at most 1 alternate alleles in a given context, but the context at mc1r_bac:117899 has 2 alternate alleles so only the top alleles will be used; see the --max_alternate_alleles argument "
       ]
      }, 
      {
       "output_type": "stream", 
       "stream": "stdout", 
       "text": [
        "WARN  04:17:12,765 ExactAFCalculationModel - this tool is currently set to genotype at most 1 alternate alleles in a given context, but the context at mc1r_bac:118233 has 2 alternate alleles so only the top alleles will be used; see the --max_alternate_alleles argument ", 
        "WARN  04:17:12,779 ExactAFCalculationModel - this tool is currently set to genotype at most 1 alternate alleles in a given context, but the context at mc1r_bac:118322 has 2 alternate alleles so only the top alleles will be used; see the --max_alternate_alleles argument "
       ]
      }, 
      {
       "output_type": "stream", 
       "stream": "stdout", 
       "text": [
        "WARN  04:17:12,793 ExactAFCalculationModel - this tool is currently set to genotype at most 1 alternate alleles in a given context, but the context at mc1r_bac:118377 has 2 alternate alleles so only the top alleles will be used; see the --max_alternate_alleles argument ", 
        "WARN  04:17:12,840 ExactAFCalculationModel - this tool is currently set to genotype at most 1 alternate alleles in a given context, but the context at mc1r_bac:118556 has 2 alternate alleles so only the top alleles will be used; see the --max_alternate_alleles argument "
       ]
      }, 
      {
       "output_type": "stream", 
       "stream": "stdout", 
       "text": [
        "WARN  04:17:12,856 ExactAFCalculationModel - this tool is currently set to genotype at most 1 alternate alleles in a given context, but the context at mc1r_bac:118621 has 2 alternate alleles so only the top alleles will be used; see the --max_alternate_alleles argument ", 
        "WARN  04:17:12,879 ExactAFCalculationModel - this tool is currently set to genotype at most 1 alternate alleles in a given context, but the context at mc1r_bac:118715 has 2 alternate alleles so only the top alleles will be used; see the --max_alternate_alleles argument "
       ]
      }, 
      {
       "output_type": "stream", 
       "stream": "stdout", 
       "text": [
        "WARN  04:17:12,925 ExactAFCalculationModel - this tool is currently set to genotype at most 1 alternate alleles in a given context, but the context at mc1r_bac:118874 has 2 alternate alleles so only the top alleles will be used; see the --max_alternate_alleles argument ", 
        "WARN  04:17:12,931 ExactAFCalculationModel - this tool is currently set to genotype at most 1 alternate alleles in a given context, but the context at mc1r_bac:118898 has 2 alternate alleles so only the top alleles will be used; see the --max_alternate_alleles argument "
       ]
      }, 
      {
       "output_type": "stream", 
       "stream": "stdout", 
       "text": [
        "WARN  04:17:13,018 ExactAFCalculationModel - this tool is currently set to genotype at most 1 alternate alleles in a given context, but the context at mc1r_bac:119254 has 2 alternate alleles so only the top alleles will be used; see the --max_alternate_alleles argument "
       ]
      }, 
      {
       "output_type": "stream", 
       "stream": "stdout", 
       "text": [
        "WARN  04:17:13,052 ExactAFCalculationModel - this tool is currently set to genotype at most 1 alternate alleles in a given context, but the context at mc1r_bac:119389 has 2 alternate alleles so only the top alleles will be used; see the --max_alternate_alleles argument ", 
        "WARN  04:17:13,092 ExactAFCalculationModel - this tool is currently set to genotype at most 1 alternate alleles in a given context, but the context at mc1r_bac:119408 has 2 alternate alleles so only the top alleles will be used; see the --max_alternate_alleles argument "
       ]
      }, 
      {
       "output_type": "stream", 
       "stream": "stdout", 
       "text": [
        "WARN  04:17:13,115 ExactAFCalculationModel - this tool is currently set to genotype at most 1 alternate alleles in a given context, but the context at mc1r_bac:119442 has 2 alternate alleles so only the top alleles will be used; see the --max_alternate_alleles argument ", 
        "WARN  04:17:13,146 ExactAFCalculationModel - this tool is currently set to genotype at most 1 alternate alleles in a given context, but the context at mc1r_bac:119554 has 2 alternate alleles so only the top alleles will be used; see the --max_alternate_alleles argument "
       ]
      }, 
      {
       "output_type": "stream", 
       "stream": "stdout", 
       "text": [
        "WARN  04:17:13,244 ExactAFCalculationModel - this tool is currently set to genotype at most 1 alternate alleles in a given context, but the context at mc1r_bac:119885 has 2 alternate alleles so only the top alleles will be used; see the --max_alternate_alleles argument "
       ]
      }, 
      {
       "output_type": "stream", 
       "stream": "stdout", 
       "text": [
        "WARN  04:17:13,268 ExactAFCalculationModel - this tool is currently set to genotype at most 1 alternate alleles in a given context, but the context at mc1r_bac:119945 has 2 alternate alleles so only the top alleles will be used; see the --max_alternate_alleles argument ", 
        "WARN  04:17:13,276 ExactAFCalculationModel - this tool is currently set to genotype at most 1 alternate alleles in a given context, but the context at mc1r_bac:119974 has 2 alternate alleles so only the top alleles will be used; see the --max_alternate_alleles argument ", 
        "WARN  04:17:13,293 ExactAFCalculationModel - this tool is currently set to genotype at most 1 alternate alleles in a given context, but the context at mc1r_bac:120054 has 2 alternate alleles so only the top alleles will be used; see the --max_alternate_alleles argument ", 
        "WARN  04:17:13,302 ExactAFCalculationModel - this tool is currently set to genotype at most 1 alternate alleles in a given context, but the context at mc1r_bac:120083 has 2 alternate alleles so only the top alleles will be used; see the --max_alternate_alleles argument "
       ]
      }, 
      {
       "output_type": "stream", 
       "stream": "stdout", 
       "text": [
        "WARN  04:17:13,360 ExactAFCalculationModel - this tool is currently set to genotype at most 1 alternate alleles in a given context, but the context at mc1r_bac:120292 has 2 alternate alleles so only the top alleles will be used; see the --max_alternate_alleles argument "
       ]
      }, 
      {
       "output_type": "stream", 
       "stream": "stdout", 
       "text": [
        "WARN  04:17:13,411 ExactAFCalculationModel - this tool is currently set to genotype at most 1 alternate alleles in a given context, but the context at mc1r_bac:120389 has 2 alternate alleles so only the top alleles will be used; see the --max_alternate_alleles argument "
       ]
      }, 
      {
       "output_type": "stream", 
       "stream": "stdout", 
       "text": [
        "WARN  04:17:13,450 ExactAFCalculationModel - this tool is currently set to genotype at most 1 alternate alleles in a given context, but the context at mc1r_bac:120505 has 2 alternate alleles so only the top alleles will be used; see the --max_alternate_alleles argument "
       ]
      }, 
      {
       "output_type": "stream", 
       "stream": "stdout", 
       "text": [
        "WARN  04:17:13,502 ExactAFCalculationModel - this tool is currently set to genotype at most 1 alternate alleles in a given context, but the context at mc1r_bac:120709 has 2 alternate alleles so only the top alleles will be used; see the --max_alternate_alleles argument "
       ]
      }, 
      {
       "output_type": "stream", 
       "stream": "stdout", 
       "text": [
        "WARN  04:17:13,528 ExactAFCalculationModel - this tool is currently set to genotype at most 1 alternate alleles in a given context, but the context at mc1r_bac:120800 has 2 alternate alleles so only the top alleles will be used; see the --max_alternate_alleles argument ", 
        "WARN  04:17:13,538 ExactAFCalculationModel - this tool is currently set to genotype at most 1 alternate alleles in a given context, but the context at mc1r_bac:120837 has 2 alternate alleles so only the top alleles will be used; see the --max_alternate_alleles argument "
       ]
      }, 
      {
       "output_type": "stream", 
       "stream": "stdout", 
       "text": [
        "WARN  04:17:13,620 ExactAFCalculationModel - this tool is currently set to genotype at most 1 alternate alleles in a given context, but the context at mc1r_bac:121120 has 2 alternate alleles so only the top alleles will be used; see the --max_alternate_alleles argument "
       ]
      }, 
      {
       "output_type": "stream", 
       "stream": "stdout", 
       "text": [
        "WARN  04:17:13,655 ExactAFCalculationModel - this tool is currently set to genotype at most 1 alternate alleles in a given context, but the context at mc1r_bac:121242 has 2 alternate alleles so only the top alleles will be used; see the --max_alternate_alleles argument "
       ]
      }, 
      {
       "output_type": "stream", 
       "stream": "stdout", 
       "text": [
        "WARN  04:17:13,786 ExactAFCalculationModel - this tool is currently set to genotype at most 1 alternate alleles in a given context, but the context at mc1r_bac:121647 has 2 alternate alleles so only the top alleles will be used; see the --max_alternate_alleles argument "
       ]
      }, 
      {
       "output_type": "stream", 
       "stream": "stdout", 
       "text": [
        "WARN  04:17:13,800 ExactAFCalculationModel - this tool is currently set to genotype at most 1 alternate alleles in a given context, but the context at mc1r_bac:121676 has 2 alternate alleles so only the top alleles will be used; see the --max_alternate_alleles argument ", 
        "WARN  04:17:13,823 ExactAFCalculationModel - this tool is currently set to genotype at most 1 alternate alleles in a given context, but the context at mc1r_bac:121769 has 2 alternate alleles so only the top alleles will be used; see the --max_alternate_alleles argument "
       ]
      }, 
      {
       "output_type": "stream", 
       "stream": "stdout", 
       "text": [
        "WARN  04:17:13,864 ExactAFCalculationModel - this tool is currently set to genotype at most 1 alternate alleles in a given context, but the context at mc1r_bac:121898 has 2 alternate alleles so only the top alleles will be used; see the --max_alternate_alleles argument "
       ]
      }, 
      {
       "output_type": "stream", 
       "stream": "stdout", 
       "text": [
        "WARN  04:17:13,967 ExactAFCalculationModel - this tool is currently set to genotype at most 1 alternate alleles in a given context, but the context at mc1r_bac:122266 has 2 alternate alleles so only the top alleles will be used; see the --max_alternate_alleles argument ", 
        "WARN  04:17:13,982 ExactAFCalculationModel - this tool is currently set to genotype at most 1 alternate alleles in a given context, but the context at mc1r_bac:122319 has 2 alternate alleles so only the top alleles will be used; see the --max_alternate_alleles argument "
       ]
      }, 
      {
       "output_type": "stream", 
       "stream": "stdout", 
       "text": [
        "WARN  04:17:14,093 ExactAFCalculationModel - this tool is currently set to genotype at most 1 alternate alleles in a given context, but the context at mc1r_bac:122742 has 2 alternate alleles so only the top alleles will be used; see the --max_alternate_alleles argument "
       ]
      }, 
      {
       "output_type": "stream", 
       "stream": "stdout", 
       "text": [
        "WARN  04:17:14,099 ExactAFCalculationModel - this tool is currently set to genotype at most 1 alternate alleles in a given context, but the context at mc1r_bac:122759 has 2 alternate alleles so only the top alleles will be used; see the --max_alternate_alleles argument "
       ]
      }, 
      {
       "output_type": "stream", 
       "stream": "stdout", 
       "text": [
        "WARN  04:17:14,177 ExactAFCalculationModel - this tool is currently set to genotype at most 1 alternate alleles in a given context, but the context at mc1r_bac:123047 has 2 alternate alleles so only the top alleles will be used; see the --max_alternate_alleles argument "
       ]
      }, 
      {
       "output_type": "stream", 
       "stream": "stdout", 
       "text": [
        "WARN  04:17:14,216 ExactAFCalculationModel - this tool is currently set to genotype at most 1 alternate alleles in a given context, but the context at mc1r_bac:123187 has 2 alternate alleles so only the top alleles will be used; see the --max_alternate_alleles argument "
       ]
      }, 
      {
       "output_type": "stream", 
       "stream": "stdout", 
       "text": [
        "WARN  04:17:14,284 ExactAFCalculationModel - this tool is currently set to genotype at most 1 alternate alleles in a given context, but the context at mc1r_bac:123415 has 2 alternate alleles so only the top alleles will be used; see the --max_alternate_alleles argument "
       ]
      }, 
      {
       "output_type": "stream", 
       "stream": "stdout", 
       "text": [
        "WARN  04:17:14,317 ExactAFCalculationModel - this tool is currently set to genotype at most 1 alternate alleles in a given context, but the context at mc1r_bac:123535 has 2 alternate alleles so only the top alleles will be used; see the --max_alternate_alleles argument ", 
        "WARN  04:17:14,329 ExactAFCalculationModel - this tool is currently set to genotype at most 1 alternate alleles in a given context, but the context at mc1r_bac:123589 has 2 alternate alleles so only the top alleles will be used; see the --max_alternate_alleles argument "
       ]
      }, 
      {
       "output_type": "stream", 
       "stream": "stdout", 
       "text": [
        "WARN  04:17:14,404 ExactAFCalculationModel - this tool is currently set to genotype at most 1 alternate alleles in a given context, but the context at mc1r_bac:123844 has 2 alternate alleles so only the top alleles will be used; see the --max_alternate_alleles argument "
       ]
      }, 
      {
       "output_type": "stream", 
       "stream": "stdout", 
       "text": [
        "WARN  04:17:14,460 ExactAFCalculationModel - this tool is currently set to genotype at most 1 alternate alleles in a given context, but the context at mc1r_bac:124229 has 2 alternate alleles so only the top alleles will be used; see the --max_alternate_alleles argument "
       ]
      }, 
      {
       "output_type": "stream", 
       "stream": "stdout", 
       "text": [
        "WARN  04:17:14,581 ExactAFCalculationModel - this tool is currently set to genotype at most 1 alternate alleles in a given context, but the context at mc1r_bac:124771 has 2 alternate alleles so only the top alleles will be used; see the --max_alternate_alleles argument ", 
        "WARN  04:17:14,613 ExactAFCalculationModel - this tool is currently set to genotype at most 1 alternate alleles in a given context, but the context at mc1r_bac:124884 has 2 alternate alleles so only the top alleles will be used; see the --max_alternate_alleles argument "
       ]
      }, 
      {
       "output_type": "stream", 
       "stream": "stdout", 
       "text": [
        "WARN  04:17:14,657 ExactAFCalculationModel - this tool is currently set to genotype at most 1 alternate alleles in a given context, but the context at mc1r_bac:125066 has 2 alternate alleles so only the top alleles will be used; see the --max_alternate_alleles argument "
       ]
      }, 
      {
       "output_type": "stream", 
       "stream": "stdout", 
       "text": [
        "WARN  04:17:14,700 ExactAFCalculationModel - this tool is currently set to genotype at most 1 alternate alleles in a given context, but the context at mc1r_bac:125247 has 2 alternate alleles so only the top alleles will be used; see the --max_alternate_alleles argument ", 
        "WARN  04:17:14,703 ExactAFCalculationModel - this tool is currently set to genotype at most 1 alternate alleles in a given context, but the context at mc1r_bac:125263 has 2 alternate alleles so only the top alleles will be used; see the --max_alternate_alleles argument "
       ]
      }, 
      {
       "output_type": "stream", 
       "stream": "stdout", 
       "text": [
        "WARN  04:17:14,727 ExactAFCalculationModel - this tool is currently set to genotype at most 1 alternate alleles in a given context, but the context at mc1r_bac:125345 has 2 alternate alleles so only the top alleles will be used; see the --max_alternate_alleles argument "
       ]
      }, 
      {
       "output_type": "stream", 
       "stream": "stdout", 
       "text": [
        "WARN  04:17:14,824 ExactAFCalculationModel - this tool is currently set to genotype at most 1 alternate alleles in a given context, but the context at mc1r_bac:126096 has 2 alternate alleles so only the top alleles will be used; see the --max_alternate_alleles argument "
       ]
      }, 
      {
       "output_type": "stream", 
       "stream": "stdout", 
       "text": [
        "WARN  04:17:14,892 ExactAFCalculationModel - this tool is currently set to genotype at most 1 alternate alleles in a given context, but the context at mc1r_bac:126396 has 2 alternate alleles so only the top alleles will be used; see the --max_alternate_alleles argument "
       ]
      }, 
      {
       "output_type": "stream", 
       "stream": "stdout", 
       "text": [
        "WARN  04:17:15,083 ExactAFCalculationModel - this tool is currently set to genotype at most 1 alternate alleles in a given context, but the context at mc1r_bac:127371 has 2 alternate alleles so only the top alleles will be used; see the --max_alternate_alleles argument ", 
        "WARN  04:17:15,095 ExactAFCalculationModel - this tool is currently set to genotype at most 1 alternate alleles in a given context, but the context at mc1r_bac:127419 has 2 alternate alleles so only the top alleles will be used; see the --max_alternate_alleles argument "
       ]
      }, 
      {
       "output_type": "stream", 
       "stream": "stdout", 
       "text": [
        "WARN  04:17:15,156 ExactAFCalculationModel - this tool is currently set to genotype at most 1 alternate alleles in a given context, but the context at mc1r_bac:127921 has 2 alternate alleles so only the top alleles will be used; see the --max_alternate_alleles argument "
       ]
      }, 
      {
       "output_type": "stream", 
       "stream": "stdout", 
       "text": [
        "WARN  04:17:15,204 ExactAFCalculationModel - this tool is currently set to genotype at most 1 alternate alleles in a given context, but the context at mc1r_bac:128092 has 2 alternate alleles so only the top alleles will be used; see the --max_alternate_alleles argument ", 
        "WARN  04:17:15,219 ExactAFCalculationModel - this tool is currently set to genotype at most 1 alternate alleles in a given context, but the context at mc1r_bac:128158 has 2 alternate alleles so only the top alleles will be used; see the --max_alternate_alleles argument "
       ]
      }, 
      {
       "output_type": "stream", 
       "stream": "stdout", 
       "text": [
        "WARN  04:17:15,518 ExactAFCalculationModel - this tool is currently set to genotype at most 1 alternate alleles in a given context, but the context at mc1r_bac:129628 has 2 alternate alleles so only the top alleles will be used; see the --max_alternate_alleles argument ", 
        "WARN  04:17:15,526 ExactAFCalculationModel - this tool is currently set to genotype at most 1 alternate alleles in a given context, but the context at mc1r_bac:129654 has 3 alternate alleles so only the top alleles will be used; see the --max_alternate_alleles argument "
       ]
      }, 
      {
       "output_type": "stream", 
       "stream": "stdout", 
       "text": [
        "WARN  04:17:15,581 ExactAFCalculationModel - this tool is currently set to genotype at most 1 alternate alleles in a given context, but the context at mc1r_bac:129856 has 2 alternate alleles so only the top alleles will be used; see the --max_alternate_alleles argument ", 
        "WARN  04:17:15,586 ExactAFCalculationModel - this tool is currently set to genotype at most 1 alternate alleles in a given context, but the context at mc1r_bac:129875 has 2 alternate alleles so only the top alleles will be used; see the --max_alternate_alleles argument "
       ]
      }, 
      {
       "output_type": "stream", 
       "stream": "stdout", 
       "text": [
        "WARN  04:17:15,599 ExactAFCalculationModel - this tool is currently set to genotype at most 1 alternate alleles in a given context, but the context at mc1r_bac:129920 has 2 alternate alleles so only the top alleles will be used; see the --max_alternate_alleles argument "
       ]
      }, 
      {
       "output_type": "stream", 
       "stream": "stdout", 
       "text": [
        "WARN  04:17:15,679 ExactAFCalculationModel - this tool is currently set to genotype at most 1 alternate alleles in a given context, but the context at mc1r_bac:130220 has 2 alternate alleles so only the top alleles will be used; see the --max_alternate_alleles argument ", 
        "WARN  04:17:15,690 ExactAFCalculationModel - this tool is currently set to genotype at most 1 alternate alleles in a given context, but the context at mc1r_bac:130267 has 2 alternate alleles so only the top alleles will be used; see the --max_alternate_alleles argument "
       ]
      }, 
      {
       "output_type": "stream", 
       "stream": "stdout", 
       "text": [
        "WARN  04:17:15,700 ExactAFCalculationModel - this tool is currently set to genotype at most 1 alternate alleles in a given context, but the context at mc1r_bac:130301 has 2 alternate alleles so only the top alleles will be used; see the --max_alternate_alleles argument ", 
        "WARN  04:17:15,719 ExactAFCalculationModel - this tool is currently set to genotype at most 1 alternate alleles in a given context, but the context at mc1r_bac:130374 has 2 alternate alleles so only the top alleles will be used; see the --max_alternate_alleles argument ", 
        "WARN  04:17:15,729 ExactAFCalculationModel - this tool is currently set to genotype at most 1 alternate alleles in a given context, but the context at mc1r_bac:130406 has 2 alternate alleles so only the top alleles will be used; see the --max_alternate_alleles argument "
       ]
      }, 
      {
       "output_type": "stream", 
       "stream": "stdout", 
       "text": [
        "WARN  04:17:15,770 ExactAFCalculationModel - this tool is currently set to genotype at most 1 alternate alleles in a given context, but the context at mc1r_bac:130543 has 2 alternate alleles so only the top alleles will be used; see the --max_alternate_alleles argument "
       ]
      }, 
      {
       "output_type": "stream", 
       "stream": "stdout", 
       "text": [
        "WARN  04:17:15,827 ExactAFCalculationModel - this tool is currently set to genotype at most 1 alternate alleles in a given context, but the context at mc1r_bac:130784 has 2 alternate alleles so only the top alleles will be used; see the --max_alternate_alleles argument ", 
        "WARN  04:17:15,830 ExactAFCalculationModel - this tool is currently set to genotype at most 1 alternate alleles in a given context, but the context at mc1r_bac:130797 has 2 alternate alleles so only the top alleles will be used; see the --max_alternate_alleles argument "
       ]
      }, 
      {
       "output_type": "stream", 
       "stream": "stdout", 
       "text": [
        "WARN  04:17:15,872 ExactAFCalculationModel - this tool is currently set to genotype at most 1 alternate alleles in a given context, but the context at mc1r_bac:130958 has 2 alternate alleles so only the top alleles will be used; see the --max_alternate_alleles argument "
       ]
      }, 
      {
       "output_type": "stream", 
       "stream": "stdout", 
       "text": [
        "WARN  04:17:16,026 ExactAFCalculationModel - this tool is currently set to genotype at most 1 alternate alleles in a given context, but the context at mc1r_bac:131586 has 2 alternate alleles so only the top alleles will be used; see the --max_alternate_alleles argument ", 
        "WARN  04:17:16,044 ExactAFCalculationModel - this tool is currently set to genotype at most 1 alternate alleles in a given context, but the context at mc1r_bac:131663 has 2 alternate alleles so only the top alleles will be used; see the --max_alternate_alleles argument "
       ]
      }, 
      {
       "output_type": "stream", 
       "stream": "stdout", 
       "text": [
        "WARN  04:17:16,065 ExactAFCalculationModel - this tool is currently set to genotype at most 1 alternate alleles in a given context, but the context at mc1r_bac:131735 has 2 alternate alleles so only the top alleles will be used; see the --max_alternate_alleles argument ", 
        "WARN  04:17:16,088 ExactAFCalculationModel - this tool is currently set to genotype at most 1 alternate alleles in a given context, but the context at mc1r_bac:131820 has 2 alternate alleles so only the top alleles will be used; see the --max_alternate_alleles argument "
       ]
      }, 
      {
       "output_type": "stream", 
       "stream": "stdout", 
       "text": [
        "WARN  04:17:16,140 ExactAFCalculationModel - this tool is currently set to genotype at most 1 alternate alleles in a given context, but the context at mc1r_bac:132033 has 2 alternate alleles so only the top alleles will be used; see the --max_alternate_alleles argument ", 
        "WARN  04:17:16,143 ExactAFCalculationModel - this tool is currently set to genotype at most 1 alternate alleles in a given context, but the context at mc1r_bac:132046 has 3 alternate alleles so only the top alleles will be used; see the --max_alternate_alleles argument "
       ]
      }, 
      {
       "output_type": "stream", 
       "stream": "stdout", 
       "text": [
        "WARN  04:17:16,250 ExactAFCalculationModel - this tool is currently set to genotype at most 1 alternate alleles in a given context, but the context at mc1r_bac:132462 has 2 alternate alleles so only the top alleles will be used; see the --max_alternate_alleles argument ", 
        "WARN  04:17:16,254 ExactAFCalculationModel - this tool is currently set to genotype at most 1 alternate alleles in a given context, but the context at mc1r_bac:132477 has 2 alternate alleles so only the top alleles will be used; see the --max_alternate_alleles argument "
       ]
      }, 
      {
       "output_type": "stream", 
       "stream": "stdout", 
       "text": [
        "WARN  04:17:16,316 ExactAFCalculationModel - this tool is currently set to genotype at most 1 alternate alleles in a given context, but the context at mc1r_bac:132729 has 2 alternate alleles so only the top alleles will be used; see the --max_alternate_alleles argument "
       ]
      }, 
      {
       "output_type": "stream", 
       "stream": "stdout", 
       "text": [
        "WARN  04:17:16,403 ExactAFCalculationModel - this tool is currently set to genotype at most 1 alternate alleles in a given context, but the context at mc1r_bac:133040 has 2 alternate alleles so only the top alleles will be used; see the --max_alternate_alleles argument "
       ]
      }, 
      {
       "output_type": "stream", 
       "stream": "stdout", 
       "text": [
        "WARN  04:17:16,508 ExactAFCalculationModel - this tool is currently set to genotype at most 1 alternate alleles in a given context, but the context at mc1r_bac:133419 has 2 alternate alleles so only the top alleles will be used; see the --max_alternate_alleles argument "
       ]
      }, 
      {
       "output_type": "stream", 
       "stream": "stdout", 
       "text": [
        "WARN  04:17:16,586 ExactAFCalculationModel - this tool is currently set to genotype at most 1 alternate alleles in a given context, but the context at mc1r_bac:133681 has 2 alternate alleles so only the top alleles will be used; see the --max_alternate_alleles argument ", 
        "WARN  04:17:16,603 ExactAFCalculationModel - this tool is currently set to genotype at most 1 alternate alleles in a given context, but the context at mc1r_bac:133728 has 2 alternate alleles so only the top alleles will be used; see the --max_alternate_alleles argument ", 
        "WARN  04:17:16,614 ExactAFCalculationModel - this tool is currently set to genotype at most 1 alternate alleles in a given context, but the context at mc1r_bac:133762 has 2 alternate alleles so only the top alleles will be used; see the --max_alternate_alleles argument "
       ]
      }, 
      {
       "output_type": "stream", 
       "stream": "stdout", 
       "text": [
        "WARN  04:17:16,660 ExactAFCalculationModel - this tool is currently set to genotype at most 1 alternate alleles in a given context, but the context at mc1r_bac:133935 has 2 alternate alleles so only the top alleles will be used; see the --max_alternate_alleles argument "
       ]
      }, 
      {
       "output_type": "stream", 
       "stream": "stdout", 
       "text": [
        "WARN  04:17:16,706 ExactAFCalculationModel - this tool is currently set to genotype at most 1 alternate alleles in a given context, but the context at mc1r_bac:134084 has 2 alternate alleles so only the top alleles will be used; see the --max_alternate_alleles argument "
       ]
      }, 
      {
       "output_type": "stream", 
       "stream": "stdout", 
       "text": [
        "WARN  04:17:16,852 ExactAFCalculationModel - this tool is currently set to genotype at most 1 alternate alleles in a given context, but the context at mc1r_bac:134524 has 2 alternate alleles so only the top alleles will be used; see the --max_alternate_alleles argument "
       ]
      }, 
      {
       "output_type": "stream", 
       "stream": "stdout", 
       "text": [
        "WARN  04:17:16,932 ExactAFCalculationModel - this tool is currently set to genotype at most 1 alternate alleles in a given context, but the context at mc1r_bac:134843 has 2 alternate alleles so only the top alleles will be used; see the --max_alternate_alleles argument "
       ]
      }, 
      {
       "output_type": "stream", 
       "stream": "stdout", 
       "text": [
        "WARN  04:17:16,997 ExactAFCalculationModel - this tool is currently set to genotype at most 1 alternate alleles in a given context, but the context at mc1r_bac:135090 has 2 alternate alleles so only the top alleles will be used; see the --max_alternate_alleles argument ", 
        "WARN  04:17:17,006 ExactAFCalculationModel - this tool is currently set to genotype at most 1 alternate alleles in a given context, but the context at mc1r_bac:135111 has 2 alternate alleles so only the top alleles will be used; see the --max_alternate_alleles argument "
       ]
      }, 
      {
       "output_type": "stream", 
       "stream": "stdout", 
       "text": [
        "WARN  04:17:17,072 ExactAFCalculationModel - this tool is currently set to genotype at most 1 alternate alleles in a given context, but the context at mc1r_bac:135309 has 2 alternate alleles so only the top alleles will be used; see the --max_alternate_alleles argument "
       ]
      }, 
      {
       "output_type": "stream", 
       "stream": "stdout", 
       "text": [
        "WARN  04:17:17,239 ExactAFCalculationModel - this tool is currently set to genotype at most 1 alternate alleles in a given context, but the context at mc1r_bac:136297 has 2 alternate alleles so only the top alleles will be used; see the --max_alternate_alleles argument ", 
        "WARN  04:17:17,240 ExactAFCalculationModel - this tool is currently set to genotype at most 1 alternate alleles in a given context, but the context at mc1r_bac:136303 has 2 alternate alleles so only the top alleles will be used; see the --max_alternate_alleles argument "
       ]
      }, 
      {
       "output_type": "stream", 
       "stream": "stdout", 
       "text": [
        "WARN  04:17:17,310 ExactAFCalculationModel - this tool is currently set to genotype at most 1 alternate alleles in a given context, but the context at mc1r_bac:136574 has 2 alternate alleles so only the top alleles will be used; see the --max_alternate_alleles argument ", 
        "WARN  04:17:17,331 ExactAFCalculationModel - this tool is currently set to genotype at most 1 alternate alleles in a given context, but the context at mc1r_bac:136655 has 2 alternate alleles so only the top alleles will be used; see the --max_alternate_alleles argument "
       ]
      }, 
      {
       "output_type": "stream", 
       "stream": "stdout", 
       "text": [
        "WARN  04:17:17,421 ExactAFCalculationModel - this tool is currently set to genotype at most 1 alternate alleles in a given context, but the context at mc1r_bac:137029 has 2 alternate alleles so only the top alleles will be used; see the --max_alternate_alleles argument ", 
        "WARN  04:17:17,451 ExactAFCalculationModel - this tool is currently set to genotype at most 1 alternate alleles in a given context, but the context at mc1r_bac:137422 has 2 alternate alleles so only the top alleles will be used; see the --max_alternate_alleles argument ", 
        "WARN  04:17:17,455 ExactAFCalculationModel - this tool is currently set to genotype at most 1 alternate alleles in a given context, but the context at mc1r_bac:137441 has 2 alternate alleles so only the top alleles will be used; see the --max_alternate_alleles argument "
       ]
      }, 
      {
       "output_type": "stream", 
       "stream": "stdout", 
       "text": [
        "WARN  04:17:17,588 ExactAFCalculationModel - this tool is currently set to genotype at most 1 alternate alleles in a given context, but the context at mc1r_bac:137996 has 2 alternate alleles so only the top alleles will be used; see the --max_alternate_alleles argument "
       ]
      }, 
      {
       "output_type": "stream", 
       "stream": "stdout", 
       "text": [
        "WARN  04:17:17,621 ExactAFCalculationModel - this tool is currently set to genotype at most 1 alternate alleles in a given context, but the context at mc1r_bac:138121 has 2 alternate alleles so only the top alleles will be used; see the --max_alternate_alleles argument ", 
        "WARN  04:17:17,631 ExactAFCalculationModel - this tool is currently set to genotype at most 1 alternate alleles in a given context, but the context at mc1r_bac:138158 has 2 alternate alleles so only the top alleles will be used; see the --max_alternate_alleles argument ", 
        "WARN  04:17:17,656 ExactAFCalculationModel - this tool is currently set to genotype at most 1 alternate alleles in a given context, but the context at mc1r_bac:138281 has 2 alternate alleles so only the top alleles will be used; see the --max_alternate_alleles argument "
       ]
      }, 
      {
       "output_type": "stream", 
       "stream": "stdout", 
       "text": [
        "WARN  04:17:17,828 ExactAFCalculationModel - this tool is currently set to genotype at most 1 alternate alleles in a given context, but the context at mc1r_bac:139162 has 2 alternate alleles so only the top alleles will be used; see the --max_alternate_alleles argument "
       ]
      }, 
      {
       "output_type": "stream", 
       "stream": "stdout", 
       "text": [
        "WARN  04:17:17,875 ExactAFCalculationModel - this tool is currently set to genotype at most 1 alternate alleles in a given context, but the context at mc1r_bac:139842 has 2 alternate alleles so only the top alleles will be used; see the --max_alternate_alleles argument ", 
        "WARN  04:17:17,898 ExactAFCalculationModel - this tool is currently set to genotype at most 1 alternate alleles in a given context, but the context at mc1r_bac:140114 has 2 alternate alleles so only the top alleles will be used; see the --max_alternate_alleles argument "
       ]
      }, 
      {
       "output_type": "stream", 
       "stream": "stdout", 
       "text": [
        "WARN  04:17:18,035 ExactAFCalculationModel - this tool is currently set to genotype at most 1 alternate alleles in a given context, but the context at mc1r_bac:140661 has 2 alternate alleles so only the top alleles will be used; see the --max_alternate_alleles argument ", 
        "WARN  04:17:18,069 ExactAFCalculationModel - this tool is currently set to genotype at most 1 alternate alleles in a given context, but the context at mc1r_bac:140802 has 2 alternate alleles so only the top alleles will be used; see the --max_alternate_alleles argument ", 
        "WARN  04:17:18,078 ExactAFCalculationModel - this tool is currently set to genotype at most 1 alternate alleles in a given context, but the context at mc1r_bac:140836 has 2 alternate alleles so only the top alleles will be used; see the --max_alternate_alleles argument "
       ]
      }, 
      {
       "output_type": "stream", 
       "stream": "stdout", 
       "text": [
        "WARN  04:17:18,113 ExactAFCalculationModel - this tool is currently set to genotype at most 1 alternate alleles in a given context, but the context at mc1r_bac:140971 has 2 alternate alleles so only the top alleles will be used; see the --max_alternate_alleles argument ", 
        "WARN  04:17:18,120 ExactAFCalculationModel - this tool is currently set to genotype at most 1 alternate alleles in a given context, but the context at mc1r_bac:140999 has 2 alternate alleles so only the top alleles will be used; see the --max_alternate_alleles argument "
       ]
      }, 
      {
       "output_type": "stream", 
       "stream": "stdout", 
       "text": [
        "WARN  04:17:18,204 ExactAFCalculationModel - this tool is currently set to genotype at most 1 alternate alleles in a given context, but the context at mc1r_bac:141312 has 2 alternate alleles so only the top alleles will be used; see the --max_alternate_alleles argument ", 
        "WARN  04:17:18,214 ExactAFCalculationModel - this tool is currently set to genotype at most 1 alternate alleles in a given context, but the context at mc1r_bac:141354 has 2 alternate alleles so only the top alleles will be used; see the --max_alternate_alleles argument "
       ]
      }, 
      {
       "output_type": "stream", 
       "stream": "stdout", 
       "text": [
        "WARN  04:17:18,292 ExactAFCalculationModel - this tool is currently set to genotype at most 1 alternate alleles in a given context, but the context at mc1r_bac:141750 has 2 alternate alleles so only the top alleles will be used; see the --max_alternate_alleles argument "
       ]
      }, 
      {
       "output_type": "stream", 
       "stream": "stdout", 
       "text": [
        "WARN  04:17:18,454 ExactAFCalculationModel - this tool is currently set to genotype at most 1 alternate alleles in a given context, but the context at mc1r_bac:142782 has 2 alternate alleles so only the top alleles will be used; see the --max_alternate_alleles argument ", 
        "WARN  04:17:18,467 ExactAFCalculationModel - this tool is currently set to genotype at most 1 alternate alleles in a given context, but the context at mc1r_bac:142834 has 2 alternate alleles so only the top alleles will be used; see the --max_alternate_alleles argument ", 
        "WARN  04:17:18,483 ExactAFCalculationModel - this tool is currently set to genotype at most 1 alternate alleles in a given context, but the context at mc1r_bac:142892 has 2 alternate alleles so only the top alleles will be used; see the --max_alternate_alleles argument "
       ]
      }, 
      {
       "output_type": "stream", 
       "stream": "stdout", 
       "text": [
        "WARN  04:17:18,971 ExactAFCalculationModel - this tool is currently set to genotype at most 1 alternate alleles in a given context, but the context at mc1r_bac:147782 has 2 alternate alleles so only the top alleles will be used; see the --max_alternate_alleles argument ", 
        "WARN  04:17:18,988 ExactAFCalculationModel - this tool is currently set to genotype at most 1 alternate alleles in a given context, but the context at mc1r_bac:147897 has 2 alternate alleles so only the top alleles will be used; see the --max_alternate_alleles argument "
       ]
      }, 
      {
       "output_type": "stream", 
       "stream": "stdout", 
       "text": [
        "WARN  04:17:19,151 ExactAFCalculationModel - this tool is currently set to genotype at most 1 alternate alleles in a given context, but the context at mc1r_bac:149032 has 2 alternate alleles so only the top alleles will be used; see the --max_alternate_alleles argument "
       ]
      }, 
      {
       "output_type": "stream", 
       "stream": "stdout", 
       "text": [
        "WARN  04:17:19,197 ExactAFCalculationModel - this tool is currently set to genotype at most 1 alternate alleles in a given context, but the context at mc1r_bac:149206 has 2 alternate alleles so only the top alleles will be used; see the --max_alternate_alleles argument "
       ]
      }, 
      {
       "output_type": "stream", 
       "stream": "stdout", 
       "text": [
        "WARN  04:17:19,228 ExactAFCalculationModel - this tool is currently set to genotype at most 1 alternate alleles in a given context, but the context at mc1r_bac:149319 has 2 alternate alleles so only the top alleles will be used; see the --max_alternate_alleles argument "
       ]
      }, 
      {
       "output_type": "stream", 
       "stream": "stdout", 
       "text": [
        "WARN  04:17:19,281 ExactAFCalculationModel - this tool is currently set to genotype at most 1 alternate alleles in a given context, but the context at mc1r_bac:149445 has 2 alternate alleles so only the top alleles will be used; see the --max_alternate_alleles argument "
       ]
      }, 
      {
       "output_type": "stream", 
       "stream": "stdout", 
       "text": [
        "WARN  04:17:19,320 ExactAFCalculationModel - this tool is currently set to genotype at most 1 alternate alleles in a given context, but the context at mc1r_bac:149587 has 2 alternate alleles so only the top alleles will be used; see the --max_alternate_alleles argument ", 
        "WARN  04:17:19,338 ExactAFCalculationModel - this tool is currently set to genotype at most 1 alternate alleles in a given context, but the context at mc1r_bac:149644 has 2 alternate alleles so only the top alleles will be used; see the --max_alternate_alleles argument "
       ]
      }, 
      {
       "output_type": "stream", 
       "stream": "stdout", 
       "text": [
        "WARN  04:17:19,436 ExactAFCalculationModel - this tool is currently set to genotype at most 1 alternate alleles in a given context, but the context at mc1r_bac:150147 has 2 alternate alleles so only the top alleles will be used; see the --max_alternate_alleles argument "
       ]
      }, 
      {
       "output_type": "stream", 
       "stream": "stdout", 
       "text": [
        "WARN  04:17:19,480 ExactAFCalculationModel - this tool is currently set to genotype at most 1 alternate alleles in a given context, but the context at mc1r_bac:150294 has 2 alternate alleles so only the top alleles will be used; see the --max_alternate_alleles argument ", 
        "WARN  04:17:19,494 ExactAFCalculationModel - this tool is currently set to genotype at most 1 alternate alleles in a given context, but the context at mc1r_bac:150342 has 2 alternate alleles so only the top alleles will be used; see the --max_alternate_alleles argument "
       ]
      }, 
      {
       "output_type": "stream", 
       "stream": "stdout", 
       "text": [
        "WARN  04:17:19,524 ExactAFCalculationModel - this tool is currently set to genotype at most 1 alternate alleles in a given context, but the context at mc1r_bac:150437 has 2 alternate alleles so only the top alleles will be used; see the --max_alternate_alleles argument "
       ]
      }, 
      {
       "output_type": "stream", 
       "stream": "stdout", 
       "text": [
        "WARN  04:17:19,697 ExactAFCalculationModel - this tool is currently set to genotype at most 1 alternate alleles in a given context, but the context at mc1r_bac:151009 has 2 alternate alleles so only the top alleles will be used; see the --max_alternate_alleles argument ", 
        "WARN  04:17:19,721 ExactAFCalculationModel - this tool is currently set to genotype at most 1 alternate alleles in a given context, but the context at mc1r_bac:151255 has 2 alternate alleles so only the top alleles will be used; see the --max_alternate_alleles argument "
       ]
      }, 
      {
       "output_type": "stream", 
       "stream": "stdout", 
       "text": [
        "WARN  04:17:19,746 ExactAFCalculationModel - this tool is currently set to genotype at most 1 alternate alleles in a given context, but the context at mc1r_bac:151347 has 2 alternate alleles so only the top alleles will be used; see the --max_alternate_alleles argument ", 
        "WARN  04:17:19,766 ExactAFCalculationModel - this tool is currently set to genotype at most 1 alternate alleles in a given context, but the context at mc1r_bac:152632 has 2 alternate alleles so only the top alleles will be used; see the --max_alternate_alleles argument "
       ]
      }, 
      {
       "output_type": "stream", 
       "stream": "stdout", 
       "text": [
        "WARN  04:17:19,812 ExactAFCalculationModel - this tool is currently set to genotype at most 1 alternate alleles in a given context, but the context at mc1r_bac:154064 has 2 alternate alleles so only the top alleles will be used; see the --max_alternate_alleles argument "
       ]
      }, 
      {
       "output_type": "stream", 
       "stream": "stdout", 
       "text": [
        "WARN  04:17:19,895 ExactAFCalculationModel - this tool is currently set to genotype at most 1 alternate alleles in a given context, but the context at mc1r_bac:155177 has 3 alternate alleles so only the top alleles will be used; see the --max_alternate_alleles argument "
       ]
      }, 
      {
       "output_type": "stream", 
       "stream": "stdout", 
       "text": [
        "WARN  04:17:20,063 ExactAFCalculationModel - this tool is currently set to genotype at most 1 alternate alleles in a given context, but the context at mc1r_bac:155618 has 2 alternate alleles so only the top alleles will be used; see the --max_alternate_alleles argument ", 
        "WARN  04:17:20,065 ExactAFCalculationModel - this tool is currently set to genotype at most 1 alternate alleles in a given context, but the context at mc1r_bac:155621 has 2 alternate alleles so only the top alleles will be used; see the --max_alternate_alleles argument "
       ]
      }, 
      {
       "output_type": "stream", 
       "stream": "stdout", 
       "text": [
        "WARN  04:17:20,148 ExactAFCalculationModel - this tool is currently set to genotype at most 1 alternate alleles in a given context, but the context at mc1r_bac:155970 has 2 alternate alleles so only the top alleles will be used; see the --max_alternate_alleles argument "
       ]
      }, 
      {
       "output_type": "stream", 
       "stream": "stdout", 
       "text": [
        "WARN  04:17:20,215 ExactAFCalculationModel - this tool is currently set to genotype at most 1 alternate alleles in a given context, but the context at mc1r_bac:156243 has 2 alternate alleles so only the top alleles will be used; see the --max_alternate_alleles argument "
       ]
      }, 
      {
       "output_type": "stream", 
       "stream": "stdout", 
       "text": [
        "WARN  04:17:20,307 ExactAFCalculationModel - this tool is currently set to genotype at most 1 alternate alleles in a given context, but the context at mc1r_bac:157267 has 2 alternate alleles so only the top alleles will be used; see the --max_alternate_alleles argument "
       ]
      }, 
      {
       "output_type": "stream", 
       "stream": "stdout", 
       "text": [
        "WARN  04:17:20,539 ExactAFCalculationModel - this tool is currently set to genotype at most 1 alternate alleles in a given context, but the context at mc1r_bac:158240 has 2 alternate alleles so only the top alleles will be used; see the --max_alternate_alleles argument "
       ]
      }, 
      {
       "output_type": "stream", 
       "stream": "stdout", 
       "text": [
        "WARN  04:17:20,618 ExactAFCalculationModel - this tool is currently set to genotype at most 1 alternate alleles in a given context, but the context at mc1r_bac:158572 has 2 alternate alleles so only the top alleles will be used; see the --max_alternate_alleles argument "
       ]
      }, 
      {
       "output_type": "stream", 
       "stream": "stdout", 
       "text": [
        "INFO  04:17:20,792 TraversalEngine - Total runtime 69.57 secs, 1.16 min, 0.02 hours ", 
        "INFO  04:17:20,792 TraversalEngine - 8412 reads were filtered out during traversal out of 158595 total (5.30%) ", 
        "INFO  04:17:20,792 TraversalEngine -   -> 8412 reads (5.30% of total) failing UnmappedReadFilter "
       ]
      }, 
      {
       "output_type": "stream", 
       "stream": "stdout", 
       "text": [
        "INFO  04:17:23,136 GATKRunReport - Uploaded run statistics report to AWS S3 "
       ]
      }
     ], 
     "prompt_number": 251
    }, 
    {
     "cell_type": "code", 
     "collapsed": false, 
     "input": [
      "afli = map(float,re.findall('AF=([\\d\\.]+)',open(vcf).read()))", 
      "len(afli)"
     ], 
     "language": "python", 
     "outputs": [
      {
       "output_type": "pyout", 
       "prompt_number": 252, 
       "text": [
        "198424"
       ]
      }
     ], 
     "prompt_number": 252
    }, 
    {
     "cell_type": "code", 
     "collapsed": false, 
     "input": [
      "hist(array(afli)*num_haplo,bins=range(1,num_haplo+1))", 
      "figure(2)", 
      "h,b = histogram(array(afli)*num_haplo,bins=range(0,num_haplo+1))", 
      "plot(b[1:-1],(array(h,dtype=float)/sum(h))[1:],'--r')", 
      "plot(b[1:-1],sfs[1:],'g')"
     ], 
     "language": "python", 
     "outputs": [
      {
       "output_type": "pyout", 
       "prompt_number": 253, 
       "text": [
        "[<matplotlib.lines.Line2D at 0x10ff7e4d0>]"
       ]
      }, 
      {
       "output_type": "display_data", 
       "png": "[encoded data removed]"
      }, 
      {
       "output_type": "display_data", 
       "png": "[encoded data removed]"
      }
     ], 
     "prompt_number": 253
    }, 
    {
     "cell_type": "code", 
     "collapsed": false, 
     "input": [
      "h,b = histogram(array(afli)*num_haplo,bins=range(0,num_haplo+1))", 
      "plot(array(h,dtype=float)/sum(h),'--r')", 
      "plot(sfs,'g')", 
      "", 
      "ax = figure(1).axes[0]", 
      "ax.set_yscale('log')"
     ], 
     "language": "python", 
     "outputs": [
      {
       "output_type": "display_data", 
       "png": "[encoded data removed]"
      }
     ], 
     "prompt_number": 254
    }, 
    {
     "cell_type": "code", 
     "collapsed": false, 
     "input": [
      "rare = round(num_haplo*0.05)", 
      "common = round(num_haplo*0.1)", 
      "print rare,common", 
      "print sum(sfs[1:rare+1])/sum(sfs[common:])", 
      "print sum((array(h,dtype=float)/sum(h))[1:rare+1])/sum((array(h,dtype=float)/sum(h))[common:])"
     ], 
     "language": "python", 
     "outputs": [
      {
       "output_type": "stream", 
       "stream": "stdout", 
       "text": [
        "1.0"
       ]
      }, 
      {
       "output_type": "stream", 
       "stream": "stdout", 
       "text": [
        " 2.0", 
        "1.17351598174", 
        "0.869126043039"
       ]
      }
     ], 
     "prompt_number": 255
    }, 
    {
     "cell_type": "code", 
     "collapsed": true, 
     "input": [], 
     "language": "python", 
     "outputs": []
    }
   ]
  }
 ]
}