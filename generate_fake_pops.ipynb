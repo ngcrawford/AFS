{
 "metadata": {
  "name": "generate_fake_pops"
 }, 
 "nbformat": 2, 
 "worksheets": [
  {
   "cells": [
    {
     "cell_type": "code", 
     "collapsed": false, 
     "input": [
      "num_haplo = 20", 
      "pct_var = 5", 
      "target_cov = 8", 
      "outdir = os.path.expanduser('~/code/AFS/sim-%shaplos_exp-dist_theta%0.2f_%sxCov/' % (num_haplo,pct_var/100.0,target_cov))", 
      "print outdir"
     ], 
     "language": "python", 
     "outputs": [
      {
       "output_type": "stream", 
       "stream": "stdout", 
       "text": [
        "/Users/brant/code/AFS/sim-20haplos_exp-dist_theta0.05_8xCov/"
       ]
      }
     ], 
     "prompt_number": 241
    }, 
    {
     "cell_type": "code", 
     "collapsed": true, 
     "input": [
      "import re,os", 
      "from glob import glob"
     ], 
     "language": "python", 
     "outputs": [], 
     "prompt_number": 242
    }, 
    {
     "cell_type": "code", 
     "collapsed": false, 
     "input": [
      "f = 'agouti-mc1r.fa'", 
      "seqd = dict([(seqid,sequence.replace('\\n','').upper()) for seqid,sequence in re.findall('>(.+?)\\n([\\w\\n]+)',open(f).read())])"
     ], 
     "language": "python", 
     "outputs": [], 
     "prompt_number": 243
    }, 
    {
     "cell_type": "code", 
     "collapsed": false, 
     "input": [
      "[(k,len(v)) for k,v in seqd.items()]"
     ], 
     "language": "python", 
     "outputs": [
      {
       "output_type": "pyout", 
       "prompt_number": 244, 
       "text": [
        "[('agouti_bac', 186368), ('mc1r_bac', 159283)]"
       ]
      }
     ], 
     "prompt_number": 244
    }, 
    {
     "cell_type": "code", 
     "collapsed": false, 
     "input": [
      "e_dist = numpy.random.exponential(scale=num_haplo/20,size=100*num_haplo)", 
      "h,b,p = hist(e_dist,bins=range(num_haplo))"
     ], 
     "language": "python", 
     "outputs": [
      {
       "output_type": "display_data", 
       "png": "[encoded data removed]"
      }
     ], 
     "prompt_number": 245
    }, 
    {
     "cell_type": "code", 
     "collapsed": false, 
     "input": [
      "pad_h = h+20", 
      "invar = (100.0-pct_var)/pct_var", 
      "sfs = [sum(pad_h)*invar] + list(pad_h)", 
      "sfs = array(sfs)/sum(sfs)", 
      "csfs = cumsum(sfs)", 
      "print sum(sfs[1:])/float(sfs[0]), len(sfs)", 
      "plot(sfs)", 
      "ax = figure(1).axes[0]", 
      "ax.set_yscale('log')", 
      "#print sfs"
     ], 
     "language": "python", 
     "outputs": [
      {
       "output_type": "stream", 
       "stream": "stdout", 
       "text": [
        "0.0526315789474 20"
       ]
      }, 
      {
       "output_type": "display_data", 
       "png": "[encoded data removed]"
      }
     ], 
     "prompt_number": 246
    }, 
    {
     "cell_type": "code", 
     "collapsed": false, 
     "input": [
      "simseq = {}", 
      "for i in range(len(csfs)):", 
      "    simseq[i] = {}", 
      "for sn,ss in seqd.items():", 
      "    for i in range(len(csfs)):", 
      "        simseq[i][sn] = []", 
      "    for c,nvar in zip(ss,[[i for i in range(len(csfs)) if n<csfs[i]][0] for n in numpy.random.random_sample(size=len(ss))]):", 
      "        if nvar == 0:", 
      "            for i in range(len(csfs)):", 
      "                simseq[i][sn].append(c)", 
      "        else:", 
      "            alt = numpy.random.permutation(list(set('ACGT')-set(c)))[0]", 
      "            this_ord = numpy.random.permutation(len(csfs))", 
      "            for i in this_ord[:nvar]:", 
      "                simseq[i][sn].append(alt)", 
      "            for i in this_ord[nvar:]:", 
      "                simseq[i][sn].append(c)", 
      "", 
      "for i in range(len(csfs)):", 
      "    for sn in simseq[i].keys():", 
      "        simseq[i][sn] = ''.join(simseq[i][sn])"
     ], 
     "language": "python", 
     "outputs": [], 
     "prompt_number": 247
    }, 
    {
     "cell_type": "code", 
     "collapsed": false, 
     "input": [
      "try:", 
      "    os.makedirs(outdir)", 
      "except:", 
      "    pass", 
      "for ind,simseqd in simseq.items():", 
      "    outf = open(outdir+'hap%s_agouti-mc1r.fa' % ind,'w')", 
      "    for sn,ss in simseqd.items():", 
      "        outf.write('>%s\\n%s\\n' % (sn,ss))", 
      "    outf.close()"
     ], 
     "language": "python", 
     "outputs": [], 
     "prompt_number": 248
    }, 
    {
     "cell_type": "code", 
     "collapsed": false, 
     "input": [
      "num_ind = num_haplo/2", 
      "tot_seq = sum(map(len,seqd.values()))", 
      "# number of bases generated per haplo / bp per read-pair", 
      "nreads = int((tot_seq*target_cov/2.0) / 200)", 
      "print 'target coverage %s; reads per haplotype %s' % (target_cov,nreads)", 
      "try:", 
      "    os.makedirs(outdir+'sim-reads/')", 
      "except:", 
      "    pass", 
      "ind_haplos = reduce(lambda x,y:x+y, [[outdir+'sim-reads/sim%sa' % i,outdir+'sim-reads/sim%sb'% i] for i in range(1,num_ind+1)])", 
      "cmds = []", 
      "map_reference = os.path.expanduser('~/code/AFS/agouti-mc1r.masked.fasta')", 
      "for read_prefix, source_reference in zip(ind_haplos,numpy.random.permutation(glob(outdir+'hap*_agouti-mc1r.fa'))):", 
      "    cmds.append('simulate_and_map.py %s %s %s %s %s %s.vcf' % (read_prefix,os.path.basename(read_prefix)[:-1],source_reference,map_reference,nreads,read_prefix))", 
      "len(cmds)"
     ], 
     "language": "python", 
     "outputs": [
      {
       "output_type": "stream", 
       "stream": "stdout", 
       "text": [
        "target coverage 8; reads per haplotype 6913"
       ]
      }, 
      {
       "output_type": "pyout", 
       "prompt_number": 249, 
       "text": [
        "20"
       ]
      }
     ], 
     "prompt_number": 249
    }, 
    {
     "cell_type": "code", 
     "collapsed": false, 
     "input": [
      "for cmd in cmds:", 
      "    !$cmd"
     ], 
     "language": "python", 
     "outputs": [
      {
       "output_type": "stream", 
       "stream": "stdout", 
       "text": [
        "[Tue Jul 24 04:12:18 EDT 2012] net.sf.picard.sam.CreateSequenceDictionary REFERENCE=/Users/brant/code/AFS/sim-20haplos_exp-dist_theta0.05_8xCov/hap4_agouti-mc1r.fa OUTPUT=/Users/brant/code/AFS/sim-20haplos_exp-dist_theta0.05_8xCov/hap4_agouti-mc1r.dict    TRUNCATE_NAMES_AT_WHITESPACE=true NUM_SEQUENCES=2147483647 VERBOSITY=INFO QUIET=false VALIDATION_STRINGENCY=STRICT COMPRESSION_LEVEL=5 MAX_RECORDS_IN_RAM=500000 CREATE_INDEX=false CREATE_MD5_FILE=false", 
        "[Tue Jul 24 04:12:18 EDT 2012] Executing as brant@gottuminum.local on Mac OS X 10.7.4 x86_64; Java HotSpot(TM) 64-Bit Server VM 1.6.0_33-b03-424-11M3720; Picard version: 1.73(1234)"
       ]
      }, 
      {
       "output_type": "stream", 
       "stream": "stdout", 
       "text": [
        "[Tue Jul 24 04:12:18 EDT 2012] net.sf.picard.sam.CreateSequenceDictionary done. Elapsed time: 0.00 minutes.", 
        "Runtime.totalMemory()=85000192", 
        "[samopen] SAM header is present: 2 sequences."
       ]
      }, 
      {
       "output_type": "stream", 
       "stream": "stdout", 
       "text": [
        "[Tue Jul 24 04:12:19 EDT 2012] net.sf.picard.sam.SamToFastq INPUT=/Users/brant/code/AFS/sim-20haplos_exp-dist_theta0.05_8xCov/sim-reads/sim1a-simreads.sorted.bam FASTQ=/Users/brant/code/AFS/sim-20haplos_exp-dist_theta0.05_8xCov/sim-reads/sim1a_s_1_1_sequence.txt SECOND_END_FASTQ=/Users/brant/code/AFS/sim-20haplos_exp-dist_theta0.05_8xCov/sim-reads/sim1a_s_1_2_sequence.txt INCLUDE_NON_PF_READS=true VALIDATION_STRINGENCY=SILENT    OUTPUT_PER_RG=false RE_REVERSE=true READ1_TRIM=0 READ2_TRIM=0 INCLUDE_NON_PRIMARY_ALIGNMENTS=false VERBOSITY=INFO QUIET=false COMPRESSION_LEVEL=5 MAX_RECORDS_IN_RAM=500000 CREATE_INDEX=false CREATE_MD5_FILE=false", 
        "[Tue Jul 24 04:12:19 EDT 2012] Executing as brant@gottuminum.local on Mac OS X 10.7.4 x86_64; Java HotSpot(TM) 64-Bit Server VM 1.6.0_33-b03-424-11M3720; Picard version: 1.73(1234)"
       ]
      }, 
      {
       "output_type": "stream", 
       "stream": "stdout", 
       "text": [
        "[Tue Jul 24 04:12:21 EDT 2012] net.sf.picard.sam.SamToFastq done. Elapsed time: 0.03 minutes.", 
        "Runtime.totalMemory()=85000192", 
        "", 
        "/Users/brant/code/AFS/sim-20haplos_exp-dist_theta0.05_8xCov/sim-reads/sim1a_s_1_1_sequence.txt /Users/brant/code/AFS/sim-20haplos_exp-dist_theta0.05_8xCov/sim-reads/sim1a_s_1_2_sequence.txt created", 
        "[bwa_index] Pack FASTA... "
       ]
      }, 
      {
       "output_type": "stream", 
       "stream": "stdout", 
       "text": [
        "0.01 sec", 
        "[bwa_index] Construct BWT for the packed sequence..."
       ]
      }, 
      {
       "output_type": "stream", 
       "stream": "stdout", 
       "text": [
        "[bwa_index] 0.11 seconds elapse.", 
        "[bwa_index] Update BWT... 0.00 sec", 
        "[bwa_index] Pack forward-only FASTA... 0.01 sec", 
        "[bwa_index] Construct SA from BWT and Occ... "
       ]
      }, 
      {
       "output_type": "stream", 
       "stream": "stdout", 
       "text": [
        "0.04 sec", 
        "[main] Version: 0.6.2-r126", 
        "[main] CMD: bwa index /Users/brant/code/AFS/agouti-mc1r.masked.fasta", 
        "[main] Real time: 0.204 sec; CPU: 0.168 sec", 
        "[bwa_aln] 17bp reads: max_diff = 2", 
        "[bwa_aln] 38bp reads: max_diff = 3", 
        "[bwa_aln] 64bp reads: max_diff = 4", 
        "[bwa_aln] 93bp reads: max_diff = 5", 
        "[bwa_aln] 124bp reads: max_diff = 6", 
        "[bwa_aln] 157bp reads: max_diff = 7", 
        "[bwa_aln] 190bp reads: max_diff = 8", 
        "[bwa_aln] 225bp reads: max_diff = 9"
       ]
      }, 
      {
       "output_type": "stream", 
       "stream": "stdout", 
       "text": [
        "[bwa_aln_core] calculate SA coordinate... "
       ]
      }, 
      {
       "output_type": "stream", 
       "stream": "stdout", 
       "text": [
        "0.29 sec", 
        "[bwa_aln_core] write to the disk... 0.00 sec", 
        "[bwa_aln_core] 6913 sequences have been processed."
       ]
      }, 
      {
       "output_type": "stream", 
       "stream": "stdout", 
       "text": [
        "[main] Version: 0.6.2-r126", 
        "[main] CMD: bwa aln /Users/brant/code/AFS/agouti-mc1r.masked.fasta /Users/brant/code/AFS/sim-20haplos_exp-dist_theta0.05_8xCov/sim-reads/sim1a_s_1_1_sequence.txt", 
        "[main] Real time: 0.437 sec; CPU: 0.378 sec", 
        "[bwa_aln] 17bp reads: max_diff = 2", 
        "[bwa_aln] 38bp reads: max_diff = 3", 
        "[bwa_aln] 64bp reads: max_diff = 4", 
        "[bwa_aln] 93bp reads: max_diff = 5", 
        "[bwa_aln] 124bp reads: max_diff = 6", 
        "[bwa_aln] 157bp reads: max_diff = 7", 
        "[bwa_aln] 190bp reads: max_diff = 8", 
        "[bwa_aln] 225bp reads: max_diff = 9"
       ]
      }, 
      {
       "output_type": "stream", 
       "stream": "stdout", 
       "text": [
        "[bwa_aln_core] calculate SA coordinate... "
       ]
      }, 
      {
       "output_type": "stream", 
       "stream": "stdout", 
       "text": [
        "0.31 sec", 
        "[bwa_aln_core] write to the disk... 0.00 sec", 
        "[bwa_aln_core] 6913 sequences have been processed."
       ]
      }, 
      {
       "output_type": "stream", 
       "stream": "stdout", 
       "text": [
        "[main] Version: 0.6.2-r126", 
        "[main] CMD: bwa aln /Users/brant/code/AFS/agouti-mc1r.masked.fasta /Users/brant/code/AFS/sim-20haplos_exp-dist_theta0.05_8xCov/sim-reads/sim1a_s_1_2_sequence.txt", 
        "[main] Real time: 0.407 sec; CPU: 0.397 sec"
       ]
      }, 
      {
       "output_type": "stream", 
       "stream": "stdout", 
       "text": [
        "[bwa_sai2sam_pe_core] convert to sequence coordinate... "
       ]
      }, 
      {
       "output_type": "stream", 
       "stream": "stdout", 
       "text": [
        "[infer_isize] (25, 50, 75) percentile: (188, 200, 213)", 
        "[infer_isize] low and high boundaries: 138 and 263 for estimating avg and std", 
        "[infer_isize] inferred external isize from 2526 pairs: 199.932 +/- 19.326", 
        "[infer_isize] skewness: -0.037; kurtosis: -0.006; ap_prior: 1.98e-05", 
        "[infer_isize] inferred maximum insert size: 309 (5.64 sigma)", 
        "[bwa_sai2sam_pe_core] time elapses: 0.03 sec", 
        "[bwa_sai2sam_pe_core] changing coordinates of 26 alignments.", 
        "[bwa_sai2sam_pe_core] align unmapped mate..."
       ]
      }, 
      {
       "output_type": "stream", 
       "stream": "stdout", 
       "text": [
        "[bwa_paired_sw] 919 out of 1294 Q17 singletons are mated.", 
        "[bwa_paired_sw] 3 out of 4 Q17 discordant pairs are fixed.", 
        "[bwa_sai2sam_pe_core] time elapses: 0.30 sec", 
        "[bwa_sai2sam_pe_core] refine gapped alignments... 0.01 sec", 
        "[bwa_sai2sam_pe_core] print alignments... [samopen] SAM header is present: 2 sequences."
       ]
      }, 
      {
       "output_type": "stream", 
       "stream": "stdout", 
       "text": [
        "0.04 sec", 
        "[bwa_sai2sam_pe_core] 6913 sequences have been processed."
       ]
      }, 
      {
       "output_type": "stream", 
       "stream": "stdout", 
       "text": [
        "[main] Version: 0.6.2-r126", 
        "[main] CMD: bwa sampe /Users/brant/code/AFS/agouti-mc1r.masked.fasta /Users/brant/code/AFS/sim-20haplos_exp-dist_theta0.05_8xCov/sim-reads/sim1a_s_1_1_sequence.txt.sai /Users/brant/code/AFS/sim-20haplos_exp-dist_theta0.05_8xCov/sim-reads/sim1a_s_1_2_sequence.txt.sai /Users/brant/code/AFS/sim-20haplos_exp-dist_theta0.05_8xCov/sim-reads/sim1a_s_1_1_sequence.txt /Users/brant/code/AFS/sim-20haplos_exp-dist_theta0.05_8xCov/sim-reads/sim1a_s_1_2_sequence.txt", 
        "[main] Real time: 0.813 sec; CPU: 0.507 sec"
       ]
      }, 
      {
       "output_type": "stream", 
       "stream": "stdout", 
       "text": [
        "[Tue Jul 24 04:12:24 EDT 2012] net.sf.picard.sam.AddOrReplaceReadGroups INPUT=/Users/brant/code/AFS/sim-20haplos_exp-dist_theta0.05_8xCov/sim-reads/sim1a-aln.sorted.bam OUTPUT=/Users/brant/code/AFS/sim-20haplos_exp-dist_theta0.05_8xCov/sim-reads/sim1a-aln.sorted.rg.bam RGID=/Users/brant/code/AFS/sim-20haplos_exp-dist_theta0.05_8xCov/sim-reads/sim1a RGLB=lane1_/Users/brant/code/AFS/sim-20haplos_exp-dist_theta0.05_8xCov/sim-reads/sim1a RGPL=illumina RGPU=lane1 RGSM=sim1    VERBOSITY=INFO QUIET=false VALIDATION_STRINGENCY=STRICT COMPRESSION_LEVEL=5 MAX_RECORDS_IN_RAM=500000 CREATE_INDEX=false CREATE_MD5_FILE=false", 
        "[Tue Jul 24 04:12:24 EDT 2012] Executing as brant@gottuminum.local on Mac OS X 10.7.4 x86_64; Java HotSpot(TM) 64-Bit Server VM 1.6.0_33-b03-424-11M3720; Picard version: 1.73(1234)"
       ]
      }, 
      {
       "output_type": "stream", 
       "stream": "stdout", 
       "text": [
        "INFO\t2012-07-24 04:12:24\tAddOrReplaceReadGroups\tCreated read group ID=/Users/brant/code/AFS/sim-20haplos_exp-dist_theta0.05_8xCov/sim-reads/sim1a PL=illumina LB=lane1_/Users/brant/code/AFS/sim-20haplos_exp-dist_theta0.05_8xCov/sim-reads/sim1a SM=sim1", 
        ""
       ]
      }, 
      {
       "output_type": "stream", 
       "stream": "stdout", 
       "text": [
        "[Tue Jul 24 04:12:26 EDT 2012] net.sf.picard.sam.AddOrReplaceReadGroups done. Elapsed time: 0.04 minutes.", 
        "Runtime.totalMemory()=85000192"
       ]
      }, 
      {
       "output_type": "stream", 
       "stream": "stdout", 
       "text": [
        "[Tue Jul 24 04:12:29 EDT 2012] net.sf.picard.sam.CreateSequenceDictionary REFERENCE=/Users/brant/code/AFS/sim-20haplos_exp-dist_theta0.05_8xCov/hap3_agouti-mc1r.fa OUTPUT=/Users/brant/code/AFS/sim-20haplos_exp-dist_theta0.05_8xCov/hap3_agouti-mc1r.dict    TRUNCATE_NAMES_AT_WHITESPACE=true NUM_SEQUENCES=2147483647 VERBOSITY=INFO QUIET=false VALIDATION_STRINGENCY=STRICT COMPRESSION_LEVEL=5 MAX_RECORDS_IN_RAM=500000 CREATE_INDEX=false CREATE_MD5_FILE=false", 
        "[Tue Jul 24 04:12:29 EDT 2012] Executing as brant@gottuminum.local on Mac OS X 10.7.4 x86_64; Java HotSpot(TM) 64-Bit Server VM 1.6.0_33-b03-424-11M3720; Picard version: 1.73(1234)"
       ]
      }, 
      {
       "output_type": "stream", 
       "stream": "stdout", 
       "text": [
        "[Tue Jul 24 04:12:30 EDT 2012] net.sf.picard.sam.CreateSequenceDictionary done. Elapsed time: 0.00 minutes.", 
        "Runtime.totalMemory()=85000192", 
        "[samopen] SAM header is present: 2 sequences."
       ]
      }
     ], 
     "prompt_number": "*"
    }, 
    {
     "cell_type": "code", 
     "collapsed": true, 
     "input": [
      "bams = glob(outdir+'sim-reads/*.rg.bam')", 
      "Istr = ' -I '.join(bams)", 
      "vcf = outdir+'all.vcf'", 
      "java_ram = '1g'", 
      "jar = os.path.expanduser('~/jars/gatk/GenomeAnalysisTK.jar')", 
      "gatkcmd = 'java -Xmx%s -jar %s -T UnifiedGenotyper -I %s -R %s -o %s -maxAlleles 1 -out_mode EMIT_ALL_SITES' % (java_ram, jar, Istr, map_reference, vcf)", 
      "!$gatkcmd"
     ], 
     "language": "python", 
     "outputs": [], 
     "prompt_number": "*"
    }, 
    {
     "cell_type": "code", 
     "collapsed": false, 
     "input": [
      "afli = map(float,re.findall('AF=([\\d\\.]+)',open(vcf).read()))", 
      "len(afli)"
     ], 
     "language": "python", 
     "outputs": [], 
     "prompt_number": "*"
    }, 
    {
     "cell_type": "code", 
     "collapsed": false, 
     "input": [
      "hist(array(afli)*num_haplo,bins=range(1,num_haplo+1))", 
      "figure(2)", 
      "h,b = histogram(array(afli)*num_haplo,bins=range(0,num_haplo+1))", 
      "plot(b[1:-1],(array(h,dtype=float)/sum(h))[1:],'--r')", 
      "plot(b[1:-1],sfs[1:],'g')"
     ], 
     "language": "python", 
     "outputs": [], 
     "prompt_number": "*"
    }, 
    {
     "cell_type": "code", 
     "collapsed": false, 
     "input": [
      "h,b = histogram(array(afli)*num_haplo,bins=range(0,num_haplo+1))", 
      "plot(array(h,dtype=float)/sum(h),'--r')", 
      "plot(sfs,'g')", 
      "", 
      "ax = figure(1).axes[0]", 
      "ax.set_yscale('log')"
     ], 
     "language": "python", 
     "outputs": [], 
     "prompt_number": "*"
    }, 
    {
     "cell_type": "code", 
     "collapsed": false, 
     "input": [
      "rare = round(num_haplo*0.05)", 
      "common = round(num_haplo*0.1)", 
      "print rare,common", 
      "print sum(sfs[1:rare+1])/sum(sfs[common:])", 
      "print sum((array(h,dtype=float)/sum(h))[1:rare+1])/sum((array(h,dtype=float)/sum(h))[common:])"
     ], 
     "language": "python", 
     "outputs": [], 
     "prompt_number": "*"
    }, 
    {
     "cell_type": "code", 
     "collapsed": true, 
     "input": [], 
     "language": "python", 
     "outputs": []
    }
   ]
  }
 ]
}